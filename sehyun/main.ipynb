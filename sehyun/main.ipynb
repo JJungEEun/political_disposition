{
 "cells": [
  {
   "cell_type": "markdown",
   "id": "5902211b",
   "metadata": {},
   "source": [
    "### 국회 정당, 원내 대변인 보도자료 발표 및 브리핑, 논평 자료 전처리 파일"
   ]
  },
  {
   "cell_type": "code",
   "execution_count": 4,
   "id": "9ba8fba5",
   "metadata": {},
   "outputs": [],
   "source": [
    "# import\n",
    "\n",
    "import pandas as pd\n",
    "from konlpy.tag import Mecab\n",
    "from gensim.models.doc2vec import TaggedDocument\n",
    "from tqdm import tqdm\n",
    "\n",
    "from gensim.models import Doc2Vec\n",
    "import sentencepiece as spm\n",
    "\n",
    "from tqdm import trange\n",
    "import os"
   ]
  },
  {
   "cell_type": "code",
   "execution_count": 5,
   "id": "83871344",
   "metadata": {},
   "outputs": [
    {
     "name": "stderr",
     "output_type": "stream",
     "text": [
      "C:\\Users\\shjoo\\AppData\\Local\\Temp\\ipykernel_13320\\655236758.py:4: DeprecationWarning: Importing display from IPython.core.display is deprecated since IPython 7.14, please import from IPython display\n",
      "  from IPython.core.display import display, HTML\n"
     ]
    },
    {
     "data": {
      "text/html": [
       "<style>.container { width:100% !important; }</style>"
      ],
      "text/plain": [
       "<IPython.core.display.HTML object>"
      ]
     },
     "metadata": {},
     "output_type": "display_data"
    }
   ],
   "source": [
    "# 기타 설정\n",
    "\n",
    "\n",
    "from IPython.core.display import display, HTML\n",
    "display(HTML(\"<style>.container { width:100% !important; }</style>\"))\n",
    "\n",
    "# row 생략 없이 출력\n",
    "pd.set_option('display.max_rows', None)\n",
    "# col 생략 없이 출력\n",
    "pd.set_option('display.max_columns', None)\n",
    "\n"
   ]
  },
  {
   "cell_type": "code",
   "execution_count": 7,
   "id": "f236fd4e",
   "metadata": {},
   "outputs": [],
   "source": [
    "# data read\n",
    "\n",
    "npp = pd.read_csv(\"NPP_final_0729.csv\")\n",
    "tmp = pd.read_csv(\"TMP_final_0729.csv\")"
   ]
  },
  {
   "cell_type": "code",
   "execution_count": 8,
   "id": "fb0b4776",
   "metadata": {},
   "outputs": [
    {
     "data": {
      "text/plain": [
       "category    0\n",
       "year        0\n",
       "quarter     0\n",
       "content     0\n",
       "dtype: int64"
      ]
     },
     "execution_count": 8,
     "metadata": {},
     "output_type": "execute_result"
    }
   ],
   "source": [
    "# 결측치 확인 및 제거\n",
    "\n",
    "npp.isnull().sum()\n",
    "\n"
   ]
  },
  {
   "cell_type": "code",
   "execution_count": 9,
   "id": "4605f348",
   "metadata": {},
   "outputs": [
    {
     "data": {
      "text/plain": [
       "title      0\n",
       "year       0\n",
       "quarter    0\n",
       "content    2\n",
       "dtype: int64"
      ]
     },
     "execution_count": 9,
     "metadata": {},
     "output_type": "execute_result"
    }
   ],
   "source": [
    "tmp.isnull().sum()"
   ]
  },
  {
   "cell_type": "code",
   "execution_count": 10,
   "id": "2fee5ada",
   "metadata": {},
   "outputs": [],
   "source": [
    "tmp = tmp.dropna()"
   ]
  },
  {
   "cell_type": "code",
   "execution_count": 18,
   "id": "f0d87b3a",
   "metadata": {},
   "outputs": [
    {
     "data": {
      "text/plain": [
       "'‘빗물을 나르는 고속도로’라 불리는 대심도 빗물터널 조금 전에 둘러보고 왔다. 신월 빗물 전용 배수시설은 집중호우 때마다 주변 지역이 물바다가 되는 현상을 막고자 2013년 5월에 시작해서 2020년 5월까지 만 7년의 긴 기간 공사를 거쳐서 완공된 국내 최초의 대심도 빗물 저류 시설로 알고 있다. 물은 환경의 영역이기도 하지만 그보다 더 우선돼야 할 것은 치수의 영역이라고 저는 생각한다. 국가적으로 물길을 다스리는 모든 행정을 일컬어서 치수라고 하는데 이 치수가 제대로 되지 않으면 국민의 생명과 안전, 그리고 국민의 소중한 재산을 심대하게 침해하기 때문에 어떤 경우에도 목숨보다 더 우선되는 것이 없다는 차원에서 보면 치수가 가장 중요한 일이라고 말씀드리고 싶다. 특히 가뭄과 홍수에도 제대로 대응하려면 물은 치수의 차원에서 먼저 다뤄야 할 자원이라고 말씀드리고 싶다. 지난 정권 초기였던 2018년에 문재인 정부 시절입니다만, 물관리 일원화 조치를 한다고 하면서 국토해양부, 환경부, 농림축산식품부에 나눠졌던 물관리 업무를 환경부로 일원화하는 조치가 있었다. 그 당시에도 환경부가 전국의 지류·지천·하수 등의 물관리 업무 전반을 담당할 역량과 경험이 되는지에 대한 많은 의문이 제기되었지만, 이번 폭우 사태를 겪으면서 그 많은 의문이 현실로 드러나고 있는 것이란 생각을 하지 않을 수 없다. 물관리의 실패는 국민의 생명과 안전을 직접적 위협하고, 심대한 재산적 피해를 야기하는 것이니만큼 이 점에 대한 문제점의 보완이 절실하다고 하겠다. 과거 2010년과 2011년 당시에 서울 도심에 큰 물난리가 났다. 그때 대심도 빗물터널이 필요하다고 그런 필요성이 제기되었고 그 당시 시정을 책임지었던 서울시장이 오세훈 시장이었다. 그래서 오세훈 시장은 2021년까지 총 8,500억원 들여서 서울 도심의 상습 침수지역 7곳에 대한 대심도 배수관 설치하겠다. 이렇게 결정한 바가 있었다. 7곳이 광화문, 신월, 용산, 사당역, 강남역, 동작, 강동 이렇게 7곳이었는데, 그렇게 건설하는 것으로 계획을 세웠지만 2011년 10월달에 박원순 시장이 재보선을 통해 당선되면서 이 계획이 백지화된 바 있었다. 오늘 방문한 신월 단 한 곳만 건설될 수 있었던 이유는 바로 그러한 이유이다. 그 당시에 강남에도, 강남의 대심도 빗물처리 시설이 원래 계획에 있었던 것을 설치를 보류한다고 하자 강남역 상인과 서초구 구민 11만명이 “주변 지역보다 고도가 낮아 상습 침수 지역인데 왜 대심도 빗물 저류시설을 설치하지 않느냐”고 하면서 그 필요성에 대한 서명운동을 실시하는 등 추진 필요성에 대한 강력한 목소리들이 있었지만 박원순 시장은 결국은 원래에 세웠던 7곳 중에 6곳을 다 백지화해버리고 말았던 것이 현실이었다. 작년에 기록적인 폭우가 수도권을 강타했을 때 강남역이 물에 잠기고, 사당에 큰 피해가 발생했던 사실을 아마 기억할 거다. 그에 비해서 신월동 인근은 피해가 적었던 것, 그것은 바로 빗물 저류배수시설이 한몫했다는 평가가 다수이다. 조금 전에 설명 과정에서 그러한 사항이 통계를 통해서 잘 증명된 바 있었다고 본다. 현재 서울의 대표적 도심인 광화문, 지난해 폭우로 큰 피해를 입었던 강남역 일대, 그리고 각 상습침수구역이자 주택이 밀집해 있는 도림천 일대에서 대심도 빗물 배수시설 건설사업이 올해부터 다시 시작된 것으로 알고 있다. 이상기후로 자연재해가 앞으로도 더 심화될 것으로 예견이 된다. 그런 만큼 국민의 생명과 재산을 보호하고 공공의 안전을 확보하는 이런 재난 대비에 있어서는 어느 무엇보다도 가장 우선적으로 전국의 지자체와 중앙 정부가 최우선 과제로 삼아야 할 일이 아닌가 하는 생각을 하게 된다. 지난해 8월 윤석열 대통령께서 이곳을 방문하신 것으로 알고 있다. 신월 빗물 배수시설 여기를 방문해서 현장 점검하고 백년대계 치수 계획을 마련하라는 지시를 한 바 있었던 것으로 알고 있다. 이번에 극한의 국지성 폭우로 인해서 자연재해에 대한 예방 대책 마련이 중요하다는 것이 다시 한번 대두된 만큼 서울은 말할 것도 없지만, 각 지역마다 지리적 특성에 따라서 천차만별인 여러 가지 원인을 잘 살펴서 그에 맞는 지역 맞춤형 침수 예방 대책의 수립에 우리 최대의 역량을 쏟아야 하겠다. 지방정부의 살림을 맡은 사람의 책임과 역할은 무엇보다 주민의 생명과 안전을 지키는 것이 가장 우선돼야 할 것이고 한정된 예산 탓에 그 중요성을 알면서도 때로는 그에 대한 대비 시스템을 갖추는 것이 쉽지 않을 수 있지만 그럼에도 불구하고 행정의 최우선 과제로 삼겠다고 하는 확실한 의지와 노력이 필요할 것이 다. 라는 것이 저의 생각이다. 오늘 이 자리에는 우리 여당의 정책을 총괄하시는 정책위의장님 박대출 의원님도 와 계시고, 우리 조수진 최고위원님도 와 계시고, 우리 이철규 사무총장님 와 계시고, 임상준 환경부 차관님, 유창수 서울시 행정2부시장님, 이기재 양천구청장님도 함께 해 주셨는데 우리 모두가 그와 같은 것에 대해서 오늘 이번에 이 자리에 심도 있는 토론을 통해서 국민들이 안심할 수 있는 그런 환경 만들어 나가도록 노력해야 할 것으로 생각한다. 고맙다. 양천갑 당협위원장 최고위원 조수진이다. 충청, 경북, 전북을 중심으로 산사태, 도로 유실, 정전 등 비 피해가 속출하고 있다. 이번 주말 큰 비가 예고돼 있어 추가 피해가 없도록 철저한 대비가 필요하다. 즉각적인 복구 작업, 피해 지원은 최대한 신속하게 이루어져야 한다. 동시에 이상 기후 시대에 과거 기준 대책으로는 재앙을 막을 수 없는 만큼 치수 정책을 재설계해야 한다. 그 첫 번째 단추가 저류 시설의 설치와 개선이다. 지대가 낮고 안양천이 인접한 양천은 비만 오면 잠기는 침수 지역이었습니다만, 3년 전 최대 32만 톤의 물을 담는 대심도 빗물터널이 완공되면서 환경이 바뀌었다. 국민이 안심하고 살 수 있게 하려면 예산과 노력이 절실하다. 오늘 김기현 대표님의 양천구 대심도 빗물터널 방문은 이와 같은 다짐을 담는 것으로 알고 있다. 기후 변화로 인한 재해는 취약계층에 집중되기 마련이다. 한마음 한뜻으로 힘을 합치지 않으면 더 많은 약자가 피해를 볼 수밖에 없다. 정부와 국회는 한마음 한뜻으로 기후변화에 따른 치수의 전면 재설계를 서둘러야만 한다. 오늘 대심도 빗물터널 현장을 둘러보며 다양한 생각이 머릿속에서 스쳐갔다. 기후 변화가 가속화되면서 최근에 ‘극한 호우’또는 ‘극한 기상’이라는 용어를 우리 언론에서 자주 접한다. 극한 호우의 시대, 지금껏 경험하지 못한 재난이 온다는 말도 들린다. 기상 상황에서 극한이라는 단어가 더 이상 예외적인 것이 아니라 일상처럼 빈번해지는 시대가 되어간다는 것을 언론들도 지적하고 있다. 기상청이 수도권의 시범 사업으로 극한 호우 긴급 재난 문자를 보내고 있는데, 그 문자 발송 기준이 1시간 강수량이 50mm 이상이거나 3시간 동안 90mm 이상 내리거나 또는 1시간에 72mm 이상 쏟아지는 경우라고 한다. 저희들이 확인해 봤더니 기상청에 문의해 보니 올해 무려 27번에 달하고 이 달에만 15번이 된다는 것도 말씀드린 바 있다. 작년 8월 8일에 집중호우가 내렸고 신대방동에는 시간당 141.5mm가 내렸다. 또 2021년 7월 우면산 산사태가 있었던 시간당 113mm가 내렸다. 많은 기반 시설이 100년에 한번 발생할 정도로 맞춰서 설계되어 있는데 이런 기준이 무용지물이 될 수도 있다. 작년 8월 집중호우를 계기로 하여 서울시가 방재성능목표 강우량을 시간당 100mm에서 110mm로 올린 것으로 알고 있다. 시에서는 100년 재현 빈도 강우량 기준이라고 했다. 최근의 그런 기후변화 양상을 본다면 이 기준도 부족하다는 지적을 받을 수밖에 없다. 신월 대심도 터널이 시간당 100mm 수준의 빗물을 처리할 수 있다고 하는데 대심도 터널 외에도 추가적인 대책을 마련하여 상호보완이 가능하게 해야 할 것이다. 현재 서울시에서 추진하고 있는 강남·광화문·도림천 대심도 빗물터널 건설도 속도감 있게 해야 할 것이다. 빗물 저류 용량도 조금 더 늘리는 방안도 검토할 필요가 있을 것이다. 대심도 터널이 완공까지 빨라야 4년 정도 걸리는 만큼 최대한 건설을 신속히 서둘러주기를 바란다. 지난달 있었던 예산정책협의회에서도 대심도 터널 건설에 대한 국비지원 논의가 있었다. 당에서도 적극적으로 챙기겠다. 국민의 안전과 생명을 지키는 일보다 더 중요한 것은 없다. 당 정책위는 기후 변화 시대에 맞는 재난 대응 시스템을 갖추는 등 필요한 조치가 즉시 이루어질 수 있도록 최선을 다해 협력하겠다. 반갑다. 국민의힘 사무총장 이철규이다. 기상이변에 따른 집중호우는 우리가 그동안 경험하지 못한 양상을 보이고 있다. 이에 배수시설이 제대로 갖춰지지 않았거나 저지대에 위치해 침수에 취약한 지역의 경우에는 근래와 같은 집중호우에 속수무책일 수밖에 없을 것이다. 그러나 이번 양천구는 2010년 집중호우로 주택가, 상가 등 6,000여 가구가 침수 피해를 입은 후 빗물 배수 터널을 건설하게 되었다. 이후 단 한 건의 침수 피해도 발생하지 않았다고 한다. 지난해 8월도 서울을 중심으로 내린 집중호우로 강남을 비롯한 수도권 대부분이 피해를 입었지만 신월동 일대는 빗물터널 수문 개방 가동으로 침수 피해를 예방할 수 있었다. 이곳에서 바로 우리가 급변하는 기후 변화와 재난에 어떻게 대비해야 할지 답을 찾을 수 있을 것이다. 최근 대도시에서 발생한 침수의 원인이 배수 용량이 충분하지 않아 발생하는 경우가 대부분인 만큼 빗물 배수 터널이 여러 지역으로 확대된다면 침수 피해 예방에도 큰 도움이 될 것이다. 오늘 이 자리에서 논의되는 여러 가지 대안들이 정부 차원에서 원활하게 추진될 수 있도록 당 차원의 뒷받침에 만전을 기하겠다. 감사하다. 기록적 폭우로 쏟아지는 기후변화의 긴밀한 상황에서 대심도 빗물터널은 도시의 안전을 지키기 위한 근본적인 인프라라는 생각을 오늘 하게 됐다. 서울 시민들의 생명과 재산을 보호하는 중요한 역할을 담당한다고 생각이 된다. 지난해 서울 한 지역에서만 400mm 가까운 비가 내렸고, 서울 내에서도 지역별로 편차가 심했다. 오늘 김기현 대표님과 함께 대심도 빗물 터널의 효과를 확인한 만큼 향후 설치될 대심도 빗물 터널의 효과를 극대화하기 위해서는 국지성 집중호우 등 지정학적 특성뿐만 아니라 인구 밀집도, 유동 인구 등을 포함해서 종합적으로 고려해서 지역마다 효과적으로 대응할 수 있도록 방재 기능을 완벽히 구사할 수 있도록 신경을 써야 한다고 생각한다. 대심도 빗물터널뿐만 아니라 도심 침수를 예방하는 저류조·배수펌프장 등을 충분히 설치해서 서울시민의 안전을 책임지고 재산을 보호할 수 있는데 만전을 기하도록 국민의힘 재해대책위원회에서도 열심히 노력하도록 하겠다.'"
      ]
     },
     "execution_count": 18,
     "metadata": {},
     "output_type": "execute_result"
    }
   ],
   "source": [
    "# npp & tmp 합치기\n",
    "\n",
    "npp['target'] = '국민의힘'\n",
    "tmp['target'] = '민주당'\n",
    "\n",
    "dataset_all = pd.concat([npp,tmp],ignore_index= True)\n",
    "dataset_all.content[0]"
   ]
  },
  {
   "cell_type": "code",
   "execution_count": 19,
   "id": "156bf0af",
   "metadata": {},
   "outputs": [
    {
     "data": {
      "text/html": [
       "<div>\n",
       "<style scoped>\n",
       "    .dataframe tbody tr th:only-of-type {\n",
       "        vertical-align: middle;\n",
       "    }\n",
       "\n",
       "    .dataframe tbody tr th {\n",
       "        vertical-align: top;\n",
       "    }\n",
       "\n",
       "    .dataframe thead th {\n",
       "        text-align: right;\n",
       "    }\n",
       "</style>\n",
       "<table border=\"1\" class=\"dataframe\">\n",
       "  <thead>\n",
       "    <tr style=\"text-align: right;\">\n",
       "      <th></th>\n",
       "      <th>content</th>\n",
       "      <th>target</th>\n",
       "    </tr>\n",
       "  </thead>\n",
       "  <tbody>\n",
       "    <tr>\n",
       "      <th>0</th>\n",
       "      <td>‘빗물을 나르는 고속도로’라 불리는 대심도 빗물터널 조금 전에 둘러보고 왔다. 신월...</td>\n",
       "      <td>국민의힘</td>\n",
       "    </tr>\n",
       "    <tr>\n",
       "      <th>1</th>\n",
       "      <td>오늘 한 언론에 보도된 무소속 박완주 의원의 검찰 공소장 안에는, 강력 성범죄자의 ...</td>\n",
       "      <td>국민의힘</td>\n",
       "    </tr>\n",
       "    <tr>\n",
       "      <th>2</th>\n",
       "      <td>전국적인 집중호우로 많은 국민들이 희생되고 막대한 재산 피해가 발생했다. 당장 전면...</td>\n",
       "      <td>국민의힘</td>\n",
       "    </tr>\n",
       "    <tr>\n",
       "      <th>3</th>\n",
       "      <td>더불어민주당이 윤석열 정부의 ‘시행령 추진’에 본격적으로 제동을 걸고 있다. KBS...</td>\n",
       "      <td>국민의힘</td>\n",
       "    </tr>\n",
       "    <tr>\n",
       "      <th>4</th>\n",
       "      <td>그칠 줄 모르던 비가 잠시 소강상태에 접어들었지만, 폭우가 할퀴고 간 자리에 남겨진...</td>\n",
       "      <td>국민의힘</td>\n",
       "    </tr>\n",
       "  </tbody>\n",
       "</table>\n",
       "</div>"
      ],
      "text/plain": [
       "                                             content target\n",
       "0  ‘빗물을 나르는 고속도로’라 불리는 대심도 빗물터널 조금 전에 둘러보고 왔다. 신월...   국민의힘\n",
       "1  오늘 한 언론에 보도된 무소속 박완주 의원의 검찰 공소장 안에는, 강력 성범죄자의 ...   국민의힘\n",
       "2  전국적인 집중호우로 많은 국민들이 희생되고 막대한 재산 피해가 발생했다. 당장 전면...   국민의힘\n",
       "3  더불어민주당이 윤석열 정부의 ‘시행령 추진’에 본격적으로 제동을 걸고 있다. KBS...   국민의힘\n",
       "4  그칠 줄 모르던 비가 잠시 소강상태에 접어들었지만, 폭우가 할퀴고 간 자리에 남겨진...   국민의힘"
      ]
     },
     "execution_count": 19,
     "metadata": {},
     "output_type": "execute_result"
    }
   ],
   "source": [
    "# content만 남기기\n",
    "\n",
    "dataset_all = dataset_all[['content','target']]\n",
    "dataset_all.head()"
   ]
  },
  {
   "cell_type": "code",
   "execution_count": 20,
   "id": "f4c6b671",
   "metadata": {},
   "outputs": [],
   "source": [
    "# subtoken 단위로 학습을 시키기 위해 sentencepiece 를 먼저 학습 시킨다.\n",
    "\n",
    "f = open(\"allsentence.txt\",\"w\")\n",
    "f.write(\"\".join(dataset_all).replace(\"\\xa0\", \"\"))\n",
    "f.close()"
   ]
  },
  {
   "cell_type": "code",
   "execution_count": 22,
   "id": "954e4045",
   "metadata": {},
   "outputs": [],
   "source": [
    "#subword 단위\n",
    "corpus = \"allsentence.txt\"\n",
    "prefix = \"sentence\"\n",
    "vocab_size = 40 #최대가 왜 47인지 모르겠음.\n",
    "spm.SentencePieceTrainer.train(\n",
    "    f\"--input={corpus} --model_prefix={prefix} --vocab_size={vocab_size + 7}\" + \n",
    "    \" --model_type=bpe\" +\n",
    "    \" --max_sentence_length=999999\" + # 문장 최대 길이\n",
    "    \" --pad_id=0 --pad_piece=[PAD]\" + # pad (0)\n",
    "    \" --unk_id=1 --unk_piece=[UNK]\" + # unknown (1)\n",
    "    \" --bos_id=2 --bos_piece=[BOS]\" + # begin of sequence (2)\n",
    "    \" --eos_id=3 --eos_piece=[EOS]\" + # end of sequence (3)\n",
    "    \" --user_defined_symbols=[SEP],[CLS],[MASK]\") # 사용자 정의 토큰"
   ]
  },
  {
   "cell_type": "code",
   "execution_count": null,
   "id": "91978ea8",
   "metadata": {},
   "outputs": [],
   "source": []
  }
 ],
 "metadata": {
  "kernelspec": {
   "display_name": "Python 3 (ipykernel)",
   "language": "python",
   "name": "python3"
  },
  "language_info": {
   "codemirror_mode": {
    "name": "ipython",
    "version": 3
   },
   "file_extension": ".py",
   "mimetype": "text/x-python",
   "name": "python",
   "nbconvert_exporter": "python",
   "pygments_lexer": "ipython3",
   "version": "3.8.0"
  }
 },
 "nbformat": 4,
 "nbformat_minor": 5
}
