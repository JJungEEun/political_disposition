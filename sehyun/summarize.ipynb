{
 "cells": [
  {
   "cell_type": "code",
   "execution_count": 3,
   "id": "3be7af7f",
   "metadata": {
    "scrolled": true
   },
   "outputs": [
    {
     "name": "stderr",
     "output_type": "stream",
     "text": [
      "[nltk_data] Downloading package punkt to\n",
      "[nltk_data]     C:\\Users\\shjoo\\AppData\\Roaming\\nltk_data...\n",
      "[nltk_data]   Unzipping tokenizers\\punkt.zip.\n"
     ]
    },
    {
     "data": {
      "application/vnd.jupyter.widget-view+json": {
       "model_id": "d34858e06bce4d5eb2cc35f3e9d020a4",
       "version_major": 2,
       "version_minor": 0
      },
      "text/plain": [
       "Downloading (…)okenizer_config.json:   0%|          | 0.00/2.39k [00:00<?, ?B/s]"
      ]
     },
     "metadata": {},
     "output_type": "display_data"
    },
    {
     "name": "stderr",
     "output_type": "stream",
     "text": [
      "C:\\Users\\shjoo\\AppData\\Roaming\\Python\\Python38\\site-packages\\huggingface_hub\\file_download.py:133: UserWarning: `huggingface_hub` cache-system uses symlinks by default to efficiently store duplicated files but your machine does not support them in C:\\Users\\shjoo\\.cache\\huggingface\\hub. Caching files will still work but in a degraded version that might require more space on your disk. This warning can be disabled by setting the `HF_HUB_DISABLE_SYMLINKS_WARNING` environment variable. For more details, see https://huggingface.co/docs/huggingface_hub/how-to-cache#limitations.\n",
      "To support symlinks on Windows, you either need to activate Developer Mode or to run Python as an administrator. In order to see activate developer mode, see this article: https://docs.microsoft.com/en-us/windows/apps/get-started/enable-your-device-for-development\n",
      "  warnings.warn(message)\n"
     ]
    },
    {
     "data": {
      "application/vnd.jupyter.widget-view+json": {
       "model_id": "f456d3d37c0f40c8884e80f9cfc8cb4a",
       "version_major": 2,
       "version_minor": 0
      },
      "text/plain": [
       "Downloading (…)/main/tokenizer.json:   0%|          | 0.00/2.92M [00:00<?, ?B/s]"
      ]
     },
     "metadata": {},
     "output_type": "display_data"
    },
    {
     "data": {
      "application/vnd.jupyter.widget-view+json": {
       "model_id": "bc223a0cee0a4651be1ed48b99c8d27f",
       "version_major": 2,
       "version_minor": 0
      },
      "text/plain": [
       "Downloading (…)cial_tokens_map.json:   0%|          | 0.00/2.20k [00:00<?, ?B/s]"
      ]
     },
     "metadata": {},
     "output_type": "display_data"
    },
    {
     "data": {
      "application/vnd.jupyter.widget-view+json": {
       "model_id": "6a5baa90faff4eb19df7406355616fc4",
       "version_major": 2,
       "version_minor": 0
      },
      "text/plain": [
       "Downloading (…)lve/main/config.json:   0%|          | 0.00/817 [00:00<?, ?B/s]"
      ]
     },
     "metadata": {},
     "output_type": "display_data"
    },
    {
     "data": {
      "application/vnd.jupyter.widget-view+json": {
       "model_id": "7087afe81aac45d4baf584b7b796158d",
       "version_major": 2,
       "version_minor": 0
      },
      "text/plain": [
       "Downloading model.safetensors:   0%|          | 0.00/1.10G [00:00<?, ?B/s]"
      ]
     },
     "metadata": {},
     "output_type": "display_data"
    },
    {
     "name": "stdout",
     "output_type": "stream",
     "text": [
      "국립수산과학원 측은 남대서양에 홍어가 많이 살고 아르헨티나를 비롯한 남미 국가에서 홍어가 많이 잡힌다고 설명했으나 관세청에 따르면 한국에 수리남산 홍어가 수입된 적은 없다.\n"
     ]
    }
   ],
   "source": [
    "from transformers import AutoTokenizer, AutoModelForSeq2SeqLM\n",
    "import nltk\n",
    "nltk.download('punkt')\n",
    "\n",
    "model_dir = \"lcw99/t5-base-korean-text-summary\"\n",
    "tokenizer = AutoTokenizer.from_pretrained(model_dir)\n",
    "model = AutoModelForSeq2SeqLM.from_pretrained(model_dir)\n",
    "\n",
    "max_input_length = 512\n",
    "\n",
    "text = \"\"\"\n",
    "주인공 강인구(하정우)는 ‘수리남에서 홍어가 많이 나는데 다 갖다버린다’는 친구 \n",
    "박응수(현봉식)의 얘기를 듣고 수리남산 홍어를 한국에 수출하기 위해 수리남으로 간다. \n",
    "국립수산과학원 측은 “실제로 남대서양에 홍어가 많이 살고 아르헨티나를 비롯한 남미 국가에서 홍어가 많이 잡힌다”며 \n",
    "“수리남 연안에도 홍어가 많이 서식할 것”이라고 설명했다.\n",
    "\n",
    "그러나 관세청에 따르면 한국에 수리남산 홍어가 수입된 적은 없다. \n",
    "일각에선 “돈을 벌기 위해 수리남산 홍어를 구하러 간 설정은 개연성이 떨어진다”는 지적도 한다. \n",
    "드라마 배경이 된 2008~2010년에는 이미 국내에 아르헨티나, 칠레, 미국 등 아메리카산 홍어가 수입되고 있었기 때문이다. \n",
    "실제 조봉행 체포 작전에 협조했던 ‘협력자 K씨’도 홍어 사업이 아니라 수리남에 선박용 특수용접봉을 파는 사업을 하러 수리남에 갔었다.\n",
    "\"\"\"\n",
    "\n",
    "inputs = [\"summarize: \" + text]\n",
    "\n",
    "inputs = tokenizer(inputs, max_length=max_input_length, truncation=True, return_tensors=\"pt\")\n",
    "output = model.generate(**inputs, num_beams=8, do_sample=True, min_length=10, max_length=100)\n",
    "decoded_output = tokenizer.batch_decode(output, skip_special_tokens=True)[0]\n",
    "predicted_title = nltk.sent_tokenize(decoded_output.strip())[0]\n",
    "\n",
    "print(predicted_title)\n"
   ]
  },
  {
   "cell_type": "markdown",
   "id": "f507f812",
   "metadata": {},
   "source": [
    "TEST"
   ]
  },
  {
   "cell_type": "code",
   "execution_count": 4,
   "id": "e043c8bd",
   "metadata": {},
   "outputs": [],
   "source": [
    "text = '빗물을 나르는 고속도로’라 불리는 대심도 빗물터널 조금 전에 둘러보고 왔다. 신월 빗물 전용 배수시설은 집중호우 때마다 주변 지역이 물바다가 되는 현상을 막고자 2013년 5월에 시작해서 2020년 5월까지 만 7년의 긴 기간 공사를 거쳐서 완공된 국내 최초의 대심도 빗물 저류 시설로 알고 있다. 물은 환경의 영역이기도 하지만 그보다 더 우선돼야 할 것은 치수의 영역이라고 저는 생각한다. 국가적으로 물길을 다스리는 모든 행정을 일컬어서 치수라고 하는데 이 치수가 제대로 되지 않으면 국민의 생명과 안전, 그리고 국민의 소중한 재산을 심대하게 침해하기 때문에 어떤 경우에도 목숨보다 더 우선되는 것이 없다는 차원에서 보면 치수가 가장 중요한 일이라고 말씀드리고 싶다. 특히 가뭄과 홍수에도 제대로 대응하려면 물은 치수의 차원에서 먼저 다뤄야 할 자원이라고 말씀드리고 싶다. 지난 정권 초기였던 2018년에 문재인 정부 시절입니다만, 물관리 일원화 조치를 한다고 하면서 국토해양부, 환경부, 농림축산식품부에 나눠졌던 물관리 업무를 환경부로 일원화하는 조치가 있었다. 그 당시에도 환경부가 전국의 지류·지천·하수 등의 물관리 업무 전반을 담당할 역량과 경험이 되는지에 대한 많은 의문이 제기되었지만, 이번 폭우 사태를 겪으면서 그 많은 의문이 현실로 드러나고 있는 것이란 생각을 하지 않을 수 없다. 물관리의 실패는 국민의 생명과 안전을 직접적 위협하고, 심대한 재산적 피해를 야기하는 것이니만큼 이 점에 대한 문제점의 보완이 절실하다고 하겠다. 과거 2010년과 2011년 당시에 서울 도심에 큰 물난리가 났다. 그때 대심도 빗물터널이 필요하다고 그런 필요성이 제기되었고 그 당시 시정을 책임지었던 서울시장이 오세훈 시장이었다. 그래서 오세훈 시장은 2021년까지 총 8,500억원 들여서 서울 도심의 상습 침수지역 7곳에 대한 대심도 배수관 설치하겠다. 이렇게 결정한 바가 있었다. 7곳이 광화문, 신월, 용산, 사당역, 강남역, 동작, 강동 이렇게 7곳이었는데, 그렇게 건설하는 것으로 계획을 세웠지만 2011년 10월달에 박원순 시장이 재보선을 통해 당선되면서 이 계획이 백지화된 바 있었다. 오늘 방문한 신월 단 한 곳만 건설될 수 있었던 이유는 바로 그러한 이유이다. 그 당시에 강남에도, 강남의 대심도 빗물처리 시설이 원래 계획에 있었던 것을 설치를 보류한다고 하자 강남역 상인과 서초구 구민 11만명이 “주변 지역보다 고도가 낮아 상습 침수 지역인데 왜 대심도 빗물 저류시설을 설치하지 않느냐”고 하면서 그 필요성에 대한 서명운동을 실시하는 등 추진 필요성에 대한 강력한 목소리들이 있었지만 박원순 시장은 결국은 원래에 세웠던 7곳 중에 6곳을 다 백지화해버리고 말았던 것이 현실이었다. 작년에 기록적인 폭우가 수도권을 강타했을 때 강남역이 물에 잠기고, 사당에 큰 피해가 발생했던 사실을 아마 기억할 거다. 그에 비해서 신월동 인근은 피해가 적었던 것, 그것은 바로 빗물 저류배수시설이 한몫했다는 평가가 다수이다. 조금 전에 설명 과정에서 그러한 사항이 통계를 통해서 잘 증명된 바 있었다고 본다. 현재 서울의 대표적 도심인 광화문, 지난해 폭우로 큰 피해를 입었던 강남역 일대, 그리고 각 상습침수구역이자 주택이 밀집해 있는 도림천 일대에서 대심도 빗물 배수시설 건설사업이 올해부터 다시 시작된 것으로 알고 있다. 이상기후로 자연재해가 앞으로도 더 심화될 것으로 예견이 된다. 그런 만큼 국민의 생명과 재산을 보호하고 공공의 안전을 확보하는 이런 재난 대비에 있어서는 어느 무엇보다도 가장 우선적으로 전국의 지자체와 중앙 정부가 최우선 과제로 삼아야 할 일이 아닌가 하는 생각을 하게 된다. 지난해 8월 윤석열 대통령께서 이곳을 방문하신 것으로 알고 있다. 신월 빗물 배수시설 여기를 방문해서 현장 점검하고 백년대계 치수 계획을 마련하라는 지시를 한 바 있었던 것으로 알고 있다. 이번에 극한의 국지성 폭우로 인해서 자연재해에 대한 예방 대책 마련이 중요하다는 것이 다시 한번 대두된 만큼 서울은 말할 것도 없지만, 각 지역마다 지리적 특성에 따라서 천차만별인 여러 가지 원인을 잘 살펴서 그에 맞는 지역 맞춤형 침수 예방 대책의 수립에 우리 최대의 역량을 쏟아야 하겠다. 지방정부의 살림을 맡은 사람의 책임과 역할은 무엇보다 주민의 생명과 안전을 지키는 것이 가장 우선돼야 할 것이고 한정된 예산 탓에 그 중요성을 알면서도 때로는 그에 대한 대비 시스템을 갖추는 것이 쉽지 않을 수 있지만 그럼에도 불구하고 행정의 최우선 과제로 삼겠다고 하는 확실한 의지와 노력이 필요할 것이 다. 라는 것이 저의 생각이다. 오늘 이 자리에는 우리 여당의 정책을 총괄하시는 정책위의장님 박대출 의원님도 와 계시고, 우리 조수진 최고위원님도 와 계시고, 우리 이철규 사무총장님 와 계시고, 임상준 환경부 차관님, 유창수 서울시 행정2부시장님, 이기재 양천구청장님도 함께 해 주셨는데 우리 모두가 그와 같은 것에 대해서 오늘 이번에 이 자리에 심도 있는 토론을 통해서 국민들이 안심할 수 있는 그런 환경 만들어 나가도록 노력해야 할 것으로 생각한다. 고맙다. 양천갑 당협위원장 최고위원 조수진이다. 충청, 경북, 전북을 중심으로 산사태, 도로 유실, 정전 등 비 피해가 속출하고 있다. 이번 주말 큰 비가 예고돼 있어 추가 피해가 없도록 철저한 대비가 필요하다. 즉각적인 복구 작업, 피해 지원은 최대한 신속하게 이루어져야 한다. 동시에 이상 기후 시대에 과거 기준 대책으로는 재앙을 막을 수 없는 만큼 치수 정책을 재설계해야 한다. 그 첫 번째 단추가 저류 시설의 설치와 개선이다. 지대가 낮고 안양천이 인접한 양천은 비만 오면 잠기는 침수 지역이었습니다만, 3년 전 최대 32만 톤의 물을 담는 대심도 빗물터널이 완공되면서 환경이 바뀌었다. 국민이 안심하고 살 수 있게 하려면 예산과 노력이 절실하다. 오늘 김기현 대표님의 양천구 대심도 빗물터널 방문은 이와 같은 다짐을 담는 것으로 알고 있다. 기후 변화로 인한 재해는 취약계층에 집중되기 마련이다. 한마음 한뜻으로 힘을 합치지 않으면 더 많은 약자가 피해를 볼 수밖에 없다. 정부와 국회는 한마음 한뜻으로 기후변화에 따른 치수의 전면 재설계를 서둘러야만 한다. 오늘 대심도 빗물터널 현장을 둘러보며 다양한 생각이 머릿속에서 스쳐갔다. 기후 변화가 가속화되면서 최근에 ‘극한 호우’또는 ‘극한 기상’이라는 용어를 우리 언론에서 자주 접한다. 극한 호우의 시대, 지금껏 경험하지 못한 재난이 온다는 말도 들린다. 기상 상황에서 극한이라는 단어가 더 이상 예외적인 것이 아니라 일상처럼 빈번해지는 시대가 되어간다는 것을 언론들도 지적하고 있다. 기상청이 수도권의 시범 사업으로 극한 호우 긴급 재난 문자를 보내고 있는데, 그 문자 발송 기준이 1시간 강수량이 50mm 이상이거나 3시간 동안 90mm 이상 내리거나 또는 1시간에 72mm 이상 쏟아지는 경우라고 한다. 저희들이 확인해 봤더니 기상청에 문의해 보니 올해 무려 27번에 달하고 이 달에만 15번이 된다는 것도 말씀드린 바 있다. 작년 8월 8일에 집중호우가 내렸고 신대방동에는 시간당 141.5mm가 내렸다. 또 2021년 7월 우면산 산사태가 있었던 시간당 113mm가 내렸다. 많은 기반 시설이 100년에 한번 발생할 정도로 맞춰서 설계되어 있는데 이런 기준이 무용지물이 될 수도 있다. 작년 8월 집중호우를 계기로 하여 서울시가 방재성능목표 강우량을 시간당 100mm에서 110mm로 올린 것으로 알고 있다. 시에서는 100년 재현 빈도 강우량 기준이라고 했다. 최근의 그런 기후변화 양상을 본다면 이 기준도 부족하다는 지적을 받을 수밖에 없다. 신월 대심도 터널이 시간당 100mm 수준의 빗물을 처리할 수 있다고 하는데 대심도 터널 외에도 추가적인 대책을 마련하여 상호보완이 가능하게 해야 할 것이다. 현재 서울시에서 추진하고 있는 강남·광화문·도림천 대심도 빗물터널 건설도 속도감 있게 해야 할 것이다. 빗물 저류 용량도 조금 더 늘리는 방안도 검토할 필요가 있을 것이다. 대심도 터널이 완공까지 빨라야 4년 정도 걸리는 만큼 최대한 건설을 신속히 서둘러주기를 바란다. 지난달 있었던 예산정책협의회에서도 대심도 터널 건설에 대한 국비지원 논의가 있었다. 당에서도 적극적으로 챙기겠다. 국민의 안전과 생명을 지키는 일보다 더 중요한 것은 없다. 당 정책위는 기후 변화 시대에 맞는 재난 대응 시스템을 갖추는 등 필요한 조치가 즉시 이루어질 수 있도록 최선을 다해 협력하겠다. 반갑다. 국민의힘 사무총장 이철규이다. 기상이변에 따른 집중호우는 우리가 그동안 경험하지 못한 양상을 보이고 있다. 이에 배수시설이 제대로 갖춰지지 않았거나 저지대에 위치해 침수에 취약한 지역의 경우에는 근래와 같은 집중호우에 속수무책일 수밖에 없을 것이다. 그러나 이번 양천구는 2010년 집중호우로 주택가, 상가 등 6,000여 가구가 침수 피해를 입은 후 빗물 배수 터널을 건설하게 되었다. 이후 단 한 건의 침수 피해도 발생하지 않았다고 한다. 지난해 8월도 서울을 중심으로 내린 집중호우로 강남을 비롯한 수도권 대부분이 피해를 입었지만 신월동 일대는 빗물터널 수문 개방 가동으로 침수 피해를 예방할 수 있었다. 이곳에서 바로 우리가 급변하는 기후 변화와 재난에 어떻게 대비해야 할지 답을 찾을 수 있을 것이다. 최근 대도시에서 발생한 침수의 원인이 배수 용량이 충분하지 않아 발생하는 경우가 대부분인 만큼 빗물 배수 터널이 여러 지역으로 확대된다면 침수 피해 예방에도 큰 도움이 될 것이다. 오늘 이 자리에서 논의되는 여러 가지 대안들이 정부 차원에서 원활하게 추진될 수 있도록 당 차원의 뒷받침에 만전을 기하겠다. 감사하다. 기록적 폭우로 쏟아지는 기후변화의 긴밀한 상황에서 대심도 빗물터널은 도시의 안전을 지키기 위한 근본적인 인프라라는 생각을 오늘 하게 됐다. 서울 시민들의 생명과 재산을 보호하는 중요한 역할을 담당한다고 생각이 된다. 지난해 서울 한 지역에서만 400mm 가까운 비가 내렸고, 서울 내에서도 지역별로 편차가 심했다. 오늘 김기현 대표님과 함께 대심도 빗물 터널의 효과를 확인한 만큼 향후 설치될 대심도 빗물 터널의 효과를 극대화하기 위해서는 국지성 집중호우 등 지정학적 특성뿐만 아니라 인구 밀집도, 유동 인구 등을 포함해서 종합적으로 고려해서 지역마다 효과적으로 대응할 수 있도록 방재 기능을 완벽히 구사할 수 있도록 신경을 써야 한다고 생각한다. 대심도 빗물터널뿐만 아니라 도심 침수를 예방하는 저류조·배수펌프장 등을 충분히 설치해서 서울시민의 안전을 책임지고 재산을 보호할 수 있는데 만전을 기하도록 국민의힘 재해대책위원회에서도 열심히 노력하도록 하겠다.'"
   ]
  },
  {
   "cell_type": "code",
   "execution_count": 5,
   "id": "97544f85",
   "metadata": {},
   "outputs": [
    {
     "name": "stdout",
     "output_type": "stream",
     "text": [
      "신월 빗물 전용 배수시설은 집중호우 때마다 주변 지역이 물바다가 되는 현상을 막고자 만 7년의 공사를 거쳐 완공된 국내 최초의 대심도 빗물 저류 시설이다.\n"
     ]
    }
   ],
   "source": [
    "inputs = [\"summarize: \" + text]\n",
    "\n",
    "inputs = tokenizer(inputs, max_length=max_input_length, truncation=True, return_tensors=\"pt\")\n",
    "output = model.generate(**inputs, num_beams=8, do_sample=True, min_length=10, max_length=100)\n",
    "decoded_output = tokenizer.batch_decode(output, skip_special_tokens=True)[0]\n",
    "predicted_title = nltk.sent_tokenize(decoded_output.strip())[0]\n",
    "\n",
    "print(predicted_title)"
   ]
  },
  {
   "cell_type": "markdown",
   "id": "4ba77164",
   "metadata": {},
   "source": [
    "시작"
   ]
  },
  {
   "cell_type": "markdown",
   "id": "12f0ea4c",
   "metadata": {},
   "source": [
    "데이터 일부만 제한하려고 합니다."
   ]
  },
  {
   "cell_type": "code",
   "execution_count": 30,
   "id": "fd5c7879",
   "metadata": {},
   "outputs": [
    {
     "name": "stdout",
     "output_type": "stream",
     "text": [
      "         category  year  quarter  \\\n",
      "0  대변인 보도자료 및 브리핑  2023        3   \n",
      "1  대변인 보도자료 및 브리핑  2023        3   \n",
      "2  대변인 보도자료 및 브리핑  2023        3   \n",
      "3  대변인 보도자료 및 브리핑  2023        3   \n",
      "4  대변인 보도자료 및 브리핑  2023        3   \n",
      "\n",
      "                                             content  \n",
      "0  ‘빗물을 나르는 고속도로’라 불리는 대심도 빗물터널 조금 전에 둘러보고 왔다. 신월...  \n",
      "1  오늘 한 언론에 보도된 무소속 박완주 의원의 검찰 공소장 안에는, 강력 성범죄자의 ...  \n",
      "2  전국적인 집중호우로 많은 국민들이 희생되고 막대한 재산 피해가 발생했다. 당장 전면...  \n",
      "3  더불어민주당이 윤석열 정부의 ‘시행령 추진’에 본격적으로 제동을 걸고 있다. KBS...  \n",
      "4  그칠 줄 모르던 비가 잠시 소강상태에 접어들었지만, 폭우가 할퀴고 간 자리에 남겨진...  \n",
      "\n",
      "                                               title  year  quarter  \\\n",
      "0  [박성준 대변인] 정체불명의 해외발 우편물, 국민 불안이 확산되는데 정부는 손놓고 ...  2023        3   \n",
      "1  [박성준 대변인] 검찰은 조작 수사도 모자라 이제는 진술을 왜곡해 언론에 퍼뜨려 여...  2023        3   \n",
      "2  [박성준 대변인] 윤석열 대통령은 높아지는 군사적 긴장에 언제까지 팔짱만 끼고 있을...  2023        3   \n",
      "3     [서용주 상근부대변인] 국정 운영 방향을 남 탓으로 정한 정권은 윤석열 정권뿐입니다  2023        3   \n",
      "4  [선다윗 상근부대변인] 누구보다 나라를 사랑했던 청년, 명령에 충실했던 병사를 기억...  2023        3   \n",
      "\n",
      "                                             content  \n",
      "0  정체불명의 해외발 우편물, 국민 불안이 확산되는데 정부는 손놓고 있습니까 3일째 전...  \n",
      "1  검찰은 조작 수사도 모자라 이제는 진술을 왜곡해 언론에 퍼뜨려 여론을 호도하고 있습...  \n",
      "2  윤석열 대통령은 높아지는 군사적 긴장에 언제까지 팔짱만 끼고 있을 겁니까 북한이 오...  \n",
      "3  국정 운영 방향을 남 탓으로 정한 정권은 윤석열 정권뿐입니다 “윤 대통령의 국정 운...  \n",
      "4  누구보다 나라를 사랑했던 청년, 명령에 충실했던 병사를 기억하겠습니다 경북 예천에서...  \n"
     ]
    }
   ],
   "source": [
    "# NPP, TMP DATA LOAD\n",
    "\n",
    "import pandas as pd\n",
    "\n",
    "npp = pd.read_csv('NPP_final_0729.csv')\n",
    "tmp = pd.read_csv('TMP_final_0729.csv')\n",
    "\n",
    "print(npp.head())\n",
    "\n",
    "print()\n",
    "print(tmp.head())"
   ]
  },
  {
   "cell_type": "markdown",
   "id": "51fea6f7",
   "metadata": {},
   "source": [
    "샘플 데이터를 만들어 봅시다"
   ]
  },
  {
   "cell_type": "code",
   "execution_count": 31,
   "id": "15b3acab",
   "metadata": {},
   "outputs": [
    {
     "data": {
      "text/plain": [
       "category    0\n",
       "year        0\n",
       "quarter     0\n",
       "content     0\n",
       "dtype: int64"
      ]
     },
     "execution_count": 31,
     "metadata": {},
     "output_type": "execute_result"
    }
   ],
   "source": [
    "npp.isnull().sum()"
   ]
  },
  {
   "cell_type": "code",
   "execution_count": 32,
   "id": "02e19d46",
   "metadata": {},
   "outputs": [
    {
     "data": {
      "text/plain": [
       "title      0\n",
       "year       0\n",
       "quarter    0\n",
       "content    2\n",
       "dtype: int64"
      ]
     },
     "execution_count": 32,
     "metadata": {},
     "output_type": "execute_result"
    }
   ],
   "source": [
    "tmp.isnull().sum()\n"
   ]
  },
  {
   "cell_type": "code",
   "execution_count": 33,
   "id": "bb2007ef",
   "metadata": {},
   "outputs": [],
   "source": [
    "tmp = tmp.dropna()"
   ]
  },
  {
   "cell_type": "code",
   "execution_count": 34,
   "id": "ee27517a",
   "metadata": {
    "scrolled": true
   },
   "outputs": [
    {
     "data": {
      "text/plain": [
       "title      0\n",
       "year       0\n",
       "quarter    0\n",
       "content    0\n",
       "dtype: int64"
      ]
     },
     "execution_count": 34,
     "metadata": {},
     "output_type": "execute_result"
    }
   ],
   "source": [
    "tmp.isnull().sum()"
   ]
  },
  {
   "cell_type": "code",
   "execution_count": 53,
   "id": "2e0883fe",
   "metadata": {},
   "outputs": [],
   "source": [
    "# 50개만 해볼게요\n",
    "\n",
    "npp['target'] = '국민의힘'\n",
    "tmp['target'] = '민주당'\n",
    "npp = npp[['content','target']][:50]\n",
    "tmp = tmp[['content','target']][:50]"
   ]
  },
  {
   "cell_type": "code",
   "execution_count": 54,
   "id": "ba566edc",
   "metadata": {},
   "outputs": [
    {
     "name": "stdout",
     "output_type": "stream",
     "text": [
      "(100, 2)\n"
     ]
    }
   ],
   "source": [
    "data = pd.concat([npp,tmp],ignore_index= True)\n",
    "data[data['target']=='민주당']# data = data[['content','target']]\n",
    "data.head()\n",
    "print(data.shape)"
   ]
  },
  {
   "cell_type": "code",
   "execution_count": 55,
   "id": "37eb62f2",
   "metadata": {},
   "outputs": [
    {
     "data": {
      "text/plain": [
       "국민의힘    50\n",
       "민주당     50\n",
       "Name: target, dtype: int64"
      ]
     },
     "execution_count": 55,
     "metadata": {},
     "output_type": "execute_result"
    }
   ],
   "source": [
    "data.target.value_counts()"
   ]
  },
  {
   "cell_type": "code",
   "execution_count": 56,
   "id": "6ba82b95",
   "metadata": {},
   "outputs": [
    {
     "data": {
      "text/html": [
       "<div>\n",
       "<style scoped>\n",
       "    .dataframe tbody tr th:only-of-type {\n",
       "        vertical-align: middle;\n",
       "    }\n",
       "\n",
       "    .dataframe tbody tr th {\n",
       "        vertical-align: top;\n",
       "    }\n",
       "\n",
       "    .dataframe thead th {\n",
       "        text-align: right;\n",
       "    }\n",
       "</style>\n",
       "<table border=\"1\" class=\"dataframe\">\n",
       "  <thead>\n",
       "    <tr style=\"text-align: right;\">\n",
       "      <th></th>\n",
       "      <th>content</th>\n",
       "      <th>target</th>\n",
       "      <th>summarized</th>\n",
       "    </tr>\n",
       "  </thead>\n",
       "  <tbody>\n",
       "    <tr>\n",
       "      <th>0</th>\n",
       "      <td>‘빗물을 나르는 고속도로’라 불리는 대심도 빗물터널 조금 전에 둘러보고 왔다. 신월...</td>\n",
       "      <td>국민의힘</td>\n",
       "      <td>신월 빗물 전용 배수시설은 집중호우 때마다 주변 지역이 물바다가 되는 현상을 막고자...</td>\n",
       "    </tr>\n",
       "    <tr>\n",
       "      <th>1</th>\n",
       "      <td>오늘 한 언론에 보도된 무소속 박완주 의원의 검찰 공소장 안에는, 강력 성범죄자의 ...</td>\n",
       "      <td>국민의힘</td>\n",
       "      <td>박 의원은 자신의 보좌관이었던 피해자를 노래방에서 강제로 추행하기 위해 비서를 먼저...</td>\n",
       "    </tr>\n",
       "    <tr>\n",
       "      <th>2</th>\n",
       "      <td>전국적인 집중호우로 많은 국민들이 희생되고 막대한 재산 피해가 발생했다. 당장 전면...</td>\n",
       "      <td>국민의힘</td>\n",
       "      <td>전국적인 집중호우로 많은 국민들이 희생되고 막대한 재산 피해가 발생한 상황에서 정부...</td>\n",
       "    </tr>\n",
       "    <tr>\n",
       "      <th>3</th>\n",
       "      <td>더불어민주당이 윤석열 정부의 ‘시행령 추진’에 본격적으로 제동을 걸고 있다. KBS...</td>\n",
       "      <td>국민의힘</td>\n",
       "      <td>더불어민주당이 윤 정부의 시행령 추진에 제동을 걸고 있는데 KBS 수신료 분리 징수...</td>\n",
       "    </tr>\n",
       "    <tr>\n",
       "      <th>4</th>\n",
       "      <td>그칠 줄 모르던 비가 잠시 소강상태에 접어들었지만, 폭우가 할퀴고 간 자리에 남겨진...</td>\n",
       "      <td>국민의힘</td>\n",
       "      <td>폭우 피해 과정에서 드러난 총체적 난맥상들은 문정권 시절 물관리 일원화라는 이름으로...</td>\n",
       "    </tr>\n",
       "  </tbody>\n",
       "</table>\n",
       "</div>"
      ],
      "text/plain": [
       "                                             content target  \\\n",
       "0  ‘빗물을 나르는 고속도로’라 불리는 대심도 빗물터널 조금 전에 둘러보고 왔다. 신월...   국민의힘   \n",
       "1  오늘 한 언론에 보도된 무소속 박완주 의원의 검찰 공소장 안에는, 강력 성범죄자의 ...   국민의힘   \n",
       "2  전국적인 집중호우로 많은 국민들이 희생되고 막대한 재산 피해가 발생했다. 당장 전면...   국민의힘   \n",
       "3  더불어민주당이 윤석열 정부의 ‘시행령 추진’에 본격적으로 제동을 걸고 있다. KBS...   국민의힘   \n",
       "4  그칠 줄 모르던 비가 잠시 소강상태에 접어들었지만, 폭우가 할퀴고 간 자리에 남겨진...   국민의힘   \n",
       "\n",
       "                                          summarized  \n",
       "0  신월 빗물 전용 배수시설은 집중호우 때마다 주변 지역이 물바다가 되는 현상을 막고자...  \n",
       "1  박 의원은 자신의 보좌관이었던 피해자를 노래방에서 강제로 추행하기 위해 비서를 먼저...  \n",
       "2  전국적인 집중호우로 많은 국민들이 희생되고 막대한 재산 피해가 발생한 상황에서 정부...  \n",
       "3  더불어민주당이 윤 정부의 시행령 추진에 제동을 걸고 있는데 KBS 수신료 분리 징수...  \n",
       "4  폭우 피해 과정에서 드러난 총체적 난맥상들은 문정권 시절 물관리 일원화라는 이름으로...  "
      ]
     },
     "execution_count": 56,
     "metadata": {},
     "output_type": "execute_result"
    }
   ],
   "source": [
    "generated_summaries = []\n",
    "\n",
    "for index,row in data.iterrows():\n",
    "    text = row.content\n",
    "    \n",
    "    inputs = ['summarize:' + text]\n",
    "    inputs = tokenizer(inputs, max_length=max_input_length, truncation=True, return_tensors=\"pt\")\n",
    "    output = model.generate(**inputs, num_beams=8, do_sample=True, min_length=10, max_length=100)\n",
    "    decoded_output = tokenizer.batch_decode(output, skip_special_tokens=True)[0]\n",
    "    predicted_title = nltk.sent_tokenize(decoded_output.strip())[0]\n",
    "    \n",
    "    generated_summaries.append(predicted_title)\n",
    "    \n",
    "data['summarized'] = generated_summaries\n",
    "\n",
    "data.head()\n",
    "    "
   ]
  },
  {
   "cell_type": "code",
   "execution_count": 57,
   "id": "0900d67c",
   "metadata": {},
   "outputs": [
    {
     "name": "stdout",
     "output_type": "stream",
     "text": [
      "2023-08-21 00:13:53.565006\n"
     ]
    }
   ],
   "source": [
    "import datetime\n",
    "\n",
    "start = datetime.datetime.now()\n",
    "print(start)\n",
    "\n"
   ]
  },
  {
   "cell_type": "code",
   "execution_count": 58,
   "id": "257b10c7",
   "metadata": {},
   "outputs": [
    {
     "data": {
      "text/plain": [
       "국민의힘    50\n",
       "민주당     50\n",
       "Name: target, dtype: int64"
      ]
     },
     "execution_count": 58,
     "metadata": {},
     "output_type": "execute_result"
    }
   ],
   "source": [
    "data.target.value_counts()"
   ]
  },
  {
   "cell_type": "code",
   "execution_count": 60,
   "id": "37c8920b",
   "metadata": {},
   "outputs": [
    {
     "name": "stdout",
     "output_type": "stream",
     "text": [
      "Defaulting to user installation because normal site-packages is not writeable\n",
      "Collecting mxnet\n",
      "  Using cached mxnet-1.7.0.post2-py2.py3-none-win_amd64.whl (33.1 MB)\n",
      "Collecting numpy<1.17.0,>=1.8.2 (from mxnet)\n",
      "  Using cached numpy-1.16.6.zip (5.1 MB)\n",
      "  Preparing metadata (setup.py): started\n",
      "  Preparing metadata (setup.py): finished with status 'done'\n",
      "Collecting requests<2.19.0,>=2.18.4 (from mxnet)\n",
      "  Using cached requests-2.18.4-py2.py3-none-any.whl (88 kB)\n",
      "Collecting graphviz<0.9.0,>=0.8.1 (from mxnet)\n",
      "  Using cached graphviz-0.8.4-py2.py3-none-any.whl (16 kB)\n",
      "Requirement already satisfied: certifi>=2017.4.17 in c:\\users\\shjoo\\appdata\\roaming\\python\\python38\\site-packages (from requests<2.19.0,>=2.18.4->mxnet) (2022.12.7)\n",
      "Collecting chardet<3.1.0,>=3.0.2 (from requests<2.19.0,>=2.18.4->mxnet)\n",
      "  Using cached chardet-3.0.4-py2.py3-none-any.whl (133 kB)\n",
      "Collecting idna<2.7,>=2.5 (from requests<2.19.0,>=2.18.4->mxnet)\n",
      "  Using cached idna-2.6-py2.py3-none-any.whl (56 kB)\n",
      "Collecting urllib3<1.23,>=1.21.1 (from requests<2.19.0,>=2.18.4->mxnet)\n",
      "  Using cached urllib3-1.22-py2.py3-none-any.whl (132 kB)\n",
      "Building wheels for collected packages: numpy\n",
      "  Building wheel for numpy (setup.py): started\n",
      "  Building wheel for numpy (setup.py): finished with status 'error'\n",
      "  Running setup.py clean for numpy\n",
      "Failed to build numpy\n"
     ]
    },
    {
     "name": "stderr",
     "output_type": "stream",
     "text": [
      "  error: subprocess-exited-with-error\n",
      "  \n",
      "  python setup.py bdist_wheel did not run successfully.\n",
      "  exit code: 1\n",
      "  \n",
      "  [264 lines of output]\n",
      "  Running from numpy source directory.\n",
      "  C:\\Users\\shjoo\\AppData\\Local\\Temp\\pip-install-g_3i9n55\\numpy_ce83a55f97f844649795a4b50788fcdc\\numpy\\distutils\\misc_util.py:476: SyntaxWarning: \"is\" with a literal. Did you mean \"==\"?\n",
      "    return is_string(s) and ('*' in s or '?' is s)\n",
      "  blas_opt_info:\n",
      "  blas_mkl_info:\n",
      "  No module named 'numpy.distutils._msvccompiler' in numpy.distutils; trying from distutils\n",
      "  customize MSVCCompiler\n",
      "    libraries mkl_rt not found in ['c:\\\\program files\\\\python38\\\\lib', 'C:\\\\', 'c:\\\\program files\\\\python38\\\\libs']\n",
      "    NOT AVAILABLE\n",
      "  \n",
      "  blis_info:\n",
      "  No module named 'numpy.distutils._msvccompiler' in numpy.distutils; trying from distutils\n",
      "  customize MSVCCompiler\n",
      "    libraries blis not found in ['c:\\\\program files\\\\python38\\\\lib', 'C:\\\\', 'c:\\\\program files\\\\python38\\\\libs']\n",
      "    NOT AVAILABLE\n",
      "  \n",
      "  openblas_info:\n",
      "  No module named 'numpy.distutils._msvccompiler' in numpy.distutils; trying from distutils\n",
      "  customize MSVCCompiler\n",
      "  No module named 'numpy.distutils._msvccompiler' in numpy.distutils; trying from distutils\n",
      "  customize MSVCCompiler\n",
      "    libraries openblas not found in ['c:\\\\program files\\\\python38\\\\lib', 'C:\\\\', 'c:\\\\program files\\\\python38\\\\libs']\n",
      "  get_default_fcompiler: matching types: '['gnu', 'intelv', 'absoft', 'compaqv', 'intelev', 'gnu95', 'g95', 'intelvem', 'intelem', 'flang']'\n",
      "  customize GnuFCompiler\n",
      "  Could not locate executable g77\n",
      "  Could not locate executable f77\n",
      "  customize IntelVisualFCompiler\n",
      "  Could not locate executable ifort\n",
      "  Could not locate executable ifl\n",
      "  customize AbsoftFCompiler\n",
      "  Could not locate executable f90\n",
      "  customize CompaqVisualFCompiler\n",
      "  Could not locate executable DF\n",
      "  customize IntelItaniumVisualFCompiler\n",
      "  Could not locate executable efl\n",
      "  customize Gnu95FCompiler\n",
      "  Could not locate executable gfortran\n",
      "  Could not locate executable f95\n",
      "  customize G95FCompiler\n",
      "  Could not locate executable g95\n",
      "  customize IntelEM64VisualFCompiler\n",
      "  customize IntelEM64TFCompiler\n",
      "  Could not locate executable efort\n",
      "  Could not locate executable efc\n",
      "  customize PGroupFlangCompiler\n",
      "  Could not locate executable flang\n",
      "  don't know how to compile Fortran code on platform 'nt'\n",
      "    NOT AVAILABLE\n",
      "  \n",
      "  atlas_3_10_blas_threads_info:\n",
      "  Setting PTATLAS=ATLAS\n",
      "  No module named 'numpy.distutils._msvccompiler' in numpy.distutils; trying from distutils\n",
      "  customize MSVCCompiler\n",
      "    libraries tatlas not found in ['c:\\\\program files\\\\python38\\\\lib', 'C:\\\\', 'c:\\\\program files\\\\python38\\\\libs']\n",
      "    NOT AVAILABLE\n",
      "  \n",
      "  atlas_3_10_blas_info:\n",
      "  No module named 'numpy.distutils._msvccompiler' in numpy.distutils; trying from distutils\n",
      "  customize MSVCCompiler\n",
      "    libraries satlas not found in ['c:\\\\program files\\\\python38\\\\lib', 'C:\\\\', 'c:\\\\program files\\\\python38\\\\libs']\n",
      "    NOT AVAILABLE\n",
      "  \n",
      "  atlas_blas_threads_info:\n",
      "  Setting PTATLAS=ATLAS\n",
      "  No module named 'numpy.distutils._msvccompiler' in numpy.distutils; trying from distutils\n",
      "  customize MSVCCompiler\n",
      "    libraries ptf77blas,ptcblas,atlas not found in ['c:\\\\program files\\\\python38\\\\lib', 'C:\\\\', 'c:\\\\program files\\\\python38\\\\libs']\n",
      "    NOT AVAILABLE\n",
      "  \n",
      "  atlas_blas_info:\n",
      "  No module named 'numpy.distutils._msvccompiler' in numpy.distutils; trying from distutils\n",
      "  customize MSVCCompiler\n",
      "    libraries f77blas,cblas,atlas not found in ['c:\\\\program files\\\\python38\\\\lib', 'C:\\\\', 'c:\\\\program files\\\\python38\\\\libs']\n",
      "    NOT AVAILABLE\n",
      "  \n",
      "  accelerate_info:\n",
      "    NOT AVAILABLE\n",
      "  \n",
      "  C:\\Users\\shjoo\\AppData\\Local\\Temp\\pip-install-g_3i9n55\\numpy_ce83a55f97f844649795a4b50788fcdc\\numpy\\distutils\\system_info.py:639: UserWarning:\n",
      "      Atlas (http://math-atlas.sourceforge.net/) libraries not found.\n",
      "      Directories to search for the libraries can be specified in the\n",
      "      numpy/distutils/site.cfg file (section [atlas]) or by setting\n",
      "      the ATLAS environment variable.\n",
      "    self.calc_info()\n",
      "  blas_info:\n",
      "  No module named 'numpy.distutils._msvccompiler' in numpy.distutils; trying from distutils\n",
      "  customize MSVCCompiler\n",
      "    libraries blas not found in ['c:\\\\program files\\\\python38\\\\lib', 'C:\\\\', 'c:\\\\program files\\\\python38\\\\libs']\n",
      "    NOT AVAILABLE\n",
      "  \n",
      "  C:\\Users\\shjoo\\AppData\\Local\\Temp\\pip-install-g_3i9n55\\numpy_ce83a55f97f844649795a4b50788fcdc\\numpy\\distutils\\system_info.py:639: UserWarning:\n",
      "      Blas (http://www.netlib.org/blas/) libraries not found.\n",
      "      Directories to search for the libraries can be specified in the\n",
      "      numpy/distutils/site.cfg file (section [blas]) or by setting\n",
      "      the BLAS environment variable.\n",
      "    self.calc_info()\n",
      "  blas_src_info:\n",
      "    NOT AVAILABLE\n",
      "  \n",
      "  C:\\Users\\shjoo\\AppData\\Local\\Temp\\pip-install-g_3i9n55\\numpy_ce83a55f97f844649795a4b50788fcdc\\numpy\\distutils\\system_info.py:639: UserWarning:\n",
      "      Blas (http://www.netlib.org/blas/) sources not found.\n",
      "      Directories to search for the sources can be specified in the\n",
      "      numpy/distutils/site.cfg file (section [blas_src]) or by setting\n",
      "      the BLAS_SRC environment variable.\n",
      "    self.calc_info()\n",
      "    NOT AVAILABLE\n",
      "  \n",
      "  'svnversion'은(는) 내부 또는 외부 명령, 실행할 수 있는 프로그램, 또는\n",
      "  배치 파일이 아닙니다.\n",
      "  non-existing path in 'numpy\\\\distutils': 'site.cfg'\n",
      "  lapack_opt_info:\n",
      "  lapack_mkl_info:\n",
      "  No module named 'numpy.distutils._msvccompiler' in numpy.distutils; trying from distutils\n",
      "  customize MSVCCompiler\n",
      "    libraries mkl_rt not found in ['c:\\\\program files\\\\python38\\\\lib', 'C:\\\\', 'c:\\\\program files\\\\python38\\\\libs']\n",
      "    NOT AVAILABLE\n",
      "  \n",
      "  openblas_lapack_info:\n",
      "  No module named 'numpy.distutils._msvccompiler' in numpy.distutils; trying from distutils\n",
      "  customize MSVCCompiler\n",
      "  No module named 'numpy.distutils._msvccompiler' in numpy.distutils; trying from distutils\n",
      "  customize MSVCCompiler\n",
      "    libraries openblas not found in ['c:\\\\program files\\\\python38\\\\lib', 'C:\\\\', 'c:\\\\program files\\\\python38\\\\libs']\n",
      "    NOT AVAILABLE\n",
      "  \n",
      "  openblas_clapack_info:\n",
      "  No module named 'numpy.distutils._msvccompiler' in numpy.distutils; trying from distutils\n",
      "  customize MSVCCompiler\n",
      "  No module named 'numpy.distutils._msvccompiler' in numpy.distutils; trying from distutils\n",
      "  customize MSVCCompiler\n",
      "    libraries openblas,lapack not found in ['c:\\\\program files\\\\python38\\\\lib', 'C:\\\\', 'c:\\\\program files\\\\python38\\\\libs']\n",
      "    NOT AVAILABLE\n",
      "  \n",
      "  atlas_3_10_threads_info:\n",
      "  Setting PTATLAS=ATLAS\n",
      "  No module named 'numpy.distutils._msvccompiler' in numpy.distutils; trying from distutils\n",
      "  customize MSVCCompiler\n",
      "    libraries lapack_atlas not found in c:\\program files\\python38\\lib\n",
      "  No module named 'numpy.distutils._msvccompiler' in numpy.distutils; trying from distutils\n",
      "  customize MSVCCompiler\n",
      "    libraries tatlas,tatlas not found in c:\\program files\\python38\\lib\n",
      "  No module named 'numpy.distutils._msvccompiler' in numpy.distutils; trying from distutils\n",
      "  customize MSVCCompiler\n",
      "    libraries lapack_atlas not found in C:\\\n",
      "  No module named 'numpy.distutils._msvccompiler' in numpy.distutils; trying from distutils\n",
      "  customize MSVCCompiler\n",
      "    libraries tatlas,tatlas not found in C:\\\n",
      "  No module named 'numpy.distutils._msvccompiler' in numpy.distutils; trying from distutils\n",
      "  customize MSVCCompiler\n",
      "    libraries lapack_atlas not found in c:\\program files\\python38\\libs\n",
      "  No module named 'numpy.distutils._msvccompiler' in numpy.distutils; trying from distutils\n",
      "  customize MSVCCompiler\n",
      "    libraries tatlas,tatlas not found in c:\\program files\\python38\\libs\n",
      "  <class 'numpy.distutils.system_info.atlas_3_10_threads_info'>\n",
      "    NOT AVAILABLE\n",
      "  \n",
      "  atlas_3_10_info:\n",
      "  No module named 'numpy.distutils._msvccompiler' in numpy.distutils; trying from distutils\n",
      "  customize MSVCCompiler\n",
      "    libraries lapack_atlas not found in c:\\program files\\python38\\lib\n",
      "  No module named 'numpy.distutils._msvccompiler' in numpy.distutils; trying from distutils\n",
      "  customize MSVCCompiler\n",
      "    libraries satlas,satlas not found in c:\\program files\\python38\\lib\n",
      "  No module named 'numpy.distutils._msvccompiler' in numpy.distutils; trying from distutils\n",
      "  customize MSVCCompiler\n",
      "    libraries lapack_atlas not found in C:\\\n",
      "  No module named 'numpy.distutils._msvccompiler' in numpy.distutils; trying from distutils\n",
      "  customize MSVCCompiler\n",
      "    libraries satlas,satlas not found in C:\\\n",
      "  No module named 'numpy.distutils._msvccompiler' in numpy.distutils; trying from distutils\n",
      "  customize MSVCCompiler\n",
      "    libraries lapack_atlas not found in c:\\program files\\python38\\libs\n",
      "  No module named 'numpy.distutils._msvccompiler' in numpy.distutils; trying from distutils\n",
      "  customize MSVCCompiler\n",
      "    libraries satlas,satlas not found in c:\\program files\\python38\\libs\n",
      "  <class 'numpy.distutils.system_info.atlas_3_10_info'>\n",
      "    NOT AVAILABLE\n",
      "  \n",
      "  atlas_threads_info:\n",
      "  Setting PTATLAS=ATLAS\n",
      "  No module named 'numpy.distutils._msvccompiler' in numpy.distutils; trying from distutils\n",
      "  customize MSVCCompiler\n",
      "    libraries lapack_atlas not found in c:\\program files\\python38\\lib\n",
      "  No module named 'numpy.distutils._msvccompiler' in numpy.distutils; trying from distutils\n",
      "  customize MSVCCompiler\n",
      "    libraries ptf77blas,ptcblas,atlas not found in c:\\program files\\python38\\lib\n",
      "  No module named 'numpy.distutils._msvccompiler' in numpy.distutils; trying from distutils\n",
      "  customize MSVCCompiler\n",
      "    libraries lapack_atlas not found in C:\\\n",
      "  No module named 'numpy.distutils._msvccompiler' in numpy.distutils; trying from distutils\n",
      "  customize MSVCCompiler\n",
      "    libraries ptf77blas,ptcblas,atlas not found in C:\\\n",
      "  No module named 'numpy.distutils._msvccompiler' in numpy.distutils; trying from distutils\n",
      "  customize MSVCCompiler\n",
      "    libraries lapack_atlas not found in c:\\program files\\python38\\libs\n",
      "  No module named 'numpy.distutils._msvccompiler' in numpy.distutils; trying from distutils\n",
      "  customize MSVCCompiler\n",
      "    libraries ptf77blas,ptcblas,atlas not found in c:\\program files\\python38\\libs\n",
      "  <class 'numpy.distutils.system_info.atlas_threads_info'>\n",
      "    NOT AVAILABLE\n",
      "  \n",
      "  atlas_info:\n",
      "  No module named 'numpy.distutils._msvccompiler' in numpy.distutils; trying from distutils\n",
      "  customize MSVCCompiler\n",
      "    libraries lapack_atlas not found in c:\\program files\\python38\\lib\n",
      "  No module named 'numpy.distutils._msvccompiler' in numpy.distutils; trying from distutils\n",
      "  customize MSVCCompiler\n",
      "    libraries f77blas,cblas,atlas not found in c:\\program files\\python38\\lib\n",
      "  No module named 'numpy.distutils._msvccompiler' in numpy.distutils; trying from distutils\n",
      "  customize MSVCCompiler\n",
      "    libraries lapack_atlas not found in C:\\\n",
      "  No module named 'numpy.distutils._msvccompiler' in numpy.distutils; trying from distutils\n",
      "  customize MSVCCompiler\n",
      "    libraries f77blas,cblas,atlas not found in C:\\\n",
      "  No module named 'numpy.distutils._msvccompiler' in numpy.distutils; trying from distutils\n",
      "  customize MSVCCompiler\n",
      "    libraries lapack_atlas not found in c:\\program files\\python38\\libs\n",
      "  No module named 'numpy.distutils._msvccompiler' in numpy.distutils; trying from distutils\n",
      "  customize MSVCCompiler\n",
      "    libraries f77blas,cblas,atlas not found in c:\\program files\\python38\\libs\n",
      "  <class 'numpy.distutils.system_info.atlas_info'>\n",
      "    NOT AVAILABLE\n",
      "  \n",
      "  lapack_info:\n",
      "  No module named 'numpy.distutils._msvccompiler' in numpy.distutils; trying from distutils\n",
      "  customize MSVCCompiler\n",
      "    libraries lapack not found in ['c:\\\\program files\\\\python38\\\\lib', 'C:\\\\', 'c:\\\\program files\\\\python38\\\\libs']\n",
      "    NOT AVAILABLE\n",
      "  \n",
      "  C:\\Users\\shjoo\\AppData\\Local\\Temp\\pip-install-g_3i9n55\\numpy_ce83a55f97f844649795a4b50788fcdc\\numpy\\distutils\\system_info.py:639: UserWarning:\n",
      "      Lapack (http://www.netlib.org/lapack/) libraries not found.\n",
      "      Directories to search for the libraries can be specified in the\n",
      "      numpy/distutils/site.cfg file (section [lapack]) or by setting\n",
      "      the LAPACK environment variable.\n",
      "    self.calc_info()\n",
      "  lapack_src_info:\n",
      "    NOT AVAILABLE\n",
      "  \n",
      "  C:\\Users\\shjoo\\AppData\\Local\\Temp\\pip-install-g_3i9n55\\numpy_ce83a55f97f844649795a4b50788fcdc\\numpy\\distutils\\system_info.py:639: UserWarning:\n",
      "      Lapack (http://www.netlib.org/lapack/) sources not found.\n",
      "      Directories to search for the sources can be specified in the\n",
      "      numpy/distutils/site.cfg file (section [lapack_src]) or by setting\n",
      "      the LAPACK_SRC environment variable.\n",
      "    self.calc_info()\n",
      "    NOT AVAILABLE\n",
      "  \n",
      "  C:\\Users\\shjoo\\AppData\\Roaming\\Python\\Python38\\site-packages\\setuptools\\_distutils\\dist.py:262: UserWarning: Unknown distribution option: 'define_macros'\n",
      "    warnings.warn(msg)\n",
      "  running bdist_wheel\n",
      "  running build\n",
      "  running config_cc\n",
      "  unifing config_cc, config, build_clib, build_ext, build commands --compiler options\n",
      "  running config_fc\n",
      "  unifing config_fc, config, build_clib, build_ext, build commands --fcompiler options\n",
      "  running build_src\n",
      "  build_src\n",
      "  building py_modules sources\n",
      "  creating build\n",
      "  creating build\\src.win-amd64-3.8\n",
      "  creating build\\src.win-amd64-3.8\\numpy\n",
      "  creating build\\src.win-amd64-3.8\\numpy\\distutils\n",
      "  building library \"npymath\" sources\n",
      "  No module named 'numpy.distutils._msvccompiler' in numpy.distutils; trying from distutils\n",
      "  error: Microsoft Visual C++ 14.0 or greater is required. Get it with \"Microsoft C++ Build Tools\": https://visualstudio.microsoft.com/visual-cpp-build-tools/\n",
      "  [end of output]\n",
      "  \n",
      "  note: This error originates from a subprocess, and is likely not a problem with pip.\n",
      "  ERROR: Failed building wheel for numpy\n",
      "  error: subprocess-exited-with-error\n",
      "  \n",
      "  python setup.py clean did not run successfully.\n",
      "  exit code: 1\n",
      "  \n",
      "  [10 lines of output]\n",
      "  Running from numpy source directory.\n",
      "  \n",
      "  `setup.py clean` is not supported, use one of the following instead:\n",
      "  \n",
      "    - `git clean -xdf` (cleans all files)\n",
      "    - `git clean -Xdf` (cleans all versioned files, doesn't touch\n",
      "                        files that aren't checked into the git repo)\n",
      "  \n",
      "  Add `--force` to your command to use it anyway if you must (unsupported).\n",
      "  \n",
      "  [end of output]\n",
      "  \n",
      "  note: This error originates from a subprocess, and is likely not a problem with pip.\n",
      "  ERROR: Failed cleaning build dir for numpy\n",
      "ERROR: Could not build wheels for numpy, which is required to install pyproject.toml-based projects\n"
     ]
    },
    {
     "name": "stdout",
     "output_type": "stream",
     "text": [
      "Defaulting to user installation because normal site-packages is not writeable\n",
      "Requirement already satisfied: numpy in c:\\users\\shjoo\\appdata\\roaming\\python\\python38\\site-packages (1.23.0)\n",
      "Defaulting to user installation because normal site-packages is not writeable\n",
      "Collecting gluonnlp\n",
      "  Using cached gluonnlp-0.10.0.tar.gz (344 kB)\n",
      "  Preparing metadata (setup.py): started\n",
      "  Preparing metadata (setup.py): finished with status 'done'\n",
      "Requirement already satisfied: pandas in c:\\users\\shjoo\\appdata\\roaming\\python\\python38\\site-packages (1.4.3)\n",
      "Requirement already satisfied: tqdm in c:\\users\\shjoo\\appdata\\roaming\\python\\python38\\site-packages (4.64.0)\n",
      "Requirement already satisfied: numpy>=1.16.0 in c:\\users\\shjoo\\appdata\\roaming\\python\\python38\\site-packages (from gluonnlp) (1.23.0)\n",
      "Requirement already satisfied: cython in c:\\users\\shjoo\\appdata\\roaming\\python\\python38\\site-packages (from gluonnlp) (0.29.32)\n",
      "Requirement already satisfied: packaging in c:\\users\\shjoo\\appdata\\roaming\\python\\python38\\site-packages (from gluonnlp) (23.0)\n",
      "Requirement already satisfied: python-dateutil>=2.8.1 in c:\\program files\\python38\\lib\\site-packages (from pandas) (2.8.2)\n",
      "Requirement already satisfied: pytz>=2020.1 in c:\\users\\shjoo\\appdata\\roaming\\python\\python38\\site-packages (from pandas) (2023.3)\n",
      "Requirement already satisfied: colorama in c:\\program files\\python38\\lib\\site-packages (from tqdm) (0.4.5)\n",
      "Requirement already satisfied: six>=1.5 in c:\\program files\\python38\\lib\\site-packages (from python-dateutil>=2.8.1->pandas) (1.16.0)\n",
      "Building wheels for collected packages: gluonnlp\n",
      "  Building wheel for gluonnlp (setup.py): started\n",
      "  Building wheel for gluonnlp (setup.py): finished with status 'error'\n",
      "  Running setup.py clean for gluonnlp\n",
      "Failed to build gluonnlp\n"
     ]
    },
    {
     "name": "stderr",
     "output_type": "stream",
     "text": [
      "  error: subprocess-exited-with-error\n",
      "  \n",
      "  python setup.py bdist_wheel did not run successfully.\n",
      "  exit code: 1\n",
      "  \n",
      "  [124 lines of output]\n",
      "  running bdist_wheel\n",
      "  running build\n",
      "  running build_py\n",
      "  creating build\n",
      "  creating build\\lib.win-amd64-cpython-38\n",
      "  creating build\\lib.win-amd64-cpython-38\\gluonnlp\n",
      "  copying src\\gluonnlp\\base.py -> build\\lib.win-amd64-cpython-38\\gluonnlp\n",
      "  copying src\\gluonnlp\\_constants.py -> build\\lib.win-amd64-cpython-38\\gluonnlp\n",
      "  copying src\\gluonnlp\\__init__.py -> build\\lib.win-amd64-cpython-38\\gluonnlp\n",
      "  creating build\\lib.win-amd64-cpython-38\\gluonnlp\\calibration\n",
      "  copying src\\gluonnlp\\calibration\\collector.py -> build\\lib.win-amd64-cpython-38\\gluonnlp\\calibration\n",
      "  copying src\\gluonnlp\\calibration\\__init__.py -> build\\lib.win-amd64-cpython-38\\gluonnlp\\calibration\n",
      "  creating build\\lib.win-amd64-cpython-38\\gluonnlp\\data\n",
      "  copying src\\gluonnlp\\data\\baidu_ernie_data.py -> build\\lib.win-amd64-cpython-38\\gluonnlp\\data\n",
      "  copying src\\gluonnlp\\data\\candidate_sampler.py -> build\\lib.win-amd64-cpython-38\\gluonnlp\\data\n",
      "  copying src\\gluonnlp\\data\\classification.py -> build\\lib.win-amd64-cpython-38\\gluonnlp\\data\n",
      "  copying src\\gluonnlp\\data\\conll.py -> build\\lib.win-amd64-cpython-38\\gluonnlp\\data\n",
      "  copying src\\gluonnlp\\data\\dataloader.py -> build\\lib.win-amd64-cpython-38\\gluonnlp\\data\n",
      "  copying src\\gluonnlp\\data\\dataset.py -> build\\lib.win-amd64-cpython-38\\gluonnlp\\data\n",
      "  copying src\\gluonnlp\\data\\datasetloader.py -> build\\lib.win-amd64-cpython-38\\gluonnlp\\data\n",
      "  copying src\\gluonnlp\\data\\glue.py -> build\\lib.win-amd64-cpython-38\\gluonnlp\\data\n",
      "  copying src\\gluonnlp\\data\\intent_slot.py -> build\\lib.win-amd64-cpython-38\\gluonnlp\\data\n",
      "  copying src\\gluonnlp\\data\\question_answering.py -> build\\lib.win-amd64-cpython-38\\gluonnlp\\data\n",
      "  copying src\\gluonnlp\\data\\registry.py -> build\\lib.win-amd64-cpython-38\\gluonnlp\\data\n",
      "  copying src\\gluonnlp\\data\\sampler.py -> build\\lib.win-amd64-cpython-38\\gluonnlp\\data\n",
      "  copying src\\gluonnlp\\data\\sentiment.py -> build\\lib.win-amd64-cpython-38\\gluonnlp\\data\n",
      "  copying src\\gluonnlp\\data\\stream.py -> build\\lib.win-amd64-cpython-38\\gluonnlp\\data\n",
      "  copying src\\gluonnlp\\data\\super_glue.py -> build\\lib.win-amd64-cpython-38\\gluonnlp\\data\n",
      "  copying src\\gluonnlp\\data\\transforms.py -> build\\lib.win-amd64-cpython-38\\gluonnlp\\data\n",
      "  copying src\\gluonnlp\\data\\translation.py -> build\\lib.win-amd64-cpython-38\\gluonnlp\\data\n",
      "  copying src\\gluonnlp\\data\\utils.py -> build\\lib.win-amd64-cpython-38\\gluonnlp\\data\n",
      "  copying src\\gluonnlp\\data\\word_embedding_evaluation.py -> build\\lib.win-amd64-cpython-38\\gluonnlp\\data\n",
      "  copying src\\gluonnlp\\data\\__init__.py -> build\\lib.win-amd64-cpython-38\\gluonnlp\\data\n",
      "  creating build\\lib.win-amd64-cpython-38\\gluonnlp\\embedding\n",
      "  copying src\\gluonnlp\\embedding\\evaluation.py -> build\\lib.win-amd64-cpython-38\\gluonnlp\\embedding\n",
      "  copying src\\gluonnlp\\embedding\\token_embedding.py -> build\\lib.win-amd64-cpython-38\\gluonnlp\\embedding\n",
      "  copying src\\gluonnlp\\embedding\\__init__.py -> build\\lib.win-amd64-cpython-38\\gluonnlp\\embedding\n",
      "  creating build\\lib.win-amd64-cpython-38\\gluonnlp\\initializer\n",
      "  copying src\\gluonnlp\\initializer\\initializer.py -> build\\lib.win-amd64-cpython-38\\gluonnlp\\initializer\n",
      "  copying src\\gluonnlp\\initializer\\__init__.py -> build\\lib.win-amd64-cpython-38\\gluonnlp\\initializer\n",
      "  creating build\\lib.win-amd64-cpython-38\\gluonnlp\\loss\n",
      "  copying src\\gluonnlp\\loss\\activation_regularizer.py -> build\\lib.win-amd64-cpython-38\\gluonnlp\\loss\n",
      "  copying src\\gluonnlp\\loss\\label_smoothing.py -> build\\lib.win-amd64-cpython-38\\gluonnlp\\loss\n",
      "  copying src\\gluonnlp\\loss\\loss.py -> build\\lib.win-amd64-cpython-38\\gluonnlp\\loss\n",
      "  copying src\\gluonnlp\\loss\\__init__.py -> build\\lib.win-amd64-cpython-38\\gluonnlp\\loss\n",
      "  creating build\\lib.win-amd64-cpython-38\\gluonnlp\\metric\n",
      "  copying src\\gluonnlp\\metric\\length_normalized_loss.py -> build\\lib.win-amd64-cpython-38\\gluonnlp\\metric\n",
      "  copying src\\gluonnlp\\metric\\masked_accuracy.py -> build\\lib.win-amd64-cpython-38\\gluonnlp\\metric\n",
      "  copying src\\gluonnlp\\metric\\__init__.py -> build\\lib.win-amd64-cpython-38\\gluonnlp\\metric\n",
      "  creating build\\lib.win-amd64-cpython-38\\gluonnlp\\model\n",
      "  copying src\\gluonnlp\\model\\attention_cell.py -> build\\lib.win-amd64-cpython-38\\gluonnlp\\model\n",
      "  copying src\\gluonnlp\\model\\bert.py -> build\\lib.win-amd64-cpython-38\\gluonnlp\\model\n",
      "  copying src\\gluonnlp\\model\\bilm_encoder.py -> build\\lib.win-amd64-cpython-38\\gluonnlp\\model\n",
      "  copying src\\gluonnlp\\model\\block.py -> build\\lib.win-amd64-cpython-38\\gluonnlp\\model\n",
      "  copying src\\gluonnlp\\model\\convolutional_encoder.py -> build\\lib.win-amd64-cpython-38\\gluonnlp\\model\n",
      "  copying src\\gluonnlp\\model\\elmo.py -> build\\lib.win-amd64-cpython-38\\gluonnlp\\model\n",
      "  copying src\\gluonnlp\\model\\highway.py -> build\\lib.win-amd64-cpython-38\\gluonnlp\\model\n",
      "  copying src\\gluonnlp\\model\\info.py -> build\\lib.win-amd64-cpython-38\\gluonnlp\\model\n",
      "  copying src\\gluonnlp\\model\\language_model.py -> build\\lib.win-amd64-cpython-38\\gluonnlp\\model\n",
      "  copying src\\gluonnlp\\model\\lstmpcellwithclip.py -> build\\lib.win-amd64-cpython-38\\gluonnlp\\model\n",
      "  copying src\\gluonnlp\\model\\parameter.py -> build\\lib.win-amd64-cpython-38\\gluonnlp\\model\n",
      "  copying src\\gluonnlp\\model\\sampled_block.py -> build\\lib.win-amd64-cpython-38\\gluonnlp\\model\n",
      "  copying src\\gluonnlp\\model\\seq2seq_encoder_decoder.py -> build\\lib.win-amd64-cpython-38\\gluonnlp\\model\n",
      "  copying src\\gluonnlp\\model\\sequence_sampler.py -> build\\lib.win-amd64-cpython-38\\gluonnlp\\model\n",
      "  copying src\\gluonnlp\\model\\transformer.py -> build\\lib.win-amd64-cpython-38\\gluonnlp\\model\n",
      "  copying src\\gluonnlp\\model\\translation.py -> build\\lib.win-amd64-cpython-38\\gluonnlp\\model\n",
      "  copying src\\gluonnlp\\model\\utils.py -> build\\lib.win-amd64-cpython-38\\gluonnlp\\model\n",
      "  copying src\\gluonnlp\\model\\__init__.py -> build\\lib.win-amd64-cpython-38\\gluonnlp\\model\n",
      "  creating build\\lib.win-amd64-cpython-38\\gluonnlp\\optimizer\n",
      "  copying src\\gluonnlp\\optimizer\\bert_adam.py -> build\\lib.win-amd64-cpython-38\\gluonnlp\\optimizer\n",
      "  copying src\\gluonnlp\\optimizer\\__init__.py -> build\\lib.win-amd64-cpython-38\\gluonnlp\\optimizer\n",
      "  creating build\\lib.win-amd64-cpython-38\\gluonnlp\\utils\n",
      "  copying src\\gluonnlp\\utils\\files.py -> build\\lib.win-amd64-cpython-38\\gluonnlp\\utils\n",
      "  copying src\\gluonnlp\\utils\\parallel.py -> build\\lib.win-amd64-cpython-38\\gluonnlp\\utils\n",
      "  copying src\\gluonnlp\\utils\\parameter.py -> build\\lib.win-amd64-cpython-38\\gluonnlp\\utils\n",
      "  copying src\\gluonnlp\\utils\\seed.py -> build\\lib.win-amd64-cpython-38\\gluonnlp\\utils\n",
      "  copying src\\gluonnlp\\utils\\version.py -> build\\lib.win-amd64-cpython-38\\gluonnlp\\utils\n",
      "  copying src\\gluonnlp\\utils\\__init__.py -> build\\lib.win-amd64-cpython-38\\gluonnlp\\utils\n",
      "  creating build\\lib.win-amd64-cpython-38\\gluonnlp\\vocab\n",
      "  copying src\\gluonnlp\\vocab\\bert.py -> build\\lib.win-amd64-cpython-38\\gluonnlp\\vocab\n",
      "  copying src\\gluonnlp\\vocab\\elmo.py -> build\\lib.win-amd64-cpython-38\\gluonnlp\\vocab\n",
      "  copying src\\gluonnlp\\vocab\\subwords.py -> build\\lib.win-amd64-cpython-38\\gluonnlp\\vocab\n",
      "  copying src\\gluonnlp\\vocab\\vocab.py -> build\\lib.win-amd64-cpython-38\\gluonnlp\\vocab\n",
      "  copying src\\gluonnlp\\vocab\\__init__.py -> build\\lib.win-amd64-cpython-38\\gluonnlp\\vocab\n",
      "  creating build\\lib.win-amd64-cpython-38\\gluonnlp\\data\\batchify\n",
      "  copying src\\gluonnlp\\data\\batchify\\batchify.py -> build\\lib.win-amd64-cpython-38\\gluonnlp\\data\\batchify\n",
      "  copying src\\gluonnlp\\data\\batchify\\embedding.py -> build\\lib.win-amd64-cpython-38\\gluonnlp\\data\\batchify\n",
      "  copying src\\gluonnlp\\data\\batchify\\language_model.py -> build\\lib.win-amd64-cpython-38\\gluonnlp\\data\\batchify\n",
      "  copying src\\gluonnlp\\data\\batchify\\__init__.py -> build\\lib.win-amd64-cpython-38\\gluonnlp\\data\\batchify\n",
      "  creating build\\lib.win-amd64-cpython-38\\gluonnlp\\data\\bert\n",
      "  copying src\\gluonnlp\\data\\bert\\glue.py -> build\\lib.win-amd64-cpython-38\\gluonnlp\\data\\bert\n",
      "  copying src\\gluonnlp\\data\\bert\\squad.py -> build\\lib.win-amd64-cpython-38\\gluonnlp\\data\\bert\n",
      "  copying src\\gluonnlp\\data\\bert\\__init__.py -> build\\lib.win-amd64-cpython-38\\gluonnlp\\data\\bert\n",
      "  creating build\\lib.win-amd64-cpython-38\\gluonnlp\\data\\corpora\n",
      "  copying src\\gluonnlp\\data\\corpora\\google_billion_word.py -> build\\lib.win-amd64-cpython-38\\gluonnlp\\data\\corpora\n",
      "  copying src\\gluonnlp\\data\\corpora\\large_text_compression_benchmark.py -> build\\lib.win-amd64-cpython-38\\gluonnlp\\data\\corpora\n",
      "  copying src\\gluonnlp\\data\\corpora\\wikitext.py -> build\\lib.win-amd64-cpython-38\\gluonnlp\\data\\corpora\n",
      "  copying src\\gluonnlp\\data\\corpora\\__init__.py -> build\\lib.win-amd64-cpython-38\\gluonnlp\\data\\corpora\n",
      "  creating build\\lib.win-amd64-cpython-38\\gluonnlp\\data\\xlnet\n",
      "  copying src\\gluonnlp\\data\\xlnet\\squad.py -> build\\lib.win-amd64-cpython-38\\gluonnlp\\data\\xlnet\n",
      "  copying src\\gluonnlp\\data\\xlnet\\__init__.py -> build\\lib.win-amd64-cpython-38\\gluonnlp\\data\\xlnet\n",
      "  creating build\\lib.win-amd64-cpython-38\\gluonnlp\\model\\train\n",
      "  copying src\\gluonnlp\\model\\train\\cache.py -> build\\lib.win-amd64-cpython-38\\gluonnlp\\model\\train\n",
      "  copying src\\gluonnlp\\model\\train\\embedding.py -> build\\lib.win-amd64-cpython-38\\gluonnlp\\model\\train\n",
      "  copying src\\gluonnlp\\model\\train\\language_model.py -> build\\lib.win-amd64-cpython-38\\gluonnlp\\model\\train\n",
      "  copying src\\gluonnlp\\model\\train\\__init__.py -> build\\lib.win-amd64-cpython-38\\gluonnlp\\model\\train\n",
      "  running egg_info\n",
      "  writing src\\gluonnlp.egg-info\\PKG-INFO\n",
      "  writing dependency_links to src\\gluonnlp.egg-info\\dependency_links.txt\n",
      "  writing requirements to src\\gluonnlp.egg-info\\requires.txt\n",
      "  writing top-level names to src\\gluonnlp.egg-info\\top_level.txt\n",
      "  reading manifest file 'src\\gluonnlp.egg-info\\SOURCES.txt'\n",
      "  reading manifest template 'MANIFEST.in'\n",
      "  warning: no files found matching '*.py' under directory 'gluonnlp'\n",
      "  warning: no previously-included files matching '*' found under directory 'tests'\n",
      "  warning: no previously-included files matching '*' found under directory 'scripts'\n",
      "  adding license file 'LICENSE'\n",
      "  writing manifest file 'src\\gluonnlp.egg-info\\SOURCES.txt'\n",
      "  copying src\\gluonnlp\\data\\fast_bert_tokenizer.c -> build\\lib.win-amd64-cpython-38\\gluonnlp\\data\n",
      "  copying src\\gluonnlp\\data\\fast_bert_tokenizer.pyx -> build\\lib.win-amd64-cpython-38\\gluonnlp\\data\n",
      "  running build_ext\n",
      "  skipping 'src/gluonnlp/data\\fast_bert_tokenizer.c' Cython extension (up-to-date)\n",
      "  building 'gluonnlp.data.fast_bert_tokenizer' extension\n",
      "  error: Microsoft Visual C++ 14.0 or greater is required. Get it with \"Microsoft C++ Build Tools\": https://visualstudio.microsoft.com/visual-cpp-build-tools/\n",
      "  [end of output]\n",
      "  \n",
      "  note: This error originates from a subprocess, and is likely not a problem with pip.\n",
      "  ERROR: Failed building wheel for gluonnlp\n",
      "ERROR: Could not build wheels for gluonnlp, which is required to install pyproject.toml-based projects\n"
     ]
    },
    {
     "name": "stdout",
     "output_type": "stream",
     "text": [
      "Defaulting to user installation because normal site-packages is not writeable\n",
      "Requirement already satisfied: sentencepiece in c:\\users\\shjoo\\appdata\\roaming\\python\\python38\\site-packages (0.1.99)\n",
      "Defaulting to user installation because normal site-packages is not writeable\n",
      "Collecting transformers==3.0.2\n",
      "  Using cached transformers-3.0.2-py3-none-any.whl (769 kB)\n",
      "Requirement already satisfied: numpy in c:\\users\\shjoo\\appdata\\roaming\\python\\python38\\site-packages (from transformers==3.0.2) (1.23.0)\n",
      "Requirement already satisfied: tokenizers==0.8.1.rc1 in c:\\users\\shjoo\\appdata\\roaming\\python\\python38\\site-packages (from transformers==3.0.2) (0.8.1rc1)\n",
      "Requirement already satisfied: packaging in c:\\users\\shjoo\\appdata\\roaming\\python\\python38\\site-packages (from transformers==3.0.2) (23.0)\n",
      "Requirement already satisfied: filelock in c:\\users\\shjoo\\appdata\\roaming\\python\\python38\\site-packages (from transformers==3.0.2) (3.8.0)\n",
      "Requirement already satisfied: requests in c:\\users\\shjoo\\appdata\\roaming\\python\\python38\\site-packages (from transformers==3.0.2) (2.28.2)\n",
      "Requirement already satisfied: tqdm>=4.27 in c:\\users\\shjoo\\appdata\\roaming\\python\\python38\\site-packages (from transformers==3.0.2) (4.64.0)\n",
      "Requirement already satisfied: regex!=2019.12.17 in c:\\users\\shjoo\\appdata\\roaming\\python\\python38\\site-packages (from transformers==3.0.2) (2023.8.8)\n",
      "Requirement already satisfied: sentencepiece!=0.1.92 in c:\\users\\shjoo\\appdata\\roaming\\python\\python38\\site-packages (from transformers==3.0.2) (0.1.99)\n",
      "Collecting sacremoses (from transformers==3.0.2)\n",
      "  Using cached sacremoses-0.0.53-py3-none-any.whl\n",
      "Requirement already satisfied: colorama in c:\\program files\\python38\\lib\\site-packages (from tqdm>=4.27->transformers==3.0.2) (0.4.5)\n",
      "Requirement already satisfied: charset-normalizer<4,>=2 in c:\\users\\shjoo\\appdata\\roaming\\python\\python38\\site-packages (from requests->transformers==3.0.2) (3.1.0)\n",
      "Requirement already satisfied: idna<4,>=2.5 in c:\\users\\shjoo\\appdata\\roaming\\python\\python38\\site-packages (from requests->transformers==3.0.2) (3.4)\n",
      "Requirement already satisfied: urllib3<1.27,>=1.21.1 in c:\\users\\shjoo\\appdata\\roaming\\python\\python38\\site-packages (from requests->transformers==3.0.2) (1.26.15)\n",
      "Requirement already satisfied: certifi>=2017.4.17 in c:\\users\\shjoo\\appdata\\roaming\\python\\python38\\site-packages (from requests->transformers==3.0.2) (2022.12.7)\n",
      "Requirement already satisfied: six in c:\\program files\\python38\\lib\\site-packages (from sacremoses->transformers==3.0.2) (1.16.0)\n",
      "Requirement already satisfied: click in c:\\users\\shjoo\\appdata\\roaming\\python\\python38\\site-packages (from sacremoses->transformers==3.0.2) (8.1.3)\n",
      "Requirement already satisfied: joblib in c:\\users\\shjoo\\appdata\\roaming\\python\\python38\\site-packages (from sacremoses->transformers==3.0.2) (1.1.0)\n",
      "Installing collected packages: sacremoses, transformers\n",
      "  Attempting uninstall: transformers\n",
      "    Found existing installation: transformers 4.31.0\n",
      "    Uninstalling transformers-4.31.0:\n",
      "      Successfully uninstalled transformers-4.31.0\n",
      "Successfully installed sacremoses-0.0.53 transformers-3.0.2\n"
     ]
    },
    {
     "name": "stderr",
     "output_type": "stream",
     "text": [
      "  WARNING: The script sacremoses.exe is installed in 'C:\\Users\\shjoo\\AppData\\Roaming\\Python\\Python38\\Scripts' which is not on PATH.\n",
      "  Consider adding this directory to PATH or, if you prefer to suppress this warning, use --no-warn-script-location.\n",
      "  WARNING: The script transformers-cli.exe is installed in 'C:\\Users\\shjoo\\AppData\\Roaming\\Python\\Python38\\Scripts' which is not on PATH.\n",
      "  Consider adding this directory to PATH or, if you prefer to suppress this warning, use --no-warn-script-location.\n"
     ]
    },
    {
     "name": "stdout",
     "output_type": "stream",
     "text": [
      "Defaulting to user installation because normal site-packages is not writeable\n",
      "Requirement already satisfied: torch in c:\\users\\shjoo\\appdata\\roaming\\python\\python38\\site-packages (2.0.1)\n",
      "Requirement already satisfied: filelock in c:\\users\\shjoo\\appdata\\roaming\\python\\python38\\site-packages (from torch) (3.8.0)\n",
      "Requirement already satisfied: typing-extensions in c:\\users\\shjoo\\appdata\\roaming\\python\\python38\\site-packages (from torch) (4.6.3)\n",
      "Requirement already satisfied: sympy in c:\\users\\shjoo\\appdata\\roaming\\python\\python38\\site-packages (from torch) (1.12)\n",
      "Requirement already satisfied: networkx in c:\\users\\shjoo\\appdata\\roaming\\python\\python38\\site-packages (from torch) (3.1)\n",
      "Requirement already satisfied: jinja2 in c:\\program files\\python38\\lib\\site-packages (from torch) (3.1.2)\n",
      "Requirement already satisfied: MarkupSafe>=2.0 in c:\\users\\shjoo\\appdata\\roaming\\python\\python38\\site-packages (from jinja2->torch) (2.1.2)\n",
      "Requirement already satisfied: mpmath>=0.19 in c:\\users\\shjoo\\appdata\\roaming\\python\\python38\\site-packages (from sympy->torch) (1.3.0)\n"
     ]
    }
   ],
   "source": [
    "!pip install mxnet\n",
    "!pip install numpy\n",
    "!pip install gluonnlp pandas tqdm\n",
    "!pip install sentencepiece\n",
    "!pip install transformers==3.0.2\n",
    "!pip install torch"
   ]
  },
  {
   "cell_type": "code",
   "execution_count": 61,
   "id": "09cb7f16",
   "metadata": {},
   "outputs": [
    {
     "ename": "ModuleNotFoundError",
     "evalue": "No module named 'gluonnlp'",
     "output_type": "error",
     "traceback": [
      "\u001b[1;31m---------------------------------------------------------------------------\u001b[0m",
      "\u001b[1;31mModuleNotFoundError\u001b[0m                       Traceback (most recent call last)",
      "Input \u001b[1;32mIn [61]\u001b[0m, in \u001b[0;36m<cell line: 6>\u001b[1;34m()\u001b[0m\n\u001b[0;32m      4\u001b[0m \u001b[38;5;28;01mimport\u001b[39;00m \u001b[38;5;21;01mtorch\u001b[39;00m\u001b[38;5;21;01m.\u001b[39;00m\u001b[38;5;21;01moptim\u001b[39;00m \u001b[38;5;28;01mas\u001b[39;00m \u001b[38;5;21;01moptim\u001b[39;00m\n\u001b[0;32m      5\u001b[0m \u001b[38;5;28;01mfrom\u001b[39;00m \u001b[38;5;21;01mtorch\u001b[39;00m\u001b[38;5;21;01m.\u001b[39;00m\u001b[38;5;21;01mutils\u001b[39;00m\u001b[38;5;21;01m.\u001b[39;00m\u001b[38;5;21;01mdata\u001b[39;00m \u001b[38;5;28;01mimport\u001b[39;00m Dataset, DataLoader\n\u001b[1;32m----> 6\u001b[0m \u001b[38;5;28;01mimport\u001b[39;00m \u001b[38;5;21;01mgluonnlp\u001b[39;00m \u001b[38;5;28;01mas\u001b[39;00m \u001b[38;5;21;01mnlp\u001b[39;00m\n\u001b[0;32m      7\u001b[0m \u001b[38;5;28;01mimport\u001b[39;00m \u001b[38;5;21;01mnumpy\u001b[39;00m \u001b[38;5;28;01mas\u001b[39;00m \u001b[38;5;21;01mnp\u001b[39;00m\n\u001b[0;32m      8\u001b[0m \u001b[38;5;28;01mfrom\u001b[39;00m \u001b[38;5;21;01mtqdm\u001b[39;00m \u001b[38;5;28;01mimport\u001b[39;00m tqdm, tqdm_notebook\n",
      "\u001b[1;31mModuleNotFoundError\u001b[0m: No module named 'gluonnlp'"
     ]
    }
   ],
   "source": [
    "import torch\n",
    "from torch import nn\n",
    "import torch.nn.functional as F\n",
    "import torch.optim as optim\n",
    "from torch.utils.data import Dataset, DataLoader\n",
    "import gluonnlp as nlp\n",
    "import numpy as np\n",
    "from tqdm import tqdm, tqdm_notebook\n",
    "from kobert.utils import get_tokenizer\n",
    "from kobert.pytorch_kobert import get_pytorch_kobert_model\n",
    "from transformers import AdamW\n",
    "from transformers.optimization import get_cosine_schedule_with_warmup"
   ]
  },
  {
   "cell_type": "code",
   "execution_count": 63,
   "id": "519d2077",
   "metadata": {},
   "outputs": [],
   "source": [
    "data.to_csv('summarized_100')"
   ]
  },
  {
   "cell_type": "code",
   "execution_count": 64,
   "id": "f56645d1",
   "metadata": {},
   "outputs": [
    {
     "data": {
      "text/html": [
       "<div>\n",
       "<style scoped>\n",
       "    .dataframe tbody tr th:only-of-type {\n",
       "        vertical-align: middle;\n",
       "    }\n",
       "\n",
       "    .dataframe tbody tr th {\n",
       "        vertical-align: top;\n",
       "    }\n",
       "\n",
       "    .dataframe thead th {\n",
       "        text-align: right;\n",
       "    }\n",
       "</style>\n",
       "<table border=\"1\" class=\"dataframe\">\n",
       "  <thead>\n",
       "    <tr style=\"text-align: right;\">\n",
       "      <th></th>\n",
       "      <th>content</th>\n",
       "      <th>target</th>\n",
       "      <th>summarized</th>\n",
       "    </tr>\n",
       "  </thead>\n",
       "  <tbody>\n",
       "    <tr>\n",
       "      <th>0</th>\n",
       "      <td>‘빗물을 나르는 고속도로’라 불리는 대심도 빗물터널 조금 전에 둘러보고 왔다. 신월...</td>\n",
       "      <td>국민의힘</td>\n",
       "      <td>신월 빗물 전용 배수시설은 집중호우 때마다 주변 지역이 물바다가 되는 현상을 막고자...</td>\n",
       "    </tr>\n",
       "    <tr>\n",
       "      <th>1</th>\n",
       "      <td>오늘 한 언론에 보도된 무소속 박완주 의원의 검찰 공소장 안에는, 강력 성범죄자의 ...</td>\n",
       "      <td>국민의힘</td>\n",
       "      <td>박 의원은 자신의 보좌관이었던 피해자를 노래방에서 강제로 추행하기 위해 비서를 먼저...</td>\n",
       "    </tr>\n",
       "    <tr>\n",
       "      <th>2</th>\n",
       "      <td>전국적인 집중호우로 많은 국민들이 희생되고 막대한 재산 피해가 발생했다. 당장 전면...</td>\n",
       "      <td>국민의힘</td>\n",
       "      <td>전국적인 집중호우로 많은 국민들이 희생되고 막대한 재산 피해가 발생한 상황에서 정부...</td>\n",
       "    </tr>\n",
       "    <tr>\n",
       "      <th>3</th>\n",
       "      <td>더불어민주당이 윤석열 정부의 ‘시행령 추진’에 본격적으로 제동을 걸고 있다. KBS...</td>\n",
       "      <td>국민의힘</td>\n",
       "      <td>더불어민주당이 윤 정부의 시행령 추진에 제동을 걸고 있는데 KBS 수신료 분리 징수...</td>\n",
       "    </tr>\n",
       "    <tr>\n",
       "      <th>4</th>\n",
       "      <td>그칠 줄 모르던 비가 잠시 소강상태에 접어들었지만, 폭우가 할퀴고 간 자리에 남겨진...</td>\n",
       "      <td>국민의힘</td>\n",
       "      <td>폭우 피해 과정에서 드러난 총체적 난맥상들은 문정권 시절 물관리 일원화라는 이름으로...</td>\n",
       "    </tr>\n",
       "  </tbody>\n",
       "</table>\n",
       "</div>"
      ],
      "text/plain": [
       "                                             content target  \\\n",
       "0  ‘빗물을 나르는 고속도로’라 불리는 대심도 빗물터널 조금 전에 둘러보고 왔다. 신월...   국민의힘   \n",
       "1  오늘 한 언론에 보도된 무소속 박완주 의원의 검찰 공소장 안에는, 강력 성범죄자의 ...   국민의힘   \n",
       "2  전국적인 집중호우로 많은 국민들이 희생되고 막대한 재산 피해가 발생했다. 당장 전면...   국민의힘   \n",
       "3  더불어민주당이 윤석열 정부의 ‘시행령 추진’에 본격적으로 제동을 걸고 있다. KBS...   국민의힘   \n",
       "4  그칠 줄 모르던 비가 잠시 소강상태에 접어들었지만, 폭우가 할퀴고 간 자리에 남겨진...   국민의힘   \n",
       "\n",
       "                                          summarized  \n",
       "0  신월 빗물 전용 배수시설은 집중호우 때마다 주변 지역이 물바다가 되는 현상을 막고자...  \n",
       "1  박 의원은 자신의 보좌관이었던 피해자를 노래방에서 강제로 추행하기 위해 비서를 먼저...  \n",
       "2  전국적인 집중호우로 많은 국민들이 희생되고 막대한 재산 피해가 발생한 상황에서 정부...  \n",
       "3  더불어민주당이 윤 정부의 시행령 추진에 제동을 걸고 있는데 KBS 수신료 분리 징수...  \n",
       "4  폭우 피해 과정에서 드러난 총체적 난맥상들은 문정권 시절 물관리 일원화라는 이름으로...  "
      ]
     },
     "execution_count": 64,
     "metadata": {},
     "output_type": "execute_result"
    }
   ],
   "source": [
    "data.head()"
   ]
  },
  {
   "cell_type": "code",
   "execution_count": 65,
   "id": "e36fb697",
   "metadata": {},
   "outputs": [
    {
     "data": {
      "text/plain": [
       "'박 의원은 자신의 보좌관이었던 피해자를 노래방에서 강제로 추행하기 위해 비서를 먼저 내보내는 치밀함을 보였고 집에 도착해서는 피해자의 손목을 잡으며 술을 마시자는 등의 성범죄를 수차례 이어갔다.'"
      ]
     },
     "execution_count": 65,
     "metadata": {},
     "output_type": "execute_result"
    }
   ],
   "source": [
    "data.summarized[1]"
   ]
  },
  {
   "cell_type": "markdown",
   "id": "40d84591",
   "metadata": {},
   "source": [
    "kobert는 다른 노트북에서 진행합니다...!"
   ]
  },
  {
   "cell_type": "code",
   "execution_count": null,
   "id": "e4a0ce1c",
   "metadata": {},
   "outputs": [],
   "source": []
  }
 ],
 "metadata": {
  "kernelspec": {
   "display_name": "Python 3 (ipykernel)",
   "language": "python",
   "name": "python3"
  },
  "language_info": {
   "codemirror_mode": {
    "name": "ipython",
    "version": 3
   },
   "file_extension": ".py",
   "mimetype": "text/x-python",
   "name": "python",
   "nbconvert_exporter": "python",
   "pygments_lexer": "ipython3",
   "version": "3.8.0"
  }
 },
 "nbformat": 4,
 "nbformat_minor": 5
}
