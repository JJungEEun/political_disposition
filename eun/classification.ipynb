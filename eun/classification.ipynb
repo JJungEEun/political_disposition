{
  "cells": [
    {
      "cell_type": "markdown",
      "metadata": {
        "id": "view-in-github",
        "colab_type": "text"
      },
      "source": [
        "<a href=\"https://colab.research.google.com/github/shjoo0407/political_disposition/blob/main/eun/classification.ipynb\" target=\"_parent\"><img src=\"https://colab.research.google.com/assets/colab-badge.svg\" alt=\"Open In Colab\"/></a>"
      ]
    },
    {
      "cell_type": "code",
      "source": [
        "!pip install transformers"
      ],
      "metadata": {
        "colab": {
          "base_uri": "https://localhost:8080/"
        },
        "id": "23zbbqNz4_QP",
        "outputId": "ca81e0d9-70fd-4f0f-9432-509d55f98759"
      },
      "execution_count": null,
      "outputs": [
        {
          "output_type": "stream",
          "name": "stdout",
          "text": [
            "Successfully installed huggingface-hub-0.16.4 safetensors-0.3.2 tokenizers-0.13.3 transformers-4.31.0\n"
          ]
        }
      ]
    },
    {
      "cell_type": "code",
      "execution_count": 1,
      "metadata": {
        "id": "K1K5FKL-WAhb"
      },
      "outputs": [],
      "source": [
        "import io\n",
        "import pandas as pd\n",
        "import matplotlib as mpl\n",
        "import matplotlib.pylab as plt\n",
        "import matplotlib.pyplot as plt\n",
        "import matplotlib.font_manager as fm\n",
        "from matplotlib import rc\n",
        "import numpy as np\n",
        "import re, string"
      ]
    },
    {
      "cell_type": "code",
      "source": [
        "from google.colab import drive\n",
        "drive.mount('/content/drive')"
      ],
      "metadata": {
        "colab": {
          "base_uri": "https://localhost:8080/"
        },
        "id": "p9BUkOaCv5QP",
        "outputId": "f0777c2d-77b5-4559-ecd1-810968070cf9"
      },
      "execution_count": 2,
      "outputs": [
        {
          "output_type": "stream",
          "name": "stdout",
          "text": [
            "Drive already mounted at /content/drive; to attempt to forcibly remount, call drive.mount(\"/content/drive\", force_remount=True).\n"
          ]
        }
      ]
    },
    {
      "cell_type": "code",
      "execution_count": 3,
      "metadata": {
        "colab": {
          "base_uri": "https://localhost:8080/"
        },
        "id": "_H6W9JwEWDzJ",
        "outputId": "716b3351-65ef-4547-9ce9-f44879439dca"
      },
      "outputs": [
        {
          "output_type": "stream",
          "name": "stdout",
          "text": [
            "/content/drive/MyDrive/2023/sw공모전/data\n"
          ]
        }
      ],
      "source": [
        "cd /content/drive/MyDrive/2023/sw공모전/data"
      ]
    },
    {
      "cell_type": "code",
      "source": [
        "ls"
      ],
      "metadata": {
        "colab": {
          "base_uri": "https://localhost:8080/"
        },
        "id": "vVTspeMhadU6",
        "outputId": "0f3f0243-bcf8-4037-a8c0-314623b97b27"
      },
      "execution_count": 5,
      "outputs": [
        {
          "output_type": "stream",
          "name": "stdout",
          "text": [
            "'df_summarization(2022)'   국힘2022.csv      문재인_국힘.csv   박근혜_국힘.csv\n",
            " NPP_final_0729.csv        노무현.csv        민주당2020.csv    이명박.csv\n",
            " TMP_final_0729.csv        노무현_국힘.csv   민주당2022.csv    이명박_국힘.csv\n",
            " 국힘2020.csv              문재인.csv        박근혜.csv\n"
          ]
        }
      ]
    },
    {
      "cell_type": "code",
      "source": [
        "df1 = pd.read_csv('민주당2022.csv')\n",
        "df2 = pd.read_csv('국힘2022.csv')\n",
        "df3 = pd.read_csv('민주당2020.csv')\n",
        "df4 = pd.read_csv('국힘2020.csv')"
      ],
      "metadata": {
        "id": "jxzAKnnzwN4t"
      },
      "execution_count": 4,
      "outputs": []
    },
    {
      "cell_type": "code",
      "source": [
        "print(df1.shape)\n",
        "print(df2.shape)\n",
        "print(df3.shape)\n",
        "print(df4.shape)"
      ],
      "metadata": {
        "colab": {
          "base_uri": "https://localhost:8080/"
        },
        "id": "176aHxRp0GGJ",
        "outputId": "5344db69-bfbf-4140-8e65-ceb330ada330"
      },
      "execution_count": 5,
      "outputs": [
        {
          "output_type": "stream",
          "name": "stdout",
          "text": [
            "(4663, 6)\n",
            "(4925, 6)\n",
            "(3558, 6)\n",
            "(5273, 6)\n"
          ]
        }
      ]
    },
    {
      "cell_type": "code",
      "source": [
        "df1['target'] = '민주당'\n",
        "df2['target'] = '국민의힘'\n",
        "df3['target'] = '민주당'\n",
        "df4['target'] = '국민의힘'\n",
        "\n",
        "df_1 = pd.concat([df1, df2]).reset_index()\n",
        "df_2 = pd.concat([df3, df4]).reset_index()\n",
        "\n",
        "df = pd.concat([df_1, df_2]).reset_index()"
      ],
      "metadata": {
        "id": "ec6-uiUkw5VB"
      },
      "execution_count": 6,
      "outputs": []
    },
    {
      "cell_type": "code",
      "source": [
        "df.head(3)"
      ],
      "metadata": {
        "colab": {
          "base_uri": "https://localhost:8080/",
          "height": 210
        },
        "id": "_fTZE-VpwN2K",
        "outputId": "7506abb7-2162-4a1a-f3f1-29faed3df8ed"
      },
      "execution_count": 7,
      "outputs": [
        {
          "output_type": "execute_result",
          "data": {
            "text/plain": [
              "   level_0  index  Unnamed: 0  \\\n",
              "0        0      0           0   \n",
              "1        1      1           1   \n",
              "2        2      2           2   \n",
              "\n",
              "                                               title  year  quarter  \\\n",
              "0  [박성준 대변인] 정체불명의 해외발 우편물, 국민 불안이 확산되는데 정부는 손놓고 ...  2023        3   \n",
              "1  [박성준 대변인] 검찰은 조작 수사도 모자라 이제는 진술을 왜곡해 언론에 퍼뜨려 여...  2023        3   \n",
              "2  [박성준 대변인] 윤석열 대통령은 높아지는 군사적 긴장에 언제까지 팔짱만 끼고 있을...  2023        3   \n",
              "\n",
              "                                             content  \\\n",
              "0  정체불명의 해외발 우편물, 국민 불안이 확산되는데 정부는 손놓고 있습니까 3일째 전...   \n",
              "1  검찰은 조작 수사도 모자라 이제는 진술을 왜곡해 언론에 퍼뜨려 여론을 호도하고 있습...   \n",
              "2  윤석열 대통령은 높아지는 군사적 긴장에 언제까지 팔짱만 끼고 있을 겁니까 북한이 오...   \n",
              "\n",
              "                                             summary target category  \n",
              "0  전국 곳곳에 해외에서 발송된 정체불명의 우편물들이 1000건 이상 신고되면서 국민 ...    민주당      NaN  \n",
              "1  검찰은 조작 수사도 모자라 진술을 왜곡해 언론에 퍼뜨려 여론을 호도하고 있으며 이 ...    민주당      NaN  \n",
              "2  북한이 서해상으로 순항미사일 여러 발을 발사한 것은 북한의 거듭되는 무력 도발과 위...    민주당      NaN  "
            ],
            "text/html": [
              "\n",
              "  <div id=\"df-d4b4ca3b-f093-4398-836a-ce29cabc5762\" class=\"colab-df-container\">\n",
              "    <div>\n",
              "<style scoped>\n",
              "    .dataframe tbody tr th:only-of-type {\n",
              "        vertical-align: middle;\n",
              "    }\n",
              "\n",
              "    .dataframe tbody tr th {\n",
              "        vertical-align: top;\n",
              "    }\n",
              "\n",
              "    .dataframe thead th {\n",
              "        text-align: right;\n",
              "    }\n",
              "</style>\n",
              "<table border=\"1\" class=\"dataframe\">\n",
              "  <thead>\n",
              "    <tr style=\"text-align: right;\">\n",
              "      <th></th>\n",
              "      <th>level_0</th>\n",
              "      <th>index</th>\n",
              "      <th>Unnamed: 0</th>\n",
              "      <th>title</th>\n",
              "      <th>year</th>\n",
              "      <th>quarter</th>\n",
              "      <th>content</th>\n",
              "      <th>summary</th>\n",
              "      <th>target</th>\n",
              "      <th>category</th>\n",
              "    </tr>\n",
              "  </thead>\n",
              "  <tbody>\n",
              "    <tr>\n",
              "      <th>0</th>\n",
              "      <td>0</td>\n",
              "      <td>0</td>\n",
              "      <td>0</td>\n",
              "      <td>[박성준 대변인] 정체불명의 해외발 우편물, 국민 불안이 확산되는데 정부는 손놓고 ...</td>\n",
              "      <td>2023</td>\n",
              "      <td>3</td>\n",
              "      <td>정체불명의 해외발 우편물, 국민 불안이 확산되는데 정부는 손놓고 있습니까 3일째 전...</td>\n",
              "      <td>전국 곳곳에 해외에서 발송된 정체불명의 우편물들이 1000건 이상 신고되면서 국민 ...</td>\n",
              "      <td>민주당</td>\n",
              "      <td>NaN</td>\n",
              "    </tr>\n",
              "    <tr>\n",
              "      <th>1</th>\n",
              "      <td>1</td>\n",
              "      <td>1</td>\n",
              "      <td>1</td>\n",
              "      <td>[박성준 대변인] 검찰은 조작 수사도 모자라 이제는 진술을 왜곡해 언론에 퍼뜨려 여...</td>\n",
              "      <td>2023</td>\n",
              "      <td>3</td>\n",
              "      <td>검찰은 조작 수사도 모자라 이제는 진술을 왜곡해 언론에 퍼뜨려 여론을 호도하고 있습...</td>\n",
              "      <td>검찰은 조작 수사도 모자라 진술을 왜곡해 언론에 퍼뜨려 여론을 호도하고 있으며 이 ...</td>\n",
              "      <td>민주당</td>\n",
              "      <td>NaN</td>\n",
              "    </tr>\n",
              "    <tr>\n",
              "      <th>2</th>\n",
              "      <td>2</td>\n",
              "      <td>2</td>\n",
              "      <td>2</td>\n",
              "      <td>[박성준 대변인] 윤석열 대통령은 높아지는 군사적 긴장에 언제까지 팔짱만 끼고 있을...</td>\n",
              "      <td>2023</td>\n",
              "      <td>3</td>\n",
              "      <td>윤석열 대통령은 높아지는 군사적 긴장에 언제까지 팔짱만 끼고 있을 겁니까 북한이 오...</td>\n",
              "      <td>북한이 서해상으로 순항미사일 여러 발을 발사한 것은 북한의 거듭되는 무력 도발과 위...</td>\n",
              "      <td>민주당</td>\n",
              "      <td>NaN</td>\n",
              "    </tr>\n",
              "  </tbody>\n",
              "</table>\n",
              "</div>\n",
              "    <div class=\"colab-df-buttons\">\n",
              "\n",
              "  <div class=\"colab-df-container\">\n",
              "    <button class=\"colab-df-convert\" onclick=\"convertToInteractive('df-d4b4ca3b-f093-4398-836a-ce29cabc5762')\"\n",
              "            title=\"Convert this dataframe to an interactive table.\"\n",
              "            style=\"display:none;\">\n",
              "\n",
              "  <svg xmlns=\"http://www.w3.org/2000/svg\" height=\"24px\" viewBox=\"0 -960 960 960\">\n",
              "    <path d=\"M120-120v-720h720v720H120Zm60-500h600v-160H180v160Zm220 220h160v-160H400v160Zm0 220h160v-160H400v160ZM180-400h160v-160H180v160Zm440 0h160v-160H620v160ZM180-180h160v-160H180v160Zm440 0h160v-160H620v160Z\"/>\n",
              "  </svg>\n",
              "    </button>\n",
              "\n",
              "  <style>\n",
              "    .colab-df-container {\n",
              "      display:flex;\n",
              "      gap: 12px;\n",
              "    }\n",
              "\n",
              "    .colab-df-convert {\n",
              "      background-color: #E8F0FE;\n",
              "      border: none;\n",
              "      border-radius: 50%;\n",
              "      cursor: pointer;\n",
              "      display: none;\n",
              "      fill: #1967D2;\n",
              "      height: 32px;\n",
              "      padding: 0 0 0 0;\n",
              "      width: 32px;\n",
              "    }\n",
              "\n",
              "    .colab-df-convert:hover {\n",
              "      background-color: #E2EBFA;\n",
              "      box-shadow: 0px 1px 2px rgba(60, 64, 67, 0.3), 0px 1px 3px 1px rgba(60, 64, 67, 0.15);\n",
              "      fill: #174EA6;\n",
              "    }\n",
              "\n",
              "    .colab-df-buttons div {\n",
              "      margin-bottom: 4px;\n",
              "    }\n",
              "\n",
              "    [theme=dark] .colab-df-convert {\n",
              "      background-color: #3B4455;\n",
              "      fill: #D2E3FC;\n",
              "    }\n",
              "\n",
              "    [theme=dark] .colab-df-convert:hover {\n",
              "      background-color: #434B5C;\n",
              "      box-shadow: 0px 1px 3px 1px rgba(0, 0, 0, 0.15);\n",
              "      filter: drop-shadow(0px 1px 2px rgba(0, 0, 0, 0.3));\n",
              "      fill: #FFFFFF;\n",
              "    }\n",
              "  </style>\n",
              "\n",
              "    <script>\n",
              "      const buttonEl =\n",
              "        document.querySelector('#df-d4b4ca3b-f093-4398-836a-ce29cabc5762 button.colab-df-convert');\n",
              "      buttonEl.style.display =\n",
              "        google.colab.kernel.accessAllowed ? 'block' : 'none';\n",
              "\n",
              "      async function convertToInteractive(key) {\n",
              "        const element = document.querySelector('#df-d4b4ca3b-f093-4398-836a-ce29cabc5762');\n",
              "        const dataTable =\n",
              "          await google.colab.kernel.invokeFunction('convertToInteractive',\n",
              "                                                    [key], {});\n",
              "        if (!dataTable) return;\n",
              "\n",
              "        const docLinkHtml = 'Like what you see? Visit the ' +\n",
              "          '<a target=\"_blank\" href=https://colab.research.google.com/notebooks/data_table.ipynb>data table notebook</a>'\n",
              "          + ' to learn more about interactive tables.';\n",
              "        element.innerHTML = '';\n",
              "        dataTable['output_type'] = 'display_data';\n",
              "        await google.colab.output.renderOutput(dataTable, element);\n",
              "        const docLink = document.createElement('div');\n",
              "        docLink.innerHTML = docLinkHtml;\n",
              "        element.appendChild(docLink);\n",
              "      }\n",
              "    </script>\n",
              "  </div>\n",
              "\n",
              "\n",
              "<div id=\"df-a9346580-eb6a-460b-9c9e-6849830e4bfd\">\n",
              "  <button class=\"colab-df-quickchart\" onclick=\"quickchart('df-a9346580-eb6a-460b-9c9e-6849830e4bfd')\"\n",
              "            title=\"Suggest charts.\"\n",
              "            style=\"display:none;\">\n",
              "\n",
              "<svg xmlns=\"http://www.w3.org/2000/svg\" height=\"24px\"viewBox=\"0 0 24 24\"\n",
              "     width=\"24px\">\n",
              "    <g>\n",
              "        <path d=\"M19 3H5c-1.1 0-2 .9-2 2v14c0 1.1.9 2 2 2h14c1.1 0 2-.9 2-2V5c0-1.1-.9-2-2-2zM9 17H7v-7h2v7zm4 0h-2V7h2v10zm4 0h-2v-4h2v4z\"/>\n",
              "    </g>\n",
              "</svg>\n",
              "  </button>\n",
              "\n",
              "<style>\n",
              "  .colab-df-quickchart {\n",
              "    background-color: #E8F0FE;\n",
              "    border: none;\n",
              "    border-radius: 50%;\n",
              "    cursor: pointer;\n",
              "    display: none;\n",
              "    fill: #1967D2;\n",
              "    height: 32px;\n",
              "    padding: 0 0 0 0;\n",
              "    width: 32px;\n",
              "  }\n",
              "\n",
              "  .colab-df-quickchart:hover {\n",
              "    background-color: #E2EBFA;\n",
              "    box-shadow: 0px 1px 2px rgba(60, 64, 67, 0.3), 0px 1px 3px 1px rgba(60, 64, 67, 0.15);\n",
              "    fill: #174EA6;\n",
              "  }\n",
              "\n",
              "  [theme=dark] .colab-df-quickchart {\n",
              "    background-color: #3B4455;\n",
              "    fill: #D2E3FC;\n",
              "  }\n",
              "\n",
              "  [theme=dark] .colab-df-quickchart:hover {\n",
              "    background-color: #434B5C;\n",
              "    box-shadow: 0px 1px 3px 1px rgba(0, 0, 0, 0.15);\n",
              "    filter: drop-shadow(0px 1px 2px rgba(0, 0, 0, 0.3));\n",
              "    fill: #FFFFFF;\n",
              "  }\n",
              "</style>\n",
              "\n",
              "  <script>\n",
              "    async function quickchart(key) {\n",
              "      const charts = await google.colab.kernel.invokeFunction(\n",
              "          'suggestCharts', [key], {});\n",
              "    }\n",
              "    (() => {\n",
              "      let quickchartButtonEl =\n",
              "        document.querySelector('#df-a9346580-eb6a-460b-9c9e-6849830e4bfd button');\n",
              "      quickchartButtonEl.style.display =\n",
              "        google.colab.kernel.accessAllowed ? 'block' : 'none';\n",
              "    })();\n",
              "  </script>\n",
              "</div>\n",
              "    </div>\n",
              "  </div>\n"
            ]
          },
          "metadata": {},
          "execution_count": 7
        }
      ]
    },
    {
      "cell_type": "code",
      "source": [
        "df = df[['summary','content','target']]"
      ],
      "metadata": {
        "id": "w6AqgMJLxWZz"
      },
      "execution_count": 8,
      "outputs": []
    },
    {
      "cell_type": "code",
      "source": [
        "df['target'].value_counts()"
      ],
      "metadata": {
        "colab": {
          "base_uri": "https://localhost:8080/"
        },
        "id": "dQTsNMHzcX_8",
        "outputId": "66b851fd-3d47-4f4d-de7e-1efb86d97955"
      },
      "execution_count": 9,
      "outputs": [
        {
          "output_type": "execute_result",
          "data": {
            "text/plain": [
              "국민의힘    10198\n",
              "민주당      8221\n",
              "Name: target, dtype: int64"
            ]
          },
          "metadata": {},
          "execution_count": 9
        }
      ]
    },
    {
      "cell_type": "code",
      "source": [
        "df.isna().sum()"
      ],
      "metadata": {
        "colab": {
          "base_uri": "https://localhost:8080/"
        },
        "id": "TnU6yvN8wNzg",
        "outputId": "ba8616a3-6c9b-4cbe-de63-ba7b05921927"
      },
      "execution_count": 10,
      "outputs": [
        {
          "output_type": "execute_result",
          "data": {
            "text/plain": [
              "summary    0\n",
              "content    0\n",
              "target     0\n",
              "dtype: int64"
            ]
          },
          "metadata": {},
          "execution_count": 10
        }
      ]
    },
    {
      "cell_type": "code",
      "source": [
        "from sklearn.preprocessing import LabelEncoder\n",
        "\n",
        "\n",
        "label_encoder = LabelEncoder()\n",
        "df['target_encoded'] = label_encoder.fit_transform(df['target'])\n",
        "\n",
        "df.head()"
      ],
      "metadata": {
        "colab": {
          "base_uri": "https://localhost:8080/",
          "height": 204
        },
        "id": "QYabMfT4ysOK",
        "outputId": "3d80bf1e-3283-4850-e5ec-f15f228431cc"
      },
      "execution_count": 11,
      "outputs": [
        {
          "output_type": "execute_result",
          "data": {
            "text/plain": [
              "                                             summary  \\\n",
              "0  전국 곳곳에 해외에서 발송된 정체불명의 우편물들이 1000건 이상 신고되면서 국민 ...   \n",
              "1  검찰은 조작 수사도 모자라 진술을 왜곡해 언론에 퍼뜨려 여론을 호도하고 있으며 이 ...   \n",
              "2  북한이 서해상으로 순항미사일 여러 발을 발사한 것은 북한의 거듭되는 무력 도발과 위...   \n",
              "3  국정 운영 방향을 남 탓으로 정한 정권은 없었고 윤 정권은 어떤 국정 비전도 보여주...   \n",
              "4  채 상병은 기본적인 안전장비도 지급받지 못한 채 임무에 투입되었고 뜨거운 애국심으로...   \n",
              "\n",
              "                                             content target  target_encoded  \n",
              "0  정체불명의 해외발 우편물, 국민 불안이 확산되는데 정부는 손놓고 있습니까 3일째 전...    민주당               1  \n",
              "1  검찰은 조작 수사도 모자라 이제는 진술을 왜곡해 언론에 퍼뜨려 여론을 호도하고 있습...    민주당               1  \n",
              "2  윤석열 대통령은 높아지는 군사적 긴장에 언제까지 팔짱만 끼고 있을 겁니까 북한이 오...    민주당               1  \n",
              "3  국정 운영 방향을 남 탓으로 정한 정권은 윤석열 정권뿐입니다 “윤 대통령의 국정 운...    민주당               1  \n",
              "4  누구보다 나라를 사랑했던 청년, 명령에 충실했던 병사를 기억하겠습니다 경북 예천에서...    민주당               1  "
            ],
            "text/html": [
              "\n",
              "  <div id=\"df-05655758-cb00-426d-af58-d7f7f43ae887\" class=\"colab-df-container\">\n",
              "    <div>\n",
              "<style scoped>\n",
              "    .dataframe tbody tr th:only-of-type {\n",
              "        vertical-align: middle;\n",
              "    }\n",
              "\n",
              "    .dataframe tbody tr th {\n",
              "        vertical-align: top;\n",
              "    }\n",
              "\n",
              "    .dataframe thead th {\n",
              "        text-align: right;\n",
              "    }\n",
              "</style>\n",
              "<table border=\"1\" class=\"dataframe\">\n",
              "  <thead>\n",
              "    <tr style=\"text-align: right;\">\n",
              "      <th></th>\n",
              "      <th>summary</th>\n",
              "      <th>content</th>\n",
              "      <th>target</th>\n",
              "      <th>target_encoded</th>\n",
              "    </tr>\n",
              "  </thead>\n",
              "  <tbody>\n",
              "    <tr>\n",
              "      <th>0</th>\n",
              "      <td>전국 곳곳에 해외에서 발송된 정체불명의 우편물들이 1000건 이상 신고되면서 국민 ...</td>\n",
              "      <td>정체불명의 해외발 우편물, 국민 불안이 확산되는데 정부는 손놓고 있습니까 3일째 전...</td>\n",
              "      <td>민주당</td>\n",
              "      <td>1</td>\n",
              "    </tr>\n",
              "    <tr>\n",
              "      <th>1</th>\n",
              "      <td>검찰은 조작 수사도 모자라 진술을 왜곡해 언론에 퍼뜨려 여론을 호도하고 있으며 이 ...</td>\n",
              "      <td>검찰은 조작 수사도 모자라 이제는 진술을 왜곡해 언론에 퍼뜨려 여론을 호도하고 있습...</td>\n",
              "      <td>민주당</td>\n",
              "      <td>1</td>\n",
              "    </tr>\n",
              "    <tr>\n",
              "      <th>2</th>\n",
              "      <td>북한이 서해상으로 순항미사일 여러 발을 발사한 것은 북한의 거듭되는 무력 도발과 위...</td>\n",
              "      <td>윤석열 대통령은 높아지는 군사적 긴장에 언제까지 팔짱만 끼고 있을 겁니까 북한이 오...</td>\n",
              "      <td>민주당</td>\n",
              "      <td>1</td>\n",
              "    </tr>\n",
              "    <tr>\n",
              "      <th>3</th>\n",
              "      <td>국정 운영 방향을 남 탓으로 정한 정권은 없었고 윤 정권은 어떤 국정 비전도 보여주...</td>\n",
              "      <td>국정 운영 방향을 남 탓으로 정한 정권은 윤석열 정권뿐입니다 “윤 대통령의 국정 운...</td>\n",
              "      <td>민주당</td>\n",
              "      <td>1</td>\n",
              "    </tr>\n",
              "    <tr>\n",
              "      <th>4</th>\n",
              "      <td>채 상병은 기본적인 안전장비도 지급받지 못한 채 임무에 투입되었고 뜨거운 애국심으로...</td>\n",
              "      <td>누구보다 나라를 사랑했던 청년, 명령에 충실했던 병사를 기억하겠습니다 경북 예천에서...</td>\n",
              "      <td>민주당</td>\n",
              "      <td>1</td>\n",
              "    </tr>\n",
              "  </tbody>\n",
              "</table>\n",
              "</div>\n",
              "    <div class=\"colab-df-buttons\">\n",
              "\n",
              "  <div class=\"colab-df-container\">\n",
              "    <button class=\"colab-df-convert\" onclick=\"convertToInteractive('df-05655758-cb00-426d-af58-d7f7f43ae887')\"\n",
              "            title=\"Convert this dataframe to an interactive table.\"\n",
              "            style=\"display:none;\">\n",
              "\n",
              "  <svg xmlns=\"http://www.w3.org/2000/svg\" height=\"24px\" viewBox=\"0 -960 960 960\">\n",
              "    <path d=\"M120-120v-720h720v720H120Zm60-500h600v-160H180v160Zm220 220h160v-160H400v160Zm0 220h160v-160H400v160ZM180-400h160v-160H180v160Zm440 0h160v-160H620v160ZM180-180h160v-160H180v160Zm440 0h160v-160H620v160Z\"/>\n",
              "  </svg>\n",
              "    </button>\n",
              "\n",
              "  <style>\n",
              "    .colab-df-container {\n",
              "      display:flex;\n",
              "      gap: 12px;\n",
              "    }\n",
              "\n",
              "    .colab-df-convert {\n",
              "      background-color: #E8F0FE;\n",
              "      border: none;\n",
              "      border-radius: 50%;\n",
              "      cursor: pointer;\n",
              "      display: none;\n",
              "      fill: #1967D2;\n",
              "      height: 32px;\n",
              "      padding: 0 0 0 0;\n",
              "      width: 32px;\n",
              "    }\n",
              "\n",
              "    .colab-df-convert:hover {\n",
              "      background-color: #E2EBFA;\n",
              "      box-shadow: 0px 1px 2px rgba(60, 64, 67, 0.3), 0px 1px 3px 1px rgba(60, 64, 67, 0.15);\n",
              "      fill: #174EA6;\n",
              "    }\n",
              "\n",
              "    .colab-df-buttons div {\n",
              "      margin-bottom: 4px;\n",
              "    }\n",
              "\n",
              "    [theme=dark] .colab-df-convert {\n",
              "      background-color: #3B4455;\n",
              "      fill: #D2E3FC;\n",
              "    }\n",
              "\n",
              "    [theme=dark] .colab-df-convert:hover {\n",
              "      background-color: #434B5C;\n",
              "      box-shadow: 0px 1px 3px 1px rgba(0, 0, 0, 0.15);\n",
              "      filter: drop-shadow(0px 1px 2px rgba(0, 0, 0, 0.3));\n",
              "      fill: #FFFFFF;\n",
              "    }\n",
              "  </style>\n",
              "\n",
              "    <script>\n",
              "      const buttonEl =\n",
              "        document.querySelector('#df-05655758-cb00-426d-af58-d7f7f43ae887 button.colab-df-convert');\n",
              "      buttonEl.style.display =\n",
              "        google.colab.kernel.accessAllowed ? 'block' : 'none';\n",
              "\n",
              "      async function convertToInteractive(key) {\n",
              "        const element = document.querySelector('#df-05655758-cb00-426d-af58-d7f7f43ae887');\n",
              "        const dataTable =\n",
              "          await google.colab.kernel.invokeFunction('convertToInteractive',\n",
              "                                                    [key], {});\n",
              "        if (!dataTable) return;\n",
              "\n",
              "        const docLinkHtml = 'Like what you see? Visit the ' +\n",
              "          '<a target=\"_blank\" href=https://colab.research.google.com/notebooks/data_table.ipynb>data table notebook</a>'\n",
              "          + ' to learn more about interactive tables.';\n",
              "        element.innerHTML = '';\n",
              "        dataTable['output_type'] = 'display_data';\n",
              "        await google.colab.output.renderOutput(dataTable, element);\n",
              "        const docLink = document.createElement('div');\n",
              "        docLink.innerHTML = docLinkHtml;\n",
              "        element.appendChild(docLink);\n",
              "      }\n",
              "    </script>\n",
              "  </div>\n",
              "\n",
              "\n",
              "<div id=\"df-68d057b4-6da5-4f10-84b1-72ed94080144\">\n",
              "  <button class=\"colab-df-quickchart\" onclick=\"quickchart('df-68d057b4-6da5-4f10-84b1-72ed94080144')\"\n",
              "            title=\"Suggest charts.\"\n",
              "            style=\"display:none;\">\n",
              "\n",
              "<svg xmlns=\"http://www.w3.org/2000/svg\" height=\"24px\"viewBox=\"0 0 24 24\"\n",
              "     width=\"24px\">\n",
              "    <g>\n",
              "        <path d=\"M19 3H5c-1.1 0-2 .9-2 2v14c0 1.1.9 2 2 2h14c1.1 0 2-.9 2-2V5c0-1.1-.9-2-2-2zM9 17H7v-7h2v7zm4 0h-2V7h2v10zm4 0h-2v-4h2v4z\"/>\n",
              "    </g>\n",
              "</svg>\n",
              "  </button>\n",
              "\n",
              "<style>\n",
              "  .colab-df-quickchart {\n",
              "    background-color: #E8F0FE;\n",
              "    border: none;\n",
              "    border-radius: 50%;\n",
              "    cursor: pointer;\n",
              "    display: none;\n",
              "    fill: #1967D2;\n",
              "    height: 32px;\n",
              "    padding: 0 0 0 0;\n",
              "    width: 32px;\n",
              "  }\n",
              "\n",
              "  .colab-df-quickchart:hover {\n",
              "    background-color: #E2EBFA;\n",
              "    box-shadow: 0px 1px 2px rgba(60, 64, 67, 0.3), 0px 1px 3px 1px rgba(60, 64, 67, 0.15);\n",
              "    fill: #174EA6;\n",
              "  }\n",
              "\n",
              "  [theme=dark] .colab-df-quickchart {\n",
              "    background-color: #3B4455;\n",
              "    fill: #D2E3FC;\n",
              "  }\n",
              "\n",
              "  [theme=dark] .colab-df-quickchart:hover {\n",
              "    background-color: #434B5C;\n",
              "    box-shadow: 0px 1px 3px 1px rgba(0, 0, 0, 0.15);\n",
              "    filter: drop-shadow(0px 1px 2px rgba(0, 0, 0, 0.3));\n",
              "    fill: #FFFFFF;\n",
              "  }\n",
              "</style>\n",
              "\n",
              "  <script>\n",
              "    async function quickchart(key) {\n",
              "      const charts = await google.colab.kernel.invokeFunction(\n",
              "          'suggestCharts', [key], {});\n",
              "    }\n",
              "    (() => {\n",
              "      let quickchartButtonEl =\n",
              "        document.querySelector('#df-68d057b4-6da5-4f10-84b1-72ed94080144 button');\n",
              "      quickchartButtonEl.style.display =\n",
              "        google.colab.kernel.accessAllowed ? 'block' : 'none';\n",
              "    })();\n",
              "  </script>\n",
              "</div>\n",
              "    </div>\n",
              "  </div>\n"
            ]
          },
          "metadata": {},
          "execution_count": 11
        }
      ]
    },
    {
      "cell_type": "code",
      "source": [
        "df['target_encoded'].unique()"
      ],
      "metadata": {
        "colab": {
          "base_uri": "https://localhost:8080/"
        },
        "id": "kbh27_0rdtMJ",
        "outputId": "fd0c612b-b6a3-4a00-8c5c-75177028acbf"
      },
      "execution_count": 12,
      "outputs": [
        {
          "output_type": "execute_result",
          "data": {
            "text/plain": [
              "array([1, 0])"
            ]
          },
          "metadata": {},
          "execution_count": 12
        }
      ]
    },
    {
      "cell_type": "markdown",
      "source": [
        "### Text Classification\n"
      ],
      "metadata": {
        "id": "XCbCky2Ipdml"
      }
    },
    {
      "cell_type": "code",
      "source": [
        "import tensorflow as tf"
      ],
      "metadata": {
        "id": "op3PlJnCpgOc"
      },
      "execution_count": 13,
      "outputs": []
    },
    {
      "cell_type": "code",
      "source": [
        "class MultiHeadAttention(tf.keras.layers.Layer):\n",
        "    def __init__(self, embedding_dim, num_heads=8):\n",
        "        super(MultiHeadAttention, self).__init__()\n",
        "        self.embedding_dim = embedding_dim # d_model\n",
        "        self.num_heads = num_heads\n",
        "\n",
        "        assert embedding_dim % self.num_heads == 0\n",
        "\n",
        "        self.projection_dim = embedding_dim // num_heads\n",
        "        self.query_dense = tf.keras.layers.Dense(embedding_dim)\n",
        "        self.key_dense = tf.keras.layers.Dense(embedding_dim)\n",
        "        self.value_dense = tf.keras.layers.Dense(embedding_dim)\n",
        "        self.dense = tf.keras.layers.Dense(embedding_dim)\n",
        "\n",
        "    def scaled_dot_product_attention(self, query, key, value):\n",
        "        matmul_qk = tf.matmul(query, key, transpose_b=True)\n",
        "        depth = tf.cast(tf.shape(key)[-1], tf.float32)\n",
        "        logits = matmul_qk / tf.math.sqrt(depth)\n",
        "        attention_weights = tf.nn.softmax(logits, axis=-1)\n",
        "        output = tf.matmul(attention_weights, value)\n",
        "        return output, attention_weights\n",
        "\n",
        "    def split_heads(self, x, batch_size):\n",
        "        x = tf.reshape(x, (batch_size, -1, self.num_heads, self.projection_dim))\n",
        "        return tf.transpose(x, perm=[0, 2, 1, 3])\n",
        "\n",
        "    def call(self, inputs):\n",
        "        # x.shape = [batch_size, seq_len, embedding_dim]\n",
        "        batch_size = tf.shape(inputs)[0]\n",
        "\n",
        "        # (batch_size, seq_len, embedding_dim)\n",
        "        query = self.query_dense(inputs)\n",
        "        key = self.key_dense(inputs)\n",
        "        value = self.value_dense(inputs)\n",
        "\n",
        "        # (batch_size, num_heads, seq_len, projection_dim)\n",
        "        query = self.split_heads(query, batch_size)\n",
        "        key = self.split_heads(key, batch_size)\n",
        "        value = self.split_heads(value, batch_size)\n",
        "\n",
        "        scaled_attention, _ = self.scaled_dot_product_attention(query, key, value)\n",
        "        # (batch_size, seq_len, num_heads, projection_dim)\n",
        "        scaled_attention = tf.transpose(scaled_attention, perm=[0, 2, 1, 3])\n",
        "\n",
        "        # (batch_size, seq_len, embedding_dim)\n",
        "        concat_attention = tf.reshape(scaled_attention, (batch_size, -1, self.embedding_dim))\n",
        "        outputs = self.dense(concat_attention)\n",
        "        return outputs\n"
      ],
      "metadata": {
        "id": "vUyOU16eptyq"
      },
      "execution_count": 14,
      "outputs": []
    },
    {
      "cell_type": "code",
      "source": [
        "class TransformerBlock(tf.keras.layers.Layer):\n",
        "    def __init__(self, embedding_dim, num_heads, dff, rate=0.1):\n",
        "        super(TransformerBlock, self).__init__()\n",
        "        self.att = MultiHeadAttention(embedding_dim, num_heads)\n",
        "        self.ffn = tf.keras.Sequential(\n",
        "            [tf.keras.layers.Dense(dff, activation=\"relu\"),\n",
        "             tf.keras.layers.Dense(embedding_dim),]\n",
        "        )\n",
        "        self.layernorm1 = tf.keras.layers.LayerNormalization(epsilon=1e-6)\n",
        "        self.layernorm2 = tf.keras.layers.LayerNormalization(epsilon=1e-6)\n",
        "        self.dropout1 = tf.keras.layers.Dropout(rate)\n",
        "        self.dropout2 = tf.keras.layers.Dropout(rate)\n",
        "\n",
        "    def call(self, inputs, training):\n",
        "        attn_output = self.att(inputs) # 첫번째 서브층 : 멀티 헤드 어텐션\n",
        "        attn_output = self.dropout1(attn_output, training=training)\n",
        "        out1 = self.layernorm1(inputs + attn_output) # Add & Norm\n",
        "        ffn_output = self.ffn(out1) # 두번째 서브층 : 포지션 와이즈 피드 포워드 신경망\n",
        "        ffn_output = self.dropout2(ffn_output, training=training)\n",
        "        return self.layernorm2(out1 + ffn_output) # Add & Norm\n"
      ],
      "metadata": {
        "id": "kMHMV1unptvV"
      },
      "execution_count": 15,
      "outputs": []
    },
    {
      "cell_type": "code",
      "source": [
        "class TokenAndPositionEmbedding(tf.keras.layers.Layer):\n",
        "    def __init__(self, max_len, vocab_size, embedding_dim):\n",
        "        super(TokenAndPositionEmbedding, self).__init__()\n",
        "        self.token_emb = tf.keras.layers.Embedding(vocab_size, embedding_dim)\n",
        "        self.pos_emb = tf.keras.layers.Embedding(max_len, embedding_dim)\n",
        "\n",
        "    def call(self, x):\n",
        "        max_len = tf.shape(x)[-1]\n",
        "        positions = tf.range(start=0, limit=max_len, delta=1)\n",
        "        positions = self.pos_emb(positions)\n",
        "        x = self.token_emb(x)\n",
        "        return x + positions"
      ],
      "metadata": {
        "id": "W0mRuoUUptnZ"
      },
      "execution_count": 16,
      "outputs": []
    },
    {
      "cell_type": "code",
      "source": [
        "# import numpy as np\n",
        "# from sklearn.model_selection import train_test_split\n",
        "\n",
        "\n",
        "# X_train, X_test, y_train, y_test = train_test_split(df['content'], df['target_encoded'], test_size=0.2, random_state=42, shuffle=True)\n",
        "\n",
        "# print('Number of training reviews: {}'.format(len(X_train)))\n",
        "# print('Number of testing reviews: {}'.format(len(X_test)))"
      ],
      "metadata": {
        "colab": {
          "base_uri": "https://localhost:8080/"
        },
        "id": "h8_BtckLp12x",
        "outputId": "16800d3b-7b3a-4d5f-c8d1-6b3fd947cbae"
      },
      "execution_count": 17,
      "outputs": [
        {
          "output_type": "stream",
          "name": "stdout",
          "text": [
            "Number of training reviews: 14735\n",
            "Number of testing reviews: 3684\n"
          ]
        }
      ]
    },
    {
      "cell_type": "code",
      "source": [
        "from sklearn.model_selection import train_test_split\n",
        "\n",
        "# 데이터 분할\n",
        "X_train, X_temp, y_train, y_temp = train_test_split(df['content'], df['target_encoded'], test_size=0.2, random_state=42, shuffle=True)\n",
        "X_val, X_test, y_val, y_test = train_test_split(X_temp, y_temp, test_size=0.5, random_state=42, shuffle=True)\n",
        "\n",
        "print('Number of training reviews: {}'.format(len(X_train)))\n",
        "print('Number of testing reviews: {}'.format(len(X_test)))\n",
        "print('Number of validation reviews: {}'.format(len(X_val)))"
      ],
      "metadata": {
        "colab": {
          "base_uri": "https://localhost:8080/"
        },
        "id": "ovWYewUfqytb",
        "outputId": "7877ee9d-3f91-4e41-bab5-fae06c5e70c2"
      },
      "execution_count": 19,
      "outputs": [
        {
          "output_type": "stream",
          "name": "stdout",
          "text": [
            "Number of training reviews: 14735\n",
            "Number of testing reviews: 1842\n",
            "Number of validation reviews: 1842\n"
          ]
        }
      ]
    },
    {
      "cell_type": "code",
      "source": [
        "max_len = 512\n",
        "vocab_size = 20000  # 빈도수 상위 2만개의 단어만 사용"
      ],
      "metadata": {
        "id": "U1aF5f2wsULp"
      },
      "execution_count": 20,
      "outputs": []
    },
    {
      "cell_type": "code",
      "source": [
        "import tensorflow as tf\n",
        "from tensorflow.keras.preprocessing.sequence import pad_sequences\n",
        "from tensorflow.keras.preprocessing.text import Tokenizer\n",
        "\n",
        "# Convert text to integer sequences\n",
        "tokenizer = Tokenizer(num_words=vocab_size)\n",
        "tokenizer.fit_on_texts(X_train)\n",
        "\n",
        "X_train_seq = tokenizer.texts_to_sequences(X_train)\n",
        "X_test_seq = tokenizer.texts_to_sequences(X_test)\n",
        "X_val_seq = tokenizer.texts_to_sequences(X_val)\n",
        "\n",
        "\n",
        "# Pad sequences\n",
        "X_train_padded = pad_sequences(X_train_seq, maxlen=max_len)\n",
        "X_test_padded = pad_sequences(X_test_seq, maxlen=max_len)\n",
        "X_val_padded = pad_sequences(X_val_seq, maxlen=max_len)\n",
        "\n",
        "print('Shape of X_train_padded:', X_train_padded.shape)\n",
        "print('Shape of X_test_padded:', X_test_padded.shape)\n",
        "print('Shape of X_val_padded:', X_val_padded.shape)"
      ],
      "metadata": {
        "colab": {
          "base_uri": "https://localhost:8080/"
        },
        "id": "xh5giNLjp1uw",
        "outputId": "ac37eab2-d4e7-45b5-b06a-9ade9029ea7a"
      },
      "execution_count": 21,
      "outputs": [
        {
          "output_type": "stream",
          "name": "stdout",
          "text": [
            "Shape of X_train_padded: (14735, 512)\n",
            "Shape of X_test_padded: (1842, 512)\n",
            "Shape of X_val_padded: (1842, 512)\n"
          ]
        }
      ]
    },
    {
      "cell_type": "code",
      "source": [
        "embedding_dim = 32  # 각 단어의 임베딩 벡터의 차원\n",
        "num_heads = 2 # 어텐션 헤드의 수\n",
        "dff = 64  # 포지션 와이즈 피드 포워드 신경망의 은닉층의 크기\n",
        "\n",
        "inputs = tf.keras.layers.Input(shape=(max_len,))\n",
        "embedding_layer = TokenAndPositionEmbedding(max_len, vocab_size, embedding_dim)\n",
        "x = embedding_layer(inputs)\n",
        "transformer_block = TransformerBlock(embedding_dim, num_heads, dff)\n",
        "x = transformer_block(x)\n",
        "x = tf.keras.layers.GlobalAveragePooling1D()(x)\n",
        "x = tf.keras.layers.Dropout(0.5)(x)\n",
        "x = tf.keras.layers.Dense(20, activation=\"relu\")(x)\n",
        "x = tf.keras.layers.Dropout(0.5)(x)\n",
        "outputs = tf.keras.layers.Dense(2, activation=\"softmax\")(x)\n",
        "\n",
        "model = tf.keras.Model(inputs=inputs, outputs=outputs)"
      ],
      "metadata": {
        "id": "EyckRLc1qFSV"
      },
      "execution_count": 27,
      "outputs": []
    },
    {
      "cell_type": "code",
      "source": [
        "model.compile(\"adam\", \"sparse_categorical_crossentropy\", metrics=[\"accuracy\"])\n",
        "history = model.fit(X_train_padded, y_train, batch_size=256, epochs=50, validation_data=(X_test_padded, y_test))"
      ],
      "metadata": {
        "id": "t9KDxBHM-rcV"
      },
      "execution_count": null,
      "outputs": []
    },
    {
      "cell_type": "code",
      "source": [
        "from keras.callbacks import EarlyStopping\n",
        "\n",
        "early_stopping = EarlyStopping(monitor='val_loss', patience=3, restore_best_weights=True)\n",
        "\n",
        "model.compile(optimizer='adam', loss='sparse_categorical_crossentropy', metrics=['accuracy'])\n",
        "history = model.fit(X_train_padded, y_train, batch_size=256, epochs=50,  validation_data=(X_val_padded, y_val), callbacks=[early_stopping])"
      ],
      "metadata": {
        "colab": {
          "base_uri": "https://localhost:8080/"
        },
        "id": "0pe7h2y6qFOR",
        "outputId": "8ba5eec8-d613-4f6c-e4e4-062ae17497b1"
      },
      "execution_count": 28,
      "outputs": [
        {
          "output_type": "stream",
          "name": "stdout",
          "text": [
            "Epoch 1/50\n",
            "58/58 [==============================] - 75s 287ms/step - loss: 0.7113 - accuracy: 0.5420 - val_loss: 0.6599 - val_accuracy: 0.5565\n",
            "Epoch 2/50\n",
            "58/58 [==============================] - 15s 267ms/step - loss: 0.5264 - accuracy: 0.7177 - val_loss: 0.2087 - val_accuracy: 0.9202\n",
            "Epoch 3/50\n",
            "58/58 [==============================] - 14s 237ms/step - loss: 0.1840 - accuracy: 0.9417 - val_loss: 0.1148 - val_accuracy: 0.9598\n",
            "Epoch 4/50\n",
            "58/58 [==============================] - 14s 244ms/step - loss: 0.0792 - accuracy: 0.9789 - val_loss: 0.1097 - val_accuracy: 0.9647\n",
            "Epoch 5/50\n",
            "58/58 [==============================] - 13s 229ms/step - loss: 0.0471 - accuracy: 0.9881 - val_loss: 0.1161 - val_accuracy: 0.9636\n",
            "Epoch 6/50\n",
            "58/58 [==============================] - 13s 232ms/step - loss: 0.0187 - accuracy: 0.9966 - val_loss: 0.1700 - val_accuracy: 0.9631\n",
            "Epoch 7/50\n",
            "58/58 [==============================] - 12s 217ms/step - loss: 0.0097 - accuracy: 0.9985 - val_loss: 0.1930 - val_accuracy: 0.9631\n"
          ]
        }
      ]
    },
    {
      "cell_type": "code",
      "source": [
        "print(\"테스트 정확도: %.4f\" % (model.evaluate(X_test_padded, y_test)[1]))"
      ],
      "metadata": {
        "colab": {
          "base_uri": "https://localhost:8080/"
        },
        "id": "Eb5H98YS0BKw",
        "outputId": "a07d4b3e-6a66-4e20-daa1-0937401cf89e"
      },
      "execution_count": 29,
      "outputs": [
        {
          "output_type": "stream",
          "name": "stdout",
          "text": [
            "58/58 [==============================] - 0s 8ms/step - loss: 0.0945 - accuracy: 0.9707\n",
            "테스트 정확도: 0.9707\n"
          ]
        }
      ]
    },
    {
      "cell_type": "markdown",
      "metadata": {
        "id": "_VBfDaelIp8v"
      },
      "source": [
        "### 형태소"
      ]
    },
    {
      "cell_type": "code",
      "execution_count": null,
      "metadata": {
        "id": "86VePPVdhWpq"
      },
      "outputs": [],
      "source": [
        "! pip install konlpy"
      ]
    },
    {
      "cell_type": "code",
      "execution_count": null,
      "metadata": {
        "id": "n6xL_9ztHUTI"
      },
      "outputs": [],
      "source": [
        "from konlpy.tag import Hannanum, Kkma, Komoran, Okt"
      ]
    },
    {
      "cell_type": "code",
      "execution_count": null,
      "metadata": {
        "id": "NlbhVgqpHUvM"
      },
      "outputs": [],
      "source": [
        "#불용어 사전 만들기\n",
        "stopwords = pd.read_csv(\"https://raw.githubusercontent.com/yoonkt200/FastCampusDataset/master/korean_stopwords.txt\").values.tolist()\n",
        "stopwords[:10]"
      ]
    },
    {
      "cell_type": "markdown",
      "metadata": {
        "id": "pYPb7J_UJlYN"
      },
      "source": [
        "#### 형태소 분석기 비교"
      ]
    },
    {
      "cell_type": "code",
      "execution_count": null,
      "metadata": {
        "id": "Kj-YY19gGu4L"
      },
      "outputs": [],
      "source": [
        "hannanum = Hannanum()\n",
        "kkma = Kkma()\n",
        "komoran = Komoran()\n",
        "okt = Okt()"
      ]
    },
    {
      "cell_type": "code",
      "execution_count": null,
      "metadata": {
        "id": "Q2fazv1EHyrX"
      },
      "outputs": [],
      "source": [
        "text = df['split_content2'][0]"
      ]
    },
    {
      "cell_type": "code",
      "execution_count": null,
      "metadata": {
        "id": "R5RfoReeHmM9"
      },
      "outputs": [],
      "source": [
        "def extract_nouns_verbs(text, analyzer):\n",
        "    pos = analyzer.pos(text)\n",
        "\n",
        "    nouns = []  # 명사 저장할 리스트\n",
        "    verbs = []  # 동사 저장할 리스트\n",
        "\n",
        "    for word_tag in pos:\n",
        "        word, tag = word_tag[0], word_tag[1]\n",
        "        if tag.startswith(\"N\"):  # 명사 태그\n",
        "            nouns.append(word)\n",
        "        elif tag.startswith(\"V\"):  # 동사 태그\n",
        "            verbs.append(word)\n",
        "\n",
        "    return nouns, verbs\n",
        "\n",
        "\n",
        "nouns_ko, verbs_ko = extract_nouns_verbs(text, komoran)\n",
        "print(\"Komoran 명사:\", nouns_ko)\n",
        "print(\"Komoran 동사:\", verbs_ko)"
      ]
    },
    {
      "cell_type": "code",
      "execution_count": null,
      "metadata": {
        "id": "1Th5VvQYH-OV"
      },
      "outputs": [],
      "source": [
        "def extract_nouns_verbs(text, analyzer):\n",
        "    pos = analyzer.pos(text)\n",
        "\n",
        "    nouns = []  # 명사 저장할 리스트\n",
        "    verbs = []  # 동사 저장할 리스트\n",
        "\n",
        "    for word, tag in pos:\n",
        "        if tag.startswith(\"N\"):  # 명사 태그\n",
        "            nouns.append(word)\n",
        "        elif tag.startswith(\"V\"):  # 동사 태그\n",
        "            verbs.append(word)\n",
        "\n",
        "    return nouns, verbs\n",
        "\n",
        "nouns_k, verbs_k = extract_nouns_verbs(text, kkma)\n",
        "print(\"Kkma 명사:\", nouns_k)\n",
        "print(\"Kkma 동사:\", verbs_k)"
      ]
    },
    {
      "cell_type": "code",
      "execution_count": null,
      "metadata": {
        "id": "5ECnF2NEH87W"
      },
      "outputs": [],
      "source": [
        "def extract_nouns_verbs(text, analyzer):\n",
        "    pos = analyzer.pos(text, ntags=22)\n",
        "\n",
        "    nouns = []  # 명사 저장할 리스트\n",
        "    verbs = []  # 동사 저장할 리스트\n",
        "\n",
        "    for word, tag in pos:\n",
        "        if tag.startswith(\"N\"):  # 명사 태그\n",
        "            nouns.append(word)\n",
        "        elif tag.startswith(\"V\"):  # 동사 태그\n",
        "            verbs.append(word)\n",
        "\n",
        "    return nouns, verbs\n",
        "\n",
        "nouns_h, verbs_h = extract_nouns_verbs(text, hannanum)\n",
        "print(\"Hannanum 명사:\", nouns_h)\n",
        "print(\"Hannanum 동사:\", verbs_h)"
      ]
    },
    {
      "cell_type": "code",
      "execution_count": null,
      "metadata": {
        "id": "x1nSrVQxH_Tb"
      },
      "outputs": [],
      "source": [
        "texts = df['split_content2']\n",
        "\n",
        "data = []\n",
        "for text in texts:\n",
        "    nouns, verbs = extract_nouns_verbs(text, hannanum)\n",
        "    data.append({'Text': text, 'Nouns': nouns, 'Verbs': verbs})\n",
        "\n",
        "df['noun'] = pd.DataFrame(data)\n",
        "df.head()"
      ]
    },
    {
      "cell_type": "code",
      "execution_count": null,
      "metadata": {
        "id": "0qrOwAz6J0Bz"
      },
      "outputs": [],
      "source": [
        "df.to_csv('df.csv')"
      ]
    },
    {
      "cell_type": "code",
      "execution_count": null,
      "metadata": {
        "id": "F1h6gF6bTgCf"
      },
      "outputs": [],
      "source": []
    }
  ],
  "metadata": {
    "colab": {
      "provenance": [],
      "collapsed_sections": [
        "_VBfDaelIp8v",
        "pYPb7J_UJlYN"
      ],
      "gpuType": "T4",
      "include_colab_link": true
    },
    "kernelspec": {
      "display_name": "Python 3",
      "name": "python3"
    },
    "language_info": {
      "name": "python"
    },
    "accelerator": "GPU"
  },
  "nbformat": 4,
  "nbformat_minor": 0
}