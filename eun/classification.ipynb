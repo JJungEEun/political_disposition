{
  "cells": [
    {
      "cell_type": "markdown",
      "metadata": {
        "id": "view-in-github",
        "colab_type": "text"
      },
      "source": [
        "<a href=\"https://colab.research.google.com/github/shjoo0407/political_disposition/blob/main/eun/classification.ipynb\" target=\"_parent\"><img src=\"https://colab.research.google.com/assets/colab-badge.svg\" alt=\"Open In Colab\"/></a>"
      ]
    },
    {
      "cell_type": "code",
      "source": [
        "!pip install transformers"
      ],
      "metadata": {
        "colab": {
          "base_uri": "https://localhost:8080/"
        },
        "id": "23zbbqNz4_QP",
        "outputId": "ca81e0d9-70fd-4f0f-9432-509d55f98759"
      },
      "execution_count": null,
      "outputs": [
        {
          "output_type": "stream",
          "name": "stdout",
          "text": [
            "Successfully installed huggingface-hub-0.16.4 safetensors-0.3.2 tokenizers-0.13.3 transformers-4.31.0\n"
          ]
        }
      ]
    },
    {
      "cell_type": "code",
      "execution_count": null,
      "metadata": {
        "id": "K1K5FKL-WAhb"
      },
      "outputs": [],
      "source": [
        "import io\n",
        "import pandas as pd\n",
        "import matplotlib as mpl\n",
        "import matplotlib.pylab as plt\n",
        "import matplotlib.pyplot as plt\n",
        "import matplotlib.font_manager as fm\n",
        "from matplotlib import rc\n",
        "import numpy as np\n",
        "import re, string\n",
        "import seaborn as sns"
      ]
    },
    {
      "cell_type": "code",
      "source": [
        "from google.colab import drive\n",
        "drive.mount('/content/drive')"
      ],
      "metadata": {
        "colab": {
          "base_uri": "https://localhost:8080/"
        },
        "id": "p9BUkOaCv5QP",
        "outputId": "c9e4215f-1cf0-4398-ed5c-5db331373a79"
      },
      "execution_count": null,
      "outputs": [
        {
          "output_type": "stream",
          "name": "stdout",
          "text": [
            "Drive already mounted at /content/drive; to attempt to forcibly remount, call drive.mount(\"/content/drive\", force_remount=True).\n"
          ]
        }
      ]
    },
    {
      "cell_type": "code",
      "execution_count": null,
      "metadata": {
        "colab": {
          "base_uri": "https://localhost:8080/"
        },
        "id": "_H6W9JwEWDzJ",
        "outputId": "9a46e429-35ee-4ce9-cf07-39b2e1126e56"
      },
      "outputs": [
        {
          "output_type": "stream",
          "name": "stdout",
          "text": [
            "/content/drive/MyDrive/2023/sw공모전/data\n"
          ]
        }
      ],
      "source": [
        "cd /content/drive/MyDrive/2023/sw공모전/data"
      ]
    },
    {
      "cell_type": "code",
      "source": [
        "# df1 = pd.read_csv('민주당2022.csv')\n",
        "# df2 = pd.read_csv('국힘2022.csv')\n",
        "# df3 = pd.read_csv('민주당2020.csv')\n",
        "# df4 = pd.read_csv('국힘2020.csv')"
      ],
      "metadata": {
        "id": "jxzAKnnzwN4t"
      },
      "execution_count": null,
      "outputs": []
    },
    {
      "cell_type": "code",
      "source": [
        "ls"
      ],
      "metadata": {
        "colab": {
          "base_uri": "https://localhost:8080/"
        },
        "id": "VpGbHZik-T1k",
        "outputId": "5bd31d09-39b4-4d86-8971-3dd69ee96572"
      },
      "execution_count": null,
      "outputs": [
        {
          "output_type": "stream",
          "name": "stdout",
          "text": [
            "'df_summarization(2022)'   국힘2020.csv      문재인.csv        박근혜.csv\n",
            " keras_model.h5            국힘2022.csv      문재인_국힘.csv   박근혜_국힘.csv\n",
            " NPP_final_0729.csv        노무현.csv        민주당2020.csv    이명박.csv\n",
            " TMP_final_0729.csv        노무현_국힘.csv   민주당2022.csv    이명박_국힘.csv\n"
          ]
        }
      ]
    },
    {
      "cell_type": "code",
      "source": [
        "pd.read_csv('문재인.csv')"
      ],
      "metadata": {
        "colab": {
          "base_uri": "https://localhost:8080/",
          "height": 419
        },
        "id": "J9Vxut0v3JlW",
        "outputId": "b3492d9e-9b62-4c10-ee98-6ac4d6a09312"
      },
      "execution_count": null,
      "outputs": [
        {
          "output_type": "execute_result",
          "data": {
            "text/plain": [
              "      Unnamed: 0                                            content target  \\\n",
              "0          44111  자영업자와 소상공인은 기다릴 시간이 없습니다. 인수위는 안일한 태도를 버리기 바랍니...    민주당   \n",
              "1          44112  근거 없는 의혹 제기로 ‘망신주기’에 혈안이 된 국민의힘과 일부 언론에 강한 유감을...    민주당   \n",
              "2          44113  윤호중 공동비상대책위원장 소상공인, 자영업자 단체 대표님들, 그리고 함께하신 자영업...    민주당   \n",
              "3          44114  간병문제, 정치권이 책임 있게 응답해야 합니다 오늘 대법원은 경제적 이유로 뇌출혈로...    민주당   \n",
              "4          44115  일본의 역사왜곡에 함구하는 윤석열 당선인의 ‘올바른 역사인식’은 무엇인지 구체적으로...    민주당   \n",
              "...          ...                                                ...    ...   \n",
              "9172       53284  잘못 인정 안하는 박근혜 전 대통령, 누가 ‘사면’을 입 밖에 꺼내는가 구속된 박근...    민주당   \n",
              "9173       53285  안철수 대표는 부적절한 사면 발언에 대해서 진솔하게 해명해야 한다 국민의당 안철수 ...    민주당   \n",
              "9174       53286  홍준표 블랙리스트 발언, 당장 사죄하라 자유한국당 홍준표 후보가 박근혜 정부의 문화...    민주당   \n",
              "9175       53287  반기문 특사와 박근혜 사면이 안철수 후보의 자신감 이었나 안철수 후보가 어제 두 가...    민주당   \n",
              "9176       53288  홍준표 후보 완주냐 중도하차냐 홍준표 경남지사가 자유한국당 대통령 후보로 선출되었다...    민주당   \n",
              "\n",
              "                                               content2  \n",
              "0     자영업자 소상 공인 시간 수위 안일 태도 윤석열 인수 추경 관련 작업 인수 제출 윤...  \n",
              "1     근거 의혹 제기 망신 주기 혈안 국민 일부 언론 유감 일부 언론 국민 연일 김정숙 ...  \n",
              "2     윤호중 공동 비상대책위 원장 소상 공인 자영업자 단체 대표 자영업 사장 반갑습니다 ...  \n",
              "3     문제 정치 책임 응답 오늘 대법원 경제 이유 뇌출혈 아버지 방치 청년 징역 확정 판...  \n",
              "4     일본의 역사 왜곡 함구 윤석열 선인 역사 인식 구체 일본의 역사 교과서 왜곡 문제 ...  \n",
              "...                                                 ...  \n",
              "9172  인정 박근혜 대통령 사면 구속 박근혜 대통령 기소 변호인단 교체 거론 대통령 본인 ...  \n",
              "9173  안철수 대표 사면 발언 해명 국민의당 안철수 대표 박근혜 대통령 사면 검토 여지 기...  \n",
              "9174  홍준표 블랙리스트 발언 당장 사죄 자유 한국당 홍준표 후보 박근혜 정부 문화예술 블...  \n",
              "9175  반기문 특사 박근혜 사면 안철수 후보 자신감 안철수 후보 가지 정치공학 메시지 반기...  \n",
              "9176  홍준표 후보 완주 도하 홍준표 경남 지사 자유 한국당 대통령 후보 선출 대통령 후보...  \n",
              "\n",
              "[9177 rows x 4 columns]"
            ],
            "text/html": [
              "\n",
              "  <div id=\"df-58e8b5c3-e324-449a-8c6c-92acaf59e6e2\" class=\"colab-df-container\">\n",
              "    <div>\n",
              "<style scoped>\n",
              "    .dataframe tbody tr th:only-of-type {\n",
              "        vertical-align: middle;\n",
              "    }\n",
              "\n",
              "    .dataframe tbody tr th {\n",
              "        vertical-align: top;\n",
              "    }\n",
              "\n",
              "    .dataframe thead th {\n",
              "        text-align: right;\n",
              "    }\n",
              "</style>\n",
              "<table border=\"1\" class=\"dataframe\">\n",
              "  <thead>\n",
              "    <tr style=\"text-align: right;\">\n",
              "      <th></th>\n",
              "      <th>Unnamed: 0</th>\n",
              "      <th>content</th>\n",
              "      <th>target</th>\n",
              "      <th>content2</th>\n",
              "    </tr>\n",
              "  </thead>\n",
              "  <tbody>\n",
              "    <tr>\n",
              "      <th>0</th>\n",
              "      <td>44111</td>\n",
              "      <td>자영업자와 소상공인은 기다릴 시간이 없습니다. 인수위는 안일한 태도를 버리기 바랍니...</td>\n",
              "      <td>민주당</td>\n",
              "      <td>자영업자 소상 공인 시간 수위 안일 태도 윤석열 인수 추경 관련 작업 인수 제출 윤...</td>\n",
              "    </tr>\n",
              "    <tr>\n",
              "      <th>1</th>\n",
              "      <td>44112</td>\n",
              "      <td>근거 없는 의혹 제기로 ‘망신주기’에 혈안이 된 국민의힘과 일부 언론에 강한 유감을...</td>\n",
              "      <td>민주당</td>\n",
              "      <td>근거 의혹 제기 망신 주기 혈안 국민 일부 언론 유감 일부 언론 국민 연일 김정숙 ...</td>\n",
              "    </tr>\n",
              "    <tr>\n",
              "      <th>2</th>\n",
              "      <td>44113</td>\n",
              "      <td>윤호중 공동비상대책위원장 소상공인, 자영업자 단체 대표님들, 그리고 함께하신 자영업...</td>\n",
              "      <td>민주당</td>\n",
              "      <td>윤호중 공동 비상대책위 원장 소상 공인 자영업자 단체 대표 자영업 사장 반갑습니다 ...</td>\n",
              "    </tr>\n",
              "    <tr>\n",
              "      <th>3</th>\n",
              "      <td>44114</td>\n",
              "      <td>간병문제, 정치권이 책임 있게 응답해야 합니다 오늘 대법원은 경제적 이유로 뇌출혈로...</td>\n",
              "      <td>민주당</td>\n",
              "      <td>문제 정치 책임 응답 오늘 대법원 경제 이유 뇌출혈 아버지 방치 청년 징역 확정 판...</td>\n",
              "    </tr>\n",
              "    <tr>\n",
              "      <th>4</th>\n",
              "      <td>44115</td>\n",
              "      <td>일본의 역사왜곡에 함구하는 윤석열 당선인의 ‘올바른 역사인식’은 무엇인지 구체적으로...</td>\n",
              "      <td>민주당</td>\n",
              "      <td>일본의 역사 왜곡 함구 윤석열 선인 역사 인식 구체 일본의 역사 교과서 왜곡 문제 ...</td>\n",
              "    </tr>\n",
              "    <tr>\n",
              "      <th>...</th>\n",
              "      <td>...</td>\n",
              "      <td>...</td>\n",
              "      <td>...</td>\n",
              "      <td>...</td>\n",
              "    </tr>\n",
              "    <tr>\n",
              "      <th>9172</th>\n",
              "      <td>53284</td>\n",
              "      <td>잘못 인정 안하는 박근혜 전 대통령, 누가 ‘사면’을 입 밖에 꺼내는가 구속된 박근...</td>\n",
              "      <td>민주당</td>\n",
              "      <td>인정 박근혜 대통령 사면 구속 박근혜 대통령 기소 변호인단 교체 거론 대통령 본인 ...</td>\n",
              "    </tr>\n",
              "    <tr>\n",
              "      <th>9173</th>\n",
              "      <td>53285</td>\n",
              "      <td>안철수 대표는 부적절한 사면 발언에 대해서 진솔하게 해명해야 한다 국민의당 안철수 ...</td>\n",
              "      <td>민주당</td>\n",
              "      <td>안철수 대표 사면 발언 해명 국민의당 안철수 대표 박근혜 대통령 사면 검토 여지 기...</td>\n",
              "    </tr>\n",
              "    <tr>\n",
              "      <th>9174</th>\n",
              "      <td>53286</td>\n",
              "      <td>홍준표 블랙리스트 발언, 당장 사죄하라 자유한국당 홍준표 후보가 박근혜 정부의 문화...</td>\n",
              "      <td>민주당</td>\n",
              "      <td>홍준표 블랙리스트 발언 당장 사죄 자유 한국당 홍준표 후보 박근혜 정부 문화예술 블...</td>\n",
              "    </tr>\n",
              "    <tr>\n",
              "      <th>9175</th>\n",
              "      <td>53287</td>\n",
              "      <td>반기문 특사와 박근혜 사면이 안철수 후보의 자신감 이었나 안철수 후보가 어제 두 가...</td>\n",
              "      <td>민주당</td>\n",
              "      <td>반기문 특사 박근혜 사면 안철수 후보 자신감 안철수 후보 가지 정치공학 메시지 반기...</td>\n",
              "    </tr>\n",
              "    <tr>\n",
              "      <th>9176</th>\n",
              "      <td>53288</td>\n",
              "      <td>홍준표 후보 완주냐 중도하차냐 홍준표 경남지사가 자유한국당 대통령 후보로 선출되었다...</td>\n",
              "      <td>민주당</td>\n",
              "      <td>홍준표 후보 완주 도하 홍준표 경남 지사 자유 한국당 대통령 후보 선출 대통령 후보...</td>\n",
              "    </tr>\n",
              "  </tbody>\n",
              "</table>\n",
              "<p>9177 rows × 4 columns</p>\n",
              "</div>\n",
              "    <div class=\"colab-df-buttons\">\n",
              "\n",
              "  <div class=\"colab-df-container\">\n",
              "    <button class=\"colab-df-convert\" onclick=\"convertToInteractive('df-58e8b5c3-e324-449a-8c6c-92acaf59e6e2')\"\n",
              "            title=\"Convert this dataframe to an interactive table.\"\n",
              "            style=\"display:none;\">\n",
              "\n",
              "  <svg xmlns=\"http://www.w3.org/2000/svg\" height=\"24px\" viewBox=\"0 -960 960 960\">\n",
              "    <path d=\"M120-120v-720h720v720H120Zm60-500h600v-160H180v160Zm220 220h160v-160H400v160Zm0 220h160v-160H400v160ZM180-400h160v-160H180v160Zm440 0h160v-160H620v160ZM180-180h160v-160H180v160Zm440 0h160v-160H620v160Z\"/>\n",
              "  </svg>\n",
              "    </button>\n",
              "\n",
              "  <style>\n",
              "    .colab-df-container {\n",
              "      display:flex;\n",
              "      gap: 12px;\n",
              "    }\n",
              "\n",
              "    .colab-df-convert {\n",
              "      background-color: #E8F0FE;\n",
              "      border: none;\n",
              "      border-radius: 50%;\n",
              "      cursor: pointer;\n",
              "      display: none;\n",
              "      fill: #1967D2;\n",
              "      height: 32px;\n",
              "      padding: 0 0 0 0;\n",
              "      width: 32px;\n",
              "    }\n",
              "\n",
              "    .colab-df-convert:hover {\n",
              "      background-color: #E2EBFA;\n",
              "      box-shadow: 0px 1px 2px rgba(60, 64, 67, 0.3), 0px 1px 3px 1px rgba(60, 64, 67, 0.15);\n",
              "      fill: #174EA6;\n",
              "    }\n",
              "\n",
              "    .colab-df-buttons div {\n",
              "      margin-bottom: 4px;\n",
              "    }\n",
              "\n",
              "    [theme=dark] .colab-df-convert {\n",
              "      background-color: #3B4455;\n",
              "      fill: #D2E3FC;\n",
              "    }\n",
              "\n",
              "    [theme=dark] .colab-df-convert:hover {\n",
              "      background-color: #434B5C;\n",
              "      box-shadow: 0px 1px 3px 1px rgba(0, 0, 0, 0.15);\n",
              "      filter: drop-shadow(0px 1px 2px rgba(0, 0, 0, 0.3));\n",
              "      fill: #FFFFFF;\n",
              "    }\n",
              "  </style>\n",
              "\n",
              "    <script>\n",
              "      const buttonEl =\n",
              "        document.querySelector('#df-58e8b5c3-e324-449a-8c6c-92acaf59e6e2 button.colab-df-convert');\n",
              "      buttonEl.style.display =\n",
              "        google.colab.kernel.accessAllowed ? 'block' : 'none';\n",
              "\n",
              "      async function convertToInteractive(key) {\n",
              "        const element = document.querySelector('#df-58e8b5c3-e324-449a-8c6c-92acaf59e6e2');\n",
              "        const dataTable =\n",
              "          await google.colab.kernel.invokeFunction('convertToInteractive',\n",
              "                                                    [key], {});\n",
              "        if (!dataTable) return;\n",
              "\n",
              "        const docLinkHtml = 'Like what you see? Visit the ' +\n",
              "          '<a target=\"_blank\" href=https://colab.research.google.com/notebooks/data_table.ipynb>data table notebook</a>'\n",
              "          + ' to learn more about interactive tables.';\n",
              "        element.innerHTML = '';\n",
              "        dataTable['output_type'] = 'display_data';\n",
              "        await google.colab.output.renderOutput(dataTable, element);\n",
              "        const docLink = document.createElement('div');\n",
              "        docLink.innerHTML = docLinkHtml;\n",
              "        element.appendChild(docLink);\n",
              "      }\n",
              "    </script>\n",
              "  </div>\n",
              "\n",
              "\n",
              "<div id=\"df-6c3905ed-c9a5-4e48-bd77-e180fa5fe6a4\">\n",
              "  <button class=\"colab-df-quickchart\" onclick=\"quickchart('df-6c3905ed-c9a5-4e48-bd77-e180fa5fe6a4')\"\n",
              "            title=\"Suggest charts.\"\n",
              "            style=\"display:none;\">\n",
              "\n",
              "<svg xmlns=\"http://www.w3.org/2000/svg\" height=\"24px\"viewBox=\"0 0 24 24\"\n",
              "     width=\"24px\">\n",
              "    <g>\n",
              "        <path d=\"M19 3H5c-1.1 0-2 .9-2 2v14c0 1.1.9 2 2 2h14c1.1 0 2-.9 2-2V5c0-1.1-.9-2-2-2zM9 17H7v-7h2v7zm4 0h-2V7h2v10zm4 0h-2v-4h2v4z\"/>\n",
              "    </g>\n",
              "</svg>\n",
              "  </button>\n",
              "\n",
              "<style>\n",
              "  .colab-df-quickchart {\n",
              "    background-color: #E8F0FE;\n",
              "    border: none;\n",
              "    border-radius: 50%;\n",
              "    cursor: pointer;\n",
              "    display: none;\n",
              "    fill: #1967D2;\n",
              "    height: 32px;\n",
              "    padding: 0 0 0 0;\n",
              "    width: 32px;\n",
              "  }\n",
              "\n",
              "  .colab-df-quickchart:hover {\n",
              "    background-color: #E2EBFA;\n",
              "    box-shadow: 0px 1px 2px rgba(60, 64, 67, 0.3), 0px 1px 3px 1px rgba(60, 64, 67, 0.15);\n",
              "    fill: #174EA6;\n",
              "  }\n",
              "\n",
              "  [theme=dark] .colab-df-quickchart {\n",
              "    background-color: #3B4455;\n",
              "    fill: #D2E3FC;\n",
              "  }\n",
              "\n",
              "  [theme=dark] .colab-df-quickchart:hover {\n",
              "    background-color: #434B5C;\n",
              "    box-shadow: 0px 1px 3px 1px rgba(0, 0, 0, 0.15);\n",
              "    filter: drop-shadow(0px 1px 2px rgba(0, 0, 0, 0.3));\n",
              "    fill: #FFFFFF;\n",
              "  }\n",
              "</style>\n",
              "\n",
              "  <script>\n",
              "    async function quickchart(key) {\n",
              "      const charts = await google.colab.kernel.invokeFunction(\n",
              "          'suggestCharts', [key], {});\n",
              "    }\n",
              "    (() => {\n",
              "      let quickchartButtonEl =\n",
              "        document.querySelector('#df-6c3905ed-c9a5-4e48-bd77-e180fa5fe6a4 button');\n",
              "      quickchartButtonEl.style.display =\n",
              "        google.colab.kernel.accessAllowed ? 'block' : 'none';\n",
              "    })();\n",
              "  </script>\n",
              "</div>\n",
              "    </div>\n",
              "  </div>\n"
            ]
          },
          "metadata": {},
          "execution_count": 5
        }
      ]
    },
    {
      "cell_type": "code",
      "source": [
        "4npp = pd.read_csv('NPP_final_0729.csv')\n",
        "tmp = pd.read_csv('TMP_final_0729.csv')"
      ],
      "metadata": {
        "id": "HLcaskW83IF9"
      },
      "execution_count": null,
      "outputs": []
    },
    {
      "cell_type": "code",
      "source": [
        "print(npp.shape)\n",
        "print(tmp.shape)"
      ],
      "metadata": {
        "colab": {
          "base_uri": "https://localhost:8080/"
        },
        "id": "176aHxRp0GGJ",
        "outputId": "8dd2a84a-ce41-470e-d5b1-5ffcf0814fff"
      },
      "execution_count": null,
      "outputs": [
        {
          "output_type": "stream",
          "name": "stdout",
          "text": [
            "(40452, 4)\n",
            "(39477, 4)\n"
          ]
        }
      ]
    },
    {
      "cell_type": "code",
      "source": [
        "npp['target'] = 'npp'\n",
        "tmp['target'] = 'tmp'\n",
        "\n",
        "df = pd.concat([npp, tmp]).reset_index()"
      ],
      "metadata": {
        "id": "ec6-uiUkw5VB"
      },
      "execution_count": null,
      "outputs": []
    },
    {
      "cell_type": "code",
      "source": [
        "df.head(3)"
      ],
      "metadata": {
        "colab": {
          "base_uri": "https://localhost:8080/",
          "height": 142
        },
        "id": "_fTZE-VpwN2K",
        "outputId": "f8c2ad39-4c7d-4ca1-b6c1-866ef9b17c16"
      },
      "execution_count": null,
      "outputs": [
        {
          "output_type": "execute_result",
          "data": {
            "text/plain": [
              "   index        category  year  quarter  \\\n",
              "0      0  대변인 보도자료 및 브리핑  2023        3   \n",
              "1      1  대변인 보도자료 및 브리핑  2023        3   \n",
              "2      2  대변인 보도자료 및 브리핑  2023        3   \n",
              "\n",
              "                                             content target title  \n",
              "0  ‘빗물을 나르는 고속도로’라 불리는 대심도 빗물터널 조금 전에 둘러보고 왔다. 신월...    npp   NaN  \n",
              "1  오늘 한 언론에 보도된 무소속 박완주 의원의 검찰 공소장 안에는, 강력 성범죄자의 ...    npp   NaN  \n",
              "2  전국적인 집중호우로 많은 국민들이 희생되고 막대한 재산 피해가 발생했다. 당장 전면...    npp   NaN  "
            ],
            "text/html": [
              "\n",
              "  <div id=\"df-a0f07721-03a7-416b-b5e5-98eaf2a4f91a\" class=\"colab-df-container\">\n",
              "    <div>\n",
              "<style scoped>\n",
              "    .dataframe tbody tr th:only-of-type {\n",
              "        vertical-align: middle;\n",
              "    }\n",
              "\n",
              "    .dataframe tbody tr th {\n",
              "        vertical-align: top;\n",
              "    }\n",
              "\n",
              "    .dataframe thead th {\n",
              "        text-align: right;\n",
              "    }\n",
              "</style>\n",
              "<table border=\"1\" class=\"dataframe\">\n",
              "  <thead>\n",
              "    <tr style=\"text-align: right;\">\n",
              "      <th></th>\n",
              "      <th>index</th>\n",
              "      <th>category</th>\n",
              "      <th>year</th>\n",
              "      <th>quarter</th>\n",
              "      <th>content</th>\n",
              "      <th>target</th>\n",
              "      <th>title</th>\n",
              "    </tr>\n",
              "  </thead>\n",
              "  <tbody>\n",
              "    <tr>\n",
              "      <th>0</th>\n",
              "      <td>0</td>\n",
              "      <td>대변인 보도자료 및 브리핑</td>\n",
              "      <td>2023</td>\n",
              "      <td>3</td>\n",
              "      <td>‘빗물을 나르는 고속도로’라 불리는 대심도 빗물터널 조금 전에 둘러보고 왔다. 신월...</td>\n",
              "      <td>npp</td>\n",
              "      <td>NaN</td>\n",
              "    </tr>\n",
              "    <tr>\n",
              "      <th>1</th>\n",
              "      <td>1</td>\n",
              "      <td>대변인 보도자료 및 브리핑</td>\n",
              "      <td>2023</td>\n",
              "      <td>3</td>\n",
              "      <td>오늘 한 언론에 보도된 무소속 박완주 의원의 검찰 공소장 안에는, 강력 성범죄자의 ...</td>\n",
              "      <td>npp</td>\n",
              "      <td>NaN</td>\n",
              "    </tr>\n",
              "    <tr>\n",
              "      <th>2</th>\n",
              "      <td>2</td>\n",
              "      <td>대변인 보도자료 및 브리핑</td>\n",
              "      <td>2023</td>\n",
              "      <td>3</td>\n",
              "      <td>전국적인 집중호우로 많은 국민들이 희생되고 막대한 재산 피해가 발생했다. 당장 전면...</td>\n",
              "      <td>npp</td>\n",
              "      <td>NaN</td>\n",
              "    </tr>\n",
              "  </tbody>\n",
              "</table>\n",
              "</div>\n",
              "    <div class=\"colab-df-buttons\">\n",
              "\n",
              "  <div class=\"colab-df-container\">\n",
              "    <button class=\"colab-df-convert\" onclick=\"convertToInteractive('df-a0f07721-03a7-416b-b5e5-98eaf2a4f91a')\"\n",
              "            title=\"Convert this dataframe to an interactive table.\"\n",
              "            style=\"display:none;\">\n",
              "\n",
              "  <svg xmlns=\"http://www.w3.org/2000/svg\" height=\"24px\" viewBox=\"0 -960 960 960\">\n",
              "    <path d=\"M120-120v-720h720v720H120Zm60-500h600v-160H180v160Zm220 220h160v-160H400v160Zm0 220h160v-160H400v160ZM180-400h160v-160H180v160Zm440 0h160v-160H620v160ZM180-180h160v-160H180v160Zm440 0h160v-160H620v160Z\"/>\n",
              "  </svg>\n",
              "    </button>\n",
              "\n",
              "  <style>\n",
              "    .colab-df-container {\n",
              "      display:flex;\n",
              "      gap: 12px;\n",
              "    }\n",
              "\n",
              "    .colab-df-convert {\n",
              "      background-color: #E8F0FE;\n",
              "      border: none;\n",
              "      border-radius: 50%;\n",
              "      cursor: pointer;\n",
              "      display: none;\n",
              "      fill: #1967D2;\n",
              "      height: 32px;\n",
              "      padding: 0 0 0 0;\n",
              "      width: 32px;\n",
              "    }\n",
              "\n",
              "    .colab-df-convert:hover {\n",
              "      background-color: #E2EBFA;\n",
              "      box-shadow: 0px 1px 2px rgba(60, 64, 67, 0.3), 0px 1px 3px 1px rgba(60, 64, 67, 0.15);\n",
              "      fill: #174EA6;\n",
              "    }\n",
              "\n",
              "    .colab-df-buttons div {\n",
              "      margin-bottom: 4px;\n",
              "    }\n",
              "\n",
              "    [theme=dark] .colab-df-convert {\n",
              "      background-color: #3B4455;\n",
              "      fill: #D2E3FC;\n",
              "    }\n",
              "\n",
              "    [theme=dark] .colab-df-convert:hover {\n",
              "      background-color: #434B5C;\n",
              "      box-shadow: 0px 1px 3px 1px rgba(0, 0, 0, 0.15);\n",
              "      filter: drop-shadow(0px 1px 2px rgba(0, 0, 0, 0.3));\n",
              "      fill: #FFFFFF;\n",
              "    }\n",
              "  </style>\n",
              "\n",
              "    <script>\n",
              "      const buttonEl =\n",
              "        document.querySelector('#df-a0f07721-03a7-416b-b5e5-98eaf2a4f91a button.colab-df-convert');\n",
              "      buttonEl.style.display =\n",
              "        google.colab.kernel.accessAllowed ? 'block' : 'none';\n",
              "\n",
              "      async function convertToInteractive(key) {\n",
              "        const element = document.querySelector('#df-a0f07721-03a7-416b-b5e5-98eaf2a4f91a');\n",
              "        const dataTable =\n",
              "          await google.colab.kernel.invokeFunction('convertToInteractive',\n",
              "                                                    [key], {});\n",
              "        if (!dataTable) return;\n",
              "\n",
              "        const docLinkHtml = 'Like what you see? Visit the ' +\n",
              "          '<a target=\"_blank\" href=https://colab.research.google.com/notebooks/data_table.ipynb>data table notebook</a>'\n",
              "          + ' to learn more about interactive tables.';\n",
              "        element.innerHTML = '';\n",
              "        dataTable['output_type'] = 'display_data';\n",
              "        await google.colab.output.renderOutput(dataTable, element);\n",
              "        const docLink = document.createElement('div');\n",
              "        docLink.innerHTML = docLinkHtml;\n",
              "        element.appendChild(docLink);\n",
              "      }\n",
              "    </script>\n",
              "  </div>\n",
              "\n",
              "\n",
              "<div id=\"df-2c66aeb5-6e81-4a28-b0de-0f67b5278043\">\n",
              "  <button class=\"colab-df-quickchart\" onclick=\"quickchart('df-2c66aeb5-6e81-4a28-b0de-0f67b5278043')\"\n",
              "            title=\"Suggest charts.\"\n",
              "            style=\"display:none;\">\n",
              "\n",
              "<svg xmlns=\"http://www.w3.org/2000/svg\" height=\"24px\"viewBox=\"0 0 24 24\"\n",
              "     width=\"24px\">\n",
              "    <g>\n",
              "        <path d=\"M19 3H5c-1.1 0-2 .9-2 2v14c0 1.1.9 2 2 2h14c1.1 0 2-.9 2-2V5c0-1.1-.9-2-2-2zM9 17H7v-7h2v7zm4 0h-2V7h2v10zm4 0h-2v-4h2v4z\"/>\n",
              "    </g>\n",
              "</svg>\n",
              "  </button>\n",
              "\n",
              "<style>\n",
              "  .colab-df-quickchart {\n",
              "    background-color: #E8F0FE;\n",
              "    border: none;\n",
              "    border-radius: 50%;\n",
              "    cursor: pointer;\n",
              "    display: none;\n",
              "    fill: #1967D2;\n",
              "    height: 32px;\n",
              "    padding: 0 0 0 0;\n",
              "    width: 32px;\n",
              "  }\n",
              "\n",
              "  .colab-df-quickchart:hover {\n",
              "    background-color: #E2EBFA;\n",
              "    box-shadow: 0px 1px 2px rgba(60, 64, 67, 0.3), 0px 1px 3px 1px rgba(60, 64, 67, 0.15);\n",
              "    fill: #174EA6;\n",
              "  }\n",
              "\n",
              "  [theme=dark] .colab-df-quickchart {\n",
              "    background-color: #3B4455;\n",
              "    fill: #D2E3FC;\n",
              "  }\n",
              "\n",
              "  [theme=dark] .colab-df-quickchart:hover {\n",
              "    background-color: #434B5C;\n",
              "    box-shadow: 0px 1px 3px 1px rgba(0, 0, 0, 0.15);\n",
              "    filter: drop-shadow(0px 1px 2px rgba(0, 0, 0, 0.3));\n",
              "    fill: #FFFFFF;\n",
              "  }\n",
              "</style>\n",
              "\n",
              "  <script>\n",
              "    async function quickchart(key) {\n",
              "      const charts = await google.colab.kernel.invokeFunction(\n",
              "          'suggestCharts', [key], {});\n",
              "    }\n",
              "    (() => {\n",
              "      let quickchartButtonEl =\n",
              "        document.querySelector('#df-2c66aeb5-6e81-4a28-b0de-0f67b5278043 button');\n",
              "      quickchartButtonEl.style.display =\n",
              "        google.colab.kernel.accessAllowed ? 'block' : 'none';\n",
              "    })();\n",
              "  </script>\n",
              "</div>\n",
              "    </div>\n",
              "  </div>\n"
            ]
          },
          "metadata": {},
          "execution_count": 7
        }
      ]
    },
    {
      "cell_type": "code",
      "source": [
        "df = df[['content','target']]"
      ],
      "metadata": {
        "id": "w6AqgMJLxWZz"
      },
      "execution_count": null,
      "outputs": []
    },
    {
      "cell_type": "code",
      "source": [
        "df['target'].value_counts()"
      ],
      "metadata": {
        "colab": {
          "base_uri": "https://localhost:8080/"
        },
        "id": "dQTsNMHzcX_8",
        "outputId": "4437fa3b-d639-496e-8926-faf558890b6f"
      },
      "execution_count": null,
      "outputs": [
        {
          "output_type": "execute_result",
          "data": {
            "text/plain": [
              "npp    40452\n",
              "tmp    39477\n",
              "Name: target, dtype: int64"
            ]
          },
          "metadata": {},
          "execution_count": 9
        }
      ]
    },
    {
      "cell_type": "code",
      "source": [
        "df = df.dropna()"
      ],
      "metadata": {
        "id": "tVmL5Jp-3j2Z"
      },
      "execution_count": null,
      "outputs": []
    },
    {
      "cell_type": "code",
      "source": [
        "df.isna().sum()"
      ],
      "metadata": {
        "colab": {
          "base_uri": "https://localhost:8080/"
        },
        "id": "TnU6yvN8wNzg",
        "outputId": "17f36040-9cd7-4325-ca23-69167b728e64"
      },
      "execution_count": null,
      "outputs": [
        {
          "output_type": "execute_result",
          "data": {
            "text/plain": [
              "content    0\n",
              "target     0\n",
              "dtype: int64"
            ]
          },
          "metadata": {},
          "execution_count": 11
        }
      ]
    },
    {
      "cell_type": "code",
      "source": [
        "from sklearn.preprocessing import LabelEncoder\n",
        "\n",
        "label_encoder = LabelEncoder()\n",
        "df['target_encoded'] = label_encoder.fit_transform(df['target'])\n",
        "\n",
        "df.head()"
      ],
      "metadata": {
        "colab": {
          "base_uri": "https://localhost:8080/",
          "height": 221
        },
        "id": "QYabMfT4ysOK",
        "outputId": "240a4151-61ac-4192-ecf5-d603c2f8845e"
      },
      "execution_count": null,
      "outputs": [
        {
          "output_type": "execute_result",
          "data": {
            "text/plain": [
              "                                             content target  target_encoded\n",
              "0  ‘빗물을 나르는 고속도로’라 불리는 대심도 빗물터널 조금 전에 둘러보고 왔다. 신월...    npp               0\n",
              "1  오늘 한 언론에 보도된 무소속 박완주 의원의 검찰 공소장 안에는, 강력 성범죄자의 ...    npp               0\n",
              "2  전국적인 집중호우로 많은 국민들이 희생되고 막대한 재산 피해가 발생했다. 당장 전면...    npp               0\n",
              "3  더불어민주당이 윤석열 정부의 ‘시행령 추진’에 본격적으로 제동을 걸고 있다. KBS...    npp               0\n",
              "4  그칠 줄 모르던 비가 잠시 소강상태에 접어들었지만, 폭우가 할퀴고 간 자리에 남겨진...    npp               0"
            ],
            "text/html": [
              "\n",
              "  <div id=\"df-90b399b7-b9e1-4eb8-a755-e0c7ab214fb5\" class=\"colab-df-container\">\n",
              "    <div>\n",
              "<style scoped>\n",
              "    .dataframe tbody tr th:only-of-type {\n",
              "        vertical-align: middle;\n",
              "    }\n",
              "\n",
              "    .dataframe tbody tr th {\n",
              "        vertical-align: top;\n",
              "    }\n",
              "\n",
              "    .dataframe thead th {\n",
              "        text-align: right;\n",
              "    }\n",
              "</style>\n",
              "<table border=\"1\" class=\"dataframe\">\n",
              "  <thead>\n",
              "    <tr style=\"text-align: right;\">\n",
              "      <th></th>\n",
              "      <th>content</th>\n",
              "      <th>target</th>\n",
              "      <th>target_encoded</th>\n",
              "    </tr>\n",
              "  </thead>\n",
              "  <tbody>\n",
              "    <tr>\n",
              "      <th>0</th>\n",
              "      <td>‘빗물을 나르는 고속도로’라 불리는 대심도 빗물터널 조금 전에 둘러보고 왔다. 신월...</td>\n",
              "      <td>npp</td>\n",
              "      <td>0</td>\n",
              "    </tr>\n",
              "    <tr>\n",
              "      <th>1</th>\n",
              "      <td>오늘 한 언론에 보도된 무소속 박완주 의원의 검찰 공소장 안에는, 강력 성범죄자의 ...</td>\n",
              "      <td>npp</td>\n",
              "      <td>0</td>\n",
              "    </tr>\n",
              "    <tr>\n",
              "      <th>2</th>\n",
              "      <td>전국적인 집중호우로 많은 국민들이 희생되고 막대한 재산 피해가 발생했다. 당장 전면...</td>\n",
              "      <td>npp</td>\n",
              "      <td>0</td>\n",
              "    </tr>\n",
              "    <tr>\n",
              "      <th>3</th>\n",
              "      <td>더불어민주당이 윤석열 정부의 ‘시행령 추진’에 본격적으로 제동을 걸고 있다. KBS...</td>\n",
              "      <td>npp</td>\n",
              "      <td>0</td>\n",
              "    </tr>\n",
              "    <tr>\n",
              "      <th>4</th>\n",
              "      <td>그칠 줄 모르던 비가 잠시 소강상태에 접어들었지만, 폭우가 할퀴고 간 자리에 남겨진...</td>\n",
              "      <td>npp</td>\n",
              "      <td>0</td>\n",
              "    </tr>\n",
              "  </tbody>\n",
              "</table>\n",
              "</div>\n",
              "    <div class=\"colab-df-buttons\">\n",
              "\n",
              "  <div class=\"colab-df-container\">\n",
              "    <button class=\"colab-df-convert\" onclick=\"convertToInteractive('df-90b399b7-b9e1-4eb8-a755-e0c7ab214fb5')\"\n",
              "            title=\"Convert this dataframe to an interactive table.\"\n",
              "            style=\"display:none;\">\n",
              "\n",
              "  <svg xmlns=\"http://www.w3.org/2000/svg\" height=\"24px\" viewBox=\"0 -960 960 960\">\n",
              "    <path d=\"M120-120v-720h720v720H120Zm60-500h600v-160H180v160Zm220 220h160v-160H400v160Zm0 220h160v-160H400v160ZM180-400h160v-160H180v160Zm440 0h160v-160H620v160ZM180-180h160v-160H180v160Zm440 0h160v-160H620v160Z\"/>\n",
              "  </svg>\n",
              "    </button>\n",
              "\n",
              "  <style>\n",
              "    .colab-df-container {\n",
              "      display:flex;\n",
              "      gap: 12px;\n",
              "    }\n",
              "\n",
              "    .colab-df-convert {\n",
              "      background-color: #E8F0FE;\n",
              "      border: none;\n",
              "      border-radius: 50%;\n",
              "      cursor: pointer;\n",
              "      display: none;\n",
              "      fill: #1967D2;\n",
              "      height: 32px;\n",
              "      padding: 0 0 0 0;\n",
              "      width: 32px;\n",
              "    }\n",
              "\n",
              "    .colab-df-convert:hover {\n",
              "      background-color: #E2EBFA;\n",
              "      box-shadow: 0px 1px 2px rgba(60, 64, 67, 0.3), 0px 1px 3px 1px rgba(60, 64, 67, 0.15);\n",
              "      fill: #174EA6;\n",
              "    }\n",
              "\n",
              "    .colab-df-buttons div {\n",
              "      margin-bottom: 4px;\n",
              "    }\n",
              "\n",
              "    [theme=dark] .colab-df-convert {\n",
              "      background-color: #3B4455;\n",
              "      fill: #D2E3FC;\n",
              "    }\n",
              "\n",
              "    [theme=dark] .colab-df-convert:hover {\n",
              "      background-color: #434B5C;\n",
              "      box-shadow: 0px 1px 3px 1px rgba(0, 0, 0, 0.15);\n",
              "      filter: drop-shadow(0px 1px 2px rgba(0, 0, 0, 0.3));\n",
              "      fill: #FFFFFF;\n",
              "    }\n",
              "  </style>\n",
              "\n",
              "    <script>\n",
              "      const buttonEl =\n",
              "        document.querySelector('#df-90b399b7-b9e1-4eb8-a755-e0c7ab214fb5 button.colab-df-convert');\n",
              "      buttonEl.style.display =\n",
              "        google.colab.kernel.accessAllowed ? 'block' : 'none';\n",
              "\n",
              "      async function convertToInteractive(key) {\n",
              "        const element = document.querySelector('#df-90b399b7-b9e1-4eb8-a755-e0c7ab214fb5');\n",
              "        const dataTable =\n",
              "          await google.colab.kernel.invokeFunction('convertToInteractive',\n",
              "                                                    [key], {});\n",
              "        if (!dataTable) return;\n",
              "\n",
              "        const docLinkHtml = 'Like what you see? Visit the ' +\n",
              "          '<a target=\"_blank\" href=https://colab.research.google.com/notebooks/data_table.ipynb>data table notebook</a>'\n",
              "          + ' to learn more about interactive tables.';\n",
              "        element.innerHTML = '';\n",
              "        dataTable['output_type'] = 'display_data';\n",
              "        await google.colab.output.renderOutput(dataTable, element);\n",
              "        const docLink = document.createElement('div');\n",
              "        docLink.innerHTML = docLinkHtml;\n",
              "        element.appendChild(docLink);\n",
              "      }\n",
              "    </script>\n",
              "  </div>\n",
              "\n",
              "\n",
              "<div id=\"df-a05a31e0-0568-4ac5-b2af-b22ff21b2f5f\">\n",
              "  <button class=\"colab-df-quickchart\" onclick=\"quickchart('df-a05a31e0-0568-4ac5-b2af-b22ff21b2f5f')\"\n",
              "            title=\"Suggest charts.\"\n",
              "            style=\"display:none;\">\n",
              "\n",
              "<svg xmlns=\"http://www.w3.org/2000/svg\" height=\"24px\"viewBox=\"0 0 24 24\"\n",
              "     width=\"24px\">\n",
              "    <g>\n",
              "        <path d=\"M19 3H5c-1.1 0-2 .9-2 2v14c0 1.1.9 2 2 2h14c1.1 0 2-.9 2-2V5c0-1.1-.9-2-2-2zM9 17H7v-7h2v7zm4 0h-2V7h2v10zm4 0h-2v-4h2v4z\"/>\n",
              "    </g>\n",
              "</svg>\n",
              "  </button>\n",
              "\n",
              "<style>\n",
              "  .colab-df-quickchart {\n",
              "    background-color: #E8F0FE;\n",
              "    border: none;\n",
              "    border-radius: 50%;\n",
              "    cursor: pointer;\n",
              "    display: none;\n",
              "    fill: #1967D2;\n",
              "    height: 32px;\n",
              "    padding: 0 0 0 0;\n",
              "    width: 32px;\n",
              "  }\n",
              "\n",
              "  .colab-df-quickchart:hover {\n",
              "    background-color: #E2EBFA;\n",
              "    box-shadow: 0px 1px 2px rgba(60, 64, 67, 0.3), 0px 1px 3px 1px rgba(60, 64, 67, 0.15);\n",
              "    fill: #174EA6;\n",
              "  }\n",
              "\n",
              "  [theme=dark] .colab-df-quickchart {\n",
              "    background-color: #3B4455;\n",
              "    fill: #D2E3FC;\n",
              "  }\n",
              "\n",
              "  [theme=dark] .colab-df-quickchart:hover {\n",
              "    background-color: #434B5C;\n",
              "    box-shadow: 0px 1px 3px 1px rgba(0, 0, 0, 0.15);\n",
              "    filter: drop-shadow(0px 1px 2px rgba(0, 0, 0, 0.3));\n",
              "    fill: #FFFFFF;\n",
              "  }\n",
              "</style>\n",
              "\n",
              "  <script>\n",
              "    async function quickchart(key) {\n",
              "      const charts = await google.colab.kernel.invokeFunction(\n",
              "          'suggestCharts', [key], {});\n",
              "    }\n",
              "    (() => {\n",
              "      let quickchartButtonEl =\n",
              "        document.querySelector('#df-a05a31e0-0568-4ac5-b2af-b22ff21b2f5f button');\n",
              "      quickchartButtonEl.style.display =\n",
              "        google.colab.kernel.accessAllowed ? 'block' : 'none';\n",
              "    })();\n",
              "  </script>\n",
              "</div>\n",
              "    </div>\n",
              "  </div>\n"
            ]
          },
          "metadata": {},
          "execution_count": 12
        }
      ]
    },
    {
      "cell_type": "code",
      "source": [
        "df['target_encoded'].unique()"
      ],
      "metadata": {
        "colab": {
          "base_uri": "https://localhost:8080/"
        },
        "id": "kbh27_0rdtMJ",
        "outputId": "3f7933de-19eb-461e-cd50-5dbf65b74c89"
      },
      "execution_count": null,
      "outputs": [
        {
          "output_type": "execute_result",
          "data": {
            "text/plain": [
              "array([0, 1])"
            ]
          },
          "metadata": {},
          "execution_count": 13
        }
      ]
    },
    {
      "cell_type": "markdown",
      "source": [
        "### Text Classification\n"
      ],
      "metadata": {
        "id": "XCbCky2Ipdml"
      }
    },
    {
      "cell_type": "code",
      "source": [
        "import tensorflow as tf"
      ],
      "metadata": {
        "id": "op3PlJnCpgOc"
      },
      "execution_count": null,
      "outputs": []
    },
    {
      "cell_type": "code",
      "source": [
        "class MultiHeadAttention(tf.keras.layers.Layer):\n",
        "    def __init__(self, embedding_dim, num_heads=8):\n",
        "        super(MultiHeadAttention, self).__init__()\n",
        "        self.embedding_dim = embedding_dim # d_model\n",
        "        self.num_heads = num_heads\n",
        "\n",
        "        assert embedding_dim % self.num_heads == 0\n",
        "\n",
        "        self.projection_dim = embedding_dim // num_heads\n",
        "        self.query_dense = tf.keras.layers.Dense(embedding_dim)\n",
        "        self.key_dense = tf.keras.layers.Dense(embedding_dim)\n",
        "        self.value_dense = tf.keras.layers.Dense(embedding_dim)\n",
        "        self.dense = tf.keras.layers.Dense(embedding_dim)\n",
        "\n",
        "    def scaled_dot_product_attention(self, query, key, value):\n",
        "        matmul_qk = tf.matmul(query, key, transpose_b=True)\n",
        "        depth = tf.cast(tf.shape(key)[-1], tf.float32)\n",
        "        logits = matmul_qk / tf.math.sqrt(depth)\n",
        "        attention_weights = tf.nn.softmax(logits, axis=-1)\n",
        "        output = tf.matmul(attention_weights, value)\n",
        "        return output, attention_weights\n",
        "\n",
        "    def split_heads(self, x, batch_size):\n",
        "        x = tf.reshape(x, (batch_size, -1, self.num_heads, self.projection_dim))\n",
        "        return tf.transpose(x, perm=[0, 2, 1, 3])\n",
        "\n",
        "    def call(self, inputs):\n",
        "        # x.shape = [batch_size, seq_len, embedding_dim]\n",
        "        batch_size = tf.shape(inputs)[0]\n",
        "\n",
        "        # (batch_size, seq_len, embedding_dim)\n",
        "        query = self.query_dense(inputs)\n",
        "        key = self.key_dense(inputs)\n",
        "        value = self.value_dense(inputs)\n",
        "\n",
        "        # (batch_size, num_heads, seq_len, projection_dim)\n",
        "        query = self.split_heads(query, batch_size)\n",
        "        key = self.split_heads(key, batch_size)\n",
        "        value = self.split_heads(value, batch_size)\n",
        "\n",
        "        scaled_attention, _ = self.scaled_dot_product_attention(query, key, value)\n",
        "        # (batch_size, seq_len, num_heads, projection_dim)\n",
        "        scaled_attention = tf.transpose(scaled_attention, perm=[0, 2, 1, 3])\n",
        "\n",
        "        # (batch_size, seq_len, embedding_dim)\n",
        "        concat_attention = tf.reshape(scaled_attention, (batch_size, -1, self.embedding_dim))\n",
        "        outputs = self.dense(concat_attention)\n",
        "        return outputs\n"
      ],
      "metadata": {
        "id": "vUyOU16eptyq"
      },
      "execution_count": null,
      "outputs": []
    },
    {
      "cell_type": "code",
      "source": [
        "class TransformerBlock(tf.keras.layers.Layer):\n",
        "    def __init__(self, embedding_dim, num_heads, dff, rate=0.1):\n",
        "        super(TransformerBlock, self).__init__()\n",
        "        self.att = MultiHeadAttention(embedding_dim, num_heads)\n",
        "        self.ffn = tf.keras.Sequential(\n",
        "            [tf.keras.layers.Dense(dff, activation=\"relu\"),\n",
        "             tf.keras.layers.Dense(embedding_dim),]\n",
        "        )\n",
        "        self.layernorm1 = tf.keras.layers.LayerNormalization(epsilon=1e-6)\n",
        "        self.layernorm2 = tf.keras.layers.LayerNormalization(epsilon=1e-6)\n",
        "        self.dropout1 = tf.keras.layers.Dropout(rate)\n",
        "        self.dropout2 = tf.keras.layers.Dropout(rate)\n",
        "\n",
        "    def call(self, inputs, training):\n",
        "        attn_output = self.att(inputs) # 첫번째 서브층 : 멀티 헤드 어텐션\n",
        "        attn_output = self.dropout1(attn_output, training=training)\n",
        "        out1 = self.layernorm1(inputs + attn_output) # Add & Norm\n",
        "        ffn_output = self.ffn(out1) # 두번째 서브층 : 포지션 와이즈 피드 포워드 신경망\n",
        "        ffn_output = self.dropout2(ffn_output, training=training)\n",
        "        return self.layernorm2(out1 + ffn_output) # Add & Norm\n"
      ],
      "metadata": {
        "id": "kMHMV1unptvV"
      },
      "execution_count": null,
      "outputs": []
    },
    {
      "cell_type": "code",
      "source": [
        "class TokenAndPositionEmbedding(tf.keras.layers.Layer):\n",
        "    def __init__(self, max_len, vocab_size, embedding_dim):\n",
        "        super(TokenAndPositionEmbedding, self).__init__()\n",
        "        self.token_emb = tf.keras.layers.Embedding(vocab_size, embedding_dim)\n",
        "        self.pos_emb = tf.keras.layers.Embedding(max_len, embedding_dim)\n",
        "\n",
        "    def call(self, x):\n",
        "        max_len = tf.shape(x)[-1]\n",
        "        positions = tf.range(start=0, limit=max_len, delta=1)\n",
        "        positions = self.pos_emb(positions)\n",
        "        x = self.token_emb(x)\n",
        "        return x + positions"
      ],
      "metadata": {
        "id": "W0mRuoUUptnZ"
      },
      "execution_count": null,
      "outputs": []
    },
    {
      "cell_type": "code",
      "source": [
        "# import numpy as np\n",
        "# from sklearn.model_selection import train_test_split\n",
        "\n",
        "\n",
        "# X_train, X_test, y_train, y_test = train_test_split(df['content'], df['target_encoded'], test_size=0.2, random_state=42, shuffle=True)\n",
        "\n",
        "# print('Number of training reviews: {}'.format(len(X_train)))\n",
        "# print('Number of testing reviews: {}'.format(len(X_test)))"
      ],
      "metadata": {
        "id": "h8_BtckLp12x"
      },
      "execution_count": null,
      "outputs": []
    },
    {
      "cell_type": "code",
      "source": [
        "from sklearn.model_selection import train_test_split\n",
        "\n",
        "# 데이터 분할\n",
        "X_train, X_temp, y_train, y_temp = train_test_split(df['content'], df['target_encoded'], test_size=0.2, random_state=42, shuffle=True)\n",
        "X_val, X_test, y_val, y_test = train_test_split(X_temp, y_temp, test_size=0.5, random_state=42, shuffle=True)\n",
        "\n",
        "print('Number of training reviews: {}'.format(len(X_train)))\n",
        "print('Number of testing reviews: {}'.format(len(X_test)))\n",
        "print('Number of validation reviews: {}'.format(len(X_val)))"
      ],
      "metadata": {
        "colab": {
          "base_uri": "https://localhost:8080/"
        },
        "id": "ovWYewUfqytb",
        "outputId": "18ffff6f-1dea-46fe-d06d-1be8c3bf8af0"
      },
      "execution_count": null,
      "outputs": [
        {
          "output_type": "stream",
          "name": "stdout",
          "text": [
            "Number of training reviews: 63941\n",
            "Number of testing reviews: 7993\n",
            "Number of validation reviews: 7993\n"
          ]
        }
      ]
    },
    {
      "cell_type": "code",
      "source": [
        "max_len = 1024\n",
        "vocab_size = 20000  # 빈도수 상위 2만개의 단어만 사용"
      ],
      "metadata": {
        "id": "U1aF5f2wsULp"
      },
      "execution_count": null,
      "outputs": []
    },
    {
      "cell_type": "code",
      "source": [
        "import tensorflow as tf\n",
        "from tensorflow.keras.preprocessing.sequence import pad_sequences\n",
        "from tensorflow.keras.preprocessing.text import Tokenizer\n",
        "\n",
        "# Convert text to integer sequences\n",
        "tokenizer = Tokenizer(num_words=vocab_size)\n",
        "tokenizer.fit_on_texts(X_train)\n",
        "\n",
        "X_train_seq = tokenizer.texts_to_sequences(X_train)\n",
        "X_test_seq = tokenizer.texts_to_sequences(X_test)\n",
        "X_val_seq = tokenizer.texts_to_sequences(X_val)\n",
        "\n",
        "\n",
        "# Pad sequences\n",
        "X_train_padded = pad_sequences(X_train_seq, maxlen=max_len)\n",
        "X_test_padded = pad_sequences(X_test_seq, maxlen=max_len)\n",
        "X_val_padded = pad_sequences(X_val_seq, maxlen=max_len)\n",
        "\n",
        "print('Shape of X_train_padded:', X_train_padded.shape)\n",
        "print('Shape of X_test_padded:', X_test_padded.shape)\n",
        "print('Shape of X_val_padded:', X_val_padded.shape)"
      ],
      "metadata": {
        "colab": {
          "base_uri": "https://localhost:8080/"
        },
        "id": "xh5giNLjp1uw",
        "outputId": "5e86768c-e01f-423a-d8b0-1fa380835e67"
      },
      "execution_count": null,
      "outputs": [
        {
          "output_type": "stream",
          "name": "stdout",
          "text": [
            "Shape of X_train_padded: (63941, 1024)\n",
            "Shape of X_test_padded: (7993, 1024)\n",
            "Shape of X_val_padded: (7993, 1024)\n"
          ]
        }
      ]
    },
    {
      "cell_type": "code",
      "source": [
        "embedding_dim = 32  # 각 단어의 임베딩 벡터의 차원\n",
        "num_heads = 2 # 어텐션 헤드의 수\n",
        "dff = 64  # 포지션 와이즈 피드 포워드 신경망의 은닉층의 크기\n",
        "\n",
        "inputs = tf.keras.layers.Input(shape=(max_len,))\n",
        "embedding_layer = TokenAndPositionEmbedding(max_len, vocab_size, embedding_dim)\n",
        "x = embedding_layer(inputs)\n",
        "transformer_block = TransformerBlock(embedding_dim, num_heads, dff)\n",
        "x = transformer_block(x)\n",
        "x = tf.keras.layers.GlobalAveragePooling1D()(x)\n",
        "x = tf.keras.layers.Dropout(0.5)(x)\n",
        "x = tf.keras.layers.Dense(20, activation=\"relu\")(x)\n",
        "x = tf.keras.layers.Dropout(0.5)(x)\n",
        "outputs = tf.keras.layers.Dense(2, activation=\"softmax\")(x)\n",
        "\n",
        "model = tf.keras.Model(inputs=inputs, outputs=outputs)"
      ],
      "metadata": {
        "id": "EyckRLc1qFSV"
      },
      "execution_count": null,
      "outputs": []
    },
    {
      "cell_type": "code",
      "source": [
        "# model.compile(\"adam\", \"sparse_categorical_crossentropy\", metrics=[\"accuracy\"])\n",
        "# history = model.fit(X_train_padded, y_train, batch_size=256, epochs=50, validation_data=(X_test_padded, y_test))"
      ],
      "metadata": {
        "id": "t9KDxBHM-rcV"
      },
      "execution_count": null,
      "outputs": []
    },
    {
      "cell_type": "code",
      "source": [
        "from keras.callbacks import EarlyStopping\n",
        "\n",
        "early_stopping = EarlyStopping(monitor='val_loss', patience=3, restore_best_weights=True)\n",
        "\n",
        "model.compile(optimizer='adam', loss='sparse_categorical_crossentropy', metrics=['accuracy'])\n",
        "history = model.fit(X_train_padded, y_train, batch_size=256, epochs=50,  validation_data=(X_val_padded, y_val), callbacks=[early_stopping])"
      ],
      "metadata": {
        "id": "0pe7h2y6qFOR"
      },
      "execution_count": null,
      "outputs": []
    },
    {
      "cell_type": "code",
      "source": [
        "ls"
      ],
      "metadata": {
        "colab": {
          "base_uri": "https://localhost:8080/"
        },
        "id": "WF_FqoCa8yFE",
        "outputId": "3c40dc65-5e22-4f45-d142-40c97e07d3cf"
      },
      "execution_count": null,
      "outputs": [
        {
          "output_type": "stream",
          "name": "stdout",
          "text": [
            "'df_summarization(2022)'   국힘2020.csv      문재인.csv        박근혜.csv\n",
            " keras_model.h5            국힘2022.csv      문재인_국힘.csv   박근혜_국힘.csv\n",
            " NPP_final_0729.csv        노무현.csv        민주당2020.csv    이명박.csv\n",
            " TMP_final_0729.csv        노무현_국힘.csv   민주당2022.csv    이명박_국힘.csv\n"
          ]
        }
      ]
    },
    {
      "cell_type": "code",
      "source": [
        "from tensorflow import keras\n",
        "model = keras.models.load_model('keras_model.h5')"
      ],
      "metadata": {
        "id": "37CJae428whz"
      },
      "execution_count": null,
      "outputs": []
    },
    {
      "cell_type": "code",
      "source": [
        "from sklearn.metrics import classification_report\n",
        "\n",
        "loss, accuracy = model.evaluate(X_test_padded, y_test)\n",
        "print(\"Test Loss:\", loss)\n",
        "print(\"Test Accuracy:\", accuracy)\n",
        "\n",
        "# 예측값 생성\n",
        "y_pred = model.predict(X_test_padded)\n",
        "\n",
        "# 정밀도, 재현율, F1 점수 계산\n",
        "report = classification_report(y_test, y_pred.argmax(axis=1))\n",
        "print(report)"
      ],
      "metadata": {
        "id": "lOmmRdDOv7E-"
      },
      "execution_count": null,
      "outputs": []
    },
    {
      "cell_type": "code",
      "source": [
        "from sklearn.metrics import confusion_matrix\n",
        "import matplotlib.pyplot as plt\n",
        "import seaborn as sns\n",
        "\n",
        "y_pred = model.predict(X_test_padded)\n",
        "y_pred_classes = y_pred.argmax(axis=1)\n",
        "\n",
        "class_names = [\"npp\",\"tmp\"]\n",
        "\n",
        "\n",
        "cm = confusion_matrix(y_test, y_pred_classes)\n",
        "\n",
        "# 오차 행렬 시각화\n",
        "plt.figure(figsize=(8, 6))\n",
        "sns.heatmap(cm, annot=True, fmt=\"d\", cmap=\"Blues\", xticklabels=class_names, yticklabels=class_names)\n",
        "plt.xlabel(\"Predicted Labels\")\n",
        "plt.ylabel(\"True Labels\")\n",
        "plt.title(\"Confusion Matrix\")\n",
        "plt.show()"
      ],
      "metadata": {
        "colab": {
          "base_uri": "https://localhost:8080/",
          "height": 581
        },
        "id": "DTSORxYUwIjW",
        "outputId": "6b2e5ec3-17ae-499c-b108-08074cbe0a25"
      },
      "execution_count": null,
      "outputs": [
        {
          "output_type": "stream",
          "name": "stdout",
          "text": [
            "250/250 [==============================] - 4s 17ms/step\n"
          ]
        },
        {
          "output_type": "display_data",
          "data": {
            "text/plain": [
              "<Figure size 800x600 with 2 Axes>"
            ],
            "image/png": "[encoded data removed]"
          },
          "metadata": {}
        }
      ]
    },
    {
      "cell_type": "code",
      "source": [
        "from sklearn.metrics import roc_curve, auc\n",
        "\n",
        "fpr, tpr, thresholds = roc_curve(y_test, y_pred_classes)\n",
        "roc_auc = auc(fpr, tpr)\n",
        "\n",
        "plt.figure(figsize=(8, 6))\n",
        "plt.plot(fpr, tpr, color='darkorange', lw=2, label='ROC curve (area = %0.2f)' % roc_auc)\n",
        "plt.plot([0, 1], [0, 1], color='navy', lw=2, linestyle='--')\n",
        "plt.xlim([0.0, 1.0])\n",
        "plt.ylim([0.0, 1.05])\n",
        "plt.xlabel('False Positive Rate')\n",
        "plt.ylabel('True Positive Rate')\n",
        "plt.title('Receiver Operating Characteristic (ROC) Curve')\n",
        "plt.legend(loc=\"lower right\")\n",
        "plt.show()"
      ],
      "metadata": {
        "colab": {
          "base_uri": "https://localhost:8080/",
          "height": 564
        },
        "id": "Eb5H98YS0BKw",
        "outputId": "e1a3ec8c-6f28-4cbc-b69f-03bce71a93d2"
      },
      "execution_count": null,
      "outputs": [
        {
          "output_type": "display_data",
          "data": {
            "text/plain": [
              "<Figure size 800x600 with 1 Axes>"
            ],
            "image/png": "[encoded data removed]"
          },
          "metadata": {}
        }
      ]
    },
    {
      "cell_type": "code",
      "source": [
        "text_to_predict = \"\"\"\n",
        "최근 정치권의 가장 큰 화두는 ‘청와대 이전’이다. 윤석열 대통령 당선인(이하 윤 당선인)은 청와대를 공원 및 박물관 등 시민들을 위한 공간으로 전환하고,\n",
        "광화문 정부청사에 대통령실을 만들 것이라고 밝힌 바 있다. 임기 시작일부터 국민에게 청와대를 돌려주겠다고 호헌 장담하는 등 청와대 이전에 유난히 집중하고 있는 모습이다.\n",
        "그러나 광화문에 대통령실을 만들겠다는 약속과 5월 10일에 바로 청와대를 국민에게 돌려주겠다는 약속을 지키지 못할 가능성이 높아지고 있다.\n",
        "윤 당선인은 본래의 약속이었던 ‘광화문 대통령’ 대신, 경호와 비용 등을 이유로 용산으로 집무실을 옮기는 것으로 해당 공약을 대체하겠다고 밝혔다.\n",
        "게다가 곧 여당이 될 국민의힘 내부에서도 청와대에 몇 년 더 머물다 이전하자는 등 섣부른 청와대 이전에 대한 우려가 나오고 있다.\n",
        "정치권 내부뿐만 아니라 국민들도 청와대 이전에 반대하고 있다. 최근 여론조사 결과 용산으로 이전하는 것에 58%가 반대, 33%가 찬성했다.\n",
        "가장 큰 문제는 명분이 없다는 것이다. 반드시 청와대를 폐지하거나 이전해야 한다는 생각을 가진 국민은 많지 않다.\n",
        "어느 정치인의 말처럼, 중요한 것은 장소가 아닌 사람이며, 조직이 아닌 신념이기 때문이다.\n",
        "국민을 진정으로 존중하는 대통령은 용산에 있든, 광화문에 있든, 청와대에 있든 국민을 위한 정책을 펼쳐나갈 수 있을 것이고, 조직이 문제라면 청와대 구성원이나 내부 체계를 개혁하면 될 일이다.\n",
        "청와대는 지난 1948년 이승만 초대 대통령이 대통령 집무실로 사용하기 시작한 이후 70년이 넘는 세월 동안 대한민국 행정부의 중심이자 상징으로 존재해왔다.\n",
        "이러한 역사적, 정치적 장소를 굳이 이전하려는 것은 윤 당선인이 본인의 공략을 밀어붙이려는 억지로 보이기도 한다. 국민들은 청와대 이전을 위해 윤 당선인을 뽑은 것이 아님을 여론조사 결과가 증명하고 있다.\n",
        "국민들과 소통을 하고 싶다면서, 국민들이 원하지 않는 것을 밀어붙이는 것은 국민에 대한 ‘폭력’이다.\n",
        "임기를 시작하기도 전에 국민의 뜻을 거스르지 않기를 바라고, 대부분의 국민이 공감할 수 있는 합리적인 대안을 제시하기를 바란다.\n",
        "\"\"\"\n",
        "\n",
        "# 텍스트 전처리 및 패딩\n",
        "input_sequence = tokenizer.texts_to_sequences([text_to_predict])\n",
        "input_sequence = pad_sequences(input_sequence, maxlen=max_len)\n",
        "\n",
        "# 모델 예측\n",
        "output = model.predict(input_sequence)\n",
        "\n",
        "# 예측된 클래스 인덱스\n",
        "predicted_class_index = output.argmax().item()\n",
        "\n",
        "# 원래의 클래스 이름으로 변환\n",
        "predicted_class_name = label_encoder.inverse_transform([predicted_class_index])[0]\n",
        "\n",
        "# 예측 결과 출력\n",
        "print(\"Predicted Class:\", predicted_class_name)\n",
        "# 클래스별 확률값 출력\n",
        "for class_idx, prob in enumerate(output[0]):\n",
        "    class_name = \"npp\" if class_idx == 0 else \"tmp\"\n",
        "    print(f\"Probability for {class_name}: {prob:.4f}\")"
      ],
      "metadata": {
        "colab": {
          "base_uri": "https://localhost:8080/"
        },
        "id": "aih0WMmMClHJ",
        "outputId": "688cdc59-5dfd-4dca-acc2-0fa649774823"
      },
      "execution_count": null,
      "outputs": [
        {
          "output_type": "stream",
          "name": "stdout",
          "text": [
            "1/1 [==============================] - 0s 25ms/step\n",
            "Predicted Class: npp\n",
            "Probability for npp: 0.5161\n",
            "Probability for tmp: 0.4839\n"
          ]
        }
      ]
    },
    {
      "cell_type": "code",
      "source": [
        "text_to_predict1 = \"\"\"\n",
        "일본 정부가 이르면 24일 후쿠시마 제1원자력발전소의 오염수(일본 측은 ‘처리수’로 표기)를 해양 방류할 것이라고 일본 언론들이 21일 보도했다.\n",
        "NHK와 교도통신에 따르면 기시다 후미오 총리는 22일 각료 회의를 열고 이 같은 방류 일정을 의결할 예정이다.\n",
        "기시다 총리는 21일 도쿄의 총리 관저에서 방류를 반대해온 전국어업협동조합연합회 사카모토 마사노부 회장을 만나,\n",
        "“해양 방류는 안전하게 완수할 것”이라며 “어민들이 안심하고 생업을 계속할 수 있도록 필요한 대책을 취하겠다”고 말했다.\n",
        "이에 사카모토 회장은 “반대 입장은 변함이 없다”면서도 “(처리수가) 과학적으로 안전하다는 이해는 어민들 사이에서도 더욱 깊어졌다”고 말했다.\n",
        "NHK는 “정부와 어민 단체 사이에 일정 정도의 의견 접근이 이뤄진 것으로 보인다”며 “기시다 내각이 24일 이후에 가능한 한 빨리 방류를 시작하는 방향으로 최종 입장을 조율하고 있다”고 보도했다.\n",
        "같은 날 니시무라 야스토시 일본 경제산업상도 “22일 각료 회의에서 오염수 해양 방류 시기를 판단한다”고 말했다.\n",
        "20일 기시다 총리의 후쿠시마 원전 시찰에 이어 21일 어민 대표와 면담, 22일 각료 회의의 의결과 같이 일사불란하게 오염수 해양 방류의 수순을 밟고 있는 것이다.\n",
        "\"\"\"\n",
        "\n",
        "# 텍스트 전처리 및 패딩\n",
        "input_sequence = tokenizer.texts_to_sequences([text_to_predict1])\n",
        "input_sequence = pad_sequences(input_sequence, maxlen=max_len)\n",
        "\n",
        "# 모델 예측\n",
        "output = model.predict(input_sequence)\n",
        "\n",
        "# 예측된 클래스 인덱스\n",
        "predicted_class_index = output.argmax().item()\n",
        "\n",
        "# 원래의 클래스 이름으로 변환\n",
        "predicted_class_name = label_encoder.inverse_transform([predicted_class_index])[0]\n",
        "\n",
        "# 예측 결과 출력\n",
        "print(\"Predicted Class:\", predicted_class_name)\n",
        "# 클래스별 확률값 출력\n",
        "for class_idx, prob in enumerate(output[0]):\n",
        "    class_name = \"npp\" if class_idx == 0 else \"tmp\"\n",
        "    print(f\"Probability for {class_name}: {prob:.4f}\")"
      ],
      "metadata": {
        "colab": {
          "base_uri": "https://localhost:8080/"
        },
        "id": "A8ihBfAnyix1",
        "outputId": "29cad285-83dd-4a69-83df-a4c3dbfd3e95"
      },
      "execution_count": null,
      "outputs": [
        {
          "output_type": "stream",
          "name": "stdout",
          "text": [
            "1/1 [==============================] - 0s 25ms/step\n",
            "Predicted Class: npp\n",
            "Probability for npp: 0.7684\n",
            "Probability for tmp: 0.2316\n"
          ]
        }
      ]
    },
    {
      "cell_type": "code",
      "source": [
        "text_to_predict2 = \"\"\"\n",
        "한·미·일 정상회담을 앞두고 야 4당과 시민사회단체들이 일본 방사성 오염수 해양 투기를 반대하는 187만 8185명의 서명을 대통령실에 전달했다.\n",
        "18일 오전 서울 용산구 대통령실 앞에서 야 4당(더불어민주당, 정의당, 기본소득당, 진보당)과 일본방사성오염수해양투기저지공동행동은 기자회견을 열어\n",
        "“후쿠시마 오염수 해양투기가 임박한 이 순간까지 윤 대통령과 정부, 여당은 우리 바다와 국민의 안전을 지키기 위해 노력하지 않고 오히려 일본 정부를 대변하는 태도로 오염수 해양투기를 용인해 왔다”며\n",
        "“해양투기를 반대하는 시민들의 준엄한 목소리에 답해야 한다”고 주장했다. 이들은 기자회견을 마친 뒤 전희경 대통령비서실 정부1비서관에게 서명을 전달했다.\n",
        "\"\"\"\n",
        "\n",
        "# 텍스트 전처리 및 패딩\n",
        "input_sequence = tokenizer.texts_to_sequences([text_to_predict2])\n",
        "input_sequence = pad_sequences(input_sequence, maxlen=max_len)\n",
        "\n",
        "# 모델 예측\n",
        "output = model.predict(input_sequence)\n",
        "\n",
        "# 예측된 클래스 인덱스\n",
        "predicted_class_index = output.argmax().item()\n",
        "\n",
        "# 원래의 클래스 이름으로 변환\n",
        "predicted_class_name = label_encoder.inverse_transform([predicted_class_index])[0]\n",
        "\n",
        "# 예측 결과 출력\n",
        "print(\"Predicted Class:\", predicted_class_name)\n",
        "# 클래스별 확률값 출력\n",
        "for class_idx, prob in enumerate(output[0]):\n",
        "    class_name = \"npp\" if class_idx == 0 else \"tmp\"\n",
        "    print(f\"Probability for {class_name}: {prob:.4f}\")"
      ],
      "metadata": {
        "colab": {
          "base_uri": "https://localhost:8080/"
        },
        "id": "y-h_fnLBB6Yu",
        "outputId": "1e407f3f-834a-4163-ba5c-2da85346079c"
      },
      "execution_count": null,
      "outputs": [
        {
          "output_type": "stream",
          "name": "stdout",
          "text": [
            "1/1 [==============================] - 0s 24ms/step\n",
            "Predicted Class: tmp\n",
            "Probability for npp: 0.2799\n",
            "Probability for tmp: 0.7201\n"
          ]
        }
      ]
    },
    {
      "cell_type": "code",
      "source": [
        "text_to_predict3= \"\"\"\n",
        "한-일 정상회담 합의에 따라, 정부가 일본 후쿠시마 제1원자력발전소 오염수 해양 방류 관련 상황을 살펴볼 전문가 시찰단을 오는 23~24일 파견하기로 했다.\n",
        "하지만, 한국 전문가들의 ‘시찰’이 오염수 방류를 강행하려는 일본 정부의 명분 쌓기에 들러리로 이용되고, 후쿠시마산 농수산물 수입 재개 압력으로 이어질 것이란 우려가 커지고 있다.\n",
        "일본 정부가 국제원자력기구(IAEA) 차원이 아닌 개별 국가 등에 시찰을 허용한 것은 대만과 태평양 섬나라 18개국이 모인 ‘태평양도서국포럼’에 이어 한국이 세번째다.\n",
        "문제는 대만과 태평양 국가 시찰단이 지난해와 올해 후쿠시마 현장을 방문했을 때, 담당자의 설명을 듣고, 오염수 탱크, 다핵종제거설비, 해저터널 등을 살펴보는 일정이 전부였다는 점이다.\n",
        "일본 쪽에서 보여주고 싶은 장소와 자료를 볼 수 있을 뿐 별도의 자체 검증은 불가능했다.\n",
        "이번에 개별 시찰까지 진행한 한국 정부가 안전성에 대해 구체적 문제를 제기하지 못하면,\n",
        "고농도 방사성 물질이 섞인 오염수를 다핵종제거설비로 정화 처리한 뒤 올여름 후쿠시마 앞바다에 방류하겠다는 일본 정부의 계획에 ‘정당성’만 더해주는 셈이 된다.\n",
        "더욱 우려스러운 것은 한국의 제대로 된 검증 없이 올해 여름 바다 방류가 시작되면 지금까지 지켜온 후쿠시마산 농수산물 수입 금지의 원칙도 흔들리게 된다는 점이다.\n",
        "일본 정부는 후쿠시마가 안전하지 않다는 이미지가 계속되는 것은 각국의 농수산물 수입 금지 영향이 크다고 보고, 집요할 정도로 해제를 요구해왔다.\n",
        "그 결과 애초 규제를 했던 55개 나라·지역 가운데 현재까지 수입을 금지하는 나라는 한국·중국 등 5곳뿐이다. 한국은 이와 관련해 세계무역기구에서도 일본에 승소했는데,\n",
        "오염수 방류에 제대로 문제를 제기하지 못해 수입 금지 명분도 잃게 될 엄중한 상황에 처한 것이다.\n",
        "‘한일 관계 개선’만 외치며 일본의 요구를 무조건 수용해온 윤석열 정부를 바라보는 여론의 근심은 커져간다.\n",
        "국민의 건강과 안전, 바다와 수산업의 미래가 달린 문제마저 일본에 일방적으로 ‘퍼주기’ 하는 상황은 절대로 용납할 수 없다.\n",
        "정부는 우선 검증단을 제대로 꾸리고, 안전성을 확인하기 전에는 오염수 방류를 하지 않겠다는 약속을 일본으로부터 받아야 한다.\n",
        "독자적 검증 끝에 오염수 방류 연기를 일본 정부에 공식 요구한 태평양 18개국 등 국제사회와의 연대 가능성도 살펴야 한다.\n",
        "\"\"\"\n",
        "\n",
        "# 텍스트 전처리 및 패딩\n",
        "input_sequence = tokenizer.texts_to_sequences([text_to_predict3])\n",
        "input_sequence = pad_sequences(input_sequence, maxlen=max_len)\n",
        "\n",
        "# 모델 예측\n",
        "output = model.predict(input_sequence)\n",
        "\n",
        "# 예측된 클래스 인덱스\n",
        "predicted_class_index = output.argmax().item()\n",
        "\n",
        "# 원래의 클래스 이름으로 변환\n",
        "predicted_class_name = label_encoder.inverse_transform([predicted_class_index])[0]\n",
        "\n",
        "# 예측 결과 출력\n",
        "print(\"Predicted Class:\", predicted_class_name)\n",
        "# 클래스별 확률값 출력\n",
        "for class_idx, prob in enumerate(output[0]):\n",
        "    class_name = \"npp\" if class_idx == 0 else \"tmp\"\n",
        "    print(f\"Probability for {class_name}: {prob:.4f}\")"
      ],
      "metadata": {
        "colab": {
          "base_uri": "https://localhost:8080/"
        },
        "id": "NStRbPpOCj92",
        "outputId": "217b34fc-ee51-4119-aa62-b6f5edaf53a7"
      },
      "execution_count": null,
      "outputs": [
        {
          "output_type": "stream",
          "name": "stdout",
          "text": [
            "1/1 [==============================] - 0s 36ms/step\n",
            "Predicted Class: npp\n",
            "Probability for npp: 0.9068\n",
            "Probability for tmp: 0.0932\n"
          ]
        }
      ]
    },
    {
      "cell_type": "code",
      "source": [
        "text_to_predict4= \"\"\"\n",
        "후쿠시마 오염수 방류가 초읽기에 들어가면서 찬반양론이 격화하고 있다. 오염수 방류에 대해 국민의 우려를 괴담과 선동으로 치부하고 앞장서서 일본 입장을 대변하는 정부와 여당의 태도를 도저히 이해할 수가 없다.\n",
        "부산을 포함해서 한국과 태평양 연안에 있는 다른 나라의 어업인이나 일반인은 일본의 오염수 방류로 얻는 이득이 아무것도 없다. 그런데 왜 이들이 바다 환경의 방사능 오염에 직면해야 하는가. 일본 자국의 단기적 이익을 위해 인류 공동의 이익을 해치는 행위에 대해 왜 우리 정부가 앞장서서 일본을 옹호하고 있는가.\n",
        "인간이 오염수를 방류해 만들 위험에 대해, 한번 방류하면 돌이킬 수 없는 위험에 대해, 후속 세대까지 지속할 위험에 대해, 전문가들 사이에서도 의견이 일치하지 않는 위험에 대해 불안해하는 국민에게 정부와 여당은 답해야 한다. 오염수 배출을 정당화하려면 오염수 배출에 따른 공동체의 이득이 경제·사회·환경적 해로움보다 커야 한다는 목소리에 대해서도 답해야 한다.\n",
        "정부와 여당은 국민의 우려를 광우병 괴담과 선동이라고 주장한다. 광우병 파동 때 많은 국민이 촛불을 들었기 때문에 30개월 이하로 월령을 제한하고 특정 부위 수입을 금지하는 등 보건 주권과 검역 주권을 확보하는 계기가 됐다. 또한 소에게 먹이던 육골분, 맥주 찌꺼기 등 단백질 사료를 제한하는 미국의 정책을 이끌어냈다. 그 결과 미국은 세계동물보건기구(OIE)으로부터 광우병 청정국 지위를 얻을 수 있었다. 그럼에도 정부와 여당은 엄연한 사실을 부정하고 호도하고 있다.\n",
        "후쿠시마 오염수에 대해 한국의 총리가 나서 과학적으로 전혀 문제가 없으며 마실 수도 있는 안전한 물이라고 한다. 그렇다면 일본이 방류하지 않고 자국에 가둬두고 공업용수나 농업용수로 사용하면 될 일이다. 일본 국내에 두는 건 위험하고 바다에 방류하는 건 문제가 없다니, 이런 논리적 모순이 어디 있는가.\n",
        "오염수 방류에 따른 국민의 우려를 불식시키려면 명확한 과학적 데이터가 있어야 한다. 그러나 도쿄전력이라는 민간회사가 운영하는 후쿠시마 원자로는 사고가 난 뒤 지금은 어떤 상태인지 명확하지가 않다. 아무리 기사를 찾아봐도 원자로가 녹았다는 것까지는 확인 가능한데, 바닥에 있는 핵물질이 어떤 상태인지를 명확하게 알 수 없다. 방류하려는 오염수 속에 어떤 종류의 방사성 물질이 어느 정도의 농도로 들어가 있는지 그 누구도 모르는 상태다.\n",
        "과학적으로 평가할 수 없는 상태에서 세슘이나 삼중수소 등 핵발전소 사고에서 나온 여러 다양한 방사성 물질이 퍼져 나가는데 모든 방사성 물질을 채집할 수 없다고 한다. 그래서 지표 물질로 보통 채집하기가 용이하고 정확도가 높은 것들을 채집한다. 세슘 같은 게 그 가운데 하나고 삼중수소도 그렇다. 그러니까 우리가 지표 물질로 채집한 것들의 유해성 논쟁을 지금 하고 있는 것이다. 기본 데이터가 없는데 해양생물에서 발견된 지표 물질의 농도를 가지고 오염수의 안전성이나 위험성에 대해 논의하는 것이 도대체 가능한 일인지 어처구니가 없다.\n",
        "적어도 도쿄전력이 데이터를 갖고 있는지 여부를 정확하게 얘기해야 하고, 데이터를 갖고 있지 못하다면 왜 갖고 있지 않은지를 얘기해야 한다. 그 원자로 상태에서는 데이터를 확보하는 것 자체가 불가능한 수준의 오염이 있을 수 있다. 그래서 지금의 논쟁은 터무니없는 논쟁이다. 환경 안전성과는 무관한 핵확산 방지 기구인 국제원자력기구(IAEA)와 일본 민간회사의 중간에 일본 정부가 끼어 있으니 투명하게 하고 있는지 의구심을 떨칠 수가 없다. 도쿄전력은 사고가 일어난 뒤 자기들 총리 말도 듣지 않고 데이터를 숨기고 조작했다는 의혹이 제기된 바 있다. 그런데 지금 그곳에서 제공하는 데이터가 투명하다고 할 수 있을까. 이 문제를 판단하려면 필요한 정보가 있어야 하는데 정보 자체가 너무 빈약하다. 후쿠시마 오염수 문제는 판단을 보류하고 더 정확한 검증이 필요하다. 국민의 안전을 위한다면, 반대하는 국민을 설득하려면 투명한 정보 공개가 우선이다.\n",
        "우리 정부와 여당은 일본 입장을 대변하고 오염수 방류를 서두를 필요가 있는가. 오염수 방류를 반대하는 대다수 국민의 소리를 먼저 듣기 바란다.\n",
        "\"\"\"\n",
        "\n",
        "# 텍스트 전처리 및 패딩\n",
        "input_sequence = tokenizer.texts_to_sequences([text_to_predict4])\n",
        "input_sequence = pad_sequences(input_sequence, maxlen=max_len)\n",
        "\n",
        "# 모델 예측\n",
        "output = model.predict(input_sequence)\n",
        "\n",
        "# 예측된 클래스 인덱스\n",
        "predicted_class_index = output.argmax().item()\n",
        "\n",
        "# 원래의 클래스 이름으로 변환\n",
        "predicted_class_name = label_encoder.inverse_transform([predicted_class_index])[0]\n",
        "\n",
        "# 예측 결과 출력\n",
        "print(\"Predicted Class:\", predicted_class_name)\n",
        "# 클래스별 확률값 출력\n",
        "for class_idx, prob in enumerate(output[0]):\n",
        "    class_name = \"npp\" if class_idx == 0 else \"tmp\"\n",
        "    print(f\"Probability for {class_name}: {prob:.4f}\")"
      ],
      "metadata": {
        "colab": {
          "base_uri": "https://localhost:8080/"
        },
        "id": "kSRlFF_8DLRu",
        "outputId": "3dbfedb8-edee-4fd4-a973-bcd6248d4bf5"
      },
      "execution_count": null,
      "outputs": [
        {
          "output_type": "stream",
          "name": "stdout",
          "text": [
            "1/1 [==============================] - 0s 72ms/step\n",
            "Predicted Class: tmp\n",
            "Probability for npp: 0.0467\n",
            "Probability for tmp: 0.9533\n"
          ]
        }
      ]
    },
    {
      "cell_type": "markdown",
      "metadata": {
        "id": "_VBfDaelIp8v"
      },
      "source": [
        "### 형태소"
      ]
    },
    {
      "cell_type": "code",
      "execution_count": null,
      "metadata": {
        "id": "86VePPVdhWpq"
      },
      "outputs": [],
      "source": [
        "! pip install konlpy"
      ]
    },
    {
      "cell_type": "code",
      "execution_count": null,
      "metadata": {
        "id": "n6xL_9ztHUTI"
      },
      "outputs": [],
      "source": [
        "from konlpy.tag import Hannanum, Kkma, Komoran, Okt"
      ]
    },
    {
      "cell_type": "code",
      "execution_count": null,
      "metadata": {
        "id": "NlbhVgqpHUvM"
      },
      "outputs": [],
      "source": [
        "#불용어 사전 만들기\n",
        "stopwords = pd.read_csv(\"https://raw.githubusercontent.com/yoonkt200/FastCampusDataset/master/korean_stopwords.txt\").values.tolist()\n",
        "stopwords[:10]"
      ]
    },
    {
      "cell_type": "markdown",
      "metadata": {
        "id": "pYPb7J_UJlYN"
      },
      "source": [
        "#### 형태소 분석기 비교"
      ]
    },
    {
      "cell_type": "code",
      "execution_count": null,
      "metadata": {
        "id": "Kj-YY19gGu4L"
      },
      "outputs": [],
      "source": [
        "hannanum = Hannanum()\n",
        "kkma = Kkma()\n",
        "komoran = Komoran()\n",
        "okt = Okt()"
      ]
    },
    {
      "cell_type": "code",
      "execution_count": null,
      "metadata": {
        "id": "Q2fazv1EHyrX"
      },
      "outputs": [],
      "source": [
        "text = df['split_content2'][0]"
      ]
    },
    {
      "cell_type": "code",
      "execution_count": null,
      "metadata": {
        "id": "R5RfoReeHmM9"
      },
      "outputs": [],
      "source": [
        "def extract_nouns_verbs(text, analyzer):\n",
        "    pos = analyzer.pos(text)\n",
        "\n",
        "    nouns = []  # 명사 저장할 리스트\n",
        "    verbs = []  # 동사 저장할 리스트\n",
        "\n",
        "    for word_tag in pos:\n",
        "        word, tag = word_tag[0], word_tag[1]\n",
        "        if tag.startswith(\"N\"):  # 명사 태그\n",
        "            nouns.append(word)\n",
        "        elif tag.startswith(\"V\"):  # 동사 태그\n",
        "            verbs.append(word)\n",
        "\n",
        "    return nouns, verbs\n",
        "\n",
        "\n",
        "nouns_ko, verbs_ko = extract_nouns_verbs(text, komoran)\n",
        "print(\"Komoran 명사:\", nouns_ko)\n",
        "print(\"Komoran 동사:\", verbs_ko)"
      ]
    },
    {
      "cell_type": "code",
      "execution_count": null,
      "metadata": {
        "id": "1Th5VvQYH-OV"
      },
      "outputs": [],
      "source": [
        "def extract_nouns_verbs(text, analyzer):\n",
        "    pos = analyzer.pos(text)\n",
        "\n",
        "    nouns = []  # 명사 저장할 리스트\n",
        "    verbs = []  # 동사 저장할 리스트\n",
        "\n",
        "    for word, tag in pos:\n",
        "        if tag.startswith(\"N\"):  # 명사 태그\n",
        "            nouns.append(word)\n",
        "        elif tag.startswith(\"V\"):  # 동사 태그\n",
        "            verbs.append(word)\n",
        "\n",
        "    return nouns, verbs\n",
        "\n",
        "nouns_k, verbs_k = extract_nouns_verbs(text, kkma)\n",
        "print(\"Kkma 명사:\", nouns_k)\n",
        "print(\"Kkma 동사:\", verbs_k)"
      ]
    },
    {
      "cell_type": "code",
      "execution_count": null,
      "metadata": {
        "id": "5ECnF2NEH87W"
      },
      "outputs": [],
      "source": [
        "def extract_nouns_verbs(text, analyzer):\n",
        "    pos = analyzer.pos(text, ntags=22)\n",
        "\n",
        "    nouns = []  # 명사 저장할 리스트\n",
        "    verbs = []  # 동사 저장할 리스트\n",
        "\n",
        "    for word, tag in pos:\n",
        "        if tag.startswith(\"N\"):  # 명사 태그\n",
        "            nouns.append(word)\n",
        "        elif tag.startswith(\"V\"):  # 동사 태그\n",
        "            verbs.append(word)\n",
        "\n",
        "    return nouns, verbs\n",
        "\n",
        "nouns_h, verbs_h = extract_nouns_verbs(text, hannanum)\n",
        "print(\"Hannanum 명사:\", nouns_h)\n",
        "print(\"Hannanum 동사:\", verbs_h)"
      ]
    },
    {
      "cell_type": "code",
      "execution_count": null,
      "metadata": {
        "id": "x1nSrVQxH_Tb"
      },
      "outputs": [],
      "source": [
        "texts = df['split_content2']\n",
        "\n",
        "data = []\n",
        "for text in texts:\n",
        "    nouns, verbs = extract_nouns_verbs(text, hannanum)\n",
        "    data.append({'Text': text, 'Nouns': nouns, 'Verbs': verbs})\n",
        "\n",
        "df['noun'] = pd.DataFrame(data)\n",
        "df.head()"
      ]
    },
    {
      "cell_type": "code",
      "execution_count": null,
      "metadata": {
        "id": "0qrOwAz6J0Bz"
      },
      "outputs": [],
      "source": [
        "df.to_csv('df.csv')"
      ]
    },
    {
      "cell_type": "code",
      "execution_count": null,
      "metadata": {
        "id": "F1h6gF6bTgCf"
      },
      "outputs": [],
      "source": []
    }
  ],
  "metadata": {
    "colab": {
      "provenance": [],
      "collapsed_sections": [
        "_VBfDaelIp8v",
        "pYPb7J_UJlYN"
      ],
      "include_colab_link": true
    },
    "kernelspec": {
      "display_name": "Python 3",
      "name": "python3"
    },
    "language_info": {
      "name": "python"
    }
  },
  "nbformat": 4,
  "nbformat_minor": 0
}