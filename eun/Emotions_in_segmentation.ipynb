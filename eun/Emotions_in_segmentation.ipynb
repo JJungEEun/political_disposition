{
  "nbformat": 4,
  "nbformat_minor": 0,
  "metadata": {
    "colab": {
      "provenance": [],
      "collapsed_sections": [
        "rMeRHIZIhqwe",
        "HSeZh0fHh718"
      ],
      "mount_file_id": "1vxjJJVA-5oazQPdkoqdD864StiUxPfE5",
      "authorship_tag": "ABX9TyN9cpjcaTnEkZQDoRLQudjV",
      "include_colab_link": true
    },
    "kernelspec": {
      "name": "python3",
      "display_name": "Python 3"
    },
    "language_info": {
      "name": "python"
    }
  },
  "cells": [
    {
      "cell_type": "markdown",
      "metadata": {
        "id": "view-in-github",
        "colab_type": "text"
      },
      "source": [
        "<a href=\"https://colab.research.google.com/github/shjoo0407/political_disposition/blob/main/eun/Emotions_in_segmentation.ipynb\" target=\"_parent\"><img src=\"https://colab.research.google.com/assets/colab-badge.svg\" alt=\"Open In Colab\"/></a>"
      ]
    },
    {
      "cell_type": "code",
      "execution_count": null,
      "metadata": {
        "id": "_wP9bWas1tAT"
      },
      "outputs": [],
      "source": [
        "pip install transformers"
      ]
    },
    {
      "cell_type": "code",
      "source": [
        "cd /content/drive/MyDrive/2023/sw공모전"
      ],
      "metadata": {
        "colab": {
          "base_uri": "https://localhost:8080/"
        },
        "id": "ikiopON25D7H",
        "outputId": "15c19fc9-bd4b-452d-f4da-1e4111aaed5a"
      },
      "execution_count": null,
      "outputs": [
        {
          "output_type": "stream",
          "name": "stdout",
          "text": [
            "/content/drive/MyDrive/2023/sw공모전\n"
          ]
        }
      ]
    },
    {
      "cell_type": "code",
      "source": [
        "import pandas as pd\n",
        "from transformers import pipeline\n",
        "from transformers import AutoTokenizer, AutoModelForSeq2SeqLM\n",
        "import nltk\n",
        "nltk.download('punkt')"
      ],
      "metadata": {
        "colab": {
          "base_uri": "https://localhost:8080/"
        },
        "id": "mmQxyBoe5Kq3",
        "outputId": "5c75b5e5-cb57-47a9-8530-e464875b3b2a"
      },
      "execution_count": null,
      "outputs": [
        {
          "output_type": "stream",
          "name": "stderr",
          "text": [
            "[nltk_data] Downloading package punkt to /root/nltk_data...\n",
            "[nltk_data]   Unzipping tokenizers/punkt.zip.\n"
          ]
        },
        {
          "output_type": "execute_result",
          "data": {
            "text/plain": [
              "True"
            ]
          },
          "metadata": {},
          "execution_count": 6
        }
      ]
    },
    {
      "cell_type": "markdown",
      "source": [
        "### data laod"
      ],
      "metadata": {
        "id": "rMeRHIZIhqwe"
      }
    },
    {
      "cell_type": "code",
      "source": [
        "ls"
      ],
      "metadata": {
        "colab": {
          "base_uri": "https://localhost:8080/"
        },
        "id": "uQi-GozGDaIT",
        "outputId": "eb18524e-337f-4e03-b7fb-f5728b02af5e"
      },
      "execution_count": null,
      "outputs": [
        {
          "output_type": "stream",
          "name": "stdout",
          "text": [
            " \u001b[0m\u001b[01;34mdata\u001b[0m/                    topic_modeling3.html   문재인_국힘.html\n",
            "'df(preprocessing).csv'   topic_modeling.html    문재인_민주당.html\n",
            "'df(윤석렬).csv'          TopicModeling.ipynb    박근혜_국힘.html\n",
            " \u001b[01;34m__pycache__\u001b[0m/             utils.py               박근혜_민주당.html\n",
            " summarizatio.ipynb       노무현_국힘.html       이명박_국힘.html\n",
            " topic_modeling2.html     노무현_민주당.html     이명박_민주당.html\n"
          ]
        }
      ]
    },
    {
      "cell_type": "code",
      "source": [
        "df = pd.read_csv('df(윤석렬).csv')"
      ],
      "metadata": {
        "id": "LtpdLIFA5MUI"
      },
      "execution_count": null,
      "outputs": []
    },
    {
      "cell_type": "code",
      "source": [
        "df['target'].value_counts()"
      ],
      "metadata": {
        "colab": {
          "base_uri": "https://localhost:8080/"
        },
        "id": "vy0KqWB5Chd_",
        "outputId": "3427a050-1f93-4675-9324-2fb9fb1ad84e"
      },
      "execution_count": null,
      "outputs": [
        {
          "output_type": "execute_result",
          "data": {
            "text/plain": [
              "국민의힘    3733\n",
              "민주당     3659\n",
              "Name: target, dtype: int64"
            ]
          },
          "metadata": {},
          "execution_count": 9
        }
      ]
    },
    {
      "cell_type": "code",
      "source": [
        "df.head()"
      ],
      "metadata": {
        "colab": {
          "base_uri": "https://localhost:8080/",
          "height": 306
        },
        "id": "iRWb7pcFDYav",
        "outputId": "478fa359-3853-423b-f1d7-1409811d9525"
      },
      "execution_count": null,
      "outputs": [
        {
          "output_type": "execute_result",
          "data": {
            "text/plain": [
              "   Unnamed: 0                                            content target  \\\n",
              "0           0  ‘빗물을 나르는 고속도로’라 불리는 대심도 빗물터널 조금 전에 둘러보고 왔다. 신월...   국민의힘   \n",
              "1           1  오늘 한 언론에 보도된 무소속 박완주 의원의 검찰 공소장 안에는, 강력 성범죄자의 ...   국민의힘   \n",
              "2           2  전국적인 집중호우로 많은 국민들이 희생되고 막대한 재산 피해가 발생했다. 당장 전면...   국민의힘   \n",
              "3           3  더불어민주당이 윤석열 정부의 ‘시행령 추진’에 본격적으로 제동을 걸고 있다. KBS...   국민의힘   \n",
              "4           4  그칠 줄 모르던 비가 잠시 소강상태에 접어들었지만, 폭우가 할퀴고 간 자리에 남겨진...   국민의힘   \n",
              "\n",
              "                                            content2  \\\n",
              "0  빗물 고속도로 심도 빗물 터널 신월 빗물 전용 배수 시설 집중호우 주변 지역 물바다...   \n",
              "1  오늘 언론 보도 무소속 박완주 의원 검찰 공소장 성범죄 행태 모습 의원 자신 보좌관...   \n",
              "2  전국 집중호우 국민 희생 재산 피해 발생 당장 전면 복구 작업 상황 오늘 내일 전국...   \n",
              "3  더불어민주당 윤석열 정부 시행령 추진 제동 수신료 분리 징수 내용 방송법 시행령 검...   \n",
              "4  소강상태 폭우 자리 주민 아픔 주말 예고 장마 소식 피해 복구 폭염 자연재해 주민 ...   \n",
              "\n",
              "                                            content3  \n",
              "0  ['빗물', '고속도로', '심도', '빗물', '터널', '신월', '빗물', '...  \n",
              "1  ['오늘', '언론', '보도', '무소속', '박완주', '의원', '검찰', '...  \n",
              "2  ['전국', '집중호우', '국민', '희생', '재산', '피해', '발생', '...  \n",
              "3  ['더불어민주당', '윤석열', '정부', '시행령', '추진', '제동', '수신...  \n",
              "4  ['소강상태', '폭우', '자리', '주민', '아픔', '주말', '예고', '...  "
            ],
            "text/html": [
              "\n",
              "  <div id=\"df-a1f94088-b7b5-4109-8f7d-2606f7100f2a\" class=\"colab-df-container\">\n",
              "    <div>\n",
              "<style scoped>\n",
              "    .dataframe tbody tr th:only-of-type {\n",
              "        vertical-align: middle;\n",
              "    }\n",
              "\n",
              "    .dataframe tbody tr th {\n",
              "        vertical-align: top;\n",
              "    }\n",
              "\n",
              "    .dataframe thead th {\n",
              "        text-align: right;\n",
              "    }\n",
              "</style>\n",
              "<table border=\"1\" class=\"dataframe\">\n",
              "  <thead>\n",
              "    <tr style=\"text-align: right;\">\n",
              "      <th></th>\n",
              "      <th>Unnamed: 0</th>\n",
              "      <th>content</th>\n",
              "      <th>target</th>\n",
              "      <th>content2</th>\n",
              "      <th>content3</th>\n",
              "    </tr>\n",
              "  </thead>\n",
              "  <tbody>\n",
              "    <tr>\n",
              "      <th>0</th>\n",
              "      <td>0</td>\n",
              "      <td>‘빗물을 나르는 고속도로’라 불리는 대심도 빗물터널 조금 전에 둘러보고 왔다. 신월...</td>\n",
              "      <td>국민의힘</td>\n",
              "      <td>빗물 고속도로 심도 빗물 터널 신월 빗물 전용 배수 시설 집중호우 주변 지역 물바다...</td>\n",
              "      <td>['빗물', '고속도로', '심도', '빗물', '터널', '신월', '빗물', '...</td>\n",
              "    </tr>\n",
              "    <tr>\n",
              "      <th>1</th>\n",
              "      <td>1</td>\n",
              "      <td>오늘 한 언론에 보도된 무소속 박완주 의원의 검찰 공소장 안에는, 강력 성범죄자의 ...</td>\n",
              "      <td>국민의힘</td>\n",
              "      <td>오늘 언론 보도 무소속 박완주 의원 검찰 공소장 성범죄 행태 모습 의원 자신 보좌관...</td>\n",
              "      <td>['오늘', '언론', '보도', '무소속', '박완주', '의원', '검찰', '...</td>\n",
              "    </tr>\n",
              "    <tr>\n",
              "      <th>2</th>\n",
              "      <td>2</td>\n",
              "      <td>전국적인 집중호우로 많은 국민들이 희생되고 막대한 재산 피해가 발생했다. 당장 전면...</td>\n",
              "      <td>국민의힘</td>\n",
              "      <td>전국 집중호우 국민 희생 재산 피해 발생 당장 전면 복구 작업 상황 오늘 내일 전국...</td>\n",
              "      <td>['전국', '집중호우', '국민', '희생', '재산', '피해', '발생', '...</td>\n",
              "    </tr>\n",
              "    <tr>\n",
              "      <th>3</th>\n",
              "      <td>3</td>\n",
              "      <td>더불어민주당이 윤석열 정부의 ‘시행령 추진’에 본격적으로 제동을 걸고 있다. KBS...</td>\n",
              "      <td>국민의힘</td>\n",
              "      <td>더불어민주당 윤석열 정부 시행령 추진 제동 수신료 분리 징수 내용 방송법 시행령 검...</td>\n",
              "      <td>['더불어민주당', '윤석열', '정부', '시행령', '추진', '제동', '수신...</td>\n",
              "    </tr>\n",
              "    <tr>\n",
              "      <th>4</th>\n",
              "      <td>4</td>\n",
              "      <td>그칠 줄 모르던 비가 잠시 소강상태에 접어들었지만, 폭우가 할퀴고 간 자리에 남겨진...</td>\n",
              "      <td>국민의힘</td>\n",
              "      <td>소강상태 폭우 자리 주민 아픔 주말 예고 장마 소식 피해 복구 폭염 자연재해 주민 ...</td>\n",
              "      <td>['소강상태', '폭우', '자리', '주민', '아픔', '주말', '예고', '...</td>\n",
              "    </tr>\n",
              "  </tbody>\n",
              "</table>\n",
              "</div>\n",
              "    <div class=\"colab-df-buttons\">\n",
              "\n",
              "  <div class=\"colab-df-container\">\n",
              "    <button class=\"colab-df-convert\" onclick=\"convertToInteractive('df-a1f94088-b7b5-4109-8f7d-2606f7100f2a')\"\n",
              "            title=\"Convert this dataframe to an interactive table.\"\n",
              "            style=\"display:none;\">\n",
              "\n",
              "  <svg xmlns=\"http://www.w3.org/2000/svg\" height=\"24px\" viewBox=\"0 -960 960 960\">\n",
              "    <path d=\"M120-120v-720h720v720H120Zm60-500h600v-160H180v160Zm220 220h160v-160H400v160Zm0 220h160v-160H400v160ZM180-400h160v-160H180v160Zm440 0h160v-160H620v160ZM180-180h160v-160H180v160Zm440 0h160v-160H620v160Z\"/>\n",
              "  </svg>\n",
              "    </button>\n",
              "\n",
              "  <style>\n",
              "    .colab-df-container {\n",
              "      display:flex;\n",
              "      gap: 12px;\n",
              "    }\n",
              "\n",
              "    .colab-df-convert {\n",
              "      background-color: #E8F0FE;\n",
              "      border: none;\n",
              "      border-radius: 50%;\n",
              "      cursor: pointer;\n",
              "      display: none;\n",
              "      fill: #1967D2;\n",
              "      height: 32px;\n",
              "      padding: 0 0 0 0;\n",
              "      width: 32px;\n",
              "    }\n",
              "\n",
              "    .colab-df-convert:hover {\n",
              "      background-color: #E2EBFA;\n",
              "      box-shadow: 0px 1px 2px rgba(60, 64, 67, 0.3), 0px 1px 3px 1px rgba(60, 64, 67, 0.15);\n",
              "      fill: #174EA6;\n",
              "    }\n",
              "\n",
              "    .colab-df-buttons div {\n",
              "      margin-bottom: 4px;\n",
              "    }\n",
              "\n",
              "    [theme=dark] .colab-df-convert {\n",
              "      background-color: #3B4455;\n",
              "      fill: #D2E3FC;\n",
              "    }\n",
              "\n",
              "    [theme=dark] .colab-df-convert:hover {\n",
              "      background-color: #434B5C;\n",
              "      box-shadow: 0px 1px 3px 1px rgba(0, 0, 0, 0.15);\n",
              "      filter: drop-shadow(0px 1px 2px rgba(0, 0, 0, 0.3));\n",
              "      fill: #FFFFFF;\n",
              "    }\n",
              "  </style>\n",
              "\n",
              "    <script>\n",
              "      const buttonEl =\n",
              "        document.querySelector('#df-a1f94088-b7b5-4109-8f7d-2606f7100f2a button.colab-df-convert');\n",
              "      buttonEl.style.display =\n",
              "        google.colab.kernel.accessAllowed ? 'block' : 'none';\n",
              "\n",
              "      async function convertToInteractive(key) {\n",
              "        const element = document.querySelector('#df-a1f94088-b7b5-4109-8f7d-2606f7100f2a');\n",
              "        const dataTable =\n",
              "          await google.colab.kernel.invokeFunction('convertToInteractive',\n",
              "                                                    [key], {});\n",
              "        if (!dataTable) return;\n",
              "\n",
              "        const docLinkHtml = 'Like what you see? Visit the ' +\n",
              "          '<a target=\"_blank\" href=https://colab.research.google.com/notebooks/data_table.ipynb>data table notebook</a>'\n",
              "          + ' to learn more about interactive tables.';\n",
              "        element.innerHTML = '';\n",
              "        dataTable['output_type'] = 'display_data';\n",
              "        await google.colab.output.renderOutput(dataTable, element);\n",
              "        const docLink = document.createElement('div');\n",
              "        docLink.innerHTML = docLinkHtml;\n",
              "        element.appendChild(docLink);\n",
              "      }\n",
              "    </script>\n",
              "  </div>\n",
              "\n",
              "\n",
              "<div id=\"df-333d7195-6bd7-4427-8aa0-a10c547e8475\">\n",
              "  <button class=\"colab-df-quickchart\" onclick=\"quickchart('df-333d7195-6bd7-4427-8aa0-a10c547e8475')\"\n",
              "            title=\"Suggest charts.\"\n",
              "            style=\"display:none;\">\n",
              "\n",
              "<svg xmlns=\"http://www.w3.org/2000/svg\" height=\"24px\"viewBox=\"0 0 24 24\"\n",
              "     width=\"24px\">\n",
              "    <g>\n",
              "        <path d=\"M19 3H5c-1.1 0-2 .9-2 2v14c0 1.1.9 2 2 2h14c1.1 0 2-.9 2-2V5c0-1.1-.9-2-2-2zM9 17H7v-7h2v7zm4 0h-2V7h2v10zm4 0h-2v-4h2v4z\"/>\n",
              "    </g>\n",
              "</svg>\n",
              "  </button>\n",
              "\n",
              "<style>\n",
              "  .colab-df-quickchart {\n",
              "    background-color: #E8F0FE;\n",
              "    border: none;\n",
              "    border-radius: 50%;\n",
              "    cursor: pointer;\n",
              "    display: none;\n",
              "    fill: #1967D2;\n",
              "    height: 32px;\n",
              "    padding: 0 0 0 0;\n",
              "    width: 32px;\n",
              "  }\n",
              "\n",
              "  .colab-df-quickchart:hover {\n",
              "    background-color: #E2EBFA;\n",
              "    box-shadow: 0px 1px 2px rgba(60, 64, 67, 0.3), 0px 1px 3px 1px rgba(60, 64, 67, 0.15);\n",
              "    fill: #174EA6;\n",
              "  }\n",
              "\n",
              "  [theme=dark] .colab-df-quickchart {\n",
              "    background-color: #3B4455;\n",
              "    fill: #D2E3FC;\n",
              "  }\n",
              "\n",
              "  [theme=dark] .colab-df-quickchart:hover {\n",
              "    background-color: #434B5C;\n",
              "    box-shadow: 0px 1px 3px 1px rgba(0, 0, 0, 0.15);\n",
              "    filter: drop-shadow(0px 1px 2px rgba(0, 0, 0, 0.3));\n",
              "    fill: #FFFFFF;\n",
              "  }\n",
              "</style>\n",
              "\n",
              "  <script>\n",
              "    async function quickchart(key) {\n",
              "      const charts = await google.colab.kernel.invokeFunction(\n",
              "          'suggestCharts', [key], {});\n",
              "    }\n",
              "    (() => {\n",
              "      let quickchartButtonEl =\n",
              "        document.querySelector('#df-333d7195-6bd7-4427-8aa0-a10c547e8475 button');\n",
              "      quickchartButtonEl.style.display =\n",
              "        google.colab.kernel.accessAllowed ? 'block' : 'none';\n",
              "    })();\n",
              "  </script>\n",
              "</div>\n",
              "    </div>\n",
              "  </div>\n"
            ]
          },
          "metadata": {},
          "execution_count": 10
        }
      ]
    },
    {
      "cell_type": "code",
      "source": [
        "keywords =['이상민','탄핵','해임','책임자','안부','안전부',' 시행령',' 구청장',' 용산',' 건의안']\n",
        "\n",
        "# filtered_df = df[df['content3'].apply(lambda text_list: any(keyword in text_list for keyword in keywords))]\n",
        "filtered_df = df[df['content3'].apply(lambda text_list: sum(keyword in text_list for keyword in keywords) >= 2)]"
      ],
      "metadata": {
        "id": "L6ytUIcpDQXX"
      },
      "execution_count": null,
      "outputs": []
    },
    {
      "cell_type": "code",
      "source": [
        "filtered_df['target'].value_counts()"
      ],
      "metadata": {
        "colab": {
          "base_uri": "https://localhost:8080/"
        },
        "id": "Ut8oPtBaD91C",
        "outputId": "96d385e2-4789-47db-9ded-21240c663cbc"
      },
      "execution_count": null,
      "outputs": [
        {
          "output_type": "execute_result",
          "data": {
            "text/plain": [
              "민주당     172\n",
              "국민의힘    148\n",
              "Name: target, dtype: int64"
            ]
          },
          "metadata": {},
          "execution_count": 69
        }
      ]
    },
    {
      "cell_type": "markdown",
      "source": [
        "### Emotions in segmentation (60)"
      ],
      "metadata": {
        "id": "nNMYXsK-h2gT"
      }
    },
    {
      "cell_type": "code",
      "source": [
        "# 감정 라벨\n",
        "label_id2label = {\n",
        "    \"0\": \"분노\",\n",
        "    \"1\": \"툴툴대는\",\n",
        "    \"2\": \"좌절한\",\n",
        "    \"3\": \"짜증내는\",\n",
        "    \"4\": \"방어적인\",\n",
        "    \"5\": \"악의적인\",\n",
        "    \"6\": \"안달하는\",\n",
        "    \"7\": \"구역질 나는\",\n",
        "    \"8\": \"노여워하는\",\n",
        "    \"9\": \"성가신\",\n",
        "    \"10\": \"슬픔\",\n",
        "    \"11\": \"실망한\",\n",
        "    \"12\": \"비통한\",\n",
        "    \"13\": \"후회되는\",\n",
        "    \"14\": \"우울한\",\n",
        "    \"15\": \"마비된\",\n",
        "    \"16\": \"염세적인\",\n",
        "    \"17\": \"눈물이 나는\",\n",
        "    \"18\": \"낙담한\",\n",
        "    \"19\": \"환멸을 느끼는\",\n",
        "    \"20\": \"불안\",\n",
        "    \"21\": \"두려운\",\n",
        "    \"22\": \"스트레스 받는\",\n",
        "    \"23\": \"취약한\",\n",
        "    \"24\": \"혼란스러운\",\n",
        "    \"25\": \"당혹스러운\",\n",
        "    \"26\": \"회의적인\",\n",
        "    \"27\": \"걱정스러운\",\n",
        "    \"28\": \"조심스러운\",\n",
        "    \"29\": \"초조한\",\n",
        "    \"30\": \"상처\",\n",
        "    \"31\": \"질투하는\",\n",
        "    \"32\": \"배신당한\",\n",
        "    \"33\": \"고립된\",\n",
        "    \"34\": \"충격 받은\",\n",
        "    \"35\": \"가난한 불우한\",\n",
        "    \"36\": \"희생된\",\n",
        "    \"37\": \"억울한\",\n",
        "    \"38\": \"괴로워하는\",\n",
        "    \"39\": \"버려진\",\n",
        "    \"40\": \"당황\",\n",
        "    \"41\": \"고립된(당황한)\",\n",
        "    \"42\": \"남의 시선을 의식하는\",\n",
        "    \"43\": \"외로운\",\n",
        "    \"44\": \"열등감\",\n",
        "    \"45\": \"죄책감의\",\n",
        "    \"46\": \"부끄러운\",\n",
        "    \"47\": \"혐오스러운\",\n",
        "    \"48\": \"한심한\",\n",
        "    \"49\": \"혼란스러운(당황한)\",\n",
        "    \"50\": \"기쁨\",\n",
        "    \"51\": \"감사하는\",\n",
        "    \"52\": \"신뢰하는\",\n",
        "    \"53\": \"편안한\",\n",
        "    \"54\": \"만족스러운\",\n",
        "    \"55\": \"흥분\",\n",
        "    \"56\": \"느긋\",\n",
        "    \"57\": \"안도\",\n",
        "    \"58\": \"신이 난\",\n",
        "    \"59\": \"자신하는\"\n",
        "  }"
      ],
      "metadata": {
        "id": "4zm0AtdD30Ai"
      },
      "execution_count": null,
      "outputs": []
    },
    {
      "cell_type": "code",
      "source": [
        "from transformers import AutoTokenizer, AutoModelForSequenceClassification\n",
        "import torch\n",
        "\n",
        "# 모델과 토크나이저 로드\n",
        "model_name = \"hun3359/mdistilbertV3.1-sentiment\"\n",
        "tokenizer = AutoTokenizer.from_pretrained(model_name)\n",
        "model = AutoModelForSequenceClassification.from_pretrained(model_name)"
      ],
      "metadata": {
        "id": "xUUGKT2O4QcQ"
      },
      "execution_count": null,
      "outputs": []
    },
    {
      "cell_type": "code",
      "source": [
        "texts = filtered_df['content']\n",
        "texts[:3]"
      ],
      "metadata": {
        "colab": {
          "base_uri": "https://localhost:8080/"
        },
        "id": "CADUDDalEI2z",
        "outputId": "51f9d6ee-d6de-4372-d099-10dfa53f1121"
      },
      "execution_count": null,
      "outputs": [
        {
          "output_type": "execute_result",
          "data": {
            "text/plain": [
              "15     재난안전대책을 맡아서 각 부처별로 열심히 활동하고 계시면서 사고 예방과 주민 대피를...\n",
              "17     중앙재난안전대책본부가 발표한 오늘 아침 6시 기준 호우 관련 인명피해 현황을 살펴보...\n",
              "114    오늘 IAEA 사무총장이 방한해 주말 간 외교부 장관 및 원자력위원장과 면담을 가질...\n",
              "Name: content, dtype: object"
            ]
          },
          "metadata": {},
          "execution_count": 72
        }
      ]
    },
    {
      "cell_type": "code",
      "source": [
        "from tqdm import tqdm"
      ],
      "metadata": {
        "id": "kL_j1e1yEuM7"
      },
      "execution_count": null,
      "outputs": []
    },
    {
      "cell_type": "code",
      "source": [
        "# emotion_list = []\n",
        "\n",
        "# for text in tqdm(texts):\n",
        "#   # 토크나이징 및 모델 입력 형식으로 변환\n",
        "#   inputs = tokenizer(text, return_tensors=\"pt\", max_length=512)\n",
        "\n",
        "#   # 모델 추론\n",
        "#   with torch.no_grad():\n",
        "#       outputs = model(**inputs)\n",
        "#       logits = outputs.logits\n",
        "\n",
        "#   # 결과 확인\n",
        "#   probs = logits.softmax(dim=-1).tolist()[0]\n",
        "\n",
        "#   emotion_probabilities = [(label_id2label[str(label_id)], prob) for label_id, prob in enumerate(probs)]\n",
        "#   sorted_emotion_probabilities = sorted(emotion_probabilities, key=lambda x: x[1], reverse=True)\n",
        "\n",
        "#   # print(text)\n",
        "\n",
        "#   emotions = []\n",
        "#   for emotion, prob in sorted_emotion_probabilities[:5]:\n",
        "#     emotions.append(emotion)\n",
        "#     # print(f\"Emotion: {emotion}, Probability: {prob:.4f}\")\n",
        "\n",
        "#   emotion_list.append(emotions)"
      ],
      "metadata": {
        "id": "lzZKkGR32sMY"
      },
      "execution_count": null,
      "outputs": []
    },
    {
      "cell_type": "code",
      "source": [
        "from transformers import pipeline\n",
        "\n",
        "sentiment_analyzer = pipeline(\"sentiment-analysis\", model=\"hun3359/mdistilbertV3.1-sentiment\")\n",
        "\n",
        "emotion_list = []\n",
        "\n",
        "for text in tqdm(texts):\n",
        "  result = sentiment_analyzer(text, max_length=512, truncation=True)\n",
        "  emotion_list.append(result[0]['label'])\n",
        "\n",
        "  # 결과 출력\n",
        "  # print(\"Text:\", text)\n",
        "  # print(\"Sentiment:\", result[0]['label'])\n",
        "  # print(text)"
      ],
      "metadata": {
        "colab": {
          "base_uri": "https://localhost:8080/"
        },
        "id": "_pdqei3AK2g5",
        "outputId": "6dc2b04d-9f23-403c-f523-dfd9a79d6f82"
      },
      "execution_count": null,
      "outputs": [
        {
          "output_type": "stream",
          "name": "stderr",
          "text": [
            "100%|██████████| 320/320 [02:43<00:00,  1.95it/s]\n"
          ]
        }
      ]
    },
    {
      "cell_type": "code",
      "source": [
        "filtered_df['emotions2'] = emotion_list"
      ],
      "metadata": {
        "colab": {
          "base_uri": "https://localhost:8080/"
        },
        "id": "RVpQXkZM-GTn",
        "outputId": "b29bb2d3-4da2-4947-e57f-cb99372c739d"
      },
      "execution_count": null,
      "outputs": [
        {
          "output_type": "stream",
          "name": "stderr",
          "text": [
            "<ipython-input-74-e6548c30196f>:1: SettingWithCopyWarning: \n",
            "A value is trying to be set on a copy of a slice from a DataFrame.\n",
            "Try using .loc[row_indexer,col_indexer] = value instead\n",
            "\n",
            "See the caveats in the documentation: https://pandas.pydata.org/pandas-docs/stable/user_guide/indexing.html#returning-a-view-versus-a-copy\n",
            "  filtered_df['emotions2'] = emotion_list\n"
          ]
        }
      ]
    },
    {
      "cell_type": "code",
      "source": [
        "filtered_df['emotions2'].head(5)"
      ],
      "metadata": {
        "colab": {
          "base_uri": "https://localhost:8080/"
        },
        "id": "5HbxIMQ-SO30",
        "outputId": "b0842fcb-89c6-48e2-a8c7-81bc0f6a9497"
      },
      "execution_count": null,
      "outputs": [
        {
          "output_type": "execute_result",
          "data": {
            "text/plain": [
              "15       고립된(당황한)\n",
              "17       고립된(당황한)\n",
              "114    혼란스러운(당황한)\n",
              "153    혼란스러운(당황한)\n",
              "161      고립된(당황한)\n",
              "Name: emotions2, dtype: object"
            ]
          },
          "metadata": {},
          "execution_count": 75
        }
      ]
    },
    {
      "cell_type": "code",
      "source": [
        "from collections import Counter\n",
        "\n",
        "민주당_wordcnt = Counter(filtered_df[filtered_df['target']=='민주당']['emotions2'])\n",
        "\n",
        "normalized_emotion_frequencies = {emotion: count / len(filtered_df[filtered_df['target']=='민주당']['emotions2'])*100 for emotion, count in 민주당_wordcnt.items()}\n",
        "\n",
        "민_sorted_emotions = sorted(normalized_emotion_frequencies, key=normalized_emotion_frequencies.get, reverse=True)\n",
        "print(민_sorted_emotions)"
      ],
      "metadata": {
        "colab": {
          "base_uri": "https://localhost:8080/"
        },
        "id": "Yp-5OJpdTR5Y",
        "outputId": "0dba346f-643d-477f-bb76-0443dc065627"
      },
      "execution_count": null,
      "outputs": [
        {
          "output_type": "stream",
          "name": "stdout",
          "text": [
            "['고립된(당황한)', '혼란스러운(당황한)', '안달하는', '당황', '감사하는', '혐오스러운', '희생된', '억울한', '눈물이 나는']\n"
          ]
        }
      ]
    },
    {
      "cell_type": "code",
      "source": [
        "from collections import Counter\n",
        "\n",
        "국민의힘_wordcnt = Counter(filtered_df[filtered_df['target']=='국민의힘']['emotions2'])\n",
        "\n",
        "normalized_emotion_frequencies = {emotion: count / len(filtered_df[filtered_df['target']=='국민의힘']['emotions2'])*100 for emotion, count in 국민의힘_wordcnt.items()}\n",
        "selected_emotions = {emotion: percentage for emotion, percentage in normalized_emotion_frequencies.items()if percentage >= 10}\n",
        "\n",
        "국_sorted_emotions = sorted(normalized_emotion_frequencies, key=normalized_emotion_frequencies.get, reverse=True)\n",
        "print(국_sorted_emotions)"
      ],
      "metadata": {
        "colab": {
          "base_uri": "https://localhost:8080/"
        },
        "id": "n_QyRLVRTojM",
        "outputId": "bdb705e5-a419-4a48-dc39-f53704063fdd"
      },
      "execution_count": null,
      "outputs": [
        {
          "output_type": "stream",
          "name": "stdout",
          "text": [
            "['고립된(당황한)', '혼란스러운(당황한)', '안달하는', '당황', '혐오스러운', '구역질 나는', '희생된']\n"
          ]
        }
      ]
    },
    {
      "cell_type": "code",
      "source": [
        "set(민_sorted_emotions)- set(국_sorted_emotions)"
      ],
      "metadata": {
        "colab": {
          "base_uri": "https://localhost:8080/"
        },
        "id": "xJRDAD34TZNk",
        "outputId": "ed314f1f-a230-43e5-d0c1-aef421cf46e2"
      },
      "execution_count": null,
      "outputs": [
        {
          "output_type": "execute_result",
          "data": {
            "text/plain": [
              "set()"
            ]
          },
          "metadata": {},
          "execution_count": 47
        }
      ]
    },
    {
      "cell_type": "code",
      "source": [
        "set(국_sorted_emotions)- set(민_sorted_emotions )"
      ],
      "metadata": {
        "colab": {
          "base_uri": "https://localhost:8080/"
        },
        "id": "lH1d9hviZUOb",
        "outputId": "79829858-a997-4137-bb63-9370155d3612"
      },
      "execution_count": null,
      "outputs": [
        {
          "output_type": "execute_result",
          "data": {
            "text/plain": [
              "{'성가신', '신이 난', '자신하는'}"
            ]
          },
          "metadata": {},
          "execution_count": 232
        }
      ]
    },
    {
      "cell_type": "markdown",
      "source": [
        "### Emotions in segmentation(3)"
      ],
      "metadata": {
        "id": "HSeZh0fHh718"
      }
    },
    {
      "cell_type": "code",
      "source": [
        "id2label: {\n",
        "    \"0\": \"negative\",\n",
        "    \"1\": \"neutral\",\n",
        "    \"2\": \"positive\"\n",
        "  }"
      ],
      "metadata": {
        "id": "W45Ac7q7ihYs"
      },
      "execution_count": null,
      "outputs": []
    },
    {
      "cell_type": "code",
      "source": [
        "import torch\n",
        "from transformers import AutoTokenizer, AutoModelForSequenceClassification\n",
        "\n",
        "# 모델과 토크나이저 로드\n",
        "model_name = \"snunlp/KR-FinBert-SC\"\n",
        "tokenizer = AutoTokenizer.from_pretrained(model_name)\n",
        "model = AutoModelForSequenceClassification.from_pretrained(model_name)"
      ],
      "metadata": {
        "id": "C4kyODh4kvD6"
      },
      "execution_count": null,
      "outputs": []
    },
    {
      "cell_type": "code",
      "source": [
        "texts = filtered_df['content']\n",
        "\n",
        "emotion_list = []\n",
        "for text in tqdm(texts):\n",
        "    inputs = tokenizer(text, return_tensors=\"pt\", max_length=512, truncation=True)\n",
        "\n",
        "    # 모델 추론\n",
        "    with torch.no_grad():\n",
        "        outputs = model(**inputs)\n",
        "        logits = outputs.logits\n",
        "\n",
        "    # 확률 계산 및 정규화\n",
        "    emotion_probs = torch.softmax(logits, dim=-1)[0]\n",
        "\n",
        "    # 가장 높은 확률을 가진 클래스 선택\n",
        "    max_prob, max_prob_index = torch.max(emotion_probs, dim=0)\n",
        "    max_prob_emotion = model.config.id2label[max_prob_index.item()]\n",
        "\n",
        "    emotion_list.append(max_prob_emotion)\n",
        "\n",
        "    # print(f\"Emotion: {max_prob_emotion}, Probability: {max_prob.item():.2f}%\")"
      ],
      "metadata": {
        "colab": {
          "base_uri": "https://localhost:8080/"
        },
        "id": "aRULkjyTh_TU",
        "outputId": "693426fe-25a7-4d44-80fa-b395500c3dd6"
      },
      "execution_count": null,
      "outputs": [
        {
          "output_type": "stream",
          "name": "stderr",
          "text": [
            "100%|██████████| 1376/1376 [35:42<00:00,  1.56s/it]\n"
          ]
        }
      ]
    },
    {
      "cell_type": "code",
      "source": [
        "filtered_df['emotions2'] = emotion_list"
      ],
      "metadata": {
        "colab": {
          "base_uri": "https://localhost:8080/"
        },
        "id": "zRAbhM1d1gAt",
        "outputId": "cf8cdc7d-525b-4c95-c37b-8582a98a8caf"
      },
      "execution_count": null,
      "outputs": [
        {
          "output_type": "stream",
          "name": "stderr",
          "text": [
            "<ipython-input-272-e6548c30196f>:1: SettingWithCopyWarning: \n",
            "A value is trying to be set on a copy of a slice from a DataFrame.\n",
            "Try using .loc[row_indexer,col_indexer] = value instead\n",
            "\n",
            "See the caveats in the documentation: https://pandas.pydata.org/pandas-docs/stable/user_guide/indexing.html#returning-a-view-versus-a-copy\n",
            "  filtered_df['emotions2'] = emotion_list\n"
          ]
        }
      ]
    },
    {
      "cell_type": "code",
      "source": [
        "from collections import Counter\n",
        "\n",
        "민주당_wordcnt = Counter(filtered_df[filtered_df['target']=='민주당']['emotions2'])\n",
        "\n",
        "normalized_emotion_frequencies = {emotion: count / len(filtered_df[filtered_df['target']=='민주당']['emotions2'])*100 for emotion, count in 민주당_wordcnt.items()}\n",
        "\n",
        "민_sorted_emotions = sorted(normalized_emotion_frequencies, key=normalized_emotion_frequencies.get, reverse=True)\n",
        "print(민_sorted_emotions)"
      ],
      "metadata": {
        "colab": {
          "base_uri": "https://localhost:8080/"
        },
        "id": "zzJ7os2biLNb",
        "outputId": "608976a8-92eb-4b3c-e558-55cfe07fb3b4"
      },
      "execution_count": null,
      "outputs": [
        {
          "output_type": "stream",
          "name": "stdout",
          "text": [
            "['neutral', 'negative']\n"
          ]
        }
      ]
    },
    {
      "cell_type": "code",
      "source": [
        "from collections import Counter\n",
        "\n",
        "국민의힘_wordcnt = Counter(filtered_df[filtered_df['target']=='국민의힘']['emotions2'])\n",
        "\n",
        "normalized_emotion_frequencies = {emotion: count / len(filtered_df[filtered_df['target']=='국민의힘']['emotions2'])*100 for emotion, count in 국민의힘_wordcnt.items()}\n",
        "selected_emotions = {emotion: percentage for emotion, percentage in normalized_emotion_frequencies.items()if percentage >= 10}\n",
        "\n",
        "국_sorted_emotions = sorted(normalized_emotion_frequencies, key=normalized_emotion_frequencies.get, reverse=True)\n",
        "print(국_sorted_emotions)"
      ],
      "metadata": {
        "colab": {
          "base_uri": "https://localhost:8080/"
        },
        "id": "biTsi6ea1gpd",
        "outputId": "d7fb589b-4142-4683-f2f2-c0f7dd30b1d9"
      },
      "execution_count": null,
      "outputs": [
        {
          "output_type": "stream",
          "name": "stdout",
          "text": [
            "['neutral', 'negative']\n"
          ]
        }
      ]
    },
    {
      "cell_type": "code",
      "source": [],
      "metadata": {
        "id": "0Soij2XM1i8d"
      },
      "execution_count": null,
      "outputs": []
    }
  ]
}