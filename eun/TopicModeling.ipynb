{
  "cells": [
    {
      "cell_type": "markdown",
      "metadata": {
        "id": "view-in-github",
        "colab_type": "text"
      },
      "source": [
        "<a href=\"https://colab.research.google.com/github/shjoo0407/political_disposition/blob/main/eun/TopicModeling.ipynb\" target=\"_parent\"><img src=\"https://colab.research.google.com/assets/colab-badge.svg\" alt=\"Open In Colab\"/></a>"
      ]
    },
    {
      "cell_type": "code",
      "execution_count": null,
      "metadata": {
        "colab": {
          "base_uri": "https://localhost:8080/"
        },
        "id": "73KZxEWWW9Rg",
        "outputId": "02479ff4-9f65-49fa-c698-72979b79a5d4"
      },
      "outputs": [
        {
          "output_type": "stream",
          "name": "stdout",
          "text": [
            "/content/drive/MyDrive/2023/sw공모전\n"
          ]
        }
      ],
      "source": [
        "cd /content/drive/MyDrive/2023/sw공모전"
      ]
    },
    {
      "cell_type": "code",
      "execution_count": null,
      "metadata": {
        "colab": {
          "base_uri": "https://localhost:8080/"
        },
        "id": "EpQ_EDGmvOgV",
        "outputId": "7744a08e-739d-4d8d-da1e-76c1e644743c"
      },
      "outputs": [
        {
          "output_type": "stream",
          "name": "stdout",
          "text": [
            "\u001b[0m\u001b[01;34mdrive\u001b[0m/  \u001b[01;34msample_data\u001b[0m/\n"
          ]
        }
      ],
      "source": [
        "ls"
      ]
    },
    {
      "cell_type": "code",
      "execution_count": null,
      "metadata": {
        "id": "zPa7NJAmVZY5"
      },
      "outputs": [],
      "source": [
        "# 형태소 분석기 Mecab 설치\n",
        "!pip install konlpy\n",
        "!pip install mecab-python\n",
        "!bash <(curl -s https://raw.githubusercontent.com/konlpy/konlpy/master/scripts/mecab.sh)"
      ]
    },
    {
      "cell_type": "code",
      "execution_count": null,
      "metadata": {
        "id": "q4yguo-zVXcR"
      },
      "outputs": [],
      "source": [
        "import pandas as pd\n",
        "from konlpy.tag import Mecab\n",
        "from gensim.models.doc2vec import TaggedDocument\n",
        "from tqdm import tqdm\n",
        "import io\n",
        "import matplotlib as mpl\n",
        "import matplotlib.pyplot as plt\n",
        "import matplotlib.font_manager as fm\n",
        "from matplotlib import rc\n",
        "import numpy as np"
      ]
    },
    {
      "cell_type": "markdown",
      "metadata": {
        "id": "u5g8YJ2eYGJZ"
      },
      "source": [
        "### data load"
      ]
    },
    {
      "cell_type": "code",
      "source": [
        "df_a1 = pd.read_csv('data/노무현_국힘.csv', sep=',')\n",
        "df_b1 = pd.read_csv('data/이명박_국힘.csv', sep=',')\n",
        "df_c1 = pd.read_csv('data/박근혜_국힘.csv', sep=',')\n",
        "df_d1 = pd.read_csv('data/문재인_국힘.csv', sep=',')"
      ],
      "metadata": {
        "id": "wl4G7R15vK6i"
      },
      "execution_count": null,
      "outputs": []
    },
    {
      "cell_type": "code",
      "source": [
        "df_a2 = pd.read_csv('data/노무현.csv', sep=',')\n",
        "df_b2 = pd.read_csv('data/이명박.csv', sep=',')\n",
        "df_c2 = pd.read_csv('data/박근혜.csv', sep=',')\n",
        "df_d2 = pd.read_csv('data/문재인.csv', sep=',')"
      ],
      "metadata": {
        "id": "wBwVjswrvLsv"
      },
      "execution_count": null,
      "outputs": []
    },
    {
      "cell_type": "code",
      "source": [
        "df1 = pd.concat([df_a1,df_a2])\n",
        "df2 = pd.concat([df_b1,df_b2])\n",
        "df3 = pd.concat([df_c1,df_c2])\n",
        "df4 = pd.concat([df_d1,df_d2])"
      ],
      "metadata": {
        "id": "lnMyxL_kvLif"
      },
      "execution_count": null,
      "outputs": []
    },
    {
      "cell_type": "code",
      "execution_count": null,
      "metadata": {
        "id": "7qBTaw-7vms5"
      },
      "outputs": [],
      "source": [
        "df1 = pd.read_csv('data/노무현_국힘.csv', sep=',')\n",
        "df2 = pd.read_csv('data/이명박_국힘.csv', sep=',')\n",
        "df3 = pd.read_csv('data/박근혜_국힘.csv', sep=',')\n",
        "df4 = pd.read_csv('data/문재인_국힘.csv', sep=',')"
      ]
    },
    {
      "cell_type": "code",
      "execution_count": null,
      "metadata": {
        "colab": {
          "base_uri": "https://localhost:8080/"
        },
        "id": "8oMpS-51wD31",
        "outputId": "ae524bd9-b63e-442a-a50f-f9bd11369a0d"
      },
      "outputs": [
        {
          "name": "stdout",
          "output_type": "stream",
          "text": [
            "NPP_final_0729.csv  노무현.csv  박근혜.csv\n",
            "TMP_final_0729.csv  문재인.csv  이명박.csv\n"
          ]
        }
      ],
      "source": [
        "ls"
      ]
    },
    {
      "cell_type": "code",
      "execution_count": null,
      "metadata": {
        "colab": {
          "base_uri": "https://localhost:8080/"
        },
        "id": "wQssrL7MZEzc",
        "outputId": "2f962608-6c30-4f9f-8f3e-db3422deb290"
      },
      "outputs": [
        {
          "name": "stderr",
          "output_type": "stream",
          "text": [
            "/usr/local/lib/python3.10/dist-packages/ipykernel/ipkernel.py:283: DeprecationWarning: `should_run_async` will not call `transform_cell` automatically in the future. Please pass the result to `transformed_cell` argument and any exception that happen during thetransform in `preprocessing_exc_tuple` in IPython 7.17 and above.\n",
            "  and should_run_async(code)\n"
          ]
        }
      ],
      "source": [
        "import pandas as pd\n",
        "\n",
        "def data(startY, startQ, endY, endQ, type):\n",
        "    '''\n",
        "    startY: 임기시작 년도, startQ: 임기시작 년도의 분기\n",
        "    endY: 임기종료 년도, endQ: 임기종료 년도의 분기\n",
        "    '''\n",
        "\n",
        "    if type == 'all':\n",
        "      df1 = pd.read_csv('data/NPP_final_0729.csv', sep=',')\n",
        "      df2 = pd.read_csv('data/TMP_final_0729.csv', sep=',')\n",
        "\n",
        "      df1['target'] = '국민의힘'\n",
        "      df2['target'] = '민주당'\n",
        "\n",
        "      df = pd.concat([df1, df2]).reset_index()\n",
        "    elif type == 'npp':\n",
        "      df = pd.read_csv('data/NPP_final_0729.csv', sep=',')\n",
        "      df['target'] = '국민의힘'\n",
        "    else:\n",
        "      df = pd.read_csv('data/TMP_final_0729.csv', sep=',')\n",
        "      df['target'] = '민주당'\n",
        "\n",
        "\n",
        "    df = df[(df['year'] > startY) | ((df['year'] == startY) & (df['quarter'] >= startQ))]\n",
        "    df = df[(df['year'] < endY) | ((df['year'] == endY) & (df['quarter'] <= endQ))]\n",
        "\n",
        "    df = df.dropna()\n",
        "\n",
        "\n",
        "\n",
        "    return df"
      ]
    },
    {
      "cell_type": "code",
      "execution_count": null,
      "metadata": {
        "colab": {
          "base_uri": "https://localhost:8080/",
          "height": 302
        },
        "id": "wA7RX7KNbbwO",
        "outputId": "5ed32e61-d1d4-46ca-fdab-7344e27cd113"
      },
      "outputs": [
        {
          "name": "stderr",
          "output_type": "stream",
          "text": [
            "/usr/local/lib/python3.10/dist-packages/ipykernel/ipkernel.py:283: DeprecationWarning: `should_run_async` will not call `transform_cell` automatically in the future. Please pass the result to `transformed_cell` argument and any exception that happen during thetransform in `preprocessing_exc_tuple` in IPython 7.17 and above.\n",
            "  and should_run_async(code)\n"
          ]
        },
        {
          "data": {
            "text/html": [
              "\n",
              "\n",
              "  <div id=\"df-bc2a004a-4dc4-47e1-b09d-a85717c9f387\">\n",
              "    <div class=\"colab-df-container\">\n",
              "      <div>\n",
              "<style scoped>\n",
              "    .dataframe tbody tr th:only-of-type {\n",
              "        vertical-align: middle;\n",
              "    }\n",
              "\n",
              "    .dataframe tbody tr th {\n",
              "        vertical-align: top;\n",
              "    }\n",
              "\n",
              "    .dataframe thead th {\n",
              "        text-align: right;\n",
              "    }\n",
              "</style>\n",
              "<table border=\"1\" class=\"dataframe\">\n",
              "  <thead>\n",
              "    <tr style=\"text-align: right;\">\n",
              "      <th></th>\n",
              "      <th>content</th>\n",
              "      <th>target</th>\n",
              "    </tr>\n",
              "  </thead>\n",
              "  <tbody>\n",
              "    <tr>\n",
              "      <th>0</th>\n",
              "      <td>‘빗물을 나르는 고속도로’라 불리는 대심도 빗물터널 조금 전에 둘러보고 왔다. 신월...</td>\n",
              "      <td>국민의힘</td>\n",
              "    </tr>\n",
              "    <tr>\n",
              "      <th>1</th>\n",
              "      <td>오늘 한 언론에 보도된 무소속 박완주 의원의 검찰 공소장 안에는, 강력 성범죄자의 ...</td>\n",
              "      <td>국민의힘</td>\n",
              "    </tr>\n",
              "    <tr>\n",
              "      <th>2</th>\n",
              "      <td>전국적인 집중호우로 많은 국민들이 희생되고 막대한 재산 피해가 발생했다. 당장 전면...</td>\n",
              "      <td>국민의힘</td>\n",
              "    </tr>\n",
              "    <tr>\n",
              "      <th>3</th>\n",
              "      <td>더불어민주당이 윤석열 정부의 ‘시행령 추진’에 본격적으로 제동을 걸고 있다. KBS...</td>\n",
              "      <td>국민의힘</td>\n",
              "    </tr>\n",
              "    <tr>\n",
              "      <th>4</th>\n",
              "      <td>그칠 줄 모르던 비가 잠시 소강상태에 접어들었지만, 폭우가 할퀴고 간 자리에 남겨진...</td>\n",
              "      <td>국민의힘</td>\n",
              "    </tr>\n",
              "  </tbody>\n",
              "</table>\n",
              "</div>\n",
              "      <button class=\"colab-df-convert\" onclick=\"convertToInteractive('df-bc2a004a-4dc4-47e1-b09d-a85717c9f387')\"\n",
              "              title=\"Convert this dataframe to an interactive table.\"\n",
              "              style=\"display:none;\">\n",
              "\n",
              "  <svg xmlns=\"http://www.w3.org/2000/svg\" height=\"24px\"viewBox=\"0 0 24 24\"\n",
              "       width=\"24px\">\n",
              "    <path d=\"M0 0h24v24H0V0z\" fill=\"none\"/>\n",
              "    <path d=\"M18.56 5.44l.94 2.06.94-2.06 2.06-.94-2.06-.94-.94-2.06-.94 2.06-2.06.94zm-11 1L8.5 8.5l.94-2.06 2.06-.94-2.06-.94L8.5 2.5l-.94 2.06-2.06.94zm10 10l.94 2.06.94-2.06 2.06-.94-2.06-.94-.94-2.06-.94 2.06-2.06.94z\"/><path d=\"M17.41 7.96l-1.37-1.37c-.4-.4-.92-.59-1.43-.59-.52 0-1.04.2-1.43.59L10.3 9.45l-7.72 7.72c-.78.78-.78 2.05 0 2.83L4 21.41c.39.39.9.59 1.41.59.51 0 1.02-.2 1.41-.59l7.78-7.78 2.81-2.81c.8-.78.8-2.07 0-2.86zM5.41 20L4 18.59l7.72-7.72 1.47 1.35L5.41 20z\"/>\n",
              "  </svg>\n",
              "      </button>\n",
              "\n",
              "\n",
              "\n",
              "    <div id=\"df-845b619a-8535-474e-b823-fa291054cfc4\">\n",
              "      <button class=\"colab-df-quickchart\" onclick=\"quickchart('df-845b619a-8535-474e-b823-fa291054cfc4')\"\n",
              "              title=\"Suggest charts.\"\n",
              "              style=\"display:none;\">\n",
              "\n",
              "<svg xmlns=\"http://www.w3.org/2000/svg\" height=\"24px\"viewBox=\"0 0 24 24\"\n",
              "     width=\"24px\">\n",
              "    <g>\n",
              "        <path d=\"M19 3H5c-1.1 0-2 .9-2 2v14c0 1.1.9 2 2 2h14c1.1 0 2-.9 2-2V5c0-1.1-.9-2-2-2zM9 17H7v-7h2v7zm4 0h-2V7h2v10zm4 0h-2v-4h2v4z\"/>\n",
              "    </g>\n",
              "</svg>\n",
              "      </button>\n",
              "    </div>\n",
              "\n",
              "<style>\n",
              "  .colab-df-quickchart {\n",
              "    background-color: #E8F0FE;\n",
              "    border: none;\n",
              "    border-radius: 50%;\n",
              "    cursor: pointer;\n",
              "    display: none;\n",
              "    fill: #1967D2;\n",
              "    height: 32px;\n",
              "    padding: 0 0 0 0;\n",
              "    width: 32px;\n",
              "  }\n",
              "\n",
              "  .colab-df-quickchart:hover {\n",
              "    background-color: #E2EBFA;\n",
              "    box-shadow: 0px 1px 2px rgba(60, 64, 67, 0.3), 0px 1px 3px 1px rgba(60, 64, 67, 0.15);\n",
              "    fill: #174EA6;\n",
              "  }\n",
              "\n",
              "  [theme=dark] .colab-df-quickchart {\n",
              "    background-color: #3B4455;\n",
              "    fill: #D2E3FC;\n",
              "  }\n",
              "\n",
              "  [theme=dark] .colab-df-quickchart:hover {\n",
              "    background-color: #434B5C;\n",
              "    box-shadow: 0px 1px 3px 1px rgba(0, 0, 0, 0.15);\n",
              "    filter: drop-shadow(0px 1px 2px rgba(0, 0, 0, 0.3));\n",
              "    fill: #FFFFFF;\n",
              "  }\n",
              "</style>\n",
              "\n",
              "    <script>\n",
              "      async function quickchart(key) {\n",
              "        const containerElement = document.querySelector('#' + key);\n",
              "        const charts = await google.colab.kernel.invokeFunction(\n",
              "            'suggestCharts', [key], {});\n",
              "      }\n",
              "    </script>\n",
              "\n",
              "      <script>\n",
              "\n",
              "function displayQuickchartButton(domScope) {\n",
              "  let quickchartButtonEl =\n",
              "    domScope.querySelector('#df-845b619a-8535-474e-b823-fa291054cfc4 button.colab-df-quickchart');\n",
              "  quickchartButtonEl.style.display =\n",
              "    google.colab.kernel.accessAllowed ? 'block' : 'none';\n",
              "}\n",
              "\n",
              "        displayQuickchartButton(document);\n",
              "      </script>\n",
              "      <style>\n",
              "    .colab-df-container {\n",
              "      display:flex;\n",
              "      flex-wrap:wrap;\n",
              "      gap: 12px;\n",
              "    }\n",
              "\n",
              "    .colab-df-convert {\n",
              "      background-color: #E8F0FE;\n",
              "      border: none;\n",
              "      border-radius: 50%;\n",
              "      cursor: pointer;\n",
              "      display: none;\n",
              "      fill: #1967D2;\n",
              "      height: 32px;\n",
              "      padding: 0 0 0 0;\n",
              "      width: 32px;\n",
              "    }\n",
              "\n",
              "    .colab-df-convert:hover {\n",
              "      background-color: #E2EBFA;\n",
              "      box-shadow: 0px 1px 2px rgba(60, 64, 67, 0.3), 0px 1px 3px 1px rgba(60, 64, 67, 0.15);\n",
              "      fill: #174EA6;\n",
              "    }\n",
              "\n",
              "    [theme=dark] .colab-df-convert {\n",
              "      background-color: #3B4455;\n",
              "      fill: #D2E3FC;\n",
              "    }\n",
              "\n",
              "    [theme=dark] .colab-df-convert:hover {\n",
              "      background-color: #434B5C;\n",
              "      box-shadow: 0px 1px 3px 1px rgba(0, 0, 0, 0.15);\n",
              "      filter: drop-shadow(0px 1px 2px rgba(0, 0, 0, 0.3));\n",
              "      fill: #FFFFFF;\n",
              "    }\n",
              "  </style>\n",
              "\n",
              "      <script>\n",
              "        const buttonEl =\n",
              "          document.querySelector('#df-bc2a004a-4dc4-47e1-b09d-a85717c9f387 button.colab-df-convert');\n",
              "        buttonEl.style.display =\n",
              "          google.colab.kernel.accessAllowed ? 'block' : 'none';\n",
              "\n",
              "        async function convertToInteractive(key) {\n",
              "          const element = document.querySelector('#df-bc2a004a-4dc4-47e1-b09d-a85717c9f387');\n",
              "          const dataTable =\n",
              "            await google.colab.kernel.invokeFunction('convertToInteractive',\n",
              "                                                     [key], {});\n",
              "          if (!dataTable) return;\n",
              "\n",
              "          const docLinkHtml = 'Like what you see? Visit the ' +\n",
              "            '<a target=\"_blank\" href=https://colab.research.google.com/notebooks/data_table.ipynb>data table notebook</a>'\n",
              "            + ' to learn more about interactive tables.';\n",
              "          element.innerHTML = '';\n",
              "          dataTable['output_type'] = 'display_data';\n",
              "          await google.colab.output.renderOutput(dataTable, element);\n",
              "          const docLink = document.createElement('div');\n",
              "          docLink.innerHTML = docLinkHtml;\n",
              "          element.appendChild(docLink);\n",
              "        }\n",
              "      </script>\n",
              "    </div>\n",
              "  </div>\n"
            ],
            "text/plain": [
              "                                             content target\n",
              "0  ‘빗물을 나르는 고속도로’라 불리는 대심도 빗물터널 조금 전에 둘러보고 왔다. 신월...   국민의힘\n",
              "1  오늘 한 언론에 보도된 무소속 박완주 의원의 검찰 공소장 안에는, 강력 성범죄자의 ...   국민의힘\n",
              "2  전국적인 집중호우로 많은 국민들이 희생되고 막대한 재산 피해가 발생했다. 당장 전면...   국민의힘\n",
              "3  더불어민주당이 윤석열 정부의 ‘시행령 추진’에 본격적으로 제동을 걸고 있다. KBS...   국민의힘\n",
              "4  그칠 줄 모르던 비가 잠시 소강상태에 접어들었지만, 폭우가 할퀴고 간 자리에 남겨진...   국민의힘"
            ]
          },
          "execution_count": 55,
          "metadata": {},
          "output_type": "execute_result"
        }
      ],
      "source": [
        "# 기간 여기 !!!!!\n",
        "start_year = 2022\n",
        "start_quarter = 2\n",
        "end_year = 2023\n",
        "end_quarter = 3\n",
        "data_type = all\n",
        "\n",
        "df = data(start_year, start_quarter, end_year, end_quarter, data_type)\n",
        "df.head()"
      ]
    },
    {
      "cell_type": "code",
      "execution_count": null,
      "metadata": {
        "colab": {
          "base_uri": "https://localhost:8080/"
        },
        "id": "PIhuKNCovzAg",
        "outputId": "147b38f9-fbe8-4f0a-9e58-3d55928ecfe0"
      },
      "outputs": [
        {
          "name": "stderr",
          "output_type": "stream",
          "text": [
            "/usr/local/lib/python3.10/dist-packages/ipykernel/ipkernel.py:283: DeprecationWarning: `should_run_async` will not call `transform_cell` automatically in the future. Please pass the result to `transformed_cell` argument and any exception that happen during thetransform in `preprocessing_exc_tuple` in IPython 7.17 and above.\n",
            "  and should_run_async(code)\n"
          ]
        }
      ],
      "source": [
        "df = df2[:]"
      ]
    },
    {
      "cell_type": "code",
      "execution_count": null,
      "metadata": {
        "colab": {
          "base_uri": "https://localhost:8080/"
        },
        "id": "0jC-WwV5dgoY",
        "outputId": "d9b0e792-9d6b-40f9-8364-cad29697a23f"
      },
      "outputs": [
        {
          "name": "stdout",
          "output_type": "stream",
          "text": [
            "(0, 4)\n",
            "(12140, 4)\n",
            "(12140, 4)\n"
          ]
        },
        {
          "name": "stderr",
          "output_type": "stream",
          "text": [
            "/usr/local/lib/python3.10/dist-packages/ipykernel/ipkernel.py:283: DeprecationWarning: `should_run_async` will not call `transform_cell` automatically in the future. Please pass the result to `transformed_cell` argument and any exception that happen during thetransform in `preprocessing_exc_tuple` in IPython 7.17 and above.\n",
            "  and should_run_async(code)\n"
          ]
        }
      ],
      "source": [
        "print(df[df['target']=='국민의힘'].shape)\n",
        "print(df[df['target']=='민주당'].shape)\n",
        "print(df.shape)"
      ]
    },
    {
      "cell_type": "markdown",
      "metadata": {
        "id": "b6F3v4OOYIGr"
      },
      "source": [
        "### preprocessing"
      ]
    },
    {
      "cell_type": "code",
      "execution_count": null,
      "metadata": {
        "id": "lMYlqctHXRoR"
      },
      "outputs": [],
      "source": [
        "import warnings\n",
        "warnings.filterwarnings(\"ignore\", category=UserWarning)\n",
        "\n",
        "import re, string\n",
        "from konlpy.tag import Komoran, Hannanum\n",
        "from collections import Counter\n",
        "from sklearn.feature_extraction.text import CountVectorizer, TfidfVectorizer\n",
        "from sklearn.cluster import DBSCAN\n",
        "from sklearn.cluster import KMeans\n",
        "from sklearn.metrics import silhouette_score\n",
        "import seaborn as sns"
      ]
    },
    {
      "cell_type": "code",
      "execution_count": null,
      "metadata": {
        "id": "LmseTVHJXcdc"
      },
      "outputs": [],
      "source": [
        "komoran = Komoran()\n",
        "hannanum = Hannanum()"
      ]
    },
    {
      "cell_type": "code",
      "execution_count": null,
      "metadata": {
        "colab": {
          "base_uri": "https://localhost:8080/"
        },
        "id": "grOTfcSjbl4j",
        "outputId": "24814b18-d6ef-46b2-c701-ce5381613506"
      },
      "outputs": [
        {
          "data": {
            "text/plain": [
              "[['휴'],\n",
              " ['아이구'],\n",
              " ['아이쿠'],\n",
              " ['아이고'],\n",
              " ['어'],\n",
              " ['나'],\n",
              " ['우리'],\n",
              " ['저희'],\n",
              " ['따라'],\n",
              " ['의해']]"
            ]
          },
          "execution_count": 3,
          "metadata": {},
          "output_type": "execute_result"
        }
      ],
      "source": [
        "#불용어 사전 만들기\n",
        "stopwords = pd.read_csv(\"https://raw.githubusercontent.com/yoonkt200/FastCampusDataset/master/korean_stopwords.txt\").values.tolist()\n",
        "stopwords[:10]"
      ]
    },
    {
      "cell_type": "code",
      "execution_count": null,
      "metadata": {
        "id": "kuj9O1RzXfA8"
      },
      "outputs": [],
      "source": [
        "# 정규화\n",
        "def preprocess(text):\n",
        "    text=text.strip()\n",
        "    text=re.compile('<.*?>').sub('', text)\n",
        "    text = re.compile('[%s]' % re.escape(string.punctuation)).sub(' ', text)\n",
        "    text = re.sub('\\s+', ' ', text)\n",
        "    text = re.sub(r'\\[[0-9]*\\]',' ',text)\n",
        "    text=re.sub(r'[^\\w\\s]', ' ', str(text).strip())\n",
        "    text = re.sub(r'\\d',' ',text)\n",
        "    text = re.sub(r'\\s+',' ',text)\n",
        "    return text\n",
        "\n",
        "\n",
        "# 명사/영단어 추출, 한글자 제외, 불용어 제거\n",
        "def final(text):\n",
        "    n = []\n",
        "    word = komoran.nouns(text)\n",
        "    p = komoran.pos(text)\n",
        "    for pos in p:\n",
        "      if pos[1] in ['SL']:\n",
        "        word.append(pos[0])\n",
        "    for w in word:\n",
        "      if len(w)>1 and w not in stopwords:\n",
        "        n.append(w)\n",
        "    return \" \".join(n)\n",
        "\n",
        "# 최종\n",
        "def finalpreprocess(text):\n",
        "  return final(preprocess(text))\n"
      ]
    },
    {
      "cell_type": "code",
      "execution_count": null,
      "metadata": {
        "colab": {
          "base_uri": "https://localhost:8080/",
          "height": 472
        },
        "id": "KfTgMmV4Xi6z",
        "outputId": "675cf5f8-d89b-4472-fbaa-e3f2c8e4cb30"
      },
      "outputs": [
        {
          "name": "stderr",
          "output_type": "stream",
          "text": [
            "/usr/local/lib/python3.10/dist-packages/ipykernel/ipkernel.py:283: DeprecationWarning: `should_run_async` will not call `transform_cell` automatically in the future. Please pass the result to `transformed_cell` argument and any exception that happen during thetransform in `preprocessing_exc_tuple` in IPython 7.17 and above.\n",
            "  and should_run_async(code)\n"
          ]
        },
        {
          "data": {
            "text/html": [
              "\n",
              "\n",
              "  <div id=\"df-cd6859bb-aaf5-4fb0-b8d3-f5473fbc9aa5\">\n",
              "    <div class=\"colab-df-container\">\n",
              "      <div>\n",
              "<style scoped>\n",
              "    .dataframe tbody tr th:only-of-type {\n",
              "        vertical-align: middle;\n",
              "    }\n",
              "\n",
              "    .dataframe tbody tr th {\n",
              "        vertical-align: top;\n",
              "    }\n",
              "\n",
              "    .dataframe thead th {\n",
              "        text-align: right;\n",
              "    }\n",
              "</style>\n",
              "<table border=\"1\" class=\"dataframe\">\n",
              "  <thead>\n",
              "    <tr style=\"text-align: right;\">\n",
              "      <th></th>\n",
              "      <th>content</th>\n",
              "      <th>target</th>\n",
              "      <th>content2</th>\n",
              "    </tr>\n",
              "  </thead>\n",
              "  <tbody>\n",
              "    <tr>\n",
              "      <th>40452</th>\n",
              "      <td>정체불명의 해외발 우편물, 국민 불안이 확산되는데 정부는 손놓고 있습니까 3일째 전...</td>\n",
              "      <td>민주당</td>\n",
              "      <td>정체 불명 해외 우편물 국민 불안 확산 정부 전국 곳곳 해외 발송 정체 불명 우편물...</td>\n",
              "    </tr>\n",
              "    <tr>\n",
              "      <th>40453</th>\n",
              "      <td>검찰은 조작 수사도 모자라 이제는 진술을 왜곡해 언론에 퍼뜨려 여론을 호도하고 있습...</td>\n",
              "      <td>민주당</td>\n",
              "      <td>검찰 조작 수사 이제 진술 왜곡 언론 여론 호도 최근 이화영 경기도 평화 부지사 그...</td>\n",
              "    </tr>\n",
              "    <tr>\n",
              "      <th>40454</th>\n",
              "      <td>윤석열 대통령은 높아지는 군사적 긴장에 언제까지 팔짱만 끼고 있을 겁니까 북한이 오...</td>\n",
              "      <td>민주당</td>\n",
              "      <td>윤석열 대통령 군사 긴장 팔짱 북한 오늘 새벽 서해 순항 미사일 발사 북한 무력 도...</td>\n",
              "    </tr>\n",
              "    <tr>\n",
              "      <th>40455</th>\n",
              "      <td>국정 운영 방향을 남 탓으로 정한 정권은 윤석열 정권뿐입니다 “윤 대통령의 국정 운...</td>\n",
              "      <td>민주당</td>\n",
              "      <td>국정 운영 방향 정권 윤석열 정권 대통령 국정 운영 방향 좌파 정권 동안 대한민국 ...</td>\n",
              "    </tr>\n",
              "    <tr>\n",
              "      <th>40456</th>\n",
              "      <td>누구보다 나라를 사랑했던 청년, 명령에 충실했던 병사를 기억하겠습니다 경북 예천에서...</td>\n",
              "      <td>민주당</td>\n",
              "      <td>나라 사랑 청년 명령 충실 병사 기억 경북 예천 실종자 수색 순직 채수 상병 영결식...</td>\n",
              "    </tr>\n",
              "  </tbody>\n",
              "</table>\n",
              "</div>\n",
              "      <button class=\"colab-df-convert\" onclick=\"convertToInteractive('df-cd6859bb-aaf5-4fb0-b8d3-f5473fbc9aa5')\"\n",
              "              title=\"Convert this dataframe to an interactive table.\"\n",
              "              style=\"display:none;\">\n",
              "\n",
              "  <svg xmlns=\"http://www.w3.org/2000/svg\" height=\"24px\"viewBox=\"0 0 24 24\"\n",
              "       width=\"24px\">\n",
              "    <path d=\"M0 0h24v24H0V0z\" fill=\"none\"/>\n",
              "    <path d=\"M18.56 5.44l.94 2.06.94-2.06 2.06-.94-2.06-.94-.94-2.06-.94 2.06-2.06.94zm-11 1L8.5 8.5l.94-2.06 2.06-.94-2.06-.94L8.5 2.5l-.94 2.06-2.06.94zm10 10l.94 2.06.94-2.06 2.06-.94-2.06-.94-.94-2.06-.94 2.06-2.06.94z\"/><path d=\"M17.41 7.96l-1.37-1.37c-.4-.4-.92-.59-1.43-.59-.52 0-1.04.2-1.43.59L10.3 9.45l-7.72 7.72c-.78.78-.78 2.05 0 2.83L4 21.41c.39.39.9.59 1.41.59.51 0 1.02-.2 1.41-.59l7.78-7.78 2.81-2.81c.8-.78.8-2.07 0-2.86zM5.41 20L4 18.59l7.72-7.72 1.47 1.35L5.41 20z\"/>\n",
              "  </svg>\n",
              "      </button>\n",
              "\n",
              "\n",
              "\n",
              "    <div id=\"df-c4d96f35-5895-47b7-b5fe-6b9a5e2b0c05\">\n",
              "      <button class=\"colab-df-quickchart\" onclick=\"quickchart('df-c4d96f35-5895-47b7-b5fe-6b9a5e2b0c05')\"\n",
              "              title=\"Suggest charts.\"\n",
              "              style=\"display:none;\">\n",
              "\n",
              "<svg xmlns=\"http://www.w3.org/2000/svg\" height=\"24px\"viewBox=\"0 0 24 24\"\n",
              "     width=\"24px\">\n",
              "    <g>\n",
              "        <path d=\"M19 3H5c-1.1 0-2 .9-2 2v14c0 1.1.9 2 2 2h14c1.1 0 2-.9 2-2V5c0-1.1-.9-2-2-2zM9 17H7v-7h2v7zm4 0h-2V7h2v10zm4 0h-2v-4h2v4z\"/>\n",
              "    </g>\n",
              "</svg>\n",
              "      </button>\n",
              "    </div>\n",
              "\n",
              "<style>\n",
              "  .colab-df-quickchart {\n",
              "    background-color: #E8F0FE;\n",
              "    border: none;\n",
              "    border-radius: 50%;\n",
              "    cursor: pointer;\n",
              "    display: none;\n",
              "    fill: #1967D2;\n",
              "    height: 32px;\n",
              "    padding: 0 0 0 0;\n",
              "    width: 32px;\n",
              "  }\n",
              "\n",
              "  .colab-df-quickchart:hover {\n",
              "    background-color: #E2EBFA;\n",
              "    box-shadow: 0px 1px 2px rgba(60, 64, 67, 0.3), 0px 1px 3px 1px rgba(60, 64, 67, 0.15);\n",
              "    fill: #174EA6;\n",
              "  }\n",
              "\n",
              "  [theme=dark] .colab-df-quickchart {\n",
              "    background-color: #3B4455;\n",
              "    fill: #D2E3FC;\n",
              "  }\n",
              "\n",
              "  [theme=dark] .colab-df-quickchart:hover {\n",
              "    background-color: #434B5C;\n",
              "    box-shadow: 0px 1px 3px 1px rgba(0, 0, 0, 0.15);\n",
              "    filter: drop-shadow(0px 1px 2px rgba(0, 0, 0, 0.3));\n",
              "    fill: #FFFFFF;\n",
              "  }\n",
              "</style>\n",
              "\n",
              "    <script>\n",
              "      async function quickchart(key) {\n",
              "        const containerElement = document.querySelector('#' + key);\n",
              "        const charts = await google.colab.kernel.invokeFunction(\n",
              "            'suggestCharts', [key], {});\n",
              "      }\n",
              "    </script>\n",
              "\n",
              "      <script>\n",
              "\n",
              "function displayQuickchartButton(domScope) {\n",
              "  let quickchartButtonEl =\n",
              "    domScope.querySelector('#df-c4d96f35-5895-47b7-b5fe-6b9a5e2b0c05 button.colab-df-quickchart');\n",
              "  quickchartButtonEl.style.display =\n",
              "    google.colab.kernel.accessAllowed ? 'block' : 'none';\n",
              "}\n",
              "\n",
              "        displayQuickchartButton(document);\n",
              "      </script>\n",
              "      <style>\n",
              "    .colab-df-container {\n",
              "      display:flex;\n",
              "      flex-wrap:wrap;\n",
              "      gap: 12px;\n",
              "    }\n",
              "\n",
              "    .colab-df-convert {\n",
              "      background-color: #E8F0FE;\n",
              "      border: none;\n",
              "      border-radius: 50%;\n",
              "      cursor: pointer;\n",
              "      display: none;\n",
              "      fill: #1967D2;\n",
              "      height: 32px;\n",
              "      padding: 0 0 0 0;\n",
              "      width: 32px;\n",
              "    }\n",
              "\n",
              "    .colab-df-convert:hover {\n",
              "      background-color: #E2EBFA;\n",
              "      box-shadow: 0px 1px 2px rgba(60, 64, 67, 0.3), 0px 1px 3px 1px rgba(60, 64, 67, 0.15);\n",
              "      fill: #174EA6;\n",
              "    }\n",
              "\n",
              "    [theme=dark] .colab-df-convert {\n",
              "      background-color: #3B4455;\n",
              "      fill: #D2E3FC;\n",
              "    }\n",
              "\n",
              "    [theme=dark] .colab-df-convert:hover {\n",
              "      background-color: #434B5C;\n",
              "      box-shadow: 0px 1px 3px 1px rgba(0, 0, 0, 0.15);\n",
              "      filter: drop-shadow(0px 1px 2px rgba(0, 0, 0, 0.3));\n",
              "      fill: #FFFFFF;\n",
              "    }\n",
              "  </style>\n",
              "\n",
              "      <script>\n",
              "        const buttonEl =\n",
              "          document.querySelector('#df-cd6859bb-aaf5-4fb0-b8d3-f5473fbc9aa5 button.colab-df-convert');\n",
              "        buttonEl.style.display =\n",
              "          google.colab.kernel.accessAllowed ? 'block' : 'none';\n",
              "\n",
              "        async function convertToInteractive(key) {\n",
              "          const element = document.querySelector('#df-cd6859bb-aaf5-4fb0-b8d3-f5473fbc9aa5');\n",
              "          const dataTable =\n",
              "            await google.colab.kernel.invokeFunction('convertToInteractive',\n",
              "                                                     [key], {});\n",
              "          if (!dataTable) return;\n",
              "\n",
              "          const docLinkHtml = 'Like what you see? Visit the ' +\n",
              "            '<a target=\"_blank\" href=https://colab.research.google.com/notebooks/data_table.ipynb>data table notebook</a>'\n",
              "            + ' to learn more about interactive tables.';\n",
              "          element.innerHTML = '';\n",
              "          dataTable['output_type'] = 'display_data';\n",
              "          await google.colab.output.renderOutput(dataTable, element);\n",
              "          const docLink = document.createElement('div');\n",
              "          docLink.innerHTML = docLinkHtml;\n",
              "          element.appendChild(docLink);\n",
              "        }\n",
              "      </script>\n",
              "    </div>\n",
              "  </div>\n"
            ],
            "text/plain": [
              "                                                 content target  \\\n",
              "40452  정체불명의 해외발 우편물, 국민 불안이 확산되는데 정부는 손놓고 있습니까 3일째 전...    민주당   \n",
              "40453  검찰은 조작 수사도 모자라 이제는 진술을 왜곡해 언론에 퍼뜨려 여론을 호도하고 있습...    민주당   \n",
              "40454  윤석열 대통령은 높아지는 군사적 긴장에 언제까지 팔짱만 끼고 있을 겁니까 북한이 오...    민주당   \n",
              "40455  국정 운영 방향을 남 탓으로 정한 정권은 윤석열 정권뿐입니다 “윤 대통령의 국정 운...    민주당   \n",
              "40456  누구보다 나라를 사랑했던 청년, 명령에 충실했던 병사를 기억하겠습니다 경북 예천에서...    민주당   \n",
              "\n",
              "                                                content2  \n",
              "40452  정체 불명 해외 우편물 국민 불안 확산 정부 전국 곳곳 해외 발송 정체 불명 우편물...  \n",
              "40453  검찰 조작 수사 이제 진술 왜곡 언론 여론 호도 최근 이화영 경기도 평화 부지사 그...  \n",
              "40454  윤석열 대통령 군사 긴장 팔짱 북한 오늘 새벽 서해 순항 미사일 발사 북한 무력 도...  \n",
              "40455  국정 운영 방향 정권 윤석열 정권 대통령 국정 운영 방향 좌파 정권 동안 대한민국 ...  \n",
              "40456  나라 사랑 청년 명령 충실 병사 기억 경북 예천 실종자 수색 순직 채수 상병 영결식...  "
            ]
          },
          "execution_count": 58,
          "metadata": {},
          "output_type": "execute_result"
        }
      ],
      "source": [
        "df['content2'] = df['content'].apply(lambda x: finalpreprocess(x))\n",
        "df.head()"
      ]
    },
    {
      "cell_type": "code",
      "execution_count": null,
      "metadata": {
        "colab": {
          "base_uri": "https://localhost:8080/"
        },
        "id": "4uyunXqUAgnB",
        "outputId": "2b8ff301-ad44-43b1-cfce-abc17c2205e0"
      },
      "outputs": [
        {
          "name": "stdout",
          "output_type": "stream",
          "text": [
            "(3659, 2)\n"
          ]
        },
        {
          "name": "stderr",
          "output_type": "stream",
          "text": [
            "/usr/local/lib/python3.10/dist-packages/ipykernel/ipkernel.py:283: DeprecationWarning: `should_run_async` will not call `transform_cell` automatically in the future. Please pass the result to `transformed_cell` argument and any exception that happen during thetransform in `preprocessing_exc_tuple` in IPython 7.17 and above.\n",
            "  and should_run_async(code)\n"
          ]
        }
      ],
      "source": [
        "df = df[df['target']=='민주당']\n",
        "print(df.shape)\n",
        "\n",
        "# 여기까지\n",
        "# 여기까지\n",
        "# !!!!"
      ]
    },
    {
      "cell_type": "code",
      "execution_count": null,
      "metadata": {
        "id": "o8prid5ah1r3"
      },
      "outputs": [],
      "source": [
        "# 파일 저장\n",
        "# content, target, content2, 기간\n",
        "df.to_csv('대통령_이름으로_파일_저장.csv')"
      ]
    },
    {
      "cell_type": "markdown",
      "metadata": {
        "id": "XzTH0SGQhvyl"
      },
      "source": [
        "------------------------------"
      ]
    },
    {
      "cell_type": "markdown",
      "metadata": {
        "id": "jWNMOwtQhtrs"
      },
      "source": [
        "----------------------"
      ]
    },
    {
      "cell_type": "markdown",
      "metadata": {
        "id": "V-IrS68pYLmG"
      },
      "source": [
        "### topic modeling"
      ]
    },
    {
      "cell_type": "code",
      "execution_count": null,
      "metadata": {
        "id": "HYoXDl8MaC1v"
      },
      "outputs": [],
      "source": [
        "!pip install pyLDAvis"
      ]
    },
    {
      "cell_type": "code",
      "execution_count": null,
      "metadata": {
        "id": "YYwSlQk0YFJ6"
      },
      "outputs": [],
      "source": [
        "from gensim import corpora\n",
        "from konlpy.tag import Mecab\n",
        "from tqdm import tqdm\n",
        "import re\n",
        "from gensim.models.ldamodel import LdaModel\n",
        "from gensim.models.callbacks import CoherenceMetric\n",
        "from gensim import corpora\n",
        "from gensim.models.callbacks import PerplexityMetric\n",
        "import logging\n",
        "import pickle\n",
        "import pyLDAvis.gensim\n",
        "from gensim.models.coherencemodel import CoherenceModel\n",
        "import matplotlib.pyplot as plt"
      ]
    },
    {
      "cell_type": "code",
      "execution_count": null,
      "metadata": {
        "colab": {
          "base_uri": "https://localhost:8080/"
        },
        "id": "zanWziiqYFHH",
        "outputId": "60ea58ab-cbe0-411d-afed-2036e683ca02"
      },
      "outputs": [
        {
          "output_type": "stream",
          "name": "stderr",
          "text": [
            "/usr/local/lib/python3.10/dist-packages/ipykernel/ipkernel.py:283: DeprecationWarning: `should_run_async` will not call `transform_cell` automatically in the future. Please pass the result to `transformed_cell` argument and any exception that happen during thetransform in `preprocessing_exc_tuple` in IPython 7.17 and above.\n",
            "  and should_run_async(code)\n"
          ]
        }
      ],
      "source": [
        "def compute_coherence_values(dictionary, corpus, texts, limit, start=2, step=10):\n",
        "    coherence_values = []\n",
        "    perplexity_values = []\n",
        "    model_list = []\n",
        "\n",
        "    for num_topics in range(start, limit, step):\n",
        "        model = LdaModel(corpus=corpus, id2word=dictionary, num_topics=num_topics)\n",
        "        model_list.append(model)\n",
        "        coherencemodel = CoherenceModel(model=model, texts=texts, dictionary=dictionary, coherence='c_v')\n",
        "        coherence_values.append(coherencemodel.get_coherence())\n",
        "        perplexity_values.append(model.log_perplexity(corpus))\n",
        "\n",
        "\n",
        "    return model_list, coherence_values, perplexity_values\n",
        "\n",
        "\n",
        "def find_optimal_number_of_topics(dictionary, corpus, processed_data, step, start, limit):\n",
        "    model_list, coherence_values, perplexity_values = compute_coherence_values(dictionary=dictionary, corpus=corpus, texts=processed_data, start=start, limit=limit, step=step)\n",
        "\n",
        "    x = range(start, limit, step)\n",
        "\n",
        "    # Plot Coherence Score\n",
        "    plt.figure(figsize=(10, 4))\n",
        "    plt.subplot(1, 2, 1)\n",
        "    plt.plot(x, coherence_values, label='Coherence')\n",
        "    plt.xlabel(\"Num Topics\")\n",
        "    plt.ylabel(\"Coherence Score\")\n",
        "\n",
        "    # Plot Perplexity Score\n",
        "    plt.subplot(1, 2, 2)\n",
        "    plt.plot(x, perplexity_values, label='Perplexity')\n",
        "    plt.xlabel(\"Num Topics\")\n",
        "    plt.ylabel(\"Perplexity Score\")\n",
        "\n",
        "    plt.tight_layout()\n",
        "    plt.show()"
      ]
    },
    {
      "cell_type": "code",
      "execution_count": null,
      "metadata": {
        "colab": {
          "base_uri": "https://localhost:8080/"
        },
        "id": "bV5Ov15QwaZk",
        "outputId": "a8b44d67-2ad3-4f3f-e461-2ef81864b16d"
      },
      "outputs": [
        {
          "output_type": "stream",
          "name": "stderr",
          "text": [
            "/usr/local/lib/python3.10/dist-packages/ipykernel/ipkernel.py:283: DeprecationWarning: `should_run_async` will not call `transform_cell` automatically in the future. Please pass the result to `transformed_cell` argument and any exception that happen during thetransform in `preprocessing_exc_tuple` in IPython 7.17 and above.\n",
            "  and should_run_async(code)\n"
          ]
        }
      ],
      "source": [
        "def topicmodeling(df):\n",
        "  df['content3'] = df['content2'].str.split(\" \")\n",
        "  df= df.drop(df[df['content3'].apply(lambda x: isinstance(x, float))].index)\n",
        "\n",
        "  data_word = df['content3']\n",
        "\n",
        "  # 정수 인코딩과 빈도수 생성\n",
        "  dictionary = corpora.Dictionary(data_word)\n",
        "\n",
        "  # 출현빈도가 적거나 자주 등장하는 단어는 제거\n",
        "  dictionary.filter_extremes(no_below=10, no_above=0.05)\n",
        "  corpus = [dictionary.doc2bow(text) for text in data_word]\n",
        "  print('Number of unique tokens: %d' % len(dictionary))\n",
        "  print('Number of documents: %d' % len(corpus))\n",
        "\n",
        "  logging.basicConfig(format='%(asctime)s : %(levelname)s : %(message)s', level=logging.INFO)\n",
        "\n",
        "  find_optimal_number_of_topics(dictionary, corpus, data_word, 1, 2, 30)\n",
        "\n",
        "  return data_word"
      ]
    },
    {
      "cell_type": "code",
      "source": [],
      "metadata": {
        "id": "dKRZ2NEBch-c"
      },
      "execution_count": null,
      "outputs": []
    },
    {
      "cell_type": "code",
      "execution_count": null,
      "metadata": {
        "id": "JBR-fKVu9QfN"
      },
      "outputs": [],
      "source": [
        "!pip install pyLDAvis"
      ]
    },
    {
      "cell_type": "code",
      "execution_count": null,
      "metadata": {
        "colab": {
          "base_uri": "https://localhost:8080/"
        },
        "id": "O6fLO1lrxCtm",
        "outputId": "f1e5231a-24ef-461c-cace-95b989b7625e"
      },
      "outputs": [
        {
          "output_type": "stream",
          "name": "stderr",
          "text": [
            "/usr/local/lib/python3.10/dist-packages/ipykernel/ipkernel.py:283: DeprecationWarning: `should_run_async` will not call `transform_cell` automatically in the future. Please pass the result to `transformed_cell` argument and any exception that happen during thetransform in `preprocessing_exc_tuple` in IPython 7.17 and above.\n",
            "  and should_run_async(code)\n"
          ]
        }
      ],
      "source": [
        "import pyLDAvis.gensim\n",
        "\n",
        "def topicmodeling2(df, num, file_name):\n",
        "  # 정수 인코딩과 빈도수 생성\n",
        "  dictionary = corpora.Dictionary(data_word)\n",
        "\n",
        "  # 출현빈도가 적거나 자주 등장하는 단어는 제거\n",
        "  dictionary.filter_extremes(no_below=10, no_above=0.05)\n",
        "  corpus = [dictionary.doc2bow(text) for text in data_word]\n",
        "  print('Number of unique tokens: %d' % len(dictionary))\n",
        "  print('Number of documents: %d' % len(corpus))\n",
        "\n",
        "  perplexity_logger = PerplexityMetric(corpus=corpus, logger='shell')\n",
        "  coherence_logger = CoherenceMetric(corpus=corpus, coherence=\"u_mass\", logger='shell')\n",
        "\n",
        "  lda_model = LdaModel(corpus, id2word=dictionary, num_topics=num, passes=1, callbacks=[coherence_logger, perplexity_logger])\n",
        "\n",
        "  # Compute Coherence Score using c_v\n",
        "  coherence_model_lda = CoherenceModel(model=lda_model, texts=data_word, dictionary=dictionary, coherence='c_v')\n",
        "  coherence_lda = coherence_model_lda.get_coherence()\n",
        "  print('\\nCoherence Score (c_v): ', coherence_lda)\n",
        "\n",
        "  # Compute Coherence Score using UMass\n",
        "  coherence_model_lda = CoherenceModel(model=lda_model, texts=data_word, dictionary=dictionary, coherence=\"u_mass\")\n",
        "  coherence_lda = coherence_model_lda.get_coherence()\n",
        "  print('\\nCoherence Score (u_mass): ', coherence_lda)\n",
        "\n",
        "\n",
        "  num_topics = num\n",
        "  topic_words_list = []\n",
        "\n",
        "  for topic_id in range(num_topics):\n",
        "      topic_words = lda_model.show_topic(topic_id)\n",
        "      words = [word for word, _ in topic_words]\n",
        "      topic_words_list.append({'Topic ID': topic_id + 1, 'Words': words})\n",
        "\n",
        "  keyword_newsdf = pd.DataFrame(topic_words_list, columns=['Topic ID', 'Words'])\n",
        "\n",
        "  print(\"~~~~\")\n",
        "  print(keyword_newsdf)\n",
        "\n",
        "  print(\"!!!\")\n",
        "  lda_visualization = pyLDAvis.gensim.prepare(lda_model, corpus, dictionary)\n",
        "  print(\"bb\")\n",
        "  pyLDAvis.save_html(lda_visualization, '노무현_민주당.html')"
      ]
    },
    {
      "cell_type": "code",
      "execution_count": null,
      "metadata": {
        "id": "Oe0f4XgfyKsM"
      },
      "outputs": [],
      "source": [
        "topicmodeling2(df1[:10], 11, 'A')"
      ]
    },
    {
      "cell_type": "code",
      "execution_count": null,
      "metadata": {
        "colab": {
          "base_uri": "https://localhost:8080/"
        },
        "id": "d1GOTgf_yKow",
        "outputId": "f2239740-925d-4af6-de14-57465c281dcb"
      },
      "outputs": [
        {
          "output_type": "stream",
          "name": "stderr",
          "text": [
            "/usr/local/lib/python3.10/dist-packages/ipykernel/ipkernel.py:283: DeprecationWarning: `should_run_async` will not call `transform_cell` automatically in the future. Please pass the result to `transformed_cell` argument and any exception that happen during thetransform in `preprocessing_exc_tuple` in IPython 7.17 and above.\n",
            "  and should_run_async(code)\n"
          ]
        },
        {
          "output_type": "stream",
          "name": "stdout",
          "text": [
            "0       [오늘, 정책, 사안, 언급, 시작, 지난주, 홍문표, 의원, 낙농, 업계, 관계자...\n",
            "1       [소득, 주도, 성장, 성적표, 문재인, 정권, 자화자찬, 일색, 국회, 예정, 발...\n",
            "2       [민주당, 윤석열, 당선, 발목, 잡기, 대통령, 집무실, 이전, 임대차, 폐지, ...\n",
            "3       [윤석열, 선인, 후보, 시절, 한일, 양국, 발전, 관계, 역사, 인식, 과거, ...\n",
            "4       [최원, 함장, 부하, 수장, 막말, 민주당, 조상호, 상근, 부대변인, 독립기념관...\n",
            "                              ...                        \n",
            "9172    [인정, 박근혜, 대통령, 사면, 구속, 박근혜, 대통령, 기소, 변호인단, 교체,...\n",
            "9173    [안철수, 대표, 사면, 발언, 해명, 국민의당, 안철수, 대표, 박근혜, 대통령,...\n",
            "9174    [홍준표, 블랙리스트, 발언, 당장, 사죄, 자유, 한국당, 홍준표, 후보, 박근혜...\n",
            "9175    [반기문, 특사, 박근혜, 사면, 안철수, 후보, 자신감, 안철수, 후보, 가지, ...\n",
            "9176    [홍준표, 후보, 완주, 도하, 홍준표, 경남, 지사, 자유, 한국당, 대통령, 후...\n",
            "Name: content3, Length: 23303, dtype: object\n",
            "Number of unique tokens: 14127\n",
            "Number of documents: 23303\n",
            "\n",
            "Coherence Score (c_v):  0.5768596473835531\n",
            "\n",
            "Coherence Score (u_mass):  -2.4101460419008904\n",
            "Topic ID:  1 Words:  ['대구', '광주', '울산', '호남', '경선', '선대위원장', '상임', '공항', '대회', '공천']\n",
            "Topic ID:  2 Words:  ['추천', '민정', 'KBS', '사장', '사찰', '공영', '비서관', 'MBC', '차관', '감찰']\n",
            "Topic ID:  3 Words:  ['올림픽', '평창', '사법부', '판결', '재판', '대법원장', '법원', '판사', '법관', '동계']\n",
            "Topic ID:  4 Words:  ['원전', '에너지', '기술', '수출', '미세먼지', '건설', '디지털', '농업', '생산', '조성']\n",
            "Topic ID:  5 Words:  ['나경원', '주년', '한일', '장애인', '아베', '민주화', '축하', '보복', '혁명', '차별']\n",
            "Topic ID:  6 Words:  ['막말', '집회', '망언', '사죄', '선동', '공세', '질문', '기자', '모욕', '변명']\n",
            "Topic ID:  7 Words:  ['안철수', '국민의당', '교수', '선대위', '성남시', '경기도', '김건희', '기사', '대학', '박지원']\n",
            "Topic ID:  8 Words:  ['홍준표', '김대중', '촛불', '제일', '강원도', '사랑', '지도자', '압도', '동지', '박수']\n",
            "Topic ID:  9 Words:  ['인사청문회', '투기', '청문회', '박영선', '청문', '서울시', '채용', '특혜', '오세훈', '선관위']\n",
            "Topic ID:  10 Words:  ['세월호', '참사', '노동자', '유가족', '위안부', '화재', '위로', '폭력', '사망', '방지']\n",
            "Topic ID:  11 Words:  ['백신', '접종', '확진', '의료', '마스크', '아동', '감염', '유치원', '보건', '환자']\n",
            "Topic ID:  12 Words:  ['최저임금', '주택', '조원', '복지', '증가', '근로', '금융', '지급', '실업', '임금']\n",
            "Topic ID:  13 Words:  ['개헌', '특위', '황교안', '본회의', '북미', '상임위', '투쟁', '심사', '트랙', '패스트']\n",
            "Topic ID:  14 Words:  ['국정원', '공작', '댓글', '대장동', '이명박', '루킹', '게이트', '압수수색', '문건', '구속']\n",
            "Topic ID:  15 Words:  ['도발', '회담', '사드', '배치', '트럼프', '제재', '발사', '판문점', '폐기', '국방부']\n"
          ]
        }
      ],
      "source": [
        "df4['content3'] = df4['content2'].str.split(\" \")\n",
        "df4= df4.drop(df4[df4['content3'].apply(lambda x: isinstance(x, float))].index)\n",
        "data_word = df4['content3']\n",
        "print(data_word)\n",
        "\n",
        "# 정수 인코딩과 빈도수 생성\n",
        "dictionary = corpora.Dictionary(data_word)\n",
        "\n",
        "# 출현빈도가 적거나 자주 등장하는 단어는 제거\n",
        "dictionary.filter_extremes(no_below=10, no_above=0.05)\n",
        "corpus = [dictionary.doc2bow(text) for text in data_word]\n",
        "print('Number of unique tokens: %d' % len(dictionary))\n",
        "print('Number of documents: %d' % len(corpus))\n",
        "\n",
        "perplexity_logger = PerplexityMetric(corpus=corpus, logger='shell')\n",
        "coherence_logger = CoherenceMetric(corpus=corpus, coherence=\"u_mass\", logger='shell')\n",
        "\n",
        "lda_model = LdaModel(corpus, id2word=dictionary, num_topics=15, passes=100, callbacks=[coherence_logger, perplexity_logger])\n",
        "\n",
        "# Compute Coherence Score using c_v\n",
        "coherence_model_lda = CoherenceModel(model=lda_model, texts=data_word, dictionary=dictionary, coherence='c_v')\n",
        "coherence_lda = coherence_model_lda.get_coherence()\n",
        "print('\\nCoherence Score (c_v): ', coherence_lda)\n",
        "\n",
        "# Compute Coherence Score using UMass\n",
        "coherence_model_lda = CoherenceModel(model=lda_model, texts=data_word, dictionary=dictionary, coherence=\"u_mass\")\n",
        "coherence_lda = coherence_model_lda.get_coherence()\n",
        "print('\\nCoherence Score (u_mass): ', coherence_lda)\n",
        "\n",
        "\n",
        "num_topics=15\n",
        "topic_words_list = []\n",
        "\n",
        "for topic_id in range(num_topics):\n",
        "    topic_words = lda_model.show_topic(topic_id)\n",
        "    words = [word for word, _ in topic_words]\n",
        "    print('Topic ID: ', topic_id + 1, 'Words: ', words)\n",
        "    topic_words_list.append({'Topic ID': topic_id + 1, 'Words': words})\n",
        "\n",
        "keyword_newsdf = pd.DataFrame(topic_words_list, columns=['Topic ID', 'Words'])"
      ]
    },
    {
      "cell_type": "code",
      "execution_count": null,
      "metadata": {
        "colab": {
          "base_uri": "https://localhost:8080/"
        },
        "id": "o1RmwokUa-Te",
        "outputId": "51d59971-7e61-4074-fc48-1add2ebe6b8e"
      },
      "outputs": [
        {
          "output_type": "stream",
          "name": "stderr",
          "text": [
            "/usr/local/lib/python3.10/dist-packages/ipykernel/ipkernel.py:283: DeprecationWarning: `should_run_async` will not call `transform_cell` automatically in the future. Please pass the result to `transformed_cell` argument and any exception that happen during thetransform in `preprocessing_exc_tuple` in IPython 7.17 and above.\n",
            "  and should_run_async(code)\n"
          ]
        }
      ],
      "source": [
        "lda_visualization = pyLDAvis.gensim.prepare(lda_model, corpus, dictionary)\n",
        "pyLDAvis.save_html(lda_visualization, '문재인_통합.html')"
      ]
    }
  ],
  "metadata": {
    "colab": {
      "collapsed_sections": [
        "u5g8YJ2eYGJZ",
        "b6F3v4OOYIGr"
      ],
      "provenance": [],
      "mount_file_id": "1nzgW1E2JL6bvTAUwvFrA4tka4IMCvJFW",
      "authorship_tag": "ABX9TyOhP9Qo+SgTebfyQiXh4Nws",
      "include_colab_link": true
    },
    "kernelspec": {
      "display_name": "Python 3",
      "name": "python3"
    },
    "language_info": {
      "name": "python"
    }
  },
  "nbformat": 4,
  "nbformat_minor": 0
}