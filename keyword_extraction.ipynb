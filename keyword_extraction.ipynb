{
  "nbformat": 4,
  "nbformat_minor": 0,
  "metadata": {
    "colab": {
      "provenance": [],
      "mount_file_id": "1gQKYz4F4KVwYrl-JZ1qo4yMXqVRMA4_b",
      "authorship_tag": "ABX9TyNbKfSS3WRQGNnIV2Ecv/4B",
      "include_colab_link": true
    },
    "kernelspec": {
      "name": "python3",
      "display_name": "Python 3"
    },
    "language_info": {
      "name": "python"
    }
  },
  "cells": [
    {
      "cell_type": "markdown",
      "metadata": {
        "id": "view-in-github",
        "colab_type": "text"
      },
      "source": [
        "<a href=\"https://colab.research.google.com/github/shjoo0407/political_disposition/blob/main/keyword_extraction.ipynb\" target=\"_parent\"><img src=\"https://colab.research.google.com/assets/colab-badge.svg\" alt=\"Open In Colab\"/></a>"
      ]
    },
    {
      "cell_type": "code",
      "execution_count": 1,
      "metadata": {
        "colab": {
          "base_uri": "https://localhost:8080/"
        },
        "id": "ytPnKr6h49S4",
        "outputId": "6c527128-f6be-4d1c-f17f-2a941edb45f4"
      },
      "outputs": [
        {
          "output_type": "stream",
          "name": "stdout",
          "text": [
            "/content/drive/MyDrive/2023/SW공모전\n"
          ]
        }
      ],
      "source": [
        "cd /content/drive/MyDrive/2023/SW공모전"
      ]
    },
    {
      "cell_type": "code",
      "source": [
        "import pandas as pd"
      ],
      "metadata": {
        "id": "7X3cWJ99E7VC"
      },
      "execution_count": 2,
      "outputs": []
    },
    {
      "cell_type": "code",
      "source": [
        "!pip install konlpy"
      ],
      "metadata": {
        "colab": {
          "base_uri": "https://localhost:8080/"
        },
        "id": "qCzjnRZypUJt",
        "outputId": "f5691c84-fc04-48d1-d470-e584894f21cc"
      },
      "execution_count": 3,
      "outputs": [
        {
          "output_type": "stream",
          "name": "stdout",
          "text": [
            "Collecting konlpy\n",
            "  Downloading konlpy-0.6.0-py2.py3-none-any.whl (19.4 MB)\n",
            "\u001b[2K     \u001b[90m━━━━━━━━━━━━━━━━━━━━━━━━━━━━━━━━━━━━━━━━\u001b[0m \u001b[32m19.4/19.4 MB\u001b[0m \u001b[31m97.6 MB/s\u001b[0m eta \u001b[36m0:00:00\u001b[0m\n",
            "\u001b[?25hCollecting JPype1>=0.7.0 (from konlpy)\n",
            "  Downloading JPype1-1.4.1-cp310-cp310-manylinux_2_12_x86_64.manylinux2010_x86_64.whl (465 kB)\n",
            "\u001b[2K     \u001b[90m━━━━━━━━━━━━━━━━━━━━━━━━━━━━━━━━━━━━━━\u001b[0m \u001b[32m465.3/465.3 kB\u001b[0m \u001b[31m43.4 MB/s\u001b[0m eta \u001b[36m0:00:00\u001b[0m\n",
            "\u001b[?25hRequirement already satisfied: lxml>=4.1.0 in /usr/local/lib/python3.10/dist-packages (from konlpy) (4.9.3)\n",
            "Requirement already satisfied: numpy>=1.6 in /usr/local/lib/python3.10/dist-packages (from konlpy) (1.22.4)\n",
            "Requirement already satisfied: packaging in /usr/local/lib/python3.10/dist-packages (from JPype1>=0.7.0->konlpy) (23.1)\n",
            "Installing collected packages: JPype1, konlpy\n",
            "Successfully installed JPype1-1.4.1 konlpy-0.6.0\n"
          ]
        }
      ]
    },
    {
      "cell_type": "markdown",
      "source": [
        "### Dataset"
      ],
      "metadata": {
        "id": "NyWEKJ9SurQQ"
      }
    },
    {
      "cell_type": "code",
      "source": [
        "npp = pd.read_csv('data/final_NPP.csv')\n",
        "npp.head(5)"
      ],
      "metadata": {
        "colab": {
          "base_uri": "https://localhost:8080/",
          "height": 204
        },
        "id": "_qy6aZ7FDfxy",
        "outputId": "39db5fbf-cb27-4de3-82b1-5d645e7abd9d"
      },
      "execution_count": 4,
      "outputs": [
        {
          "output_type": "execute_result",
          "data": {
            "text/plain": [
              "  page_index  year  quarter                                            content\n",
              "0        1_1  2023        3  김기현 당 대표는 2023. 7. 19.(수) 11:00, 신월 빗물저류배수시설에 ...\n",
              "1        1_2  2023        3  오늘 한 언론에 보도된 무소속 박완주 의원의 검찰 공소장 안에는, 강력 성범죄자의 ...\n",
              "2        1_3  2023        3  7월 19일 원내대책회의 주요내용은 다음과 같다.  <윤재옥 원내대표>  전국적인 ...\n",
              "3        1_4  2023        3  더불어민주당이 윤석열 정부의 ‘시행령 추진’에 본격적으로 제동을 걸고 있다. KBS...\n",
              "4        1_5  2023        3  그칠 줄 모르던 비가 잠시 소강상태에 접어들었지만, 폭우가 할퀴고 간 자리에 남겨진..."
            ],
            "text/html": [
              "\n",
              "\n",
              "  <div id=\"df-c547ed54-7eca-4b14-9f47-7d3564231006\">\n",
              "    <div class=\"colab-df-container\">\n",
              "      <div>\n",
              "<style scoped>\n",
              "    .dataframe tbody tr th:only-of-type {\n",
              "        vertical-align: middle;\n",
              "    }\n",
              "\n",
              "    .dataframe tbody tr th {\n",
              "        vertical-align: top;\n",
              "    }\n",
              "\n",
              "    .dataframe thead th {\n",
              "        text-align: right;\n",
              "    }\n",
              "</style>\n",
              "<table border=\"1\" class=\"dataframe\">\n",
              "  <thead>\n",
              "    <tr style=\"text-align: right;\">\n",
              "      <th></th>\n",
              "      <th>page_index</th>\n",
              "      <th>year</th>\n",
              "      <th>quarter</th>\n",
              "      <th>content</th>\n",
              "    </tr>\n",
              "  </thead>\n",
              "  <tbody>\n",
              "    <tr>\n",
              "      <th>0</th>\n",
              "      <td>1_1</td>\n",
              "      <td>2023</td>\n",
              "      <td>3</td>\n",
              "      <td>김기현 당 대표는 2023. 7. 19.(수) 11:00, 신월 빗물저류배수시설에 ...</td>\n",
              "    </tr>\n",
              "    <tr>\n",
              "      <th>1</th>\n",
              "      <td>1_2</td>\n",
              "      <td>2023</td>\n",
              "      <td>3</td>\n",
              "      <td>오늘 한 언론에 보도된 무소속 박완주 의원의 검찰 공소장 안에는, 강력 성범죄자의 ...</td>\n",
              "    </tr>\n",
              "    <tr>\n",
              "      <th>2</th>\n",
              "      <td>1_3</td>\n",
              "      <td>2023</td>\n",
              "      <td>3</td>\n",
              "      <td>7월 19일 원내대책회의 주요내용은 다음과 같다.  &lt;윤재옥 원내대표&gt;  전국적인 ...</td>\n",
              "    </tr>\n",
              "    <tr>\n",
              "      <th>3</th>\n",
              "      <td>1_4</td>\n",
              "      <td>2023</td>\n",
              "      <td>3</td>\n",
              "      <td>더불어민주당이 윤석열 정부의 ‘시행령 추진’에 본격적으로 제동을 걸고 있다. KBS...</td>\n",
              "    </tr>\n",
              "    <tr>\n",
              "      <th>4</th>\n",
              "      <td>1_5</td>\n",
              "      <td>2023</td>\n",
              "      <td>3</td>\n",
              "      <td>그칠 줄 모르던 비가 잠시 소강상태에 접어들었지만, 폭우가 할퀴고 간 자리에 남겨진...</td>\n",
              "    </tr>\n",
              "  </tbody>\n",
              "</table>\n",
              "</div>\n",
              "      <button class=\"colab-df-convert\" onclick=\"convertToInteractive('df-c547ed54-7eca-4b14-9f47-7d3564231006')\"\n",
              "              title=\"Convert this dataframe to an interactive table.\"\n",
              "              style=\"display:none;\">\n",
              "\n",
              "  <svg xmlns=\"http://www.w3.org/2000/svg\" height=\"24px\"viewBox=\"0 0 24 24\"\n",
              "       width=\"24px\">\n",
              "    <path d=\"M0 0h24v24H0V0z\" fill=\"none\"/>\n",
              "    <path d=\"M18.56 5.44l.94 2.06.94-2.06 2.06-.94-2.06-.94-.94-2.06-.94 2.06-2.06.94zm-11 1L8.5 8.5l.94-2.06 2.06-.94-2.06-.94L8.5 2.5l-.94 2.06-2.06.94zm10 10l.94 2.06.94-2.06 2.06-.94-2.06-.94-.94-2.06-.94 2.06-2.06.94z\"/><path d=\"M17.41 7.96l-1.37-1.37c-.4-.4-.92-.59-1.43-.59-.52 0-1.04.2-1.43.59L10.3 9.45l-7.72 7.72c-.78.78-.78 2.05 0 2.83L4 21.41c.39.39.9.59 1.41.59.51 0 1.02-.2 1.41-.59l7.78-7.78 2.81-2.81c.8-.78.8-2.07 0-2.86zM5.41 20L4 18.59l7.72-7.72 1.47 1.35L5.41 20z\"/>\n",
              "  </svg>\n",
              "      </button>\n",
              "\n",
              "\n",
              "\n",
              "    <div id=\"df-4cc1e6d8-385a-413e-82ea-81c897544930\">\n",
              "      <button class=\"colab-df-quickchart\" onclick=\"quickchart('df-4cc1e6d8-385a-413e-82ea-81c897544930')\"\n",
              "              title=\"Suggest charts.\"\n",
              "              style=\"display:none;\">\n",
              "\n",
              "<svg xmlns=\"http://www.w3.org/2000/svg\" height=\"24px\"viewBox=\"0 0 24 24\"\n",
              "     width=\"24px\">\n",
              "    <g>\n",
              "        <path d=\"M19 3H5c-1.1 0-2 .9-2 2v14c0 1.1.9 2 2 2h14c1.1 0 2-.9 2-2V5c0-1.1-.9-2-2-2zM9 17H7v-7h2v7zm4 0h-2V7h2v10zm4 0h-2v-4h2v4z\"/>\n",
              "    </g>\n",
              "</svg>\n",
              "      </button>\n",
              "    </div>\n",
              "\n",
              "<style>\n",
              "  .colab-df-quickchart {\n",
              "    background-color: #E8F0FE;\n",
              "    border: none;\n",
              "    border-radius: 50%;\n",
              "    cursor: pointer;\n",
              "    display: none;\n",
              "    fill: #1967D2;\n",
              "    height: 32px;\n",
              "    padding: 0 0 0 0;\n",
              "    width: 32px;\n",
              "  }\n",
              "\n",
              "  .colab-df-quickchart:hover {\n",
              "    background-color: #E2EBFA;\n",
              "    box-shadow: 0px 1px 2px rgba(60, 64, 67, 0.3), 0px 1px 3px 1px rgba(60, 64, 67, 0.15);\n",
              "    fill: #174EA6;\n",
              "  }\n",
              "\n",
              "  [theme=dark] .colab-df-quickchart {\n",
              "    background-color: #3B4455;\n",
              "    fill: #D2E3FC;\n",
              "  }\n",
              "\n",
              "  [theme=dark] .colab-df-quickchart:hover {\n",
              "    background-color: #434B5C;\n",
              "    box-shadow: 0px 1px 3px 1px rgba(0, 0, 0, 0.15);\n",
              "    filter: drop-shadow(0px 1px 2px rgba(0, 0, 0, 0.3));\n",
              "    fill: #FFFFFF;\n",
              "  }\n",
              "</style>\n",
              "\n",
              "    <script>\n",
              "      async function quickchart(key) {\n",
              "        const containerElement = document.querySelector('#' + key);\n",
              "        const charts = await google.colab.kernel.invokeFunction(\n",
              "            'suggestCharts', [key], {});\n",
              "      }\n",
              "    </script>\n",
              "\n",
              "      <script>\n",
              "\n",
              "function displayQuickchartButton(domScope) {\n",
              "  let quickchartButtonEl =\n",
              "    domScope.querySelector('#df-4cc1e6d8-385a-413e-82ea-81c897544930 button.colab-df-quickchart');\n",
              "  quickchartButtonEl.style.display =\n",
              "    google.colab.kernel.accessAllowed ? 'block' : 'none';\n",
              "}\n",
              "\n",
              "        displayQuickchartButton(document);\n",
              "      </script>\n",
              "      <style>\n",
              "    .colab-df-container {\n",
              "      display:flex;\n",
              "      flex-wrap:wrap;\n",
              "      gap: 12px;\n",
              "    }\n",
              "\n",
              "    .colab-df-convert {\n",
              "      background-color: #E8F0FE;\n",
              "      border: none;\n",
              "      border-radius: 50%;\n",
              "      cursor: pointer;\n",
              "      display: none;\n",
              "      fill: #1967D2;\n",
              "      height: 32px;\n",
              "      padding: 0 0 0 0;\n",
              "      width: 32px;\n",
              "    }\n",
              "\n",
              "    .colab-df-convert:hover {\n",
              "      background-color: #E2EBFA;\n",
              "      box-shadow: 0px 1px 2px rgba(60, 64, 67, 0.3), 0px 1px 3px 1px rgba(60, 64, 67, 0.15);\n",
              "      fill: #174EA6;\n",
              "    }\n",
              "\n",
              "    [theme=dark] .colab-df-convert {\n",
              "      background-color: #3B4455;\n",
              "      fill: #D2E3FC;\n",
              "    }\n",
              "\n",
              "    [theme=dark] .colab-df-convert:hover {\n",
              "      background-color: #434B5C;\n",
              "      box-shadow: 0px 1px 3px 1px rgba(0, 0, 0, 0.15);\n",
              "      filter: drop-shadow(0px 1px 2px rgba(0, 0, 0, 0.3));\n",
              "      fill: #FFFFFF;\n",
              "    }\n",
              "  </style>\n",
              "\n",
              "      <script>\n",
              "        const buttonEl =\n",
              "          document.querySelector('#df-c547ed54-7eca-4b14-9f47-7d3564231006 button.colab-df-convert');\n",
              "        buttonEl.style.display =\n",
              "          google.colab.kernel.accessAllowed ? 'block' : 'none';\n",
              "\n",
              "        async function convertToInteractive(key) {\n",
              "          const element = document.querySelector('#df-c547ed54-7eca-4b14-9f47-7d3564231006');\n",
              "          const dataTable =\n",
              "            await google.colab.kernel.invokeFunction('convertToInteractive',\n",
              "                                                     [key], {});\n",
              "          if (!dataTable) return;\n",
              "\n",
              "          const docLinkHtml = 'Like what you see? Visit the ' +\n",
              "            '<a target=\"_blank\" href=https://colab.research.google.com/notebooks/data_table.ipynb>data table notebook</a>'\n",
              "            + ' to learn more about interactive tables.';\n",
              "          element.innerHTML = '';\n",
              "          dataTable['output_type'] = 'display_data';\n",
              "          await google.colab.output.renderOutput(dataTable, element);\n",
              "          const docLink = document.createElement('div');\n",
              "          docLink.innerHTML = docLinkHtml;\n",
              "          element.appendChild(docLink);\n",
              "        }\n",
              "      </script>\n",
              "    </div>\n",
              "  </div>\n"
            ]
          },
          "metadata": {},
          "execution_count": 4
        }
      ]
    },
    {
      "cell_type": "code",
      "source": [
        "import re\n",
        "\n",
        "def pre_process(text):\n",
        "    if isinstance(text, str):  # Check if the input is a string\n",
        "      # Replace HTML tags with space\n",
        "      text = re.sub(r\"</?.*?>\", \" \", text)\n",
        "      # Remove special characters and digits\n",
        "      text = re.sub(r\"(\\d|\\W)+\", \" \", text)\n",
        "\n",
        "    return text\n",
        "\n",
        "npp['content'] = npp['content'].apply(lambda x: pre_process(x))\n",
        "print(npp['content'][0])"
      ],
      "metadata": {
        "colab": {
          "base_uri": "https://localhost:8080/"
        },
        "id": "VjcAnVjdpkG9",
        "outputId": "e16756b6-1da1-44c0-9535-b47feaf23b9e"
      },
      "execution_count": 5,
      "outputs": [
        {
          "output_type": "stream",
          "name": "stdout",
          "text": [
            "김기현 당 대표는 수 신월 빗물저류배수시설에 집중호우 대비 대심도 빗물터널 현장 방문을 했다 주요내용은 다음과 같다 빗물을 나르는 고속도로 라 불리는 대심도 빗물터널 조금 전에 둘러보고 왔다 신월 빗물 전용 배수시설은 집중호우 때마다 주변 지역이 물바다가 되는 현상을 막고자 년 월에 시작해서 년 월까지 만 년의 긴 기간 공사를 거쳐서 완공된 국내 최초의 대심도 빗물 저류 시설로 알고 있다 물은 환경의 영역이기도 하지만 그보다 더 우선돼야 할 것은 치수의 영역이라고 저는 생각한다 국가적으로 물길을 다스리는 모든 행정을 일컬어서 치수라고 하는데 이 치수가 제대로 되지 않으면 국민의 생명과 안전 그리고 국민의 소중한 재산을 심대하게 침해하기 때문에 어떤 경우에도 목숨보다 더 우선되는 것이 없다는 차원에서 보면 치수가 가장 중요한 일이라고 말씀드리고 싶다 특히 가뭄과 홍수에도 제대로 대응하려면 물은 치수의 차원에서 먼저 다뤄야 할 자원이라고 말씀드리고 싶다 지난 정권 초기였던 년에 문재인 정부 시절입니다만 물관리 일원화 조치를 한다고 하면서 국토해양부 환경부 농림축산식품부에 나눠졌던 물관리 업무를 환경부로 일원화하는 조치가 있었다 그 당시에도 환경부가 전국의 지류 지천 하수 등의 물관리 업무 전반을 담당할 역량과 경험이 되는지에 대한 많은 의문이 제기되었지만 이번 폭우 사태를 겪으면서 그 많은 의문이 현실로 드러나고 있는 것이란 생각을 하지 않을 수 없다 물관리의 실패는 국민의 생명과 안전을 직접적 위협하고 심대한 재산적 피해를 야기하는 것이니만큼 이 점에 대한 문제점의 보완이 절실하다고 하겠다 과거 년과 년 당시에 서울 도심에 큰 물난리가 났다 그때 대심도 빗물터널이 필요하다고 그런 필요성이 제기되었고 그 당시 시정을 책임지었던 서울시장이 오세훈 시장이었다 그래서 오세훈 시장은 년까지 총 억원 들여서 서울 도심의 상습 침수지역 곳에 대한 대심도 배수관 설치하겠다 이렇게 결정한 바가 있었다 곳이 광화문 신월 용산 사당역 강남역 동작 강동 이렇게 곳이었는데 그렇게 건설하는 것으로 계획을 세웠지만 년 월달에 박원순 시장이 재보선을 통해 당선되면서 이 계획이 백지화된 바 있었다 오늘 방문한 신월 단 한 곳만 건설될 수 있었던 이유는 바로 그러한 이유이다 그 당시에 강남에도 강남의 대심도 빗물처리 시설이 원래 계획에 있었던 것을 설치를 보류한다고 하자 강남역 상인과 서초구 구민 만명이 주변 지역보다 고도가 낮아 상습 침수 지역인데 왜 대심도 빗물 저류시설을 설치하지 않느냐 고 하면서 그 필요성에 대한 서명운동을 실시하는 등 추진 필요성에 대한 강력한 목소리들이 있었지만 박원순 시장은 결국은 원래에 세웠던 곳 중에 곳을 다 백지화해버리고 말았던 것이 현실이었다 작년에 기록적인 폭우가 수도권을 강타했을 때 강남역이 물에 잠기고 사당에 큰 피해가 발생했던 사실을 아마 기억할 거다 그에 비해서 신월동 인근은 피해가 적었던 것 그것은 바로 빗물 저류배수시설이 한몫했다는 평가가 다수이다 조금 전에 설명 과정에서 그러한 사항이 통계를 통해서 잘 증명된 바 있었다고 본다 현재 서울의 대표적 도심인 광화문 지난해 폭우로 큰 피해를 입었던 강남역 일대 그리고 각 상습침수구역이자 주택이 밀집해 있는 도림천 일대에서 대심도 빗물 배수시설 건설사업이 올해부터 다시 시작된 것으로 알고 있다 이상기후로 자연재해가 앞으로도 더 심화될 것으로 예견이 된다 그런 만큼 국민의 생명과 재산을 보호하고 공공의 안전을 확보하는 이런 재난 대비에 있어서는 어느 무엇보다도 가장 우선적으로 전국의 지자체와 중앙 정부가 최우선 과제로 삼아야 할 일이 아닌가 하는 생각을 하게 된다 지난해 월 윤석열 대통령께서 이곳을 방문하신 것으로 알고 있다 신월 빗물 배수시설 여기를 방문해서 현장 점검하고 백년대계 치수 계획을 마련하라는 지시를 한 바 있었던 것으로 알고 있다 이번에 극한의 국지성 폭우로 인해서 자연재해에 대한 예방 대책 마련이 중요하다는 것이 다시 한번 대두된 만큼 서울은 말할 것도 없지만 각 지역마다 지리적 특성에 따라서 천차만별인 여러 가지 원인을 잘 살펴서 그에 맞는 지역 맞춤형 침수 예방 대책의 수립에 우리 최대의 역량을 쏟아야 하겠다 지방정부의 살림을 맡은 사람의 책임과 역할은 무엇보다 주민의 생명과 안전을 지키는 것이 가장 우선돼야 할 것이고 한정된 예산 탓에 그 중요성을 알면서도 때로는 그에 대한 대비 시스템을 갖추는 것이 쉽지 않을 수 있지만 그럼에도 불구하고 행정의 최우선 과제로 삼겠다고 하는 확실한 의지와 노력이 필요할 것이 다 라는 것이 저의 생각이다 오늘 이 자리에는 우리 여당의 정책을 총괄하시는 정책위의장님 박대출 의원님도 와 계시고 우리 조수진 최고위원님도 와 계시고 우리 이철규 사무총장님 와 계시고 임상준 환경부 차관님 유창수 서울시 행정 부시장님 이기재 양천구청장님도 함께 해 주셨는데 우리 모두가 그와 같은 것에 대해서 오늘 이번에 이 자리에 심도 있는 토론을 통해서 국민들이 안심할 수 있는 그런 환경 만들어 나가도록 노력해야 할 것으로 생각한다 고맙다 양천갑 당협위원장 최고위원 조수진이다 충청 경북 전북을 중심으로 산사태 도로 유실 정전 등 비 피해가 속출하고 있다 이번 주말 큰 비가 예고돼 있어 추가 피해가 없도록 철저한 대비가 필요하다 즉각적인 복구 작업 피해 지원은 최대한 신속하게 이루어져야 한다 동시에 이상 기후 시대에 과거 기준 대책으로는 재앙을 막을 수 없는 만큼 치수 정책을 재설계해야 한다 그 첫 번째 단추가 저류 시설의 설치와 개선이다 지대가 낮고 안양천이 인접한 양천은 비만 오면 잠기는 침수 지역이었습니다만 년 전 최대 만 톤의 물을 담는 대심도 빗물터널이 완공되면서 환경이 바뀌었다 국민이 안심하고 살 수 있게 하려면 예산과 노력이 절실하다 오늘 김기현 대표님의 양천구 대심도 빗물터널 방문은 이와 같은 다짐을 담는 것으로 알고 있다 기후 변화로 인한 재해는 취약계층에 집중되기 마련이다 한마음 한뜻으로 힘을 합치지 않으면 더 많은 약자가 피해를 볼 수밖에 없다 정부와 국회는 한마음 한뜻으로 기후변화에 따른 치수의 전면 재설계를 서둘러야만 한다 오늘 대심도 빗물터널 현장을 둘러보며 다양한 생각이 머릿속에서 스쳐갔다 기후 변화가 가속화되면서 최근에 극한 호우 또는 극한 기상 이라는 용어를 우리 언론에서 자주 접한다 극한 호우의 시대 지금껏 경험하지 못한 재난이 온다는 말도 들린다 기상 상황에서 극한이라는 단어가 더 이상 예외적인 것이 아니라 일상처럼 빈번해지는 시대가 되어간다는 것을 언론들도 지적하고 있다 기상청이 수도권의 시범 사업으로 극한 호우 긴급 재난 문자를 보내고 있는데 그 문자 발송 기준이 시간 강수량이 mm 이상이거나 시간 동안 mm 이상 내리거나 또는 시간에 mm 이상 쏟아지는 경우라고 한다 저희들이 확인해 봤더니 기상청에 문의해 보니 올해 무려 번에 달하고 이 달에만 번이 된다는 것도 말씀드린 바 있다 작년 월 일에 집중호우가 내렸고 신대방동에는 시간당 mm가 내렸다 또 년 월 우면산 산사태가 있었던 시간당 mm가 내렸다 많은 기반 시설이 년에 한번 발생할 정도로 맞춰서 설계되어 있는데 이런 기준이 무용지물이 될 수도 있다 작년 월 집중호우를 계기로 하여 서울시가 방재성능목표 강우량을 시간당 mm에서 mm로 올린 것으로 알고 있다 시에서는 년 재현 빈도 강우량 기준이라고 했다 최근의 그런 기후변화 양상을 본다면 이 기준도 부족하다는 지적을 받을 수밖에 없다 신월 대심도 터널이 시간당 mm 수준의 빗물을 처리할 수 있다고 하는데 대심도 터널 외에도 추가적인 대책을 마련하여 상호보완이 가능하게 해야 할 것이다 현재 서울시에서 추진하고 있는 강남 광화문 도림천 대심도 빗물터널 건설도 속도감 있게 해야 할 것이다 빗물 저류 용량도 조금 더 늘리는 방안도 검토할 필요가 있을 것이다 대심도 터널이 완공까지 빨라야 년 정도 걸리는 만큼 최대한 건설을 신속히 서둘러주기를 바란다 지난달 있었던 예산정책협의회에서도 대심도 터널 건설에 대한 국비지원 논의가 있었다 당에서도 적극적으로 챙기겠다 국민의 안전과 생명을 지키는 일보다 더 중요한 것은 없다 당 정책위는 기후 변화 시대에 맞는 재난 대응 시스템을 갖추는 등 필요한 조치가 즉시 이루어질 수 있도록 최선을 다해 협력하겠다 반갑다 국민의힘 사무총장 이철규이다 기상이변에 따른 집중호우는 우리가 그동안 경험하지 못한 양상을 보이고 있다 이에 배수시설이 제대로 갖춰지지 않았거나 저지대에 위치해 침수에 취약한 지역의 경우에는 근래와 같은 집중호우에 속수무책일 수밖에 없을 것이다 그러나 이번 양천구는 년 집중호우로 주택가 상가 등 여 가구가 침수 피해를 입은 후 빗물 배수 터널을 건설하게 되었다 이후 단 한 건의 침수 피해도 발생하지 않았다고 한다 지난해 월도 서울을 중심으로 내린 집중호우로 강남을 비롯한 수도권 대부분이 피해를 입었지만 신월동 일대는 빗물터널 수문 개방 가동으로 침수 피해를 예방할 수 있었다 이곳에서 바로 우리가 급변하는 기후 변화와 재난에 어떻게 대비해야 할지 답을 찾을 수 있을 것이다 최근 대도시에서 발생한 침수의 원인이 배수 용량이 충분하지 않아 발생하는 경우가 대부분인 만큼 빗물 배수 터널이 여러 지역으로 확대된다면 침수 피해 예방에도 큰 도움이 될 것이다 오늘 이 자리에서 논의되는 여러 가지 대안들이 정부 차원에서 원활하게 추진될 수 있도록 당 차원의 뒷받침에 만전을 기하겠다 감사하다 기록적 폭우로 쏟아지는 기후변화의 긴밀한 상황에서 대심도 빗물터널은 도시의 안전을 지키기 위한 근본적인 인프라라는 생각을 오늘 하게 됐다 서울 시민들의 생명과 재산을 보호하는 중요한 역할을 담당한다고 생각이 된다 지난해 서울 한 지역에서만 mm 가까운 비가 내렸고 서울 내에서도 지역별로 편차가 심했다 오늘 김기현 대표님과 함께 대심도 빗물 터널의 효과를 확인한 만큼 향후 설치될 대심도 빗물 터널의 효과를 극대화하기 위해서는 국지성 집중호우 등 지정학적 특성뿐만 아니라 인구 밀집도 유동 인구 등을 포함해서 종합적으로 고려해서 지역마다 효과적으로 대응할 수 있도록 방재 기능을 완벽히 구사할 수 있도록 신경을 써야 한다고 생각한다 대심도 빗물터널뿐만 아니라 도심 침수를 예방하는 저류조 배수펌프장 등을 충분히 설치해서 서울시민의 안전을 책임지고 재산을 보호할 수 있는데 만전을 기하도록 국민의힘 재해대책위원회에서도 열심히 노력하도록 하겠다 \n"
          ]
        }
      ]
    },
    {
      "cell_type": "code",
      "source": [
        "npp = npp.dropna()"
      ],
      "metadata": {
        "id": "1yITEW-OsUMl"
      },
      "execution_count": 6,
      "outputs": []
    },
    {
      "cell_type": "markdown",
      "source": [
        "### Creating the IDF\n",
        "\n",
        "#### CountVectorizer to create a vocabulary and generate word counts"
      ],
      "metadata": {
        "id": "sM4DyHZnuXBM"
      }
    },
    {
      "cell_type": "code",
      "source": [
        "from sklearn.feature_extraction.text import CountVectorizer\n",
        "import re"
      ],
      "metadata": {
        "id": "SeMPkY7569C8"
      },
      "execution_count": 8,
      "outputs": []
    },
    {
      "cell_type": "code",
      "source": [
        "def get_stop_words(stop_file_path):\n",
        "    \"\"\"load stop words\"\"\"\n",
        "\n",
        "    with open(stop_file_path, 'r', encoding=\"utf-8\") as f:\n",
        "        stopwords = f.readlines()\n",
        "        stop_list = [m.strip() for m in stopwords]\n",
        "        return stop_list\n",
        "\n",
        "# Load a list of stop words\n",
        "stopwords = get_stop_words(\"data/koreanStopwords.txt\")\n",
        "\n",
        "# Get the text column\n",
        "docs = npp['content'].tolist()\n",
        "\n",
        "# Create a vocabulary of words,\n",
        "# ignore words that appear in 85% of documents,\n",
        "# eliminate stop words\n",
        "cv = CountVectorizer(max_df=0.85, stop_words=stopwords)\n",
        "word_count_vector = cv.fit_transform(docs)"
      ],
      "metadata": {
        "id": "IKeJgyfLpkEM"
      },
      "execution_count": 9,
      "outputs": []
    },
    {
      "cell_type": "code",
      "source": [
        "word_count_vector.shape"
      ],
      "metadata": {
        "colab": {
          "base_uri": "https://localhost:8080/"
        },
        "id": "N9LdH3N5pkBa",
        "outputId": "47937ba6-cb02-41b4-f43e-0f9a5f0fa5b6"
      },
      "execution_count": 10,
      "outputs": [
        {
          "output_type": "execute_result",
          "data": {
            "text/plain": [
              "(35400, 1012741)"
            ]
          },
          "metadata": {},
          "execution_count": 10
        }
      ]
    },
    {
      "cell_type": "code",
      "source": [
        "cv=CountVectorizer(max_df=0.85,stop_words=stopwords,max_features=10000)\n",
        "word_count_vector=cv.fit_transform(docs)\n",
        "word_count_vector.shape"
      ],
      "metadata": {
        "colab": {
          "base_uri": "https://localhost:8080/"
        },
        "id": "37zr2jFFpj-k",
        "outputId": "89a42c3d-30d9-4d82-8473-f1123248b2ad"
      },
      "execution_count": 11,
      "outputs": [
        {
          "output_type": "execute_result",
          "data": {
            "text/plain": [
              "(35400, 10000)"
            ]
          },
          "metadata": {},
          "execution_count": 11
        }
      ]
    },
    {
      "cell_type": "code",
      "source": [
        "list(cv.vocabulary_.keys())[:10]"
      ],
      "metadata": {
        "colab": {
          "base_uri": "https://localhost:8080/"
        },
        "id": "fg0Xc6XFpj7-",
        "outputId": "4ea42fac-6c4e-40b1-81b3-2095be58568b"
      },
      "execution_count": 12,
      "outputs": [
        {
          "output_type": "execute_result",
          "data": {
            "text/plain": [
              "['김기현', '대표는', '대비', '현장', '방문을', '했다', '주요내용은', '다음과', '같다', '고속도로']"
            ]
          },
          "metadata": {},
          "execution_count": 12
        }
      ]
    },
    {
      "cell_type": "code",
      "source": [
        "print(list(cv.get_feature_names_out())[2000:2015])"
      ],
      "metadata": {
        "colab": {
          "base_uri": "https://localhost:8080/"
        },
        "id": "Z_6P-4bzpj5Y",
        "outputId": "bf9dcb34-b7c6-4598-f87d-e93775a74c50"
      },
      "execution_count": 13,
      "outputs": [
        {
          "output_type": "stream",
          "name": "stdout",
          "text": [
            "['늘어나고', '늘어나는', '늘어난', '늘어날', '늘어났다', '늘어놓고', '늘었다', '능력', '능력과', '능력도', '능력을', '능력이', '늦게', '늦어도', '늦었지만']\n"
          ]
        }
      ]
    },
    {
      "cell_type": "markdown",
      "source": [
        "#### TfidfTransformer to Compute Inverse Document Frequency (IDF)\n",
        "\n"
      ],
      "metadata": {
        "id": "nio3-LsmuiNy"
      }
    },
    {
      "cell_type": "code",
      "source": [
        "from sklearn.feature_extraction.text import TfidfTransformer\n",
        "\n",
        "tfidf_transformer=TfidfTransformer(smooth_idf=True,use_idf=True)\n",
        "tfidf_transformer.fit(word_count_vector)"
      ],
      "metadata": {
        "colab": {
          "base_uri": "https://localhost:8080/",
          "height": 74
        },
        "id": "lODQxH4Ypj2e",
        "outputId": "0a3e4697-a71c-42a9-e365-4a28740321c1"
      },
      "execution_count": 14,
      "outputs": [
        {
          "output_type": "execute_result",
          "data": {
            "text/plain": [
              "TfidfTransformer()"
            ],
            "text/html": [
              "<style>#sk-container-id-1 {color: black;background-color: white;}#sk-container-id-1 pre{padding: 0;}#sk-container-id-1 div.sk-toggleable {background-color: white;}#sk-container-id-1 label.sk-toggleable__label {cursor: pointer;display: block;width: 100%;margin-bottom: 0;padding: 0.3em;box-sizing: border-box;text-align: center;}#sk-container-id-1 label.sk-toggleable__label-arrow:before {content: \"▸\";float: left;margin-right: 0.25em;color: #696969;}#sk-container-id-1 label.sk-toggleable__label-arrow:hover:before {color: black;}#sk-container-id-1 div.sk-estimator:hover label.sk-toggleable__label-arrow:before {color: black;}#sk-container-id-1 div.sk-toggleable__content {max-height: 0;max-width: 0;overflow: hidden;text-align: left;background-color: #f0f8ff;}#sk-container-id-1 div.sk-toggleable__content pre {margin: 0.2em;color: black;border-radius: 0.25em;background-color: #f0f8ff;}#sk-container-id-1 input.sk-toggleable__control:checked~div.sk-toggleable__content {max-height: 200px;max-width: 100%;overflow: auto;}#sk-container-id-1 input.sk-toggleable__control:checked~label.sk-toggleable__label-arrow:before {content: \"▾\";}#sk-container-id-1 div.sk-estimator input.sk-toggleable__control:checked~label.sk-toggleable__label {background-color: #d4ebff;}#sk-container-id-1 div.sk-label input.sk-toggleable__control:checked~label.sk-toggleable__label {background-color: #d4ebff;}#sk-container-id-1 input.sk-hidden--visually {border: 0;clip: rect(1px 1px 1px 1px);clip: rect(1px, 1px, 1px, 1px);height: 1px;margin: -1px;overflow: hidden;padding: 0;position: absolute;width: 1px;}#sk-container-id-1 div.sk-estimator {font-family: monospace;background-color: #f0f8ff;border: 1px dotted black;border-radius: 0.25em;box-sizing: border-box;margin-bottom: 0.5em;}#sk-container-id-1 div.sk-estimator:hover {background-color: #d4ebff;}#sk-container-id-1 div.sk-parallel-item::after {content: \"\";width: 100%;border-bottom: 1px solid gray;flex-grow: 1;}#sk-container-id-1 div.sk-label:hover label.sk-toggleable__label {background-color: #d4ebff;}#sk-container-id-1 div.sk-serial::before {content: \"\";position: absolute;border-left: 1px solid gray;box-sizing: border-box;top: 0;bottom: 0;left: 50%;z-index: 0;}#sk-container-id-1 div.sk-serial {display: flex;flex-direction: column;align-items: center;background-color: white;padding-right: 0.2em;padding-left: 0.2em;position: relative;}#sk-container-id-1 div.sk-item {position: relative;z-index: 1;}#sk-container-id-1 div.sk-parallel {display: flex;align-items: stretch;justify-content: center;background-color: white;position: relative;}#sk-container-id-1 div.sk-item::before, #sk-container-id-1 div.sk-parallel-item::before {content: \"\";position: absolute;border-left: 1px solid gray;box-sizing: border-box;top: 0;bottom: 0;left: 50%;z-index: -1;}#sk-container-id-1 div.sk-parallel-item {display: flex;flex-direction: column;z-index: 1;position: relative;background-color: white;}#sk-container-id-1 div.sk-parallel-item:first-child::after {align-self: flex-end;width: 50%;}#sk-container-id-1 div.sk-parallel-item:last-child::after {align-self: flex-start;width: 50%;}#sk-container-id-1 div.sk-parallel-item:only-child::after {width: 0;}#sk-container-id-1 div.sk-dashed-wrapped {border: 1px dashed gray;margin: 0 0.4em 0.5em 0.4em;box-sizing: border-box;padding-bottom: 0.4em;background-color: white;}#sk-container-id-1 div.sk-label label {font-family: monospace;font-weight: bold;display: inline-block;line-height: 1.2em;}#sk-container-id-1 div.sk-label-container {text-align: center;}#sk-container-id-1 div.sk-container {/* jupyter's `normalize.less` sets `[hidden] { display: none; }` but bootstrap.min.css set `[hidden] { display: none !important; }` so we also need the `!important` here to be able to override the default hidden behavior on the sphinx rendered scikit-learn.org. See: https://github.com/scikit-learn/scikit-learn/issues/21755 */display: inline-block !important;position: relative;}#sk-container-id-1 div.sk-text-repr-fallback {display: none;}</style><div id=\"sk-container-id-1\" class=\"sk-top-container\"><div class=\"sk-text-repr-fallback\"><pre>TfidfTransformer()</pre><b>In a Jupyter environment, please rerun this cell to show the HTML representation or trust the notebook. <br />On GitHub, the HTML representation is unable to render, please try loading this page with nbviewer.org.</b></div><div class=\"sk-container\" hidden><div class=\"sk-item\"><div class=\"sk-estimator sk-toggleable\"><input class=\"sk-toggleable__control sk-hidden--visually\" id=\"sk-estimator-id-1\" type=\"checkbox\" checked><label for=\"sk-estimator-id-1\" class=\"sk-toggleable__label sk-toggleable__label-arrow\">TfidfTransformer</label><div class=\"sk-toggleable__content\"><pre>TfidfTransformer()</pre></div></div></div></div></div>"
            ]
          },
          "metadata": {},
          "execution_count": 14
        }
      ]
    },
    {
      "cell_type": "code",
      "source": [
        "tfidf_transformer.idf_"
      ],
      "metadata": {
        "colab": {
          "base_uri": "https://localhost:8080/"
        },
        "id": "n20szCBapjzo",
        "outputId": "ccf6a4bd-a532-4c42-c586-59c9720a4c29"
      },
      "execution_count": 15,
      "outputs": [
        {
          "output_type": "execute_result",
          "data": {
            "text/plain": [
              "array([6.41824954, 6.22747128, 6.40559115, ..., 4.28759433, 5.53695914,\n",
              "       6.26500919])"
            ]
          },
          "metadata": {},
          "execution_count": 15
        }
      ]
    },
    {
      "cell_type": "markdown",
      "source": [
        "### Computing TF-IDF and Extracting Keywords"
      ],
      "metadata": {
        "id": "nkgStW_fukbG"
      }
    },
    {
      "cell_type": "code",
      "source": [
        "test_df = pd.read_csv('data/17대 민주당_보수당 구분.csv')\n",
        "test_df.head(5)"
      ],
      "metadata": {
        "colab": {
          "base_uri": "https://localhost:8080/",
          "height": 204
        },
        "id": "fqzuuEKJv4QX",
        "outputId": "5bff27b9-4d35-412b-e031-904f079dd111"
      },
      "execution_count": 16,
      "outputs": [
        {
          "output_type": "execute_result",
          "data": {
            "text/plain": [
              "   L|R                                            Content\n",
              "0    0  그러면 회의를 주재토록 하겠습니다. 국회법에 따라 위원장이 선임될 때까지 본 위원이...\n",
              "1    0  의사일정 제1항 위원장 선임의 건을 상정토록 하겠습니다. 특별위원회의 위원장 선임은...\n",
              "2    1                                              위원장님!\n",
              "3    0                                  곽성문 위원님 말씀해 주십시오.\n",
              "4    1  대구 중․남구 출신 곽성문 위원입니다.\" 육상선수권대회유치특별위원회 위원 중에 최다..."
            ],
            "text/html": [
              "\n",
              "\n",
              "  <div id=\"df-61388e45-5fcc-418d-bbdf-4bbba47d3320\">\n",
              "    <div class=\"colab-df-container\">\n",
              "      <div>\n",
              "<style scoped>\n",
              "    .dataframe tbody tr th:only-of-type {\n",
              "        vertical-align: middle;\n",
              "    }\n",
              "\n",
              "    .dataframe tbody tr th {\n",
              "        vertical-align: top;\n",
              "    }\n",
              "\n",
              "    .dataframe thead th {\n",
              "        text-align: right;\n",
              "    }\n",
              "</style>\n",
              "<table border=\"1\" class=\"dataframe\">\n",
              "  <thead>\n",
              "    <tr style=\"text-align: right;\">\n",
              "      <th></th>\n",
              "      <th>L|R</th>\n",
              "      <th>Content</th>\n",
              "    </tr>\n",
              "  </thead>\n",
              "  <tbody>\n",
              "    <tr>\n",
              "      <th>0</th>\n",
              "      <td>0</td>\n",
              "      <td>그러면 회의를 주재토록 하겠습니다. 국회법에 따라 위원장이 선임될 때까지 본 위원이...</td>\n",
              "    </tr>\n",
              "    <tr>\n",
              "      <th>1</th>\n",
              "      <td>0</td>\n",
              "      <td>의사일정 제1항 위원장 선임의 건을 상정토록 하겠습니다. 특별위원회의 위원장 선임은...</td>\n",
              "    </tr>\n",
              "    <tr>\n",
              "      <th>2</th>\n",
              "      <td>1</td>\n",
              "      <td>위원장님!</td>\n",
              "    </tr>\n",
              "    <tr>\n",
              "      <th>3</th>\n",
              "      <td>0</td>\n",
              "      <td>곽성문 위원님 말씀해 주십시오.</td>\n",
              "    </tr>\n",
              "    <tr>\n",
              "      <th>4</th>\n",
              "      <td>1</td>\n",
              "      <td>대구 중․남구 출신 곽성문 위원입니다.\" 육상선수권대회유치특별위원회 위원 중에 최다...</td>\n",
              "    </tr>\n",
              "  </tbody>\n",
              "</table>\n",
              "</div>\n",
              "      <button class=\"colab-df-convert\" onclick=\"convertToInteractive('df-61388e45-5fcc-418d-bbdf-4bbba47d3320')\"\n",
              "              title=\"Convert this dataframe to an interactive table.\"\n",
              "              style=\"display:none;\">\n",
              "\n",
              "  <svg xmlns=\"http://www.w3.org/2000/svg\" height=\"24px\"viewBox=\"0 0 24 24\"\n",
              "       width=\"24px\">\n",
              "    <path d=\"M0 0h24v24H0V0z\" fill=\"none\"/>\n",
              "    <path d=\"M18.56 5.44l.94 2.06.94-2.06 2.06-.94-2.06-.94-.94-2.06-.94 2.06-2.06.94zm-11 1L8.5 8.5l.94-2.06 2.06-.94-2.06-.94L8.5 2.5l-.94 2.06-2.06.94zm10 10l.94 2.06.94-2.06 2.06-.94-2.06-.94-.94-2.06-.94 2.06-2.06.94z\"/><path d=\"M17.41 7.96l-1.37-1.37c-.4-.4-.92-.59-1.43-.59-.52 0-1.04.2-1.43.59L10.3 9.45l-7.72 7.72c-.78.78-.78 2.05 0 2.83L4 21.41c.39.39.9.59 1.41.59.51 0 1.02-.2 1.41-.59l7.78-7.78 2.81-2.81c.8-.78.8-2.07 0-2.86zM5.41 20L4 18.59l7.72-7.72 1.47 1.35L5.41 20z\"/>\n",
              "  </svg>\n",
              "      </button>\n",
              "\n",
              "\n",
              "\n",
              "    <div id=\"df-689741ae-6f65-495c-ab41-6d2176bca3d4\">\n",
              "      <button class=\"colab-df-quickchart\" onclick=\"quickchart('df-689741ae-6f65-495c-ab41-6d2176bca3d4')\"\n",
              "              title=\"Suggest charts.\"\n",
              "              style=\"display:none;\">\n",
              "\n",
              "<svg xmlns=\"http://www.w3.org/2000/svg\" height=\"24px\"viewBox=\"0 0 24 24\"\n",
              "     width=\"24px\">\n",
              "    <g>\n",
              "        <path d=\"M19 3H5c-1.1 0-2 .9-2 2v14c0 1.1.9 2 2 2h14c1.1 0 2-.9 2-2V5c0-1.1-.9-2-2-2zM9 17H7v-7h2v7zm4 0h-2V7h2v10zm4 0h-2v-4h2v4z\"/>\n",
              "    </g>\n",
              "</svg>\n",
              "      </button>\n",
              "    </div>\n",
              "\n",
              "<style>\n",
              "  .colab-df-quickchart {\n",
              "    background-color: #E8F0FE;\n",
              "    border: none;\n",
              "    border-radius: 50%;\n",
              "    cursor: pointer;\n",
              "    display: none;\n",
              "    fill: #1967D2;\n",
              "    height: 32px;\n",
              "    padding: 0 0 0 0;\n",
              "    width: 32px;\n",
              "  }\n",
              "\n",
              "  .colab-df-quickchart:hover {\n",
              "    background-color: #E2EBFA;\n",
              "    box-shadow: 0px 1px 2px rgba(60, 64, 67, 0.3), 0px 1px 3px 1px rgba(60, 64, 67, 0.15);\n",
              "    fill: #174EA6;\n",
              "  }\n",
              "\n",
              "  [theme=dark] .colab-df-quickchart {\n",
              "    background-color: #3B4455;\n",
              "    fill: #D2E3FC;\n",
              "  }\n",
              "\n",
              "  [theme=dark] .colab-df-quickchart:hover {\n",
              "    background-color: #434B5C;\n",
              "    box-shadow: 0px 1px 3px 1px rgba(0, 0, 0, 0.15);\n",
              "    filter: drop-shadow(0px 1px 2px rgba(0, 0, 0, 0.3));\n",
              "    fill: #FFFFFF;\n",
              "  }\n",
              "</style>\n",
              "\n",
              "    <script>\n",
              "      async function quickchart(key) {\n",
              "        const containerElement = document.querySelector('#' + key);\n",
              "        const charts = await google.colab.kernel.invokeFunction(\n",
              "            'suggestCharts', [key], {});\n",
              "      }\n",
              "    </script>\n",
              "\n",
              "      <script>\n",
              "\n",
              "function displayQuickchartButton(domScope) {\n",
              "  let quickchartButtonEl =\n",
              "    domScope.querySelector('#df-689741ae-6f65-495c-ab41-6d2176bca3d4 button.colab-df-quickchart');\n",
              "  quickchartButtonEl.style.display =\n",
              "    google.colab.kernel.accessAllowed ? 'block' : 'none';\n",
              "}\n",
              "\n",
              "        displayQuickchartButton(document);\n",
              "      </script>\n",
              "      <style>\n",
              "    .colab-df-container {\n",
              "      display:flex;\n",
              "      flex-wrap:wrap;\n",
              "      gap: 12px;\n",
              "    }\n",
              "\n",
              "    .colab-df-convert {\n",
              "      background-color: #E8F0FE;\n",
              "      border: none;\n",
              "      border-radius: 50%;\n",
              "      cursor: pointer;\n",
              "      display: none;\n",
              "      fill: #1967D2;\n",
              "      height: 32px;\n",
              "      padding: 0 0 0 0;\n",
              "      width: 32px;\n",
              "    }\n",
              "\n",
              "    .colab-df-convert:hover {\n",
              "      background-color: #E2EBFA;\n",
              "      box-shadow: 0px 1px 2px rgba(60, 64, 67, 0.3), 0px 1px 3px 1px rgba(60, 64, 67, 0.15);\n",
              "      fill: #174EA6;\n",
              "    }\n",
              "\n",
              "    [theme=dark] .colab-df-convert {\n",
              "      background-color: #3B4455;\n",
              "      fill: #D2E3FC;\n",
              "    }\n",
              "\n",
              "    [theme=dark] .colab-df-convert:hover {\n",
              "      background-color: #434B5C;\n",
              "      box-shadow: 0px 1px 3px 1px rgba(0, 0, 0, 0.15);\n",
              "      filter: drop-shadow(0px 1px 2px rgba(0, 0, 0, 0.3));\n",
              "      fill: #FFFFFF;\n",
              "    }\n",
              "  </style>\n",
              "\n",
              "      <script>\n",
              "        const buttonEl =\n",
              "          document.querySelector('#df-61388e45-5fcc-418d-bbdf-4bbba47d3320 button.colab-df-convert');\n",
              "        buttonEl.style.display =\n",
              "          google.colab.kernel.accessAllowed ? 'block' : 'none';\n",
              "\n",
              "        async function convertToInteractive(key) {\n",
              "          const element = document.querySelector('#df-61388e45-5fcc-418d-bbdf-4bbba47d3320');\n",
              "          const dataTable =\n",
              "            await google.colab.kernel.invokeFunction('convertToInteractive',\n",
              "                                                     [key], {});\n",
              "          if (!dataTable) return;\n",
              "\n",
              "          const docLinkHtml = 'Like what you see? Visit the ' +\n",
              "            '<a target=\"_blank\" href=https://colab.research.google.com/notebooks/data_table.ipynb>data table notebook</a>'\n",
              "            + ' to learn more about interactive tables.';\n",
              "          element.innerHTML = '';\n",
              "          dataTable['output_type'] = 'display_data';\n",
              "          await google.colab.output.renderOutput(dataTable, element);\n",
              "          const docLink = document.createElement('div');\n",
              "          docLink.innerHTML = docLinkHtml;\n",
              "          element.appendChild(docLink);\n",
              "        }\n",
              "      </script>\n",
              "    </div>\n",
              "  </div>\n"
            ]
          },
          "metadata": {},
          "execution_count": 16
        }
      ]
    },
    {
      "cell_type": "code",
      "source": [
        "test_df[test_df['L|R'] == 1].head()"
      ],
      "metadata": {
        "colab": {
          "base_uri": "https://localhost:8080/",
          "height": 204
        },
        "id": "zD29T5gXwAHe",
        "outputId": "b9557385-cc27-486e-9b71-70a09ee7ee2a"
      },
      "execution_count": 17,
      "outputs": [
        {
          "output_type": "execute_result",
          "data": {
            "text/plain": [
              "    L|R                                            Content\n",
              "2     1                                              위원장님!\n",
              "4     1  대구 중․남구 출신 곽성문 위원입니다.\" 육상선수권대회유치특별위원회 위원 중에 최다...\n",
              "6     1  여러 위원님들 여러 가지로 부족한 저를 이번 위원회의 위원장으로 선출해 주신 데 대...\n",
              "8     1                                           박기춘 위원님!\n",
              "10    1                         감사합니다.\" 박찬석 위원님 인사해 주시지요.\""
            ],
            "text/html": [
              "\n",
              "\n",
              "  <div id=\"df-a66a673e-8a4e-4bde-beb0-0a34b5b93ab9\">\n",
              "    <div class=\"colab-df-container\">\n",
              "      <div>\n",
              "<style scoped>\n",
              "    .dataframe tbody tr th:only-of-type {\n",
              "        vertical-align: middle;\n",
              "    }\n",
              "\n",
              "    .dataframe tbody tr th {\n",
              "        vertical-align: top;\n",
              "    }\n",
              "\n",
              "    .dataframe thead th {\n",
              "        text-align: right;\n",
              "    }\n",
              "</style>\n",
              "<table border=\"1\" class=\"dataframe\">\n",
              "  <thead>\n",
              "    <tr style=\"text-align: right;\">\n",
              "      <th></th>\n",
              "      <th>L|R</th>\n",
              "      <th>Content</th>\n",
              "    </tr>\n",
              "  </thead>\n",
              "  <tbody>\n",
              "    <tr>\n",
              "      <th>2</th>\n",
              "      <td>1</td>\n",
              "      <td>위원장님!</td>\n",
              "    </tr>\n",
              "    <tr>\n",
              "      <th>4</th>\n",
              "      <td>1</td>\n",
              "      <td>대구 중․남구 출신 곽성문 위원입니다.\" 육상선수권대회유치특별위원회 위원 중에 최다...</td>\n",
              "    </tr>\n",
              "    <tr>\n",
              "      <th>6</th>\n",
              "      <td>1</td>\n",
              "      <td>여러 위원님들 여러 가지로 부족한 저를 이번 위원회의 위원장으로 선출해 주신 데 대...</td>\n",
              "    </tr>\n",
              "    <tr>\n",
              "      <th>8</th>\n",
              "      <td>1</td>\n",
              "      <td>박기춘 위원님!</td>\n",
              "    </tr>\n",
              "    <tr>\n",
              "      <th>10</th>\n",
              "      <td>1</td>\n",
              "      <td>감사합니다.\" 박찬석 위원님 인사해 주시지요.\"</td>\n",
              "    </tr>\n",
              "  </tbody>\n",
              "</table>\n",
              "</div>\n",
              "      <button class=\"colab-df-convert\" onclick=\"convertToInteractive('df-a66a673e-8a4e-4bde-beb0-0a34b5b93ab9')\"\n",
              "              title=\"Convert this dataframe to an interactive table.\"\n",
              "              style=\"display:none;\">\n",
              "\n",
              "  <svg xmlns=\"http://www.w3.org/2000/svg\" height=\"24px\"viewBox=\"0 0 24 24\"\n",
              "       width=\"24px\">\n",
              "    <path d=\"M0 0h24v24H0V0z\" fill=\"none\"/>\n",
              "    <path d=\"M18.56 5.44l.94 2.06.94-2.06 2.06-.94-2.06-.94-.94-2.06-.94 2.06-2.06.94zm-11 1L8.5 8.5l.94-2.06 2.06-.94-2.06-.94L8.5 2.5l-.94 2.06-2.06.94zm10 10l.94 2.06.94-2.06 2.06-.94-2.06-.94-.94-2.06-.94 2.06-2.06.94z\"/><path d=\"M17.41 7.96l-1.37-1.37c-.4-.4-.92-.59-1.43-.59-.52 0-1.04.2-1.43.59L10.3 9.45l-7.72 7.72c-.78.78-.78 2.05 0 2.83L4 21.41c.39.39.9.59 1.41.59.51 0 1.02-.2 1.41-.59l7.78-7.78 2.81-2.81c.8-.78.8-2.07 0-2.86zM5.41 20L4 18.59l7.72-7.72 1.47 1.35L5.41 20z\"/>\n",
              "  </svg>\n",
              "      </button>\n",
              "\n",
              "\n",
              "\n",
              "    <div id=\"df-3b8cde72-cdfd-4791-853c-50e287e1780d\">\n",
              "      <button class=\"colab-df-quickchart\" onclick=\"quickchart('df-3b8cde72-cdfd-4791-853c-50e287e1780d')\"\n",
              "              title=\"Suggest charts.\"\n",
              "              style=\"display:none;\">\n",
              "\n",
              "<svg xmlns=\"http://www.w3.org/2000/svg\" height=\"24px\"viewBox=\"0 0 24 24\"\n",
              "     width=\"24px\">\n",
              "    <g>\n",
              "        <path d=\"M19 3H5c-1.1 0-2 .9-2 2v14c0 1.1.9 2 2 2h14c1.1 0 2-.9 2-2V5c0-1.1-.9-2-2-2zM9 17H7v-7h2v7zm4 0h-2V7h2v10zm4 0h-2v-4h2v4z\"/>\n",
              "    </g>\n",
              "</svg>\n",
              "      </button>\n",
              "    </div>\n",
              "\n",
              "<style>\n",
              "  .colab-df-quickchart {\n",
              "    background-color: #E8F0FE;\n",
              "    border: none;\n",
              "    border-radius: 50%;\n",
              "    cursor: pointer;\n",
              "    display: none;\n",
              "    fill: #1967D2;\n",
              "    height: 32px;\n",
              "    padding: 0 0 0 0;\n",
              "    width: 32px;\n",
              "  }\n",
              "\n",
              "  .colab-df-quickchart:hover {\n",
              "    background-color: #E2EBFA;\n",
              "    box-shadow: 0px 1px 2px rgba(60, 64, 67, 0.3), 0px 1px 3px 1px rgba(60, 64, 67, 0.15);\n",
              "    fill: #174EA6;\n",
              "  }\n",
              "\n",
              "  [theme=dark] .colab-df-quickchart {\n",
              "    background-color: #3B4455;\n",
              "    fill: #D2E3FC;\n",
              "  }\n",
              "\n",
              "  [theme=dark] .colab-df-quickchart:hover {\n",
              "    background-color: #434B5C;\n",
              "    box-shadow: 0px 1px 3px 1px rgba(0, 0, 0, 0.15);\n",
              "    filter: drop-shadow(0px 1px 2px rgba(0, 0, 0, 0.3));\n",
              "    fill: #FFFFFF;\n",
              "  }\n",
              "</style>\n",
              "\n",
              "    <script>\n",
              "      async function quickchart(key) {\n",
              "        const containerElement = document.querySelector('#' + key);\n",
              "        const charts = await google.colab.kernel.invokeFunction(\n",
              "            'suggestCharts', [key], {});\n",
              "      }\n",
              "    </script>\n",
              "\n",
              "      <script>\n",
              "\n",
              "function displayQuickchartButton(domScope) {\n",
              "  let quickchartButtonEl =\n",
              "    domScope.querySelector('#df-3b8cde72-cdfd-4791-853c-50e287e1780d button.colab-df-quickchart');\n",
              "  quickchartButtonEl.style.display =\n",
              "    google.colab.kernel.accessAllowed ? 'block' : 'none';\n",
              "}\n",
              "\n",
              "        displayQuickchartButton(document);\n",
              "      </script>\n",
              "      <style>\n",
              "    .colab-df-container {\n",
              "      display:flex;\n",
              "      flex-wrap:wrap;\n",
              "      gap: 12px;\n",
              "    }\n",
              "\n",
              "    .colab-df-convert {\n",
              "      background-color: #E8F0FE;\n",
              "      border: none;\n",
              "      border-radius: 50%;\n",
              "      cursor: pointer;\n",
              "      display: none;\n",
              "      fill: #1967D2;\n",
              "      height: 32px;\n",
              "      padding: 0 0 0 0;\n",
              "      width: 32px;\n",
              "    }\n",
              "\n",
              "    .colab-df-convert:hover {\n",
              "      background-color: #E2EBFA;\n",
              "      box-shadow: 0px 1px 2px rgba(60, 64, 67, 0.3), 0px 1px 3px 1px rgba(60, 64, 67, 0.15);\n",
              "      fill: #174EA6;\n",
              "    }\n",
              "\n",
              "    [theme=dark] .colab-df-convert {\n",
              "      background-color: #3B4455;\n",
              "      fill: #D2E3FC;\n",
              "    }\n",
              "\n",
              "    [theme=dark] .colab-df-convert:hover {\n",
              "      background-color: #434B5C;\n",
              "      box-shadow: 0px 1px 3px 1px rgba(0, 0, 0, 0.15);\n",
              "      filter: drop-shadow(0px 1px 2px rgba(0, 0, 0, 0.3));\n",
              "      fill: #FFFFFF;\n",
              "    }\n",
              "  </style>\n",
              "\n",
              "      <script>\n",
              "        const buttonEl =\n",
              "          document.querySelector('#df-a66a673e-8a4e-4bde-beb0-0a34b5b93ab9 button.colab-df-convert');\n",
              "        buttonEl.style.display =\n",
              "          google.colab.kernel.accessAllowed ? 'block' : 'none';\n",
              "\n",
              "        async function convertToInteractive(key) {\n",
              "          const element = document.querySelector('#df-a66a673e-8a4e-4bde-beb0-0a34b5b93ab9');\n",
              "          const dataTable =\n",
              "            await google.colab.kernel.invokeFunction('convertToInteractive',\n",
              "                                                     [key], {});\n",
              "          if (!dataTable) return;\n",
              "\n",
              "          const docLinkHtml = 'Like what you see? Visit the ' +\n",
              "            '<a target=\"_blank\" href=https://colab.research.google.com/notebooks/data_table.ipynb>data table notebook</a>'\n",
              "            + ' to learn more about interactive tables.';\n",
              "          element.innerHTML = '';\n",
              "          dataTable['output_type'] = 'display_data';\n",
              "          await google.colab.output.renderOutput(dataTable, element);\n",
              "          const docLink = document.createElement('div');\n",
              "          docLink.innerHTML = docLinkHtml;\n",
              "          element.appendChild(docLink);\n",
              "        }\n",
              "      </script>\n",
              "    </div>\n",
              "  </div>\n"
            ]
          },
          "metadata": {},
          "execution_count": 17
        }
      ]
    },
    {
      "cell_type": "code",
      "source": [
        "# read test docs into a dataframe and concatenate title and body\n",
        "test_df['Content'] =test_df['Content'].apply(lambda x:pre_process(x))\n",
        "\n",
        "# get test docs into a list\n",
        "test_content=test_df['Content'].tolist()"
      ],
      "metadata": {
        "id": "qtWlmQHZpjxA"
      },
      "execution_count": 18,
      "outputs": []
    },
    {
      "cell_type": "code",
      "source": [
        "def sort_coo(coo_matrix):\n",
        "    tuples = zip(coo_matrix.col, coo_matrix.data)\n",
        "    return sorted(tuples, key=lambda x: (x[1], x[0]), reverse=True)\n",
        "\n",
        "def extract_topn_from_vector(feature_names, sorted_items, topn=10):\n",
        "    \"\"\"get the feature names and tf-idf score of top n items\"\"\"\n",
        "\n",
        "    #use only topn items from vector\n",
        "    sorted_items = sorted_items[:topn]\n",
        "\n",
        "    score_vals = []\n",
        "    feature_vals = []\n",
        "\n",
        "    for idx, score in sorted_items:\n",
        "        fname = feature_names[idx]\n",
        "\n",
        "        #keep track of feature name and its corresponding score\n",
        "        score_vals.append(round(score, 3))\n",
        "        feature_vals.append(feature_names[idx])\n",
        "\n",
        "    #create a tuples of feature,score\n",
        "    #results = zip(feature_vals,score_vals)\n",
        "    results= {}\n",
        "    for idx in range(len(feature_vals)):\n",
        "        results[feature_vals[idx]]=score_vals[idx]\n",
        "\n",
        "    return results"
      ],
      "metadata": {
        "id": "2TKYnjJlpjuD"
      },
      "execution_count": 19,
      "outputs": []
    },
    {
      "cell_type": "code",
      "source": [
        "# put the common code into several methods\n",
        "def get_keywords(idx):\n",
        "\n",
        "    #generate tf-idf for the given document\n",
        "    tf_idf_vector=tfidf_transformer.transform(cv.transform([test_content[idx]]))\n",
        "\n",
        "    #sort the tf-idf vectors by descending order of scores\n",
        "    sorted_items=sort_coo(tf_idf_vector.tocoo())\n",
        "\n",
        "    #extract only the top n; n here is 10\n",
        "    keywords=extract_topn_from_vector(feature_names,sorted_items,10)\n",
        "\n",
        "    return keywords\n",
        "\n",
        "def print_results(idx,keywords):\n",
        "    # now print the results\n",
        "    print(\"\\n===Keywords===\")\n",
        "    for k in keywords:\n",
        "        print(k,keywords[k])"
      ],
      "metadata": {
        "id": "m6Fd56h_wgfA"
      },
      "execution_count": 20,
      "outputs": []
    },
    {
      "cell_type": "code",
      "source": [
        "feature_names = cv.get_feature_names_out()\n",
        "\n",
        "idx=100000\n",
        "keywords=get_keywords(idx)\n",
        "print_results(idx,keywords)"
      ],
      "metadata": {
        "colab": {
          "base_uri": "https://localhost:8080/"
        },
        "id": "KBa7hNXFwgcK",
        "outputId": "c3e68d80-9d2a-4679-80cc-29e199fa6951"
      },
      "execution_count": 24,
      "outputs": [
        {
          "output_type": "stream",
          "name": "stdout",
          "text": [
            "\n",
            "===Keywords===\n",
            "대가를 0.37\n",
            "중의 0.316\n",
            "훌륭한 0.28\n",
            "전부 0.232\n",
            "아니겠습니까 0.224\n",
            "그림을 0.199\n",
            "데리고 0.191\n",
            "말씀드리는 0.187\n",
            "주시는 0.185\n",
            "인재를 0.176\n"
          ]
        }
      ]
    }
  ]
}